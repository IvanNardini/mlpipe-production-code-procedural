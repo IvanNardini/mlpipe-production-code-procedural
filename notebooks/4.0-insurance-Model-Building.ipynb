{
 "cells": [
  {
   "cell_type": "markdown",
   "metadata": {},
   "source": [
    "# Insurance Fraud Claims Detection\n",
    "\n",
    "In this notebook, I'm going to train the model with engineered data and selected features."
   ]
  },
  {
   "cell_type": "markdown",
   "metadata": {},
   "source": [
    "## Libraries and Enviroments"
   ]
  },
  {
   "cell_type": "code",
   "execution_count": 1,
   "metadata": {
    "ExecuteTime": {
     "end_time": "2020-06-17T13:39:00.453791Z",
     "start_time": "2020-06-17T13:39:00.435796Z"
    }
   },
   "outputs": [
    {
     "name": "stderr",
     "output_type": "stream",
     "text": [
      "/usr/local/lib/python3.6/dist-packages/matplotlib/__init__.py:886: MatplotlibDeprecationWarning: \n",
      "examples.directory is deprecated; in the future, examples will be found relative to the 'datapath' directory.\n",
      "  \"found relative to the 'datapath' directory.\".format(key))\n"
     ]
    }
   ],
   "source": [
    "#Read the data\n",
    "import numpy as np \n",
    "import pandas as pd\n",
    "\n",
    "# Data Sciences\n",
    "from imblearn.over_sampling import SMOTE\n",
    "from sklearn.model_selection import train_test_split\n",
    "from sklearn.linear_model import LogisticRegression\n",
    "from sklearn.svm import SVC\n",
    "from sklearn.tree import DecisionTreeClassifier\n",
    "from sklearn.ensemble import RandomForestClassifier\n",
    "from lightgbm import LGBMClassifier\n",
    "from sklearn.metrics import roc_curve\n",
    "from sklearn.metrics import classification_report\n",
    "from sklearn.metrics import confusion_matrix\n",
    "from sklearn.model_selection import GridSearchCV\n",
    "\n",
    "# Plot\n",
    "import matplotlib.pyplot as plt\n",
    "import seaborn as sns\n",
    "from mlxtend.plotting import plot_confusion_matrix\n",
    "%matplotlib inline\n",
    "\n",
    "#Utils\n",
    "import os\n",
    "\n",
    "# Set notebook\n",
    "pd.set_option('display.max_rows', 500)\n",
    "pd.set_option('display.max_columns', 500)\n",
    "pd.set_option('display.width', 1000)\n",
    "import warnings\n",
    "warnings.simplefilter(action='ignore')"
   ]
  },
  {
   "cell_type": "code",
   "execution_count": 2,
   "metadata": {
    "ExecuteTime": {
     "end_time": "2020-06-17T13:39:01.045818Z",
     "start_time": "2020-06-17T13:39:01.041811Z"
    }
   },
   "outputs": [],
   "source": [
    "raw = '../data/raw/insurance_claims.csv'\n",
    "interim = '../data/interim/'\n",
    "processed= '../data/processed/'\n",
    "models= '../models/'"
   ]
  },
  {
   "cell_type": "markdown",
   "metadata": {},
   "source": [
    "## Data Preparation"
   ]
  },
  {
   "cell_type": "markdown",
   "metadata": {},
   "source": [
    "### Read Data"
   ]
  },
  {
   "cell_type": "code",
   "execution_count": 3,
   "metadata": {
    "ExecuteTime": {
     "end_time": "2020-06-17T13:39:01.524742Z",
     "start_time": "2020-06-17T13:39:01.491747Z"
    }
   },
   "outputs": [],
   "source": [
    "X_train = pd.read_csv(processed + 'X_train_final.csv')\n",
    "X_test = pd.read_csv(processed + 'X_test_final.csv')\n",
    "y_train = pd.read_csv(processed + 'y_train_imputed.csv')['y_train']\n",
    "y_test =  pd.read_csv(processed + 'y_test_imputed.csv')['y_test']"
   ]
  },
  {
   "cell_type": "markdown",
   "metadata": {},
   "source": [
    "### Load features"
   ]
  },
  {
   "cell_type": "code",
   "execution_count": 4,
   "metadata": {
    "ExecuteTime": {
     "end_time": "2020-06-17T13:39:02.072744Z",
     "start_time": "2020-06-17T13:39:02.061746Z"
    }
   },
   "outputs": [
    {
     "name": "stdout",
     "output_type": "stream",
     "text": [
      "Number of features:  13\n",
      "\n",
      " ['bodily_injuries', 'capital_gains', 'capital_loss', 'incident_hour_of_the_day', 'incident_severity', 'insured_hobbies_chess', 'insured_hobbies_cross-fit', 'insured_hobbies_others', 'policy_annual_premium_groups', 'policy_deductable_groups', 'total_claim_amount', 'umbrella_limit', 'witnesses']\n"
     ]
    }
   ],
   "source": [
    "features_selected = pd.read_csv(processed + 'selected_features.csv', header=None, names=['features'])\n",
    "features_selected = list(features_selected['features'])\n",
    "\n",
    "print('Number of features: ', len(features_selected))\n",
    "print('\\n', sorted(features_selected))"
   ]
  },
  {
   "cell_type": "code",
   "execution_count": 5,
   "metadata": {},
   "outputs": [],
   "source": [
    "X_train = X_train[features_selected]\n",
    "X_test = X_test[features_selected]"
   ]
  },
  {
   "cell_type": "markdown",
   "metadata": {},
   "source": [
    "### Smote for balancing"
   ]
  },
  {
   "cell_type": "markdown",
   "metadata": {},
   "source": [
    "#### Target distribution"
   ]
  },
  {
   "cell_type": "code",
   "execution_count": 6,
   "metadata": {
    "ExecuteTime": {
     "end_time": "2020-06-17T13:39:02.894236Z",
     "start_time": "2020-06-17T13:39:02.856247Z"
    }
   },
   "outputs": [
    {
     "name": "stdout",
     "output_type": "stream",
     "text": [
      "0    0.74861\n",
      "1    0.25139\n",
      "Name: y_train, dtype: float64 \n",
      "\n"
     ]
    }
   ],
   "source": [
    "print(y_train.value_counts()/len(y_train), '\\n')"
   ]
  },
  {
   "cell_type": "markdown",
   "metadata": {
    "ExecuteTime": {
     "end_time": "2020-06-17T10:32:42.581493Z",
     "start_time": "2020-06-17T10:32:42.578482Z"
    }
   },
   "source": [
    "#### Smote for balancing"
   ]
  },
  {
   "cell_type": "code",
   "execution_count": 7,
   "metadata": {
    "ExecuteTime": {
     "end_time": "2020-06-17T13:39:03.395191Z",
     "start_time": "2020-06-17T13:39:03.349162Z"
    }
   },
   "outputs": [],
   "source": [
    "smote = SMOTE(random_state=9)\n",
    "X_train, y_train = smote.fit_resample(X_train, y_train)"
   ]
  },
  {
   "cell_type": "markdown",
   "metadata": {},
   "source": [
    "#### Syntetic Target distribution"
   ]
  },
  {
   "cell_type": "code",
   "execution_count": 8,
   "metadata": {},
   "outputs": [
    {
     "name": "stdout",
     "output_type": "stream",
     "text": [
      "1    0.5\n",
      "0    0.5\n",
      "Name: y_train, dtype: float64 \n",
      "\n"
     ]
    }
   ],
   "source": [
    "print(y_train.value_counts()/len(y_train), '\\n')"
   ]
  },
  {
   "cell_type": "markdown",
   "metadata": {},
   "source": [
    "## Model Building"
   ]
  },
  {
   "cell_type": "code",
   "execution_count": 9,
   "metadata": {
    "ExecuteTime": {
     "end_time": "2020-06-17T13:39:04.118945Z",
     "start_time": "2020-06-17T13:39:04.114946Z"
    }
   },
   "outputs": [],
   "source": [
    "model_predictions = {}"
   ]
  },
  {
   "cell_type": "markdown",
   "metadata": {},
   "source": [
    "### Logistic regression"
   ]
  },
  {
   "cell_type": "code",
   "execution_count": 10,
   "metadata": {
    "ExecuteTime": {
     "end_time": "2020-06-17T13:39:47.149394Z",
     "start_time": "2020-06-17T13:39:46.978403Z"
    }
   },
   "outputs": [
    {
     "name": "stdout",
     "output_type": "stream",
     "text": [
      "\n",
      "********************\n",
      "**Model Assessment**\n",
      "********************\n",
      "score: 0.56\n",
      "\n",
      "Classification report\n",
      "              precision    recall  f1-score   support\n",
      "\n",
      "           0       0.82      0.57      0.67        79\n",
      "           1       0.24      0.52      0.33        21\n",
      "\n",
      "    accuracy                           0.56       100\n",
      "   macro avg       0.53      0.55      0.50       100\n",
      "weighted avg       0.70      0.56      0.60       100\n",
      "\n",
      "\n",
      "Confusion Matrix\n"
     ]
    },
    {
     "data": {
      "image/png": "[encoded data removed]",
      "text/plain": [
       "<Figure size 432x288 with 1 Axes>"
      ]
     },
     "metadata": {
      "needs_background": "light"
     },
     "output_type": "display_data"
    }
   ],
   "source": [
    "logit = LogisticRegression(random_state=8)\n",
    "\n",
    "logit.fit(X_train, y_train)\n",
    "predictions = logit.predict(X_test)\n",
    "\n",
    "print()\n",
    "print(\"*\"*20)\n",
    "print(\"Model Assessment\".center(20, '*'))\n",
    "print(\"*\"*20)\n",
    "\n",
    "predictions = logit.predict(X_test)\n",
    "print('score: {}'.format(round(logit.score(X_test, y_test), 3)))\n",
    "print()\n",
    "\n",
    "print('Classification report')\n",
    "print(classification_report(y_test, predictions))\n",
    "\n",
    "print()\n",
    "\n",
    "print('Confusion Matrix')\n",
    "conf_matrix = confusion_matrix(predictions, y_test)\n",
    "plot_confusion_matrix(conf_matrix);\n",
    "\n",
    "tpr, fpr, threshold = roc_curve(predictions, y_test, pos_label=1)\n",
    "model_predictions[\"Logistic Regression\"] = [tpr, fpr]"
   ]
  },
  {
   "cell_type": "markdown",
   "metadata": {},
   "source": [
    "### Support Vector Machine"
   ]
  },
  {
   "cell_type": "code",
   "execution_count": 11,
   "metadata": {
    "ExecuteTime": {
     "end_time": "2020-06-17T13:39:55.763463Z",
     "start_time": "2020-06-17T13:39:55.537292Z"
    }
   },
   "outputs": [
    {
     "name": "stdout",
     "output_type": "stream",
     "text": [
      "********************\n",
      "**Model Assessment**\n",
      "********************\n",
      "score: 0.75\n",
      "\n",
      "Classification report\n",
      "              precision    recall  f1-score   support\n",
      "\n",
      "           0       0.90      0.77      0.83        79\n",
      "           1       0.44      0.67      0.53        21\n",
      "\n",
      "    accuracy                           0.75       100\n",
      "   macro avg       0.67      0.72      0.68       100\n",
      "weighted avg       0.80      0.75      0.77       100\n",
      "\n",
      "\n",
      "Confusion Matrix\n"
     ]
    },
    {
     "data": {
      "image/png": "[encoded data removed]",
      "text/plain": [
       "<Figure size 432x288 with 1 Axes>"
      ]
     },
     "metadata": {
      "needs_background": "light"
     },
     "output_type": "display_data"
    }
   ],
   "source": [
    "svc = SVC(random_state=8)\n",
    "\n",
    "svc.fit(X_train, y_train)\n",
    "predictions = svc.predict(X_test)\n",
    "\n",
    "print(\"*\"*20)\n",
    "print(\"Model Assessment\".center(20, '*'))\n",
    "print(\"*\"*20)\n",
    "\n",
    "predictions = svc.predict(X_test)\n",
    "print('score: {}'.format(round(svc.score(X_test, y_test), 3)))\n",
    "print()\n",
    "\n",
    "print('Classification report')\n",
    "print(classification_report(y_test, predictions))\n",
    "\n",
    "print()\n",
    "\n",
    "print('Confusion Matrix')\n",
    "conf_matrix = confusion_matrix(predictions, y_test)\n",
    "plot_confusion_matrix(conf_matrix);\n",
    "\n",
    "tpr, fpr, threshold = roc_curve(predictions, y_test, pos_label=1)\n",
    "model_predictions[\"SVM\"] = [tpr, fpr]"
   ]
  },
  {
   "cell_type": "markdown",
   "metadata": {},
   "source": [
    "### Decision Tree"
   ]
  },
  {
   "cell_type": "code",
   "execution_count": 12,
   "metadata": {
    "ExecuteTime": {
     "end_time": "2020-06-17T13:40:02.824630Z",
     "start_time": "2020-06-17T13:40:02.697601Z"
    }
   },
   "outputs": [
    {
     "name": "stdout",
     "output_type": "stream",
     "text": [
      "********************\n",
      "**Model Assessment**\n",
      "********************\n",
      "score: 0.82\n",
      "\n",
      "Classification report\n",
      "              precision    recall  f1-score   support\n",
      "\n",
      "           0       0.94      0.82      0.88        79\n",
      "           1       0.55      0.81      0.65        21\n",
      "\n",
      "    accuracy                           0.82       100\n",
      "   macro avg       0.75      0.82      0.77       100\n",
      "weighted avg       0.86      0.82      0.83       100\n",
      "\n",
      "\n",
      "Confusion Matrix\n"
     ]
    },
    {
     "data": {
      "image/png": "[encoded data removed]",
      "text/plain": [
       "<Figure size 432x288 with 1 Axes>"
      ]
     },
     "metadata": {
      "needs_background": "light"
     },
     "output_type": "display_data"
    }
   ],
   "source": [
    "dtree = DecisionTreeClassifier(random_state=8)\n",
    "\n",
    "dtree.fit(X_train, y_train)\n",
    "predictions = dtree.predict(X_test)\n",
    "\n",
    "print(\"*\"*20)\n",
    "print(\"Model Assessment\".center(20, '*'))\n",
    "print(\"*\"*20)\n",
    "\n",
    "predictions = dtree.predict(X_test)\n",
    "print('score: {}'.format(round(dtree.score(X_test, y_test), 3)))\n",
    "print()\n",
    "\n",
    "print('Classification report')\n",
    "print(classification_report(y_test, predictions))\n",
    "\n",
    "print()\n",
    "\n",
    "print('Confusion Matrix')\n",
    "conf_matrix = confusion_matrix(predictions, y_test)\n",
    "plot_confusion_matrix(conf_matrix);\n",
    "\n",
    "tpr, fpr, threshold = roc_curve(predictions, y_test, pos_label=1)\n",
    "model_predictions[\"Decision Tree\"] = [tpr, fpr]"
   ]
  },
  {
   "cell_type": "markdown",
   "metadata": {},
   "source": [
    "### Random Forest"
   ]
  },
  {
   "cell_type": "code",
   "execution_count": 13,
   "metadata": {
    "ExecuteTime": {
     "end_time": "2020-06-17T13:40:09.074646Z",
     "start_time": "2020-06-17T13:40:08.725649Z"
    }
   },
   "outputs": [
    {
     "name": "stdout",
     "output_type": "stream",
     "text": [
      "********************\n",
      "**Model Assessment**\n",
      "********************\n",
      "score: 0.84\n",
      "\n",
      "Classification report\n",
      "              precision    recall  f1-score   support\n",
      "\n",
      "           0       0.93      0.86      0.89        79\n",
      "           1       0.59      0.76      0.67        21\n",
      "\n",
      "    accuracy                           0.84       100\n",
      "   macro avg       0.76      0.81      0.78       100\n",
      "weighted avg       0.86      0.84      0.85       100\n",
      "\n",
      "\n",
      "Confusion Matrix\n"
     ]
    },
    {
     "data": {
      "image/png": "[encoded data removed]",
      "text/plain": [
       "<Figure size 432x288 with 1 Axes>"
      ]
     },
     "metadata": {
      "needs_background": "light"
     },
     "output_type": "display_data"
    }
   ],
   "source": [
    "rfor = RandomForestClassifier(random_state=8)\n",
    "\n",
    "rfor.fit(X_train, y_train)\n",
    "predictions = rfor.predict(X_test)\n",
    "\n",
    "print(\"*\"*20)\n",
    "print(\"Model Assessment\".center(20, '*'))\n",
    "print(\"*\"*20)\n",
    "\n",
    "print('score: {}'.format(round(rfor.score(X_test, y_test), 3)))\n",
    "print()\n",
    "\n",
    "print('Classification report')\n",
    "print(classification_report(y_test, predictions))\n",
    "\n",
    "print()\n",
    "\n",
    "print('Confusion Matrix')\n",
    "conf_matrix = confusion_matrix(predictions, y_test)\n",
    "plot_confusion_matrix(conf_matrix);\n",
    "\n",
    "tpr, fpr, threshold = roc_curve(predictions, y_test, pos_label=1)\n",
    "model_predictions[\"Random Forest\"] = [tpr, fpr]"
   ]
  },
  {
   "cell_type": "markdown",
   "metadata": {},
   "source": [
    "### LightGB"
   ]
  },
  {
   "cell_type": "code",
   "execution_count": 14,
   "metadata": {
    "ExecuteTime": {
     "end_time": "2020-06-17T13:40:14.886083Z",
     "start_time": "2020-06-17T13:40:14.595084Z"
    }
   },
   "outputs": [
    {
     "name": "stdout",
     "output_type": "stream",
     "text": [
      "********************\n",
      "**Model Assessment**\n",
      "********************\n",
      "score: 0.84\n",
      "\n",
      "Classification report\n",
      "              precision    recall  f1-score   support\n",
      "\n",
      "           0       0.93      0.86      0.89        79\n",
      "           1       0.59      0.76      0.67        21\n",
      "\n",
      "    accuracy                           0.84       100\n",
      "   macro avg       0.76      0.81      0.78       100\n",
      "weighted avg       0.86      0.84      0.85       100\n",
      "\n",
      "\n",
      "Confusion Matrix\n"
     ]
    },
    {
     "data": {
      "image/png": "[encoded data removed]",
      "text/plain": [
       "<Figure size 432x288 with 1 Axes>"
      ]
     },
     "metadata": {
      "needs_background": "light"
     },
     "output_type": "display_data"
    }
   ],
   "source": [
    "lgbm = LGBMClassifier(random_state=8)\n",
    "\n",
    "lgbm.fit(X_train, y_train)\n",
    "predictions = lgbm.predict(X_test)\n",
    "\n",
    "print(\"*\"*20)\n",
    "print(\"Model Assessment\".center(20, '*'))\n",
    "print(\"*\"*20)\n",
    "\n",
    "predictions = lgbm.predict(X_test)\n",
    "print('score: {}'.format(round(lgbm.score(X_test, y_test), 3)))\n",
    "print()\n",
    "\n",
    "print('Classification report')\n",
    "print(classification_report(y_test, predictions))\n",
    "\n",
    "print()\n",
    "\n",
    "print('Confusion Matrix')\n",
    "conf_matrix = confusion_matrix(predictions, y_test)\n",
    "plot_confusion_matrix(conf_matrix);\n",
    "\n",
    "tpr, fpr, threshold = roc_curve(predictions, y_test, pos_label=1)\n",
    "model_predictions[\"LightGBM\"] = [tpr, fpr]"
   ]
  },
  {
   "cell_type": "markdown",
   "metadata": {},
   "source": [
    "## Model Assessment"
   ]
  },
  {
   "cell_type": "code",
   "execution_count": 15,
   "metadata": {
    "ExecuteTime": {
     "end_time": "2020-06-17T13:40:17.025669Z",
     "start_time": "2020-06-17T13:40:16.844631Z"
    }
   },
   "outputs": [
    {
     "data": {
      "image/png": "[encoded data removed]",
      "text/plain": [
       "<Figure size 504x504 with 1 Axes>"
      ]
     },
     "metadata": {
      "needs_background": "light"
     },
     "output_type": "display_data"
    }
   ],
   "source": [
    "plt.figure(figsize=(7,7))\n",
    "plt.title(\"ROC curves\")\n",
    "plt.xlabel(\"False Positive Rate\")\n",
    "plt.ylabel(\"True Positive Rate\")\n",
    "\n",
    "for key, value in model_predictions.items():\n",
    "    model_list = model_predictions[key]\n",
    "    plt.plot(model_list[0], model_list[1], label=key)\n",
    "    plt.legend()\n",
    "plt.show()"
   ]
  },
  {
   "cell_type": "markdown",
   "metadata": {},
   "source": [
    "## Model Tuning"
   ]
  },
  {
   "cell_type": "code",
   "execution_count": 16,
   "metadata": {
    "ExecuteTime": {
     "end_time": "2020-06-17T13:02:33.399051Z",
     "start_time": "2020-06-17T12:49:06.989278Z"
    }
   },
   "outputs": [
    {
     "name": "stdout",
     "output_type": "stream",
     "text": [
      "Fitting 3 folds for each of 500 candidates, totalling 1500 fits\n"
     ]
    },
    {
     "name": "stderr",
     "output_type": "stream",
     "text": [
      "[Parallel(n_jobs=-1)]: Using backend LokyBackend with 8 concurrent workers.\n",
      "[Parallel(n_jobs=-1)]: Done  34 tasks      | elapsed:    7.3s\n",
      "[Parallel(n_jobs=-1)]: Done 184 tasks      | elapsed:   36.0s\n",
      "[Parallel(n_jobs=-1)]: Done 434 tasks      | elapsed:  1.4min\n",
      "[Parallel(n_jobs=-1)]: Done 784 tasks      | elapsed:  2.5min\n",
      "[Parallel(n_jobs=-1)]: Done 1234 tasks      | elapsed:  4.1min\n",
      "[Parallel(n_jobs=-1)]: Done 1500 out of 1500 | elapsed:  5.1min finished\n"
     ]
    }
   ],
   "source": [
    "n_estimators = [100, 300, 500, 800, 1200]\n",
    "max_depth = [5, 8, 15, 25, 30]\n",
    "min_samples_split = [2, 5, 10, 15, 100]\n",
    "min_samples_leaf = [1, 2, 5, 10] \n",
    "\n",
    "hyper = dict(n_estimators = n_estimators, max_depth = max_depth,  \n",
    "              min_samples_split = min_samples_split, \n",
    "             min_samples_leaf = min_samples_leaf)\n",
    "\n",
    "grid = GridSearchCV(rfor, hyper, cv = 3, verbose = 1, n_jobs = -1)\n",
    "best = grid.fit(X_train, y_train)"
   ]
  },
  {
   "cell_type": "code",
   "execution_count": 17,
   "metadata": {
    "ExecuteTime": {
     "end_time": "2020-06-17T13:05:48.726304Z",
     "start_time": "2020-06-17T13:05:48.718297Z"
    }
   },
   "outputs": [
    {
     "data": {
      "text/plain": [
       "RandomForestClassifier(max_depth=25, n_estimators=800, random_state=8)"
      ]
     },
     "execution_count": 17,
     "metadata": {},
     "output_type": "execute_result"
    }
   ],
   "source": [
    "best.best_estimator_"
   ]
  },
  {
   "cell_type": "code",
   "execution_count": 18,
   "metadata": {
    "ExecuteTime": {
     "end_time": "2020-06-17T13:40:31.507458Z",
     "start_time": "2020-06-17T13:40:30.255461Z"
    },
    "scrolled": true
   },
   "outputs": [
    {
     "name": "stdout",
     "output_type": "stream",
     "text": [
      "********************\n",
      "**Model Assessment**\n",
      "********************\n",
      "score: 0.85\n",
      "\n",
      "Classification report\n",
      "              precision    recall  f1-score   support\n",
      "\n",
      "           0       0.94      0.86      0.90        79\n",
      "           1       0.61      0.81      0.69        21\n",
      "\n",
      "    accuracy                           0.85       100\n",
      "   macro avg       0.78      0.84      0.80       100\n",
      "weighted avg       0.87      0.85      0.86       100\n",
      "\n",
      "\n",
      "Confusion Matrix\n"
     ]
    },
    {
     "data": {
      "image/png": "[encoded data removed]",
      "text/plain": [
       "<Figure size 432x288 with 1 Axes>"
      ]
     },
     "metadata": {
      "needs_background": "light"
     },
     "output_type": "display_data"
    }
   ],
   "source": [
    "rfor_tune = RandomForestClassifier(max_depth=25, min_samples_split=5, n_estimators=300,\n",
    "                       random_state=8)\n",
    "\n",
    "rfor_tune.fit(X_train, y_train)\n",
    "predictions = rfor_tune.predict(X_test)\n",
    "\n",
    "print(\"*\"*20)\n",
    "print(\"Model Assessment\".center(20, '*'))\n",
    "print(\"*\"*20)\n",
    "\n",
    "predictions = rfor_tune.predict(X_test)\n",
    "print('score: {}'.format(round(rfor_tune.score(X_test, y_test), 3)))\n",
    "print()\n",
    "\n",
    "print('Classification report')\n",
    "print(classification_report(y_test, predictions))\n",
    "\n",
    "print()\n",
    "\n",
    "print('Confusion Matrix')\n",
    "conf_matrix = confusion_matrix(predictions, y_test)\n",
    "plot_confusion_matrix(conf_matrix);\n",
    "\n",
    "tpr, fpr, threshold = roc_curve(predictions, y_test, pos_label=1)\n",
    "model_predictions[\"Random Forest Tuned\"] = [tpr, fpr]"
   ]
  },
  {
   "cell_type": "markdown",
   "metadata": {},
   "source": [
    "## Conclusion"
   ]
  },
  {
   "cell_type": "markdown",
   "metadata": {},
   "source": [
    "The best model is the **Random Forest** with a score of **0.85**"
   ]
  }
 ],
 "metadata": {
  "kernelspec": {
   "display_name": "Python 3",
   "language": "python",
   "name": "python3"
  },
  "language_info": {
   "codemirror_mode": {
    "name": "ipython",
    "version": 3
   },
   "file_extension": ".py",
   "mimetype": "text/x-python",
   "name": "python",
   "nbconvert_exporter": "python",
   "pygments_lexer": "ipython3",
   "version": "3.6.9"
  },
  "toc": {
   "base_numbering": 1,
   "nav_menu": {},
   "number_sections": true,
   "sideBar": true,
   "skip_h1_title": true,
   "title_cell": "Table of Contents",
   "title_sidebar": "Contents",
   "toc_cell": false,
   "toc_position": {
    "height": "calc(100% - 180px)",
    "left": "10px",
    "top": "150px",
    "width": "512px"
   },
   "toc_section_display": true,
   "toc_window_display": true
  }
 },
 "nbformat": 4,
 "nbformat_minor": 4
}
