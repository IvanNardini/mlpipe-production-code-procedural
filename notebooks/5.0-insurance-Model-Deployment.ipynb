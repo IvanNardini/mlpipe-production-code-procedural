{
 "cells": [
  {
   "cell_type": "markdown",
   "metadata": {},
   "source": [
    "# Insurance Fraud Claims Detection\n",
    "\n",
    "This notebook summarizes the steps I did for building the model and the information I need to put our model in production"
   ]
  },
  {
   "cell_type": "markdown",
   "metadata": {
    "ExecuteTime": {
     "end_time": "2020-06-17T13:32:53.688991Z",
     "start_time": "2020-06-17T13:32:53.680954Z"
    }
   },
   "source": [
    "**Premise: Setting the seed**\n",
    "\n",
    "Because now we have to move the model in production for reproducibility it's important to **set the seed**"
   ]
  },
  {
   "cell_type": "markdown",
   "metadata": {},
   "source": [
    "## Libraries and Environments"
   ]
  },
  {
   "cell_type": "code",
   "execution_count": 1,
   "metadata": {
    "ExecuteTime": {
     "end_time": "2020-06-17T13:44:27.681491Z",
     "start_time": "2020-06-17T13:44:26.851466Z"
    }
   },
   "outputs": [],
   "source": [
    "# Read the data\n",
    "import pandas as pd\n",
    "import numpy as np\n",
    "\n",
    "# Data Science\n",
    "from sklearn.preprocessing import MinMaxScaler\n",
    "from imblearn.over_sampling import SMOTE\n",
    "from sklearn.model_selection import train_test_split\n",
    "from sklearn.ensemble import RandomForestClassifier\n",
    "from sklearn.metrics import classification_report\n",
    "from sklearn.metrics import confusion_matrix\n",
    "from sklearn.model_selection import GridSearchCV\n",
    "from mlxtend.plotting import plot_confusion_matrix\n",
    "import matplotlib.pyplot as plt\n",
    "\n",
    "# Model Deployment\n",
    "import joblib\n",
    "# from skl2onnx import convert_sklearn\n",
    "# from skl2onnx.common.data_types import DoubleTensorType\n",
    "# import onnxruntime as rt\n",
    "# from onnx.tools.net_drawer import GetPydotGraph, GetOpNodeProducer\n",
    "# from onnxmltools.utils import save_model\n",
    "\n",
    "#Utils\n",
    "from collections import Counter\n",
    "import os\n",
    "import yaml\n",
    "import ruamel.yaml\n",
    "import sys\n",
    "\n",
    "# Set notebook\n",
    "pd.set_option('display.max_rows', 500)\n",
    "pd.set_option('display.max_columns', 500)\n",
    "pd.set_option('display.width', 1000)\n",
    "import warnings\n",
    "warnings.simplefilter(action='ignore')"
   ]
  },
  {
   "cell_type": "code",
   "execution_count": 2,
   "metadata": {},
   "outputs": [],
   "source": [
    "raw = '../data/raw/insurance_claims.csv'\n",
    "interim = '../data/interim/'\n",
    "processed= '../data/processed/'\n",
    "reports= '../reports/'\n",
    "models= '../models/'\n",
    "src= '../src/'"
   ]
  },
  {
   "cell_type": "markdown",
   "metadata": {},
   "source": [
    "## Data Ingestion"
   ]
  },
  {
   "cell_type": "code",
   "execution_count": 3,
   "metadata": {},
   "outputs": [],
   "source": [
    "metadata = {}\n",
    "metadata['data_ingestion'] = {}\n",
    "metadata['data_ingestion']['data_path'] = 'TOFILL'"
   ]
  },
  {
   "cell_type": "markdown",
   "metadata": {},
   "source": [
    "### Load Data"
   ]
  },
  {
   "cell_type": "code",
   "execution_count": 4,
   "metadata": {},
   "outputs": [
    {
     "name": "stdout",
     "output_type": "stream",
     "text": [
      "(1000, 40)\n"
     ]
    },
    {
     "data": {
      "text/html": [
       "<div>\n",
       "<style scoped>\n",
       "    .dataframe tbody tr th:only-of-type {\n",
       "        vertical-align: middle;\n",
       "    }\n",
       "\n",
       "    .dataframe tbody tr th {\n",
       "        vertical-align: top;\n",
       "    }\n",
       "\n",
       "    .dataframe thead th {\n",
       "        text-align: right;\n",
       "    }\n",
       "</style>\n",
       "<table border=\"1\" class=\"dataframe\">\n",
       "  <thead>\n",
       "    <tr style=\"text-align: right;\">\n",
       "      <th></th>\n",
       "      <th>months_as_customer</th>\n",
       "      <th>age</th>\n",
       "      <th>policy_number</th>\n",
       "      <th>policy_bind_date</th>\n",
       "      <th>policy_state</th>\n",
       "      <th>policy_csl</th>\n",
       "      <th>policy_deductable</th>\n",
       "      <th>policy_annual_premium</th>\n",
       "      <th>umbrella_limit</th>\n",
       "      <th>insured_zip</th>\n",
       "      <th>insured_sex</th>\n",
       "      <th>insured_education_level</th>\n",
       "      <th>insured_occupation</th>\n",
       "      <th>insured_hobbies</th>\n",
       "      <th>insured_relationship</th>\n",
       "      <th>capital-gains</th>\n",
       "      <th>capital-loss</th>\n",
       "      <th>incident_date</th>\n",
       "      <th>incident_type</th>\n",
       "      <th>collision_type</th>\n",
       "      <th>incident_severity</th>\n",
       "      <th>authorities_contacted</th>\n",
       "      <th>incident_state</th>\n",
       "      <th>incident_city</th>\n",
       "      <th>incident_location</th>\n",
       "      <th>incident_hour_of_the_day</th>\n",
       "      <th>number_of_vehicles_involved</th>\n",
       "      <th>property_damage</th>\n",
       "      <th>bodily_injuries</th>\n",
       "      <th>witnesses</th>\n",
       "      <th>police_report_available</th>\n",
       "      <th>total_claim_amount</th>\n",
       "      <th>injury_claim</th>\n",
       "      <th>property_claim</th>\n",
       "      <th>vehicle_claim</th>\n",
       "      <th>auto_make</th>\n",
       "      <th>auto_model</th>\n",
       "      <th>auto_year</th>\n",
       "      <th>fraud_reported</th>\n",
       "      <th>_c39</th>\n",
       "    </tr>\n",
       "  </thead>\n",
       "  <tbody>\n",
       "    <tr>\n",
       "      <th>0</th>\n",
       "      <td>328</td>\n",
       "      <td>48</td>\n",
       "      <td>521585</td>\n",
       "      <td>2014-10-17</td>\n",
       "      <td>OH</td>\n",
       "      <td>250/500</td>\n",
       "      <td>1000</td>\n",
       "      <td>1406.91</td>\n",
       "      <td>0</td>\n",
       "      <td>466132</td>\n",
       "      <td>MALE</td>\n",
       "      <td>MD</td>\n",
       "      <td>craft-repair</td>\n",
       "      <td>sleeping</td>\n",
       "      <td>husband</td>\n",
       "      <td>53300</td>\n",
       "      <td>0</td>\n",
       "      <td>2015-01-25</td>\n",
       "      <td>Single Vehicle Collision</td>\n",
       "      <td>Side Collision</td>\n",
       "      <td>Major Damage</td>\n",
       "      <td>Police</td>\n",
       "      <td>SC</td>\n",
       "      <td>Columbus</td>\n",
       "      <td>9935 4th Drive</td>\n",
       "      <td>5</td>\n",
       "      <td>1</td>\n",
       "      <td>YES</td>\n",
       "      <td>1</td>\n",
       "      <td>2</td>\n",
       "      <td>YES</td>\n",
       "      <td>71610</td>\n",
       "      <td>6510</td>\n",
       "      <td>13020</td>\n",
       "      <td>52080</td>\n",
       "      <td>Saab</td>\n",
       "      <td>92x</td>\n",
       "      <td>2004</td>\n",
       "      <td>Y</td>\n",
       "      <td>NaN</td>\n",
       "    </tr>\n",
       "    <tr>\n",
       "      <th>1</th>\n",
       "      <td>228</td>\n",
       "      <td>42</td>\n",
       "      <td>342868</td>\n",
       "      <td>2006-06-27</td>\n",
       "      <td>IN</td>\n",
       "      <td>250/500</td>\n",
       "      <td>2000</td>\n",
       "      <td>1197.22</td>\n",
       "      <td>5000000</td>\n",
       "      <td>468176</td>\n",
       "      <td>MALE</td>\n",
       "      <td>MD</td>\n",
       "      <td>machine-op-inspct</td>\n",
       "      <td>reading</td>\n",
       "      <td>other-relative</td>\n",
       "      <td>0</td>\n",
       "      <td>0</td>\n",
       "      <td>2015-01-21</td>\n",
       "      <td>Vehicle Theft</td>\n",
       "      <td>?</td>\n",
       "      <td>Minor Damage</td>\n",
       "      <td>Police</td>\n",
       "      <td>VA</td>\n",
       "      <td>Riverwood</td>\n",
       "      <td>6608 MLK Hwy</td>\n",
       "      <td>8</td>\n",
       "      <td>1</td>\n",
       "      <td>?</td>\n",
       "      <td>0</td>\n",
       "      <td>0</td>\n",
       "      <td>?</td>\n",
       "      <td>5070</td>\n",
       "      <td>780</td>\n",
       "      <td>780</td>\n",
       "      <td>3510</td>\n",
       "      <td>Mercedes</td>\n",
       "      <td>E400</td>\n",
       "      <td>2007</td>\n",
       "      <td>Y</td>\n",
       "      <td>NaN</td>\n",
       "    </tr>\n",
       "    <tr>\n",
       "      <th>2</th>\n",
       "      <td>134</td>\n",
       "      <td>29</td>\n",
       "      <td>687698</td>\n",
       "      <td>2000-09-06</td>\n",
       "      <td>OH</td>\n",
       "      <td>100/300</td>\n",
       "      <td>2000</td>\n",
       "      <td>1413.14</td>\n",
       "      <td>5000000</td>\n",
       "      <td>430632</td>\n",
       "      <td>FEMALE</td>\n",
       "      <td>PhD</td>\n",
       "      <td>sales</td>\n",
       "      <td>board-games</td>\n",
       "      <td>own-child</td>\n",
       "      <td>35100</td>\n",
       "      <td>0</td>\n",
       "      <td>2015-02-22</td>\n",
       "      <td>Multi-vehicle Collision</td>\n",
       "      <td>Rear Collision</td>\n",
       "      <td>Minor Damage</td>\n",
       "      <td>Police</td>\n",
       "      <td>NY</td>\n",
       "      <td>Columbus</td>\n",
       "      <td>7121 Francis Lane</td>\n",
       "      <td>7</td>\n",
       "      <td>3</td>\n",
       "      <td>NO</td>\n",
       "      <td>2</td>\n",
       "      <td>3</td>\n",
       "      <td>NO</td>\n",
       "      <td>34650</td>\n",
       "      <td>7700</td>\n",
       "      <td>3850</td>\n",
       "      <td>23100</td>\n",
       "      <td>Dodge</td>\n",
       "      <td>RAM</td>\n",
       "      <td>2007</td>\n",
       "      <td>N</td>\n",
       "      <td>NaN</td>\n",
       "    </tr>\n",
       "    <tr>\n",
       "      <th>3</th>\n",
       "      <td>256</td>\n",
       "      <td>41</td>\n",
       "      <td>227811</td>\n",
       "      <td>1990-05-25</td>\n",
       "      <td>IL</td>\n",
       "      <td>250/500</td>\n",
       "      <td>2000</td>\n",
       "      <td>1415.74</td>\n",
       "      <td>6000000</td>\n",
       "      <td>608117</td>\n",
       "      <td>FEMALE</td>\n",
       "      <td>PhD</td>\n",
       "      <td>armed-forces</td>\n",
       "      <td>board-games</td>\n",
       "      <td>unmarried</td>\n",
       "      <td>48900</td>\n",
       "      <td>-62400</td>\n",
       "      <td>2015-01-10</td>\n",
       "      <td>Single Vehicle Collision</td>\n",
       "      <td>Front Collision</td>\n",
       "      <td>Major Damage</td>\n",
       "      <td>Police</td>\n",
       "      <td>OH</td>\n",
       "      <td>Arlington</td>\n",
       "      <td>6956 Maple Drive</td>\n",
       "      <td>5</td>\n",
       "      <td>1</td>\n",
       "      <td>?</td>\n",
       "      <td>1</td>\n",
       "      <td>2</td>\n",
       "      <td>NO</td>\n",
       "      <td>63400</td>\n",
       "      <td>6340</td>\n",
       "      <td>6340</td>\n",
       "      <td>50720</td>\n",
       "      <td>Chevrolet</td>\n",
       "      <td>Tahoe</td>\n",
       "      <td>2014</td>\n",
       "      <td>Y</td>\n",
       "      <td>NaN</td>\n",
       "    </tr>\n",
       "    <tr>\n",
       "      <th>4</th>\n",
       "      <td>228</td>\n",
       "      <td>44</td>\n",
       "      <td>367455</td>\n",
       "      <td>2014-06-06</td>\n",
       "      <td>IL</td>\n",
       "      <td>500/1000</td>\n",
       "      <td>1000</td>\n",
       "      <td>1583.91</td>\n",
       "      <td>6000000</td>\n",
       "      <td>610706</td>\n",
       "      <td>MALE</td>\n",
       "      <td>Associate</td>\n",
       "      <td>sales</td>\n",
       "      <td>board-games</td>\n",
       "      <td>unmarried</td>\n",
       "      <td>66000</td>\n",
       "      <td>-46000</td>\n",
       "      <td>2015-02-17</td>\n",
       "      <td>Vehicle Theft</td>\n",
       "      <td>?</td>\n",
       "      <td>Minor Damage</td>\n",
       "      <td>None</td>\n",
       "      <td>NY</td>\n",
       "      <td>Arlington</td>\n",
       "      <td>3041 3rd Ave</td>\n",
       "      <td>20</td>\n",
       "      <td>1</td>\n",
       "      <td>NO</td>\n",
       "      <td>0</td>\n",
       "      <td>1</td>\n",
       "      <td>NO</td>\n",
       "      <td>6500</td>\n",
       "      <td>1300</td>\n",
       "      <td>650</td>\n",
       "      <td>4550</td>\n",
       "      <td>Accura</td>\n",
       "      <td>RSX</td>\n",
       "      <td>2009</td>\n",
       "      <td>N</td>\n",
       "      <td>NaN</td>\n",
       "    </tr>\n",
       "  </tbody>\n",
       "</table>\n",
       "</div>"
      ],
      "text/plain": [
       "   months_as_customer  age  policy_number policy_bind_date policy_state policy_csl  policy_deductable  policy_annual_premium  umbrella_limit  insured_zip insured_sex insured_education_level insured_occupation insured_hobbies insured_relationship  capital-gains  capital-loss incident_date             incident_type   collision_type incident_severity authorities_contacted incident_state incident_city  incident_location  incident_hour_of_the_day  number_of_vehicles_involved property_damage  bodily_injuries  witnesses police_report_available  total_claim_amount  injury_claim  property_claim  vehicle_claim  auto_make auto_model  auto_year fraud_reported  _c39\n",
       "0                 328   48         521585       2014-10-17           OH    250/500               1000                1406.91               0       466132        MALE                      MD       craft-repair        sleeping              husband          53300             0    2015-01-25  Single Vehicle Collision   Side Collision      Major Damage                Police             SC      Columbus     9935 4th Drive                         5                            1             YES                1          2                     YES               71610          6510           13020          52080       Saab        92x       2004              Y   NaN\n",
       "1                 228   42         342868       2006-06-27           IN    250/500               2000                1197.22         5000000       468176        MALE                      MD  machine-op-inspct         reading       other-relative              0             0    2015-01-21             Vehicle Theft                ?      Minor Damage                Police             VA     Riverwood       6608 MLK Hwy                         8                            1               ?                0          0                       ?                5070           780             780           3510   Mercedes       E400       2007              Y   NaN\n",
       "2                 134   29         687698       2000-09-06           OH    100/300               2000                1413.14         5000000       430632      FEMALE                     PhD              sales     board-games            own-child          35100             0    2015-02-22   Multi-vehicle Collision   Rear Collision      Minor Damage                Police             NY      Columbus  7121 Francis Lane                         7                            3              NO                2          3                      NO               34650          7700            3850          23100      Dodge        RAM       2007              N   NaN\n",
       "3                 256   41         227811       1990-05-25           IL    250/500               2000                1415.74         6000000       608117      FEMALE                     PhD       armed-forces     board-games            unmarried          48900        -62400    2015-01-10  Single Vehicle Collision  Front Collision      Major Damage                Police             OH     Arlington   6956 Maple Drive                         5                            1               ?                1          2                      NO               63400          6340            6340          50720  Chevrolet      Tahoe       2014              Y   NaN\n",
       "4                 228   44         367455       2014-06-06           IL   500/1000               1000                1583.91         6000000       610706        MALE               Associate              sales     board-games            unmarried          66000        -46000    2015-02-17             Vehicle Theft                ?      Minor Damage                  None             NY     Arlington       3041 3rd Ave                        20                            1              NO                0          1                      NO                6500          1300             650           4550     Accura        RSX       2009              N   NaN"
      ]
     },
     "execution_count": 4,
     "metadata": {},
     "output_type": "execute_result"
    }
   ],
   "source": [
    "data = pd.read_csv(raw)\n",
    "print(data.shape)\n",
    "data.head()"
   ]
  },
  {
   "cell_type": "markdown",
   "metadata": {},
   "source": [
    "### Data Mapping"
   ]
  },
  {
   "cell_type": "code",
   "execution_count": 5,
   "metadata": {},
   "outputs": [],
   "source": [
    "metadata['data_ingestion']['data_map'] = {}\n",
    "\n",
    "target = 'fraud_reported'\n",
    "variables = [col for col in data.columns if col != target]\n",
    "\n",
    "metadata['data_ingestion']['data_map']['target'] = target\n",
    "metadata['data_ingestion']['data_map']['variables'] = variables"
   ]
  },
  {
   "cell_type": "markdown",
   "metadata": {},
   "source": [
    "## Preprocessing"
   ]
  },
  {
   "cell_type": "code",
   "execution_count": 6,
   "metadata": {},
   "outputs": [],
   "source": [
    "metadata['preprocessing'] = {}"
   ]
  },
  {
   "cell_type": "markdown",
   "metadata": {},
   "source": [
    "### Drop Variables and Replace missleading labels"
   ]
  },
  {
   "cell_type": "code",
   "execution_count": 7,
   "metadata": {},
   "outputs": [],
   "source": [
    "drop = ['policy_number', 'policy_bind_date', 'policy_state', 'policy_csl', \n",
    "        'insured_zip', 'insured_occupation', 'incident_date', \n",
    "        'insured_education_level', 'insured_relationship', 'injury_claim', 'property_claim', 'vehicle_claim', \n",
    "        'incident_state', 'incident_city', 'incident_location', 'auto_model', 'auto_make', 'auto_year', '_c39']\n",
    "\n",
    "metadata['preprocessing']['dropped_columns'] = drop\n",
    "\n",
    "data.drop(drop, axis=1, inplace=True)"
   ]
  },
  {
   "cell_type": "code",
   "execution_count": 8,
   "metadata": {},
   "outputs": [],
   "source": [
    "rename = {\"capital-gains\": \"capital_gains\", \"capital-loss\": \"capital_loss\"}\n",
    "\n",
    "metadata['preprocessing']['renamed_columns'] = rename\n",
    "\n",
    "data.rename(columns=rename, inplace=True)"
   ]
  },
  {
   "cell_type": "code",
   "execution_count": 9,
   "metadata": {},
   "outputs": [],
   "source": [
    "predictors = [col for col in data.columns if col != target]\n",
    "metadata['preprocessing']['predictors'] = predictors"
   ]
  },
  {
   "cell_type": "markdown",
   "metadata": {},
   "source": [
    "### Drop anomalies "
   ]
  },
  {
   "cell_type": "code",
   "execution_count": 10,
   "metadata": {},
   "outputs": [],
   "source": [
    "data = data[data['umbrella_limit']>=0]"
   ]
  },
  {
   "cell_type": "code",
   "execution_count": 11,
   "metadata": {},
   "outputs": [
    {
     "name": "stdout",
     "output_type": "stream",
     "text": [
      "\n",
      " [       0  5000000  6000000  4000000  3000000  8000000  7000000  9000000\n",
      " 10000000  2000000]\n"
     ]
    }
   ],
   "source": [
    "print('\\n', data['umbrella_limit'].unique())"
   ]
  },
  {
   "cell_type": "markdown",
   "metadata": {},
   "source": [
    "### Impute Missing"
   ]
  },
  {
   "cell_type": "code",
   "execution_count": 12,
   "metadata": {},
   "outputs": [],
   "source": [
    "missing_predictors = [col for col in data.select_dtypes(include='object').columns if any(data[col].str.contains('?', regex=False))]\n",
    "\n",
    "metadata['preprocessing']['missing_predictors'] = missing_predictors\n",
    "\n",
    "data[missing_predictors] = data[missing_predictors].replace('?', 'missing')"
   ]
  },
  {
   "cell_type": "code",
   "execution_count": 13,
   "metadata": {},
   "outputs": [
    {
     "name": "stdout",
     "output_type": "stream",
     "text": [
      "collision_type labels: ['Side Collision' 'missing' 'Rear Collision' 'Front Collision']\n",
      "\n",
      "property_damage labels: ['YES' 'missing' 'NO']\n",
      "\n",
      "police_report_available labels: ['YES' 'missing' 'NO']\n",
      "\n"
     ]
    }
   ],
   "source": [
    "for var in missing_predictors:\n",
    "    print('{} labels: {}'.format(var, data[var].unique()))\n",
    "    print()"
   ]
  },
  {
   "cell_type": "markdown",
   "metadata": {},
   "source": [
    "### Train-Test splitting"
   ]
  },
  {
   "cell_type": "code",
   "execution_count": 14,
   "metadata": {},
   "outputs": [],
   "source": [
    "metadata['preprocessing']['train_test_split_params']={}\n",
    "metadata['preprocessing']['train_test_split_params']['test_size'] = 0.10\n",
    "metadata['preprocessing']['train_test_split_params']['random_state'] = 1"
   ]
  },
  {
   "cell_type": "code",
   "execution_count": 15,
   "metadata": {},
   "outputs": [
    {
     "data": {
      "text/plain": [
       "((899, 20), (100, 20))"
      ]
     },
     "execution_count": 15,
     "metadata": {},
     "output_type": "execute_result"
    }
   ],
   "source": [
    "X_train, X_test, y_train, y_test = train_test_split(data[predictors], data[target],\n",
    "                                                    test_size=0.10, \n",
    "                                                    random_state=1) # ALWAYS set random seed for reproducibility!\n",
    "X_train.shape, X_test.shape"
   ]
  },
  {
   "cell_type": "markdown",
   "metadata": {},
   "source": [
    "## Feature engineering"
   ]
  },
  {
   "cell_type": "code",
   "execution_count": 16,
   "metadata": {},
   "outputs": [],
   "source": [
    "metadata['features_engineering'] = {}"
   ]
  },
  {
   "cell_type": "markdown",
   "metadata": {},
   "source": [
    "### Engineer Target"
   ]
  },
  {
   "cell_type": "code",
   "execution_count": 17,
   "metadata": {},
   "outputs": [
    {
     "data": {
      "text/plain": [
       "array(['N', 'Y'], dtype=object)"
      ]
     },
     "execution_count": 17,
     "metadata": {},
     "output_type": "execute_result"
    }
   ],
   "source": [
    "y_train.unique()"
   ]
  },
  {
   "cell_type": "code",
   "execution_count": 18,
   "metadata": {},
   "outputs": [],
   "source": [
    "metadata['features_engineering']['target_encoding'] = {}"
   ]
  },
  {
   "cell_type": "code",
   "execution_count": 19,
   "metadata": {},
   "outputs": [],
   "source": [
    "#Create the list of target labels\n",
    "target_labels = sorted(set(y_train))\n",
    "#Create encoding dictionary\n",
    "target_labels_dic = {label: index for index, label in enumerate(target_labels, 0)}"
   ]
  },
  {
   "cell_type": "code",
   "execution_count": 20,
   "metadata": {},
   "outputs": [],
   "source": [
    "metadata['features_engineering']['target_encoding'] = target_labels_dic"
   ]
  },
  {
   "cell_type": "code",
   "execution_count": 21,
   "metadata": {},
   "outputs": [],
   "source": [
    "#Encode the data\n",
    "y_train = y_train.map(target_labels_dic).astype('category')\n",
    "y_test = y_test.map(target_labels_dic).astype('category')"
   ]
  },
  {
   "cell_type": "code",
   "execution_count": 22,
   "metadata": {},
   "outputs": [
    {
     "name": "stdout",
     "output_type": "stream",
     "text": [
      "[0, 1]\n",
      "Categories (2, int64): [0, 1]\n",
      "\n",
      "[0, 1]\n",
      "Categories (2, int64): [0, 1]\n"
     ]
    }
   ],
   "source": [
    "print(y_train.unique())\n",
    "print()\n",
    "print(y_test.unique())"
   ]
  },
  {
   "cell_type": "markdown",
   "metadata": {},
   "source": [
    "### Engineer Numerical Variables\n",
    "\n",
    "I divided them in: \n",
    "\n",
    "- Discrete variables\n",
    "- Continuous variables\n"
   ]
  },
  {
   "cell_type": "code",
   "execution_count": 23,
   "metadata": {},
   "outputs": [
    {
     "name": "stdout",
     "output_type": "stream",
     "text": [
      "['months_as_customer', 'age', 'policy_deductable', 'policy_annual_premium', 'umbrella_limit', 'capital_gains', 'capital_loss', 'incident_hour_of_the_day', 'number_of_vehicles_involved', 'bodily_injuries', 'witnesses', 'total_claim_amount']\n",
      "\n",
      " ['policy_deductable', 'umbrella_limit', 'incident_hour_of_the_day', 'number_of_vehicles_involved', 'bodily_injuries', 'witnesses']\n",
      "\n",
      " ['months_as_customer', 'age', 'policy_annual_premium', 'capital_gains', 'capital_loss', 'total_claim_amount']\n"
     ]
    }
   ],
   "source": [
    "# numerical\n",
    "numerical_predictors = [col for col in predictors if X_train[col].dtypes != 'object']\n",
    "discrete_predictors = [col for col in numerical_predictors if len(X_train[col].unique()) < 30]\n",
    "continuous_predictors = [col for col in numerical_predictors if col not in discrete_predictors]\n",
    "\n",
    "print(numerical_predictors)\n",
    "print('\\n', discrete_predictors)\n",
    "print('\\n', continuous_predictors)\n",
    "\n",
    "metadata['features_engineering']['numerical_predictors'] = numerical_predictors\n",
    "metadata['features_engineering']['discrete_predictors'] = discrete_predictors\n",
    "metadata['features_engineering']['continuous_predictors'] = continuous_predictors"
   ]
  },
  {
   "cell_type": "markdown",
   "metadata": {},
   "source": [
    "#### Discrete Variables"
   ]
  },
  {
   "cell_type": "code",
   "execution_count": 24,
   "metadata": {},
   "outputs": [
    {
     "data": {
      "text/html": [
       "<div>\n",
       "<style scoped>\n",
       "    .dataframe tbody tr th:only-of-type {\n",
       "        vertical-align: middle;\n",
       "    }\n",
       "\n",
       "    .dataframe tbody tr th {\n",
       "        vertical-align: top;\n",
       "    }\n",
       "\n",
       "    .dataframe thead th {\n",
       "        text-align: right;\n",
       "    }\n",
       "</style>\n",
       "<table border=\"1\" class=\"dataframe\">\n",
       "  <thead>\n",
       "    <tr style=\"text-align: right;\">\n",
       "      <th></th>\n",
       "      <th>policy_deductable</th>\n",
       "      <th>umbrella_limit</th>\n",
       "      <th>incident_hour_of_the_day</th>\n",
       "      <th>number_of_vehicles_involved</th>\n",
       "      <th>bodily_injuries</th>\n",
       "      <th>witnesses</th>\n",
       "    </tr>\n",
       "  </thead>\n",
       "  <tbody>\n",
       "    <tr>\n",
       "      <th>336</th>\n",
       "      <td>500</td>\n",
       "      <td>4000000</td>\n",
       "      <td>14</td>\n",
       "      <td>3</td>\n",
       "      <td>2</td>\n",
       "      <td>1</td>\n",
       "    </tr>\n",
       "    <tr>\n",
       "      <th>13</th>\n",
       "      <td>1000</td>\n",
       "      <td>0</td>\n",
       "      <td>5</td>\n",
       "      <td>1</td>\n",
       "      <td>1</td>\n",
       "      <td>1</td>\n",
       "    </tr>\n",
       "    <tr>\n",
       "      <th>872</th>\n",
       "      <td>1000</td>\n",
       "      <td>0</td>\n",
       "      <td>23</td>\n",
       "      <td>3</td>\n",
       "      <td>0</td>\n",
       "      <td>0</td>\n",
       "    </tr>\n",
       "    <tr>\n",
       "      <th>156</th>\n",
       "      <td>2000</td>\n",
       "      <td>0</td>\n",
       "      <td>10</td>\n",
       "      <td>3</td>\n",
       "      <td>2</td>\n",
       "      <td>1</td>\n",
       "    </tr>\n",
       "    <tr>\n",
       "      <th>429</th>\n",
       "      <td>2000</td>\n",
       "      <td>0</td>\n",
       "      <td>2</td>\n",
       "      <td>1</td>\n",
       "      <td>2</td>\n",
       "      <td>3</td>\n",
       "    </tr>\n",
       "  </tbody>\n",
       "</table>\n",
       "</div>"
      ],
      "text/plain": [
       "     policy_deductable  umbrella_limit  incident_hour_of_the_day  number_of_vehicles_involved  bodily_injuries  witnesses\n",
       "336                500         4000000                        14                            3                2          1\n",
       "13                1000               0                         5                            1                1          1\n",
       "872               1000               0                        23                            3                0          0\n",
       "156               2000               0                        10                            3                2          1\n",
       "429               2000               0                         2                            1                2          3"
      ]
     },
     "execution_count": 24,
     "metadata": {},
     "output_type": "execute_result"
    }
   ],
   "source": [
    "X_train[discrete_predictors].head()"
   ]
  },
  {
   "cell_type": "markdown",
   "metadata": {},
   "source": [
    "#### policy_deductable"
   ]
  },
  {
   "cell_type": "code",
   "execution_count": 25,
   "metadata": {},
   "outputs": [],
   "source": [
    "metadata['features_engineering']['binned_variables'] = []\n",
    "metadata['features_engineering']['binned_variables'].append('policy_deductable')"
   ]
  },
  {
   "cell_type": "code",
   "execution_count": 26,
   "metadata": {},
   "outputs": [],
   "source": [
    "bins = list(np.linspace(0,2000, 5, dtype = int))\n",
    "bin_labels = ['0-500', '501-1000', '1001-1500', '1501-2000']\n",
    "new_variable_name = \"_\".join(['policy_deductable', 'groups'])"
   ]
  },
  {
   "cell_type": "code",
   "execution_count": 27,
   "metadata": {},
   "outputs": [],
   "source": [
    "metadata['features_engineering']['binning_meta'] = {}\n",
    "binning_meta={}\n",
    "binning_meta['var_name'] = new_variable_name\n",
    "binning_meta['bins'] = [0, 500, 1000, 1500, 2000]\n",
    "binning_meta['bins_labels'] = bin_labels\n",
    "metadata['features_engineering']['binning_meta']['policy_deductable'] = binning_meta"
   ]
  },
  {
   "cell_type": "code",
   "execution_count": 28,
   "metadata": {},
   "outputs": [],
   "source": [
    "X_train[new_variable_name] = pd.cut(X_train['policy_deductable'], bins = bins, labels = bin_labels, include_lowest = True)\n",
    "X_test[new_variable_name] = pd.cut(X_test['policy_deductable'], bins = bins, labels = bin_labels, include_lowest = True)\n",
    "X_train.drop('policy_deductable', axis=1, inplace=True)\n",
    "X_test.drop('policy_deductable', axis=1, inplace=True)"
   ]
  },
  {
   "cell_type": "code",
   "execution_count": 29,
   "metadata": {},
   "outputs": [
    {
     "name": "stdout",
     "output_type": "stream",
     "text": [
      "\n",
      " [0-500, 501-1000, 1501-2000]\n",
      "Categories (3, object): [0-500 < 501-1000 < 1501-2000]\n",
      "\n",
      "\n",
      " [501-1000, 0-500, 1501-2000]\n",
      "Categories (3, object): [0-500 < 501-1000 < 1501-2000]\n"
     ]
    }
   ],
   "source": [
    "print('\\n', X_train[new_variable_name].unique())\n",
    "print()\n",
    "print('\\n', X_test[new_variable_name].unique())"
   ]
  },
  {
   "cell_type": "markdown",
   "metadata": {},
   "source": [
    "#### Continuous variables"
   ]
  },
  {
   "cell_type": "code",
   "execution_count": 30,
   "metadata": {},
   "outputs": [
    {
     "data": {
      "text/html": [
       "<div>\n",
       "<style scoped>\n",
       "    .dataframe tbody tr th:only-of-type {\n",
       "        vertical-align: middle;\n",
       "    }\n",
       "\n",
       "    .dataframe tbody tr th {\n",
       "        vertical-align: top;\n",
       "    }\n",
       "\n",
       "    .dataframe thead th {\n",
       "        text-align: right;\n",
       "    }\n",
       "</style>\n",
       "<table border=\"1\" class=\"dataframe\">\n",
       "  <thead>\n",
       "    <tr style=\"text-align: right;\">\n",
       "      <th></th>\n",
       "      <th>months_as_customer</th>\n",
       "      <th>age</th>\n",
       "      <th>policy_annual_premium</th>\n",
       "      <th>capital_gains</th>\n",
       "      <th>capital_loss</th>\n",
       "      <th>total_claim_amount</th>\n",
       "    </tr>\n",
       "  </thead>\n",
       "  <tbody>\n",
       "    <tr>\n",
       "      <th>336</th>\n",
       "      <td>176</td>\n",
       "      <td>39</td>\n",
       "      <td>1365.46</td>\n",
       "      <td>0</td>\n",
       "      <td>-56600</td>\n",
       "      <td>44280</td>\n",
       "    </tr>\n",
       "    <tr>\n",
       "      <th>13</th>\n",
       "      <td>121</td>\n",
       "      <td>34</td>\n",
       "      <td>936.61</td>\n",
       "      <td>52800</td>\n",
       "      <td>-32800</td>\n",
       "      <td>7280</td>\n",
       "    </tr>\n",
       "    <tr>\n",
       "      <th>872</th>\n",
       "      <td>290</td>\n",
       "      <td>45</td>\n",
       "      <td>1311.30</td>\n",
       "      <td>38500</td>\n",
       "      <td>0</td>\n",
       "      <td>52650</td>\n",
       "    </tr>\n",
       "    <tr>\n",
       "      <th>156</th>\n",
       "      <td>461</td>\n",
       "      <td>61</td>\n",
       "      <td>1402.75</td>\n",
       "      <td>0</td>\n",
       "      <td>0</td>\n",
       "      <td>72100</td>\n",
       "    </tr>\n",
       "    <tr>\n",
       "      <th>429</th>\n",
       "      <td>467</td>\n",
       "      <td>58</td>\n",
       "      <td>977.40</td>\n",
       "      <td>82200</td>\n",
       "      <td>0</td>\n",
       "      <td>55700</td>\n",
       "    </tr>\n",
       "  </tbody>\n",
       "</table>\n",
       "</div>"
      ],
      "text/plain": [
       "     months_as_customer  age  policy_annual_premium  capital_gains  capital_loss  total_claim_amount\n",
       "336                 176   39                1365.46              0        -56600               44280\n",
       "13                  121   34                 936.61          52800        -32800                7280\n",
       "872                 290   45                1311.30          38500             0               52650\n",
       "156                 461   61                1402.75              0             0               72100\n",
       "429                 467   58                 977.40          82200             0               55700"
      ]
     },
     "execution_count": 30,
     "metadata": {},
     "output_type": "execute_result"
    }
   ],
   "source": [
    "X_train[continuous_predictors].head()"
   ]
  },
  {
   "cell_type": "markdown",
   "metadata": {},
   "source": [
    "#### age"
   ]
  },
  {
   "cell_type": "code",
   "execution_count": 31,
   "metadata": {},
   "outputs": [],
   "source": [
    "metadata['features_engineering']['binned_variables'].append('age')"
   ]
  },
  {
   "cell_type": "code",
   "execution_count": 32,
   "metadata": {},
   "outputs": [],
   "source": [
    "bin_labels = ['15-20', '21-25', '26-30', '31-35', '36-40', '41-45', '46-50', '51-55', '56-60', '61-65']\n",
    "bins = [15, 20, 25, 30, 35, 40, 45, 50, 55, 60, 65]\n",
    "new_variable_name = \"_\".join(['age', 'groups'])"
   ]
  },
  {
   "cell_type": "code",
   "execution_count": 33,
   "metadata": {},
   "outputs": [],
   "source": [
    "# Encoding meta\n",
    "binning_meta = {}\n",
    "binning_meta['var_name'] = new_variable_name\n",
    "binning_meta['bins'] = bins\n",
    "binning_meta['bins_labels'] = bin_labels\n",
    "metadata['features_engineering']['binning_meta']['age'] = binning_meta"
   ]
  },
  {
   "cell_type": "code",
   "execution_count": 34,
   "metadata": {},
   "outputs": [],
   "source": [
    "X_train[new_variable_name] = pd.cut(X_train['age'], bins = bins, labels = bin_labels, include_lowest = True)\n",
    "X_test[new_variable_name] = pd.cut(X_test['age'], bins = bins, labels = bin_labels, include_lowest = True)\n",
    "X_train.drop('age', axis=1, inplace=True)\n",
    "X_test.drop('age', axis=1, inplace=True)"
   ]
  },
  {
   "cell_type": "code",
   "execution_count": 35,
   "metadata": {},
   "outputs": [
    {
     "name": "stdout",
     "output_type": "stream",
     "text": [
      "\n",
      " [36-40, 31-35, 41-45, 61-65, 56-60, 26-30, 46-50, 51-55, 21-25, 15-20]\n",
      "Categories (10, object): [15-20 < 21-25 < 26-30 < 31-35 ... 46-50 < 51-55 < 56-60 < 61-65]\n",
      "\n",
      "\n",
      " [21-25, 56-60, 36-40, 46-50, 31-35, 41-45, 26-30, 51-55, 61-65]\n",
      "Categories (9, object): [21-25 < 26-30 < 31-35 < 36-40 ... 46-50 < 51-55 < 56-60 < 61-65]\n"
     ]
    }
   ],
   "source": [
    "print('\\n', X_train[new_variable_name].unique())\n",
    "print()\n",
    "print('\\n', X_test[new_variable_name].unique())"
   ]
  },
  {
   "cell_type": "markdown",
   "metadata": {},
   "source": [
    "#### policy_annual_premium"
   ]
  },
  {
   "cell_type": "code",
   "execution_count": 36,
   "metadata": {},
   "outputs": [],
   "source": [
    "metadata['features_engineering']['binned_variables'].append('policy_annual_premium')"
   ]
  },
  {
   "cell_type": "code",
   "execution_count": 37,
   "metadata": {},
   "outputs": [],
   "source": [
    "bins = list(np.linspace(0, 2500, 6, dtype = int))\n",
    "bin_labels = ['very low', 'low', 'medium', 'high', 'very high']\n",
    "new_variable_name = \"_\".join(['policy_annual_premium', 'groups'])"
   ]
  },
  {
   "cell_type": "code",
   "execution_count": 38,
   "metadata": {},
   "outputs": [],
   "source": [
    "# Encoding meta\n",
    "binning_meta = {}\n",
    "binning_meta['var_name'] = new_variable_name\n",
    "binning_meta['bins'] = [0, 500, 1000, 1500, 2000, 2500]\n",
    "binning_meta['bins_labels'] = bin_labels\n",
    "metadata['features_engineering']['binning_meta']['policy_annual_premium'] = binning_meta"
   ]
  },
  {
   "cell_type": "code",
   "execution_count": 39,
   "metadata": {},
   "outputs": [],
   "source": [
    "X_train[new_variable_name] = pd.cut(X_train['policy_annual_premium'], bins = bins, labels = bin_labels, include_lowest = True)\n",
    "X_test[new_variable_name] = pd.cut(X_test['policy_annual_premium'], bins = bins, labels = bin_labels, include_lowest = True)\n",
    "X_train.drop('policy_annual_premium', axis=1, inplace=True)\n",
    "X_test.drop('policy_annual_premium', axis=1, inplace=True)"
   ]
  },
  {
   "cell_type": "code",
   "execution_count": 40,
   "metadata": {},
   "outputs": [
    {
     "name": "stdout",
     "output_type": "stream",
     "text": [
      "\n",
      " [medium, low, high, very low, very high]\n",
      "Categories (5, object): [very low < low < medium < high < very high]\n",
      "\n",
      "\n",
      " [medium, high, low]\n",
      "Categories (3, object): [low < medium < high]\n"
     ]
    }
   ],
   "source": [
    "print('\\n', X_train[new_variable_name].unique())\n",
    "print()\n",
    "print('\\n', X_test[new_variable_name].unique())"
   ]
  },
  {
   "cell_type": "markdown",
   "metadata": {},
   "source": [
    "#### month_as_customer"
   ]
  },
  {
   "cell_type": "code",
   "execution_count": 41,
   "metadata": {},
   "outputs": [],
   "source": [
    "metadata['features_engineering']['binned_variables'].append('months_as_customer')"
   ]
  },
  {
   "cell_type": "code",
   "execution_count": 42,
   "metadata": {},
   "outputs": [],
   "source": [
    "bins = [0, 50, 100, 150, 200, 250, 300, 350, 400, 450, 500]\n",
    "bin_labels = ['0-50','51-100','101-150','151-200','201-250','251-300','301-350','351-400','401-450','451-500']\n",
    "new_variable_name = \"_\".join(['months_as_customer', 'groups'])"
   ]
  },
  {
   "cell_type": "code",
   "execution_count": 43,
   "metadata": {},
   "outputs": [],
   "source": [
    "# Encoding meta\n",
    "binning_meta = {}\n",
    "binning_meta['var_name'] = new_variable_name\n",
    "binning_meta['bins'] = [0, 50, 100, 150, 200, 250, 300, 350, 400, 450, 500]\n",
    "binning_meta['bins_labels'] = bin_labels\n",
    "metadata['features_engineering']['binning_meta']['months_as_customer'] = binning_meta"
   ]
  },
  {
   "cell_type": "code",
   "execution_count": 44,
   "metadata": {},
   "outputs": [],
   "source": [
    "X_train[new_variable_name] = pd.cut(X_train['months_as_customer'], bins = bins, labels = bin_labels, include_lowest = True)\n",
    "X_test[new_variable_name] = pd.cut(X_test['months_as_customer'], bins = bins, labels = bin_labels, include_lowest = True)\n",
    "X_train.drop('months_as_customer', axis=1, inplace=True)\n",
    "X_test.drop('months_as_customer', axis=1, inplace=True)"
   ]
  },
  {
   "cell_type": "code",
   "execution_count": 45,
   "metadata": {},
   "outputs": [
    {
     "name": "stdout",
     "output_type": "stream",
     "text": [
      "\n",
      " [151-200, 101-150, 251-300, 451-500, 0-50, 201-250, 51-100, 301-350, 401-450, 351-400]\n",
      "Categories (10, object): [0-50 < 51-100 < 101-150 < 151-200 ... 301-350 < 351-400 < 401-450 < 451-500]\n",
      "\n",
      "\n",
      " [51-100, 451-500, 0-50, 301-350, 151-200, 101-150, 201-250, 251-300, 351-400, 401-450]\n",
      "Categories (10, object): [0-50 < 51-100 < 101-150 < 151-200 ... 301-350 < 351-400 < 401-450 < 451-500]\n"
     ]
    }
   ],
   "source": [
    "print('\\n', X_train[new_variable_name].unique())\n",
    "print()\n",
    "print('\\n', X_test[new_variable_name].unique())"
   ]
  },
  {
   "cell_type": "markdown",
   "metadata": {},
   "source": [
    "### Engineer Categorical variables"
   ]
  },
  {
   "cell_type": "code",
   "execution_count": 46,
   "metadata": {},
   "outputs": [
    {
     "name": "stdout",
     "output_type": "stream",
     "text": [
      "['insured_sex', 'insured_hobbies', 'incident_type', 'collision_type', 'incident_severity', 'authorities_contacted', 'property_damage', 'police_report_available', 'policy_deductable_groups', 'age_groups', 'policy_annual_premium_groups', 'months_as_customer_groups']\n",
      "\n",
      " ['incident_severity', 'policy_annual_premium_groups', 'policy_deductable_groups']\n",
      "\n",
      " ['insured_sex', 'insured_hobbies', 'incident_type', 'collision_type', 'authorities_contacted', 'property_damage', 'police_report_available', 'age_groups', 'months_as_customer_groups']\n"
     ]
    }
   ],
   "source": [
    "# non numerical\n",
    "categorical_predictors = [col for col in X_train.columns if X_train[col].dtypes != 'int' and col != target]\n",
    "ordinal_predictors = ['incident_severity', 'policy_annual_premium_groups', 'policy_deductable_groups']\n",
    "nominal_predictors = [col for col in categorical_predictors if col not in ordinal_predictors]\n",
    "\n",
    "print(categorical_predictors)\n",
    "print('\\n', ordinal_predictors)\n",
    "print('\\n', nominal_predictors)\n",
    "\n",
    "metadata['features_engineering']['categorical_predictors'] = categorical_predictors\n",
    "metadata['features_engineering']['ordinal_predictors'] = ordinal_predictors\n",
    "metadata['features_engineering']['nominal_predictors'] = nominal_predictors"
   ]
  },
  {
   "cell_type": "markdown",
   "metadata": {},
   "source": [
    "#### Nominal"
   ]
  },
  {
   "cell_type": "markdown",
   "metadata": {},
   "source": [
    "#### insured_hobbies"
   ]
  },
  {
   "cell_type": "code",
   "execution_count": 47,
   "metadata": {},
   "outputs": [],
   "source": [
    "# Encoded variables\n",
    "metadata['features_engineering']['encode_variables'] = []\n",
    "metadata['features_engineering']['encode_variables'].append('insured_hobbies')"
   ]
  },
  {
   "cell_type": "code",
   "execution_count": 48,
   "metadata": {},
   "outputs": [],
   "source": [
    "replace_labels = [label for label in X_train['insured_hobbies'].unique() if label not in ['chess', 'cross-fit']]\n",
    "bins_label_var = {l: 'others' if l in replace_labels else l for l in X_train['insured_hobbies'].unique()}"
   ]
  },
  {
   "cell_type": "code",
   "execution_count": 49,
   "metadata": {},
   "outputs": [],
   "source": [
    "# Encoding meta\n",
    "metadata['features_engineering']['encoding_meta'] = {}\n",
    "metadata['features_engineering']['encoding_meta']['insured_hobbies'] = bins_label_var"
   ]
  },
  {
   "cell_type": "code",
   "execution_count": 50,
   "metadata": {},
   "outputs": [],
   "source": [
    "X_train['insured_hobbies'] = X_train['insured_hobbies'].map(bins_label_var)\n",
    "X_test['insured_hobbies'] = X_test['insured_hobbies'].map(bins_label_var)"
   ]
  },
  {
   "cell_type": "markdown",
   "metadata": {},
   "source": [
    "#### Create Dummies"
   ]
  },
  {
   "cell_type": "code",
   "execution_count": 51,
   "metadata": {},
   "outputs": [],
   "source": [
    "metadata['features_engineering']['dummies_meta'] = {}\n",
    "for var in nominal_predictors:\n",
    "    cat_names = list(X_train[var].unique())\n",
    "    metadata['features_engineering']['dummies_meta'][var] = cat_names"
   ]
  },
  {
   "cell_type": "code",
   "execution_count": 52,
   "metadata": {},
   "outputs": [],
   "source": [
    "# Dummies\n",
    "X_train = pd.get_dummies(X_train, columns=nominal_predictors)\n",
    "X_test = pd.get_dummies(X_test, columns=nominal_predictors)"
   ]
  },
  {
   "cell_type": "markdown",
   "metadata": {},
   "source": [
    "#### Ordinal"
   ]
  },
  {
   "cell_type": "code",
   "execution_count": 53,
   "metadata": {},
   "outputs": [],
   "source": [
    "ord_var_labels = {col: [str(l) for l in X_train[col].unique()] for col in ordinal_predictors}"
   ]
  },
  {
   "cell_type": "markdown",
   "metadata": {},
   "source": [
    "#### incident_severity"
   ]
  },
  {
   "cell_type": "code",
   "execution_count": 54,
   "metadata": {},
   "outputs": [],
   "source": [
    "# Encoded variables\n",
    "metadata['features_engineering']['encode_variables'].append('incident_severity')"
   ]
  },
  {
   "cell_type": "code",
   "execution_count": 55,
   "metadata": {},
   "outputs": [],
   "source": [
    "categories = pd.Categorical(X_train[ordinal_predictors]['incident_severity'],\n",
    "                                  categories=['Trivial Damage',\n",
    "                                              'Minor Damage',\n",
    "                                              'Major Damage',\n",
    "                                              'Total Loss'],\n",
    "                                  ordered=True)\n",
    "labels, unique = pd.factorize(categories, sort=True)\n",
    "labels_code_dic = {label: index.tolist() for index, label in zip(list(set(labels)), unique)}    "
   ]
  },
  {
   "cell_type": "code",
   "execution_count": 56,
   "metadata": {},
   "outputs": [],
   "source": [
    "# Encoding meta\n",
    "metadata['features_engineering']['encoding_meta']['incident_severity'] = labels_code_dic"
   ]
  },
  {
   "cell_type": "code",
   "execution_count": 57,
   "metadata": {},
   "outputs": [],
   "source": [
    "X_train['incident_severity'] = labels"
   ]
  },
  {
   "cell_type": "code",
   "execution_count": 58,
   "metadata": {},
   "outputs": [
    {
     "name": "stdout",
     "output_type": "stream",
     "text": [
      "incident_severity : [1 2 3 0]\n"
     ]
    }
   ],
   "source": [
    "print('incident_severity', ':', X_train['incident_severity'].unique())"
   ]
  },
  {
   "cell_type": "code",
   "execution_count": 59,
   "metadata": {},
   "outputs": [],
   "source": [
    "categories = pd.Categorical(X_test[ordinal_predictors]['incident_severity'],\n",
    "                                  categories=['Trivial Damage',\n",
    "                                              'Minor Damage',\n",
    "                                              'Major Damage',\n",
    "                                              'Total Loss'],\n",
    "                                  ordered=True)\n",
    "labels, unique = pd.factorize(categories, sort=True)"
   ]
  },
  {
   "cell_type": "code",
   "execution_count": 60,
   "metadata": {},
   "outputs": [],
   "source": [
    "X_test['incident_severity'] = labels"
   ]
  },
  {
   "cell_type": "code",
   "execution_count": 61,
   "metadata": {},
   "outputs": [
    {
     "name": "stdout",
     "output_type": "stream",
     "text": [
      "incident_severity : [3 1 2 0]\n"
     ]
    }
   ],
   "source": [
    "print('incident_severity', ':', X_test['incident_severity'].unique())"
   ]
  },
  {
   "cell_type": "markdown",
   "metadata": {},
   "source": [
    "#### policy_annual_premium_groups"
   ]
  },
  {
   "cell_type": "code",
   "execution_count": 62,
   "metadata": {},
   "outputs": [],
   "source": [
    "# Encoded variables\n",
    "metadata['features_engineering']['encode_variables'].append('policy_annual_premium_groups')"
   ]
  },
  {
   "cell_type": "code",
   "execution_count": 63,
   "metadata": {},
   "outputs": [],
   "source": [
    "categories = pd.Categorical(X_train[ordinal_predictors]['policy_annual_premium_groups'],\n",
    "                                          categories=['very low',\n",
    "                                                  'low',\n",
    "                                                  'medium',\n",
    "                                                  'high',\n",
    "                                                  'very high'],\n",
    "                                          ordered=True)\n",
    "\n",
    "labels, unique = pd.factorize(categories, sort=True)\n",
    "labels_code_dic = {label: index.tolist() for index, label in zip(list(set(labels)), unique)}    "
   ]
  },
  {
   "cell_type": "code",
   "execution_count": 64,
   "metadata": {},
   "outputs": [],
   "source": [
    "# Encoding meta\n",
    "metadata['features_engineering']['encoding_meta']['policy_annual_premium_groups'] = labels_code_dic"
   ]
  },
  {
   "cell_type": "code",
   "execution_count": 65,
   "metadata": {},
   "outputs": [],
   "source": [
    "X_train['policy_annual_premium_groups'] = labels"
   ]
  },
  {
   "cell_type": "code",
   "execution_count": 66,
   "metadata": {},
   "outputs": [
    {
     "name": "stdout",
     "output_type": "stream",
     "text": [
      "policy_annual_premium_groups : [2 1 3 0 4]\n"
     ]
    }
   ],
   "source": [
    "print('policy_annual_premium_groups', ':', X_train['policy_annual_premium_groups'].unique())"
   ]
  },
  {
   "cell_type": "code",
   "execution_count": 67,
   "metadata": {},
   "outputs": [],
   "source": [
    "categories = pd.Categorical(X_test[ordinal_predictors]['policy_annual_premium_groups'],\n",
    "                                          categories=['very low',\n",
    "                                                  'low',\n",
    "                                                  'medium',\n",
    "                                                  'high',\n",
    "                                                  'very high'],\n",
    "                                          ordered=True)\n",
    "\n",
    "labels, unique = pd.factorize(categories, sort=True)"
   ]
  },
  {
   "cell_type": "code",
   "execution_count": 68,
   "metadata": {},
   "outputs": [],
   "source": [
    "X_test['policy_annual_premium_groups'] = labels"
   ]
  },
  {
   "cell_type": "code",
   "execution_count": 69,
   "metadata": {},
   "outputs": [
    {
     "name": "stdout",
     "output_type": "stream",
     "text": [
      "policy_annual_premium_groups : [1 2 0]\n"
     ]
    }
   ],
   "source": [
    "print('policy_annual_premium_groups', ':', X_test['policy_annual_premium_groups'].unique())"
   ]
  },
  {
   "cell_type": "markdown",
   "metadata": {},
   "source": [
    "#### policy_deductable_groups"
   ]
  },
  {
   "cell_type": "code",
   "execution_count": 70,
   "metadata": {},
   "outputs": [],
   "source": [
    "# Encoded variables\n",
    "metadata['features_engineering']['encode_variables'].append('policy_deductable_groups')"
   ]
  },
  {
   "cell_type": "code",
   "execution_count": 71,
   "metadata": {},
   "outputs": [],
   "source": [
    "categories = pd.Categorical(X_train[ordinal_predictors]['policy_deductable_groups'],\n",
    "                               categories=['0-500', '501-1000', '1001-1500', '1501-2000'],\n",
    "                               ordered=True)\n",
    "\n",
    "labels, unique = pd.factorize(categories, sort=True)\n",
    "labels_code_dic = {label: index.tolist() for index, label in zip(list(set(labels)), unique)}    "
   ]
  },
  {
   "cell_type": "code",
   "execution_count": 72,
   "metadata": {},
   "outputs": [],
   "source": [
    "# Encoding meta\n",
    "metadata['features_engineering']['encoding_meta']['policy_deductable_groups'] = labels_code_dic"
   ]
  },
  {
   "cell_type": "code",
   "execution_count": 73,
   "metadata": {},
   "outputs": [],
   "source": [
    "X_train['policy_deductable_groups'] = labels"
   ]
  },
  {
   "cell_type": "code",
   "execution_count": 74,
   "metadata": {},
   "outputs": [
    {
     "name": "stdout",
     "output_type": "stream",
     "text": [
      "policy_deductable_groups : [0 1 2]\n"
     ]
    }
   ],
   "source": [
    "print('policy_deductable_groups', ':', X_train['policy_deductable_groups'].unique())"
   ]
  },
  {
   "cell_type": "code",
   "execution_count": 75,
   "metadata": {},
   "outputs": [],
   "source": [
    "categories = pd.Categorical(X_test[ordinal_predictors]['policy_deductable_groups'],\n",
    "                               categories=['0-500', '501-1000', '1001-1500', '1501-2000'],\n",
    "                               ordered=True)\n",
    "\n",
    "labels, unique = pd.factorize(categories, sort=True)"
   ]
  },
  {
   "cell_type": "code",
   "execution_count": 76,
   "metadata": {},
   "outputs": [],
   "source": [
    "X_test['policy_deductable_groups'] = labels"
   ]
  },
  {
   "cell_type": "code",
   "execution_count": 77,
   "metadata": {},
   "outputs": [
    {
     "name": "stdout",
     "output_type": "stream",
     "text": [
      "policy_deductable_groups : [1 0 2]\n"
     ]
    }
   ],
   "source": [
    "print('policy_deductable_groups', ':', X_test['policy_deductable_groups'].unique())"
   ]
  },
  {
   "cell_type": "markdown",
   "metadata": {},
   "source": [
    "### Feature Scaling"
   ]
  },
  {
   "cell_type": "code",
   "execution_count": 78,
   "metadata": {},
   "outputs": [],
   "source": [
    "features = [col for col in X_train.columns if col != 'fraud_reported']\n",
    "metadata['features_engineering']['features'] = features"
   ]
  },
  {
   "cell_type": "code",
   "execution_count": 79,
   "metadata": {},
   "outputs": [],
   "source": [
    "# create scaler\n",
    "scaler = MinMaxScaler()\n",
    "\n",
    "#  fit the scaler to the train set\n",
    "scaler.fit(X_train[features]) \n",
    "\n",
    "# transform the train and test set\n",
    "X_train[features] = scaler.transform(X_train[features])\n",
    "X_test[features] = scaler.transform(X_test[features])"
   ]
  },
  {
   "cell_type": "code",
   "execution_count": 80,
   "metadata": {},
   "outputs": [],
   "source": [
    "metadata['features_engineering']['scaler_path'] = 'TOFILL'"
   ]
  },
  {
   "cell_type": "markdown",
   "metadata": {},
   "source": [
    "### Selected features"
   ]
  },
  {
   "cell_type": "code",
   "execution_count": 81,
   "metadata": {},
   "outputs": [
    {
     "name": "stdout",
     "output_type": "stream",
     "text": [
      "Number of features:  13\n",
      "\n",
      " ['bodily_injuries', 'capital_gains', 'capital_loss', 'incident_hour_of_the_day', 'incident_severity', 'insured_hobbies_chess', 'insured_hobbies_cross-fit', 'insured_hobbies_others', 'policy_annual_premium_groups', 'policy_deductable_groups', 'total_claim_amount', 'umbrella_limit', 'witnesses']\n"
     ]
    }
   ],
   "source": [
    "# load selected features\n",
    "features_selected = pd.read_csv(processed + 'selected_features.csv', names=['features'])\n",
    "features_selected = list(features_selected['features'])\n",
    "\n",
    "print('Number of features: ', len(features_selected))\n",
    "print('\\n', sorted(features_selected))\n",
    "\n",
    "metadata['features_engineering']['features_selected'] = sorted(features_selected)"
   ]
  },
  {
   "cell_type": "code",
   "execution_count": 82,
   "metadata": {},
   "outputs": [],
   "source": [
    "X_train = X_train[features_selected]\n",
    "X_test = X_test[features_selected]"
   ]
  },
  {
   "cell_type": "code",
   "execution_count": 83,
   "metadata": {},
   "outputs": [
    {
     "name": "stdout",
     "output_type": "stream",
     "text": [
      "(899, 13) (899,)\n",
      "(100, 13) (100,)\n"
     ]
    }
   ],
   "source": [
    "print(X_train.shape, y_train.shape)\n",
    "print(X_test.shape, y_test.shape)"
   ]
  },
  {
   "cell_type": "markdown",
   "metadata": {},
   "source": [
    "### Balancing"
   ]
  },
  {
   "cell_type": "code",
   "execution_count": 84,
   "metadata": {},
   "outputs": [],
   "source": [
    "smote = SMOTE(random_state=9)\n",
    "metadata['features_engineering']['random_sample_smote'] = 9"
   ]
  },
  {
   "cell_type": "code",
   "execution_count": 85,
   "metadata": {},
   "outputs": [],
   "source": [
    "X_train, y_train = smote.fit_resample(X_train, y_train)"
   ]
  },
  {
   "cell_type": "code",
   "execution_count": 86,
   "metadata": {},
   "outputs": [
    {
     "name": "stdout",
     "output_type": "stream",
     "text": [
      "1    0.5\n",
      "0    0.5\n",
      "Name: fraud_reported, dtype: float64 \n",
      "\n"
     ]
    }
   ],
   "source": [
    "print(y_train.value_counts()/len(y_train), '\\n')"
   ]
  },
  {
   "cell_type": "markdown",
   "metadata": {},
   "source": [
    "## Model Training: Random Forest"
   ]
  },
  {
   "cell_type": "code",
   "execution_count": 87,
   "metadata": {},
   "outputs": [],
   "source": [
    "metadata['model_training']={}\n",
    "metadata['model_training']['model_path'] = 'TOFILL'\n",
    "metadata['model_training']['RandomForestClassifier'] = {}"
   ]
  },
  {
   "cell_type": "code",
   "execution_count": 88,
   "metadata": {},
   "outputs": [],
   "source": [
    "metadata['model_training']['RandomForestClassifier']['max_depth'] = 25\n",
    "metadata['model_training']['RandomForestClassifier']['min_samples_split'] = 5\n",
    "metadata['model_training']['RandomForestClassifier']['n_estimators'] = 300\n",
    "metadata['model_training']['RandomForestClassifier']['random_state'] = 8"
   ]
  },
  {
   "cell_type": "code",
   "execution_count": 89,
   "metadata": {},
   "outputs": [
    {
     "name": "stdout",
     "output_type": "stream",
     "text": [
      "********************\n",
      "**Model Assessment**\n",
      "********************\n",
      "score: 0.85\n",
      "\n",
      "Classification report\n",
      "              precision    recall  f1-score   support\n",
      "\n",
      "           0       0.96      0.85      0.90        79\n",
      "           1       0.60      0.86      0.71        21\n",
      "\n",
      "    accuracy                           0.85       100\n",
      "   macro avg       0.78      0.85      0.80       100\n",
      "weighted avg       0.88      0.85      0.86       100\n",
      "\n",
      "\n",
      "Confusion Matrix\n"
     ]
    },
    {
     "data": {
      "image/png": "[encoded data removed]",
      "text/plain": [
       "<Figure size 432x288 with 1 Axes>"
      ]
     },
     "metadata": {
      "needs_background": "light"
     },
     "output_type": "display_data"
    }
   ],
   "source": [
    "rfor = RandomForestClassifier(max_depth=25, min_samples_split=5, n_estimators=300,\n",
    "                       random_state=8)\n",
    "\n",
    "rfor.fit(X_train, y_train)\n",
    "predictions = rfor.predict(X_test)\n",
    "\n",
    "print(\"*\"*20)\n",
    "print(\"Model Assessment\".center(20, '*'))\n",
    "print(\"*\"*20)\n",
    "\n",
    "print('score: {}'.format(round(rfor.score(X_test, y_test), 3)))\n",
    "print()\n",
    "\n",
    "print('Classification report')\n",
    "print(classification_report(y_test, predictions))\n",
    "\n",
    "print()\n",
    "\n",
    "print('Confusion Matrix')\n",
    "conf_matrix = confusion_matrix(predictions, y_test)\n",
    "plot_confusion_matrix(conf_matrix);"
   ]
  },
  {
   "cell_type": "markdown",
   "metadata": {},
   "source": [
    "## Final predictions"
   ]
  },
  {
   "cell_type": "code",
   "execution_count": 90,
   "metadata": {},
   "outputs": [
    {
     "name": "stdout",
     "output_type": "stream",
     "text": [
      "predict [0]\n"
     ]
    }
   ],
   "source": [
    "print(\"predict\", rfor.predict(X_train[:1]))\n",
    "# print(\"predict_proba\", rfor.predict_proba(X[:1]))"
   ]
  },
  {
   "cell_type": "markdown",
   "metadata": {},
   "source": [
    "## Model Persistence: Pickle"
   ]
  },
  {
   "cell_type": "code",
   "execution_count": 91,
   "metadata": {},
   "outputs": [
    {
     "data": {
      "text/plain": [
       "['../models/rf_champion.joblib']"
      ]
     },
     "execution_count": 91,
     "metadata": {},
     "output_type": "execute_result"
    }
   ],
   "source": [
    "joblib.dump(rfor, models + 'rf_champion.joblib')"
   ]
  },
  {
   "cell_type": "code",
   "execution_count": 92,
   "metadata": {},
   "outputs": [],
   "source": [
    "rfor_test = joblib.load(models + 'rf_champion.joblib') "
   ]
  },
  {
   "cell_type": "code",
   "execution_count": 93,
   "metadata": {},
   "outputs": [
    {
     "name": "stdout",
     "output_type": "stream",
     "text": [
      "predict [0]\n"
     ]
    }
   ],
   "source": [
    "print('predict', rfor_test.predict(X_train[:1]))"
   ]
  },
  {
   "cell_type": "markdown",
   "metadata": {},
   "source": [
    "<!-- ### Convert into ONNX format //-->"
   ]
  },
  {
   "cell_type": "markdown",
   "metadata": {},
   "source": [
    "<!--\n",
    "# Tell ONNX features of the model\n",
    "initial_type = [('features_input', DoubleTensorType([1, X_train.shape[1]]))]\n",
    "\n",
    "# Convert the trained model to an ONNX format.\n",
    "onnx = convert_sklearn(rfor, name='rf_champion', initial_types=initial_type)\n",
    "\n",
    "# Save your model locally\n",
    "with open(models + \"rf_champion.onnx\", \"wb\") as f:\n",
    "    f.write(onnx.SerializeToString())\n",
    "//-->"
   ]
  },
  {
   "cell_type": "markdown",
   "metadata": {},
   "source": [
    "<!-- ### Draw the Model //-->"
   ]
  },
  {
   "cell_type": "markdown",
   "metadata": {},
   "source": [
    "<!--\n",
    "pydot_graph = GetPydotGraph(\n",
    "    onnx.graph, name=onnx.graph.name, rankdir=\"TB\",\n",
    "    node_producer=GetOpNodeProducer(\n",
    "        \"docstring\", color=\"yellow\",\n",
    "        fillcolor=\"yellow\", style=\"filled\"))\n",
    "pydot_graph.write_dot(reports + \"rfor_onnx_schema.dot\")\n",
    "\n",
    "//-->"
   ]
  },
  {
   "cell_type": "markdown",
   "metadata": {},
   "source": [
    "<!--\n",
    "\n",
    "os.system('dot -O -Gdpi=300 -Tpng ../reports/rfor_onnx_schema.dot')\n",
    "\n",
    "image = plt.imread(reports + \"rfor_onnx_schema.dot.png\")\n",
    "fig, ax = plt.subplots(figsize=(20, 10))\n",
    "ax.imshow(image)\n",
    "ax.axis('off')\n",
    "\n",
    "//-->"
   ]
  },
  {
   "cell_type": "markdown",
   "metadata": {},
   "source": [
    "<!--\n",
    "# setup runtime and load model\n",
    "sess = rt.InferenceSession(models + \"rf_champion.onnx\")\n",
    "\n",
    "# get model metadata for scoring\n",
    "input_name = sess.get_inputs()[0].name\n",
    "label_name = sess.get_outputs()[0].name\n",
    "\n",
    "score_me = np.array(X_train[:1], dtype=np.float64)\n",
    "# predictions\n",
    "predictions_onnx = sess.run([label_name], {input_name: score_me})\n",
    "//-->"
   ]
  },
  {
   "cell_type": "markdown",
   "metadata": {},
   "source": [
    "<!--\n",
    "print(\"predict\", predictions_onnx[0])\n",
    "# print(\"predict_proba\", predictions_onnx[][:1])\n",
    "//-->"
   ]
  },
  {
   "cell_type": "markdown",
   "metadata": {},
   "source": [
    "That is all for this notebook.\n",
    "\n",
    "**Move on productionalizing this model for model deployment**."
   ]
  },
  {
   "cell_type": "code",
   "execution_count": 94,
   "metadata": {},
   "outputs": [
    {
     "data": {
      "text/plain": [
       "{'data_ingestion': {'data_path': 'TOFILL',\n",
       "  'data_map': {'target': 'fraud_reported',\n",
       "   'variables': ['months_as_customer',\n",
       "    'age',\n",
       "    'policy_number',\n",
       "    'policy_bind_date',\n",
       "    'policy_state',\n",
       "    'policy_csl',\n",
       "    'policy_deductable',\n",
       "    'policy_annual_premium',\n",
       "    'umbrella_limit',\n",
       "    'insured_zip',\n",
       "    'insured_sex',\n",
       "    'insured_education_level',\n",
       "    'insured_occupation',\n",
       "    'insured_hobbies',\n",
       "    'insured_relationship',\n",
       "    'capital-gains',\n",
       "    'capital-loss',\n",
       "    'incident_date',\n",
       "    'incident_type',\n",
       "    'collision_type',\n",
       "    'incident_severity',\n",
       "    'authorities_contacted',\n",
       "    'incident_state',\n",
       "    'incident_city',\n",
       "    'incident_location',\n",
       "    'incident_hour_of_the_day',\n",
       "    'number_of_vehicles_involved',\n",
       "    'property_damage',\n",
       "    'bodily_injuries',\n",
       "    'witnesses',\n",
       "    'police_report_available',\n",
       "    'total_claim_amount',\n",
       "    'injury_claim',\n",
       "    'property_claim',\n",
       "    'vehicle_claim',\n",
       "    'auto_make',\n",
       "    'auto_model',\n",
       "    'auto_year',\n",
       "    '_c39']}},\n",
       " 'preprocessing': {'dropped_columns': ['policy_number',\n",
       "   'policy_bind_date',\n",
       "   'policy_state',\n",
       "   'policy_csl',\n",
       "   'insured_zip',\n",
       "   'insured_occupation',\n",
       "   'incident_date',\n",
       "   'insured_education_level',\n",
       "   'insured_relationship',\n",
       "   'injury_claim',\n",
       "   'property_claim',\n",
       "   'vehicle_claim',\n",
       "   'incident_state',\n",
       "   'incident_city',\n",
       "   'incident_location',\n",
       "   'auto_model',\n",
       "   'auto_make',\n",
       "   'auto_year',\n",
       "   '_c39'],\n",
       "  'renamed_columns': {'capital-gains': 'capital_gains',\n",
       "   'capital-loss': 'capital_loss'},\n",
       "  'predictors': ['months_as_customer',\n",
       "   'age',\n",
       "   'policy_deductable',\n",
       "   'policy_annual_premium',\n",
       "   'umbrella_limit',\n",
       "   'insured_sex',\n",
       "   'insured_hobbies',\n",
       "   'capital_gains',\n",
       "   'capital_loss',\n",
       "   'incident_type',\n",
       "   'collision_type',\n",
       "   'incident_severity',\n",
       "   'authorities_contacted',\n",
       "   'incident_hour_of_the_day',\n",
       "   'number_of_vehicles_involved',\n",
       "   'property_damage',\n",
       "   'bodily_injuries',\n",
       "   'witnesses',\n",
       "   'police_report_available',\n",
       "   'total_claim_amount'],\n",
       "  'missing_predictors': ['collision_type',\n",
       "   'property_damage',\n",
       "   'police_report_available'],\n",
       "  'train_test_split_params': {'test_size': 0.1, 'random_state': 1}},\n",
       " 'features_engineering': {'target_encoding': {'N': 0, 'Y': 1},\n",
       "  'numerical_predictors': ['months_as_customer',\n",
       "   'age',\n",
       "   'policy_deductable',\n",
       "   'policy_annual_premium',\n",
       "   'umbrella_limit',\n",
       "   'capital_gains',\n",
       "   'capital_loss',\n",
       "   'incident_hour_of_the_day',\n",
       "   'number_of_vehicles_involved',\n",
       "   'bodily_injuries',\n",
       "   'witnesses',\n",
       "   'total_claim_amount'],\n",
       "  'discrete_predictors': ['policy_deductable',\n",
       "   'umbrella_limit',\n",
       "   'incident_hour_of_the_day',\n",
       "   'number_of_vehicles_involved',\n",
       "   'bodily_injuries',\n",
       "   'witnesses'],\n",
       "  'continuous_predictors': ['months_as_customer',\n",
       "   'age',\n",
       "   'policy_annual_premium',\n",
       "   'capital_gains',\n",
       "   'capital_loss',\n",
       "   'total_claim_amount'],\n",
       "  'binned_variables': ['policy_deductable',\n",
       "   'age',\n",
       "   'policy_annual_premium',\n",
       "   'months_as_customer'],\n",
       "  'binning_meta': {'policy_deductable': {'var_name': 'policy_deductable_groups',\n",
       "    'bins': [0, 500, 1000, 1500, 2000],\n",
       "    'bins_labels': ['0-500', '501-1000', '1001-1500', '1501-2000']},\n",
       "   'age': {'var_name': 'age_groups',\n",
       "    'bins': [15, 20, 25, 30, 35, 40, 45, 50, 55, 60, 65],\n",
       "    'bins_labels': ['15-20',\n",
       "     '21-25',\n",
       "     '26-30',\n",
       "     '31-35',\n",
       "     '36-40',\n",
       "     '41-45',\n",
       "     '46-50',\n",
       "     '51-55',\n",
       "     '56-60',\n",
       "     '61-65']},\n",
       "   'policy_annual_premium': {'var_name': 'policy_annual_premium_groups',\n",
       "    'bins': [0, 500, 1000, 1500, 2000, 2500],\n",
       "    'bins_labels': ['very low', 'low', 'medium', 'high', 'very high']},\n",
       "   'months_as_customer': {'var_name': 'months_as_customer_groups',\n",
       "    'bins': [0, 50, 100, 150, 200, 250, 300, 350, 400, 450, 500],\n",
       "    'bins_labels': ['0-50',\n",
       "     '51-100',\n",
       "     '101-150',\n",
       "     '151-200',\n",
       "     '201-250',\n",
       "     '251-300',\n",
       "     '301-350',\n",
       "     '351-400',\n",
       "     '401-450',\n",
       "     '451-500']}},\n",
       "  'categorical_predictors': ['insured_sex',\n",
       "   'insured_hobbies',\n",
       "   'incident_type',\n",
       "   'collision_type',\n",
       "   'incident_severity',\n",
       "   'authorities_contacted',\n",
       "   'property_damage',\n",
       "   'police_report_available',\n",
       "   'policy_deductable_groups',\n",
       "   'age_groups',\n",
       "   'policy_annual_premium_groups',\n",
       "   'months_as_customer_groups'],\n",
       "  'ordinal_predictors': ['incident_severity',\n",
       "   'policy_annual_premium_groups',\n",
       "   'policy_deductable_groups'],\n",
       "  'nominal_predictors': ['insured_sex',\n",
       "   'insured_hobbies',\n",
       "   'incident_type',\n",
       "   'collision_type',\n",
       "   'authorities_contacted',\n",
       "   'property_damage',\n",
       "   'police_report_available',\n",
       "   'age_groups',\n",
       "   'months_as_customer_groups'],\n",
       "  'encode_variables': ['insured_hobbies',\n",
       "   'incident_severity',\n",
       "   'policy_annual_premium_groups',\n",
       "   'policy_deductable_groups'],\n",
       "  'encoding_meta': {'insured_hobbies': {'sleeping': 'others',\n",
       "    'bungie-jumping': 'others',\n",
       "    'chess': 'chess',\n",
       "    'exercise': 'others',\n",
       "    'kayaking': 'others',\n",
       "    'video-games': 'others',\n",
       "    'hiking': 'others',\n",
       "    'golf': 'others',\n",
       "    'movies': 'others',\n",
       "    'cross-fit': 'cross-fit',\n",
       "    'board-games': 'others',\n",
       "    'base-jumping': 'others',\n",
       "    'basketball': 'others',\n",
       "    'skydiving': 'others',\n",
       "    'yachting': 'others',\n",
       "    'paintball': 'others',\n",
       "    'polo': 'others',\n",
       "    'reading': 'others',\n",
       "    'dancing': 'others',\n",
       "    'camping': 'others'},\n",
       "   'incident_severity': {'Trivial Damage': 0,\n",
       "    'Minor Damage': 1,\n",
       "    'Major Damage': 2,\n",
       "    'Total Loss': 3},\n",
       "   'policy_annual_premium_groups': {'very low': 0,\n",
       "    'low': 1,\n",
       "    'medium': 2,\n",
       "    'high': 3,\n",
       "    'very high': 4},\n",
       "   'policy_deductable_groups': {'0-500': 0, '501-1000': 1, '1501-2000': 2}},\n",
       "  'dummies_meta': {'insured_sex': ['MALE', 'FEMALE'],\n",
       "   'insured_hobbies': ['others', 'chess', 'cross-fit'],\n",
       "   'incident_type': ['Multi-vehicle Collision',\n",
       "    'Parked Car',\n",
       "    'Single Vehicle Collision',\n",
       "    'Vehicle Theft'],\n",
       "   'collision_type': ['Side Collision',\n",
       "    'missing',\n",
       "    'Rear Collision',\n",
       "    'Front Collision'],\n",
       "   'authorities_contacted': ['Fire', 'None', 'Ambulance', 'Police', 'Other'],\n",
       "   'property_damage': ['NO', 'YES', 'missing'],\n",
       "   'police_report_available': ['NO', 'YES', 'missing'],\n",
       "   'age_groups': ['36-40',\n",
       "    '31-35',\n",
       "    '41-45',\n",
       "    '61-65',\n",
       "    '56-60',\n",
       "    '26-30',\n",
       "    '46-50',\n",
       "    '51-55',\n",
       "    '21-25',\n",
       "    '15-20'],\n",
       "   'months_as_customer_groups': ['151-200',\n",
       "    '101-150',\n",
       "    '251-300',\n",
       "    '451-500',\n",
       "    '0-50',\n",
       "    '201-250',\n",
       "    '51-100',\n",
       "    '301-350',\n",
       "    '401-450',\n",
       "    '351-400']},\n",
       "  'features': ['umbrella_limit',\n",
       "   'capital_gains',\n",
       "   'capital_loss',\n",
       "   'incident_severity',\n",
       "   'incident_hour_of_the_day',\n",
       "   'number_of_vehicles_involved',\n",
       "   'bodily_injuries',\n",
       "   'witnesses',\n",
       "   'total_claim_amount',\n",
       "   'policy_deductable_groups',\n",
       "   'policy_annual_premium_groups',\n",
       "   'insured_sex_FEMALE',\n",
       "   'insured_sex_MALE',\n",
       "   'insured_hobbies_chess',\n",
       "   'insured_hobbies_cross-fit',\n",
       "   'insured_hobbies_others',\n",
       "   'incident_type_Multi-vehicle Collision',\n",
       "   'incident_type_Parked Car',\n",
       "   'incident_type_Single Vehicle Collision',\n",
       "   'incident_type_Vehicle Theft',\n",
       "   'collision_type_Front Collision',\n",
       "   'collision_type_Rear Collision',\n",
       "   'collision_type_Side Collision',\n",
       "   'collision_type_missing',\n",
       "   'authorities_contacted_Ambulance',\n",
       "   'authorities_contacted_Fire',\n",
       "   'authorities_contacted_None',\n",
       "   'authorities_contacted_Other',\n",
       "   'authorities_contacted_Police',\n",
       "   'property_damage_NO',\n",
       "   'property_damage_YES',\n",
       "   'property_damage_missing',\n",
       "   'police_report_available_NO',\n",
       "   'police_report_available_YES',\n",
       "   'police_report_available_missing',\n",
       "   'age_groups_15-20',\n",
       "   'age_groups_21-25',\n",
       "   'age_groups_26-30',\n",
       "   'age_groups_31-35',\n",
       "   'age_groups_36-40',\n",
       "   'age_groups_41-45',\n",
       "   'age_groups_46-50',\n",
       "   'age_groups_51-55',\n",
       "   'age_groups_56-60',\n",
       "   'age_groups_61-65',\n",
       "   'months_as_customer_groups_0-50',\n",
       "   'months_as_customer_groups_51-100',\n",
       "   'months_as_customer_groups_101-150',\n",
       "   'months_as_customer_groups_151-200',\n",
       "   'months_as_customer_groups_201-250',\n",
       "   'months_as_customer_groups_251-300',\n",
       "   'months_as_customer_groups_301-350',\n",
       "   'months_as_customer_groups_351-400',\n",
       "   'months_as_customer_groups_401-450',\n",
       "   'months_as_customer_groups_451-500'],\n",
       "  'scaler_path': 'TOFILL',\n",
       "  'features_selected': ['bodily_injuries',\n",
       "   'capital_gains',\n",
       "   'capital_loss',\n",
       "   'incident_hour_of_the_day',\n",
       "   'incident_severity',\n",
       "   'insured_hobbies_chess',\n",
       "   'insured_hobbies_cross-fit',\n",
       "   'insured_hobbies_others',\n",
       "   'policy_annual_premium_groups',\n",
       "   'policy_deductable_groups',\n",
       "   'total_claim_amount',\n",
       "   'umbrella_limit',\n",
       "   'witnesses'],\n",
       "  'random_sample_smote': 9},\n",
       " 'model_training': {'model_path': 'TOFILL',\n",
       "  'RandomForestClassifier': {'max_depth': 25,\n",
       "   'min_samples_split': 5,\n",
       "   'n_estimators': 300,\n",
       "   'random_state': 8}}}"
      ]
     },
     "execution_count": 94,
     "metadata": {},
     "output_type": "execute_result"
    }
   ],
   "source": [
    "metadata"
   ]
  },
  {
   "cell_type": "code",
   "execution_count": 95,
   "metadata": {},
   "outputs": [],
   "source": [
    "with open(src + 'config.yaml', 'w') as file:\n",
    "    config_file = ruamel.yaml.round_trip_dump(metadata, file, indent=4, default_flow_style=False)\n",
    "file.close()"
   ]
  }
 ],
 "metadata": {
  "kernelspec": {
   "display_name": "Python 3",
   "language": "python",
   "name": "python3"
  },
  "language_info": {
   "codemirror_mode": {
    "name": "ipython",
    "version": 3
   },
   "file_extension": ".py",
   "mimetype": "text/x-python",
   "name": "python",
   "nbconvert_exporter": "python",
   "pygments_lexer": "ipython3",
   "version": "3.6.9"
  },
  "toc": {
   "base_numbering": 1,
   "nav_menu": {},
   "number_sections": true,
   "sideBar": true,
   "skip_h1_title": false,
   "title_cell": "Table of Contents",
   "title_sidebar": "Contents",
   "toc_cell": false,
   "toc_position": {
    "height": "583px",
    "left": "0px",
    "right": "1324px",
    "top": "107px",
    "width": "212px"
   },
   "toc_section_display": "block",
   "toc_window_display": true
  }
 },
 "nbformat": 4,
 "nbformat_minor": 2
}
