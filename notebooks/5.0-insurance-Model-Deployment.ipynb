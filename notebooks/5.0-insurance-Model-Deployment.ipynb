{
 "cells": [
  {
   "cell_type": "markdown",
   "metadata": {},
   "source": [
    "# Insurance Fraud Claims Detection\n",
    "\n",
    "This notebook summarizes the steps I did for building the model and the information I need to put our model in production"
   ]
  },
  {
   "cell_type": "markdown",
   "metadata": {
    "ExecuteTime": {
     "end_time": "2020-06-17T13:32:53.688991Z",
     "start_time": "2020-06-17T13:32:53.680954Z"
    }
   },
   "source": [
    "**Premise: Setting the seed**\n",
    "\n",
    "Because now we have to move the model in production for reproducibility it's important to **set the seed**"
   ]
  },
  {
   "cell_type": "markdown",
   "metadata": {},
   "source": [
    "## Libraries and Environments"
   ]
  },
  {
   "cell_type": "code",
   "execution_count": 1,
   "metadata": {
    "ExecuteTime": {
     "end_time": "2020-06-17T13:44:27.681491Z",
     "start_time": "2020-06-17T13:44:26.851466Z"
    }
   },
   "outputs": [],
   "source": [
    "# Read the data\n",
    "import pandas as pd\n",
    "import numpy as np\n",
    "\n",
    "# Data Science\n",
    "from sklearn.preprocessing import MinMaxScaler\n",
    "from imblearn.over_sampling import SMOTE\n",
    "from sklearn.model_selection import train_test_split\n",
    "from sklearn.ensemble import RandomForestClassifier\n",
    "from sklearn.metrics import classification_report\n",
    "from sklearn.metrics import confusion_matrix\n",
    "from sklearn.model_selection import GridSearchCV\n",
    "from mlxtend.plotting import plot_confusion_matrix\n",
    "import matplotlib.pyplot as plt\n",
    "\n",
    "# Model Deployment\n",
    "from skl2onnx import convert_sklearn\n",
    "from skl2onnx.common.data_types import FloatTensorType\n",
    "import onnxruntime as rt\n",
    "from onnx.tools.net_drawer import GetPydotGraph, GetOpNodeProducer\n",
    "\n",
    "#Utils\n",
    "import os\n",
    "import yaml\n",
    "import ruamel.yaml\n",
    "import sys\n",
    "\n",
    "# Set notebook\n",
    "pd.set_option('display.max_rows', 500)\n",
    "pd.set_option('display.max_columns', 500)\n",
    "pd.set_option('display.width', 1000)\n",
    "import warnings\n",
    "warnings.simplefilter(action='ignore')"
   ]
  },
  {
   "cell_type": "code",
   "execution_count": 2,
   "metadata": {},
   "outputs": [],
   "source": [
    "raw = '../data/raw/insurance_claims.csv'\n",
    "interim = '../data/interim/'\n",
    "processed= '../data/processed/'\n",
    "reports= '../reports/'\n",
    "models= '../models/'\n",
    "src= '../src/procedural_ml_pipe/'"
   ]
  },
  {
   "cell_type": "code",
   "execution_count": 3,
   "metadata": {},
   "outputs": [],
   "source": [
    "keys = ['dropped_columns', 'renamed_columns', 'target', 'predictors', 'missing_predictors', \n",
    "        'numerical_predictors', 'discrete_predictors', 'continuous_predictors',  \n",
    "        'categorical_predictors', 'ordinal_predictors', 'nominal_predictors', 'encode_variables',\n",
    "        'features_selected', 'encoding_meta']\n",
    "\n",
    "metadata = {k:None for k in keys}\n",
    "metadata['encode_variables'] = []\n",
    "metadata['categories_map'] = []\n",
    "metadata['encoding_meta'] = {}"
   ]
  },
  {
   "cell_type": "code",
   "execution_count": 4,
   "metadata": {},
   "outputs": [
    {
     "data": {
      "text/plain": [
       "{'dropped_columns': None,\n",
       " 'renamed_columns': None,\n",
       " 'target': None,\n",
       " 'predictors': None,\n",
       " 'missing_predictors': None,\n",
       " 'numerical_predictors': None,\n",
       " 'discrete_predictors': None,\n",
       " 'continuous_predictors': None,\n",
       " 'categorical_predictors': None,\n",
       " 'ordinal_predictors': None,\n",
       " 'nominal_predictors': None,\n",
       " 'encode_variables': [],\n",
       " 'features_selected': None,\n",
       " 'encoding_meta': {},\n",
       " 'categories_map': []}"
      ]
     },
     "execution_count": 4,
     "metadata": {},
     "output_type": "execute_result"
    }
   ],
   "source": [
    "metadata"
   ]
  },
  {
   "cell_type": "markdown",
   "metadata": {},
   "source": [
    "## Data Preparation"
   ]
  },
  {
   "cell_type": "code",
   "execution_count": 5,
   "metadata": {},
   "outputs": [
    {
     "name": "stdout",
     "output_type": "stream",
     "text": [
      "(1000, 40)\n"
     ]
    },
    {
     "data": {
      "text/html": [
       "<div>\n",
       "<style scoped>\n",
       "    .dataframe tbody tr th:only-of-type {\n",
       "        vertical-align: middle;\n",
       "    }\n",
       "\n",
       "    .dataframe tbody tr th {\n",
       "        vertical-align: top;\n",
       "    }\n",
       "\n",
       "    .dataframe thead th {\n",
       "        text-align: right;\n",
       "    }\n",
       "</style>\n",
       "<table border=\"1\" class=\"dataframe\">\n",
       "  <thead>\n",
       "    <tr style=\"text-align: right;\">\n",
       "      <th></th>\n",
       "      <th>months_as_customer</th>\n",
       "      <th>age</th>\n",
       "      <th>policy_number</th>\n",
       "      <th>policy_bind_date</th>\n",
       "      <th>policy_state</th>\n",
       "      <th>policy_csl</th>\n",
       "      <th>policy_deductable</th>\n",
       "      <th>policy_annual_premium</th>\n",
       "      <th>umbrella_limit</th>\n",
       "      <th>insured_zip</th>\n",
       "      <th>insured_sex</th>\n",
       "      <th>insured_education_level</th>\n",
       "      <th>insured_occupation</th>\n",
       "      <th>insured_hobbies</th>\n",
       "      <th>insured_relationship</th>\n",
       "      <th>capital-gains</th>\n",
       "      <th>capital-loss</th>\n",
       "      <th>incident_date</th>\n",
       "      <th>incident_type</th>\n",
       "      <th>collision_type</th>\n",
       "      <th>incident_severity</th>\n",
       "      <th>authorities_contacted</th>\n",
       "      <th>incident_state</th>\n",
       "      <th>incident_city</th>\n",
       "      <th>incident_location</th>\n",
       "      <th>incident_hour_of_the_day</th>\n",
       "      <th>number_of_vehicles_involved</th>\n",
       "      <th>property_damage</th>\n",
       "      <th>bodily_injuries</th>\n",
       "      <th>witnesses</th>\n",
       "      <th>police_report_available</th>\n",
       "      <th>total_claim_amount</th>\n",
       "      <th>injury_claim</th>\n",
       "      <th>property_claim</th>\n",
       "      <th>vehicle_claim</th>\n",
       "      <th>auto_make</th>\n",
       "      <th>auto_model</th>\n",
       "      <th>auto_year</th>\n",
       "      <th>fraud_reported</th>\n",
       "      <th>_c39</th>\n",
       "    </tr>\n",
       "  </thead>\n",
       "  <tbody>\n",
       "    <tr>\n",
       "      <th>0</th>\n",
       "      <td>328</td>\n",
       "      <td>48</td>\n",
       "      <td>521585</td>\n",
       "      <td>2014-10-17</td>\n",
       "      <td>OH</td>\n",
       "      <td>250/500</td>\n",
       "      <td>1000</td>\n",
       "      <td>1406.91</td>\n",
       "      <td>0</td>\n",
       "      <td>466132</td>\n",
       "      <td>MALE</td>\n",
       "      <td>MD</td>\n",
       "      <td>craft-repair</td>\n",
       "      <td>sleeping</td>\n",
       "      <td>husband</td>\n",
       "      <td>53300</td>\n",
       "      <td>0</td>\n",
       "      <td>2015-01-25</td>\n",
       "      <td>Single Vehicle Collision</td>\n",
       "      <td>Side Collision</td>\n",
       "      <td>Major Damage</td>\n",
       "      <td>Police</td>\n",
       "      <td>SC</td>\n",
       "      <td>Columbus</td>\n",
       "      <td>9935 4th Drive</td>\n",
       "      <td>5</td>\n",
       "      <td>1</td>\n",
       "      <td>YES</td>\n",
       "      <td>1</td>\n",
       "      <td>2</td>\n",
       "      <td>YES</td>\n",
       "      <td>71610</td>\n",
       "      <td>6510</td>\n",
       "      <td>13020</td>\n",
       "      <td>52080</td>\n",
       "      <td>Saab</td>\n",
       "      <td>92x</td>\n",
       "      <td>2004</td>\n",
       "      <td>Y</td>\n",
       "      <td>NaN</td>\n",
       "    </tr>\n",
       "    <tr>\n",
       "      <th>1</th>\n",
       "      <td>228</td>\n",
       "      <td>42</td>\n",
       "      <td>342868</td>\n",
       "      <td>2006-06-27</td>\n",
       "      <td>IN</td>\n",
       "      <td>250/500</td>\n",
       "      <td>2000</td>\n",
       "      <td>1197.22</td>\n",
       "      <td>5000000</td>\n",
       "      <td>468176</td>\n",
       "      <td>MALE</td>\n",
       "      <td>MD</td>\n",
       "      <td>machine-op-inspct</td>\n",
       "      <td>reading</td>\n",
       "      <td>other-relative</td>\n",
       "      <td>0</td>\n",
       "      <td>0</td>\n",
       "      <td>2015-01-21</td>\n",
       "      <td>Vehicle Theft</td>\n",
       "      <td>?</td>\n",
       "      <td>Minor Damage</td>\n",
       "      <td>Police</td>\n",
       "      <td>VA</td>\n",
       "      <td>Riverwood</td>\n",
       "      <td>6608 MLK Hwy</td>\n",
       "      <td>8</td>\n",
       "      <td>1</td>\n",
       "      <td>?</td>\n",
       "      <td>0</td>\n",
       "      <td>0</td>\n",
       "      <td>?</td>\n",
       "      <td>5070</td>\n",
       "      <td>780</td>\n",
       "      <td>780</td>\n",
       "      <td>3510</td>\n",
       "      <td>Mercedes</td>\n",
       "      <td>E400</td>\n",
       "      <td>2007</td>\n",
       "      <td>Y</td>\n",
       "      <td>NaN</td>\n",
       "    </tr>\n",
       "    <tr>\n",
       "      <th>2</th>\n",
       "      <td>134</td>\n",
       "      <td>29</td>\n",
       "      <td>687698</td>\n",
       "      <td>2000-09-06</td>\n",
       "      <td>OH</td>\n",
       "      <td>100/300</td>\n",
       "      <td>2000</td>\n",
       "      <td>1413.14</td>\n",
       "      <td>5000000</td>\n",
       "      <td>430632</td>\n",
       "      <td>FEMALE</td>\n",
       "      <td>PhD</td>\n",
       "      <td>sales</td>\n",
       "      <td>board-games</td>\n",
       "      <td>own-child</td>\n",
       "      <td>35100</td>\n",
       "      <td>0</td>\n",
       "      <td>2015-02-22</td>\n",
       "      <td>Multi-vehicle Collision</td>\n",
       "      <td>Rear Collision</td>\n",
       "      <td>Minor Damage</td>\n",
       "      <td>Police</td>\n",
       "      <td>NY</td>\n",
       "      <td>Columbus</td>\n",
       "      <td>7121 Francis Lane</td>\n",
       "      <td>7</td>\n",
       "      <td>3</td>\n",
       "      <td>NO</td>\n",
       "      <td>2</td>\n",
       "      <td>3</td>\n",
       "      <td>NO</td>\n",
       "      <td>34650</td>\n",
       "      <td>7700</td>\n",
       "      <td>3850</td>\n",
       "      <td>23100</td>\n",
       "      <td>Dodge</td>\n",
       "      <td>RAM</td>\n",
       "      <td>2007</td>\n",
       "      <td>N</td>\n",
       "      <td>NaN</td>\n",
       "    </tr>\n",
       "    <tr>\n",
       "      <th>3</th>\n",
       "      <td>256</td>\n",
       "      <td>41</td>\n",
       "      <td>227811</td>\n",
       "      <td>1990-05-25</td>\n",
       "      <td>IL</td>\n",
       "      <td>250/500</td>\n",
       "      <td>2000</td>\n",
       "      <td>1415.74</td>\n",
       "      <td>6000000</td>\n",
       "      <td>608117</td>\n",
       "      <td>FEMALE</td>\n",
       "      <td>PhD</td>\n",
       "      <td>armed-forces</td>\n",
       "      <td>board-games</td>\n",
       "      <td>unmarried</td>\n",
       "      <td>48900</td>\n",
       "      <td>-62400</td>\n",
       "      <td>2015-01-10</td>\n",
       "      <td>Single Vehicle Collision</td>\n",
       "      <td>Front Collision</td>\n",
       "      <td>Major Damage</td>\n",
       "      <td>Police</td>\n",
       "      <td>OH</td>\n",
       "      <td>Arlington</td>\n",
       "      <td>6956 Maple Drive</td>\n",
       "      <td>5</td>\n",
       "      <td>1</td>\n",
       "      <td>?</td>\n",
       "      <td>1</td>\n",
       "      <td>2</td>\n",
       "      <td>NO</td>\n",
       "      <td>63400</td>\n",
       "      <td>6340</td>\n",
       "      <td>6340</td>\n",
       "      <td>50720</td>\n",
       "      <td>Chevrolet</td>\n",
       "      <td>Tahoe</td>\n",
       "      <td>2014</td>\n",
       "      <td>Y</td>\n",
       "      <td>NaN</td>\n",
       "    </tr>\n",
       "    <tr>\n",
       "      <th>4</th>\n",
       "      <td>228</td>\n",
       "      <td>44</td>\n",
       "      <td>367455</td>\n",
       "      <td>2014-06-06</td>\n",
       "      <td>IL</td>\n",
       "      <td>500/1000</td>\n",
       "      <td>1000</td>\n",
       "      <td>1583.91</td>\n",
       "      <td>6000000</td>\n",
       "      <td>610706</td>\n",
       "      <td>MALE</td>\n",
       "      <td>Associate</td>\n",
       "      <td>sales</td>\n",
       "      <td>board-games</td>\n",
       "      <td>unmarried</td>\n",
       "      <td>66000</td>\n",
       "      <td>-46000</td>\n",
       "      <td>2015-02-17</td>\n",
       "      <td>Vehicle Theft</td>\n",
       "      <td>?</td>\n",
       "      <td>Minor Damage</td>\n",
       "      <td>None</td>\n",
       "      <td>NY</td>\n",
       "      <td>Arlington</td>\n",
       "      <td>3041 3rd Ave</td>\n",
       "      <td>20</td>\n",
       "      <td>1</td>\n",
       "      <td>NO</td>\n",
       "      <td>0</td>\n",
       "      <td>1</td>\n",
       "      <td>NO</td>\n",
       "      <td>6500</td>\n",
       "      <td>1300</td>\n",
       "      <td>650</td>\n",
       "      <td>4550</td>\n",
       "      <td>Accura</td>\n",
       "      <td>RSX</td>\n",
       "      <td>2009</td>\n",
       "      <td>N</td>\n",
       "      <td>NaN</td>\n",
       "    </tr>\n",
       "  </tbody>\n",
       "</table>\n",
       "</div>"
      ],
      "text/plain": [
       "   months_as_customer  age  policy_number policy_bind_date policy_state policy_csl  policy_deductable  policy_annual_premium  umbrella_limit  insured_zip insured_sex insured_education_level insured_occupation insured_hobbies insured_relationship  capital-gains  capital-loss incident_date             incident_type   collision_type incident_severity authorities_contacted incident_state incident_city  incident_location  incident_hour_of_the_day  number_of_vehicles_involved property_damage  bodily_injuries  witnesses police_report_available  total_claim_amount  injury_claim  property_claim  vehicle_claim  auto_make auto_model  auto_year fraud_reported  _c39\n",
       "0                 328   48         521585       2014-10-17           OH    250/500               1000                1406.91               0       466132        MALE                      MD       craft-repair        sleeping              husband          53300             0    2015-01-25  Single Vehicle Collision   Side Collision      Major Damage                Police             SC      Columbus     9935 4th Drive                         5                            1             YES                1          2                     YES               71610          6510           13020          52080       Saab        92x       2004              Y   NaN\n",
       "1                 228   42         342868       2006-06-27           IN    250/500               2000                1197.22         5000000       468176        MALE                      MD  machine-op-inspct         reading       other-relative              0             0    2015-01-21             Vehicle Theft                ?      Minor Damage                Police             VA     Riverwood       6608 MLK Hwy                         8                            1               ?                0          0                       ?                5070           780             780           3510   Mercedes       E400       2007              Y   NaN\n",
       "2                 134   29         687698       2000-09-06           OH    100/300               2000                1413.14         5000000       430632      FEMALE                     PhD              sales     board-games            own-child          35100             0    2015-02-22   Multi-vehicle Collision   Rear Collision      Minor Damage                Police             NY      Columbus  7121 Francis Lane                         7                            3              NO                2          3                      NO               34650          7700            3850          23100      Dodge        RAM       2007              N   NaN\n",
       "3                 256   41         227811       1990-05-25           IL    250/500               2000                1415.74         6000000       608117      FEMALE                     PhD       armed-forces     board-games            unmarried          48900        -62400    2015-01-10  Single Vehicle Collision  Front Collision      Major Damage                Police             OH     Arlington   6956 Maple Drive                         5                            1               ?                1          2                      NO               63400          6340            6340          50720  Chevrolet      Tahoe       2014              Y   NaN\n",
       "4                 228   44         367455       2014-06-06           IL   500/1000               1000                1583.91         6000000       610706        MALE               Associate              sales     board-games            unmarried          66000        -46000    2015-02-17             Vehicle Theft                ?      Minor Damage                  None             NY     Arlington       3041 3rd Ave                        20                            1              NO                0          1                      NO                6500          1300             650           4550     Accura        RSX       2009              N   NaN"
      ]
     },
     "execution_count": 5,
     "metadata": {},
     "output_type": "execute_result"
    }
   ],
   "source": [
    "# load dataset\n",
    "data = pd.read_csv(raw)\n",
    "print(data.shape)\n",
    "data.head()"
   ]
  },
  {
   "cell_type": "markdown",
   "metadata": {},
   "source": [
    "## Variable settings"
   ]
  },
  {
   "cell_type": "code",
   "execution_count": 6,
   "metadata": {},
   "outputs": [],
   "source": [
    "drop = ['policy_number', 'policy_bind_date', 'policy_state', 'policy_csl', \n",
    "        'insured_zip', 'insured_occupation', 'incident_date', \n",
    "        'insured_education_level', 'insured_relationship', 'injury_claim', 'property_claim', 'vehicle_claim', \n",
    "        'incident_state', 'incident_city', 'incident_location', 'auto_model', 'auto_make', 'auto_year', '_c39']\n",
    "\n",
    "metadata['dropped_columns'] = drop\n",
    "\n",
    "data.drop(drop, axis=1, inplace=True)\n",
    "data.rename(columns={\"capital-gains\": \"capital_gains\", \"capital-loss\": \"capital_loss\"}, inplace=True)\n",
    "\n",
    "metadata['renamed_columns'] = {\"capital-gains\": \"capital_gains\", \"capital-loss\": \"capital_loss\"}"
   ]
  },
  {
   "cell_type": "code",
   "execution_count": 7,
   "metadata": {},
   "outputs": [],
   "source": [
    "# general\n",
    "target = 'fraud_reported'\n",
    "predictors = [col for col in data.columns if col not in drop and col != target]\n",
    "\n",
    "metadata['target'] = 'fraud_reported'\n",
    "metadata['predictors'] = predictors"
   ]
  },
  {
   "cell_type": "markdown",
   "metadata": {},
   "source": [
    "## Feature engineering"
   ]
  },
  {
   "cell_type": "markdown",
   "metadata": {},
   "source": [
    "### Engineer Missing"
   ]
  },
  {
   "cell_type": "code",
   "execution_count": 8,
   "metadata": {},
   "outputs": [],
   "source": [
    "# missing\n",
    "missing_predictors = [col for col in data.select_dtypes(include='object').columns if any(data[col].str.contains('?', regex=False))]\n",
    "missing_predictors\n",
    "\n",
    "metadata['missing_predictors'] = missing_predictors"
   ]
  },
  {
   "cell_type": "code",
   "execution_count": 9,
   "metadata": {},
   "outputs": [],
   "source": [
    "data[missing_predictors] = data[missing_predictors].replace('?', 'missing')"
   ]
  },
  {
   "cell_type": "code",
   "execution_count": 10,
   "metadata": {},
   "outputs": [
    {
     "name": "stdout",
     "output_type": "stream",
     "text": [
      "['Side Collision' 'missing' 'Rear Collision' 'Front Collision']\n",
      "['YES' 'missing' 'NO']\n",
      "['YES' 'missing' 'NO']\n"
     ]
    }
   ],
   "source": [
    "for var in missing_predictors:\n",
    "    print(data[var].unique())"
   ]
  },
  {
   "cell_type": "markdown",
   "metadata": {},
   "source": [
    "### Engineer Target"
   ]
  },
  {
   "cell_type": "code",
   "execution_count": 11,
   "metadata": {},
   "outputs": [
    {
     "data": {
      "text/plain": [
       "array(['Y', 'N'], dtype=object)"
      ]
     },
     "execution_count": 11,
     "metadata": {},
     "output_type": "execute_result"
    }
   ],
   "source": [
    "data[target].unique()"
   ]
  },
  {
   "cell_type": "code",
   "execution_count": 12,
   "metadata": {},
   "outputs": [
    {
     "name": "stdout",
     "output_type": "stream",
     "text": [
      "Int64Index([0, 1], dtype='int64')\n"
     ]
    }
   ],
   "source": [
    "metadata['encoding_map'] = {}\n",
    "#Create the list of target labels\n",
    "target_labels = set(data[target])\n",
    "#Create encoding dictionary\n",
    "target_labels_dic = {label: index for index, label in enumerate(target_labels, 0)}\n",
    "#Encode the data\n",
    "data[target] = data[target].map(target_labels_dic).astype('category')\n",
    "\n",
    "print(data[target].cat.categories)"
   ]
  },
  {
   "cell_type": "code",
   "execution_count": 13,
   "metadata": {},
   "outputs": [],
   "source": [
    "metadata['encode_variables'].append(target)\n",
    "encoding_meta = {}\n",
    "encoding_meta['var_name'] = target\n",
    "encoding_meta['values'] = list(target_labels_dic.keys())\n",
    "encoding_meta['values_labels'] = list(target_labels_dic.values())\n",
    "metadata['encoding_meta'][target] = encoding_meta"
   ]
  },
  {
   "cell_type": "markdown",
   "metadata": {},
   "source": [
    "### Engineer Numerical Variables\n",
    "\n",
    "I divided them in: \n",
    "\n",
    "- Discrete variables\n",
    "- Continuous variables\n"
   ]
  },
  {
   "cell_type": "code",
   "execution_count": 14,
   "metadata": {},
   "outputs": [
    {
     "name": "stdout",
     "output_type": "stream",
     "text": [
      "['months_as_customer', 'age', 'policy_deductable', 'policy_annual_premium', 'umbrella_limit', 'capital_gains', 'capital_loss', 'incident_hour_of_the_day', 'number_of_vehicles_involved', 'bodily_injuries', 'witnesses', 'total_claim_amount']\n",
      "\n",
      " ['policy_deductable', 'umbrella_limit', 'incident_hour_of_the_day', 'number_of_vehicles_involved', 'bodily_injuries', 'witnesses']\n",
      "\n",
      " ['months_as_customer', 'age', 'policy_annual_premium', 'capital_gains', 'capital_loss', 'total_claim_amount']\n"
     ]
    }
   ],
   "source": [
    "# numerical\n",
    "numerical_predictors = [col for col in predictors if data[col].dtypes != 'object']\n",
    "discrete_predictors = [col for col in numerical_predictors if len(data[col].unique()) < 30]\n",
    "continuous_predictors = [col for col in numerical_predictors if col not in discrete_predictors]\n",
    "\n",
    "print(numerical_predictors)\n",
    "print('\\n', discrete_predictors)\n",
    "print('\\n', continuous_predictors)\n",
    "\n",
    "metadata['numerical_predictors'] = numerical_predictors\n",
    "metadata['discrete_predictors'] = discrete_predictors\n",
    "metadata['continuous_predictors'] = continuous_predictors"
   ]
  },
  {
   "cell_type": "markdown",
   "metadata": {},
   "source": [
    "#### Discrete Variables"
   ]
  },
  {
   "cell_type": "code",
   "execution_count": 15,
   "metadata": {},
   "outputs": [
    {
     "data": {
      "text/html": [
       "<div>\n",
       "<style scoped>\n",
       "    .dataframe tbody tr th:only-of-type {\n",
       "        vertical-align: middle;\n",
       "    }\n",
       "\n",
       "    .dataframe tbody tr th {\n",
       "        vertical-align: top;\n",
       "    }\n",
       "\n",
       "    .dataframe thead th {\n",
       "        text-align: right;\n",
       "    }\n",
       "</style>\n",
       "<table border=\"1\" class=\"dataframe\">\n",
       "  <thead>\n",
       "    <tr style=\"text-align: right;\">\n",
       "      <th></th>\n",
       "      <th>policy_deductable</th>\n",
       "      <th>umbrella_limit</th>\n",
       "      <th>incident_hour_of_the_day</th>\n",
       "      <th>number_of_vehicles_involved</th>\n",
       "      <th>bodily_injuries</th>\n",
       "      <th>witnesses</th>\n",
       "    </tr>\n",
       "  </thead>\n",
       "  <tbody>\n",
       "    <tr>\n",
       "      <th>0</th>\n",
       "      <td>1000</td>\n",
       "      <td>0</td>\n",
       "      <td>5</td>\n",
       "      <td>1</td>\n",
       "      <td>1</td>\n",
       "      <td>2</td>\n",
       "    </tr>\n",
       "    <tr>\n",
       "      <th>1</th>\n",
       "      <td>2000</td>\n",
       "      <td>5000000</td>\n",
       "      <td>8</td>\n",
       "      <td>1</td>\n",
       "      <td>0</td>\n",
       "      <td>0</td>\n",
       "    </tr>\n",
       "    <tr>\n",
       "      <th>2</th>\n",
       "      <td>2000</td>\n",
       "      <td>5000000</td>\n",
       "      <td>7</td>\n",
       "      <td>3</td>\n",
       "      <td>2</td>\n",
       "      <td>3</td>\n",
       "    </tr>\n",
       "    <tr>\n",
       "      <th>3</th>\n",
       "      <td>2000</td>\n",
       "      <td>6000000</td>\n",
       "      <td>5</td>\n",
       "      <td>1</td>\n",
       "      <td>1</td>\n",
       "      <td>2</td>\n",
       "    </tr>\n",
       "    <tr>\n",
       "      <th>4</th>\n",
       "      <td>1000</td>\n",
       "      <td>6000000</td>\n",
       "      <td>20</td>\n",
       "      <td>1</td>\n",
       "      <td>0</td>\n",
       "      <td>1</td>\n",
       "    </tr>\n",
       "  </tbody>\n",
       "</table>\n",
       "</div>"
      ],
      "text/plain": [
       "   policy_deductable  umbrella_limit  incident_hour_of_the_day  number_of_vehicles_involved  bodily_injuries  witnesses\n",
       "0               1000               0                         5                            1                1          2\n",
       "1               2000         5000000                         8                            1                0          0\n",
       "2               2000         5000000                         7                            3                2          3\n",
       "3               2000         6000000                         5                            1                1          2\n",
       "4               1000         6000000                        20                            1                0          1"
      ]
     },
     "execution_count": 15,
     "metadata": {},
     "output_type": "execute_result"
    }
   ],
   "source": [
    "data[discrete_predictors].head()"
   ]
  },
  {
   "cell_type": "code",
   "execution_count": 16,
   "metadata": {},
   "outputs": [
    {
     "name": "stdout",
     "output_type": "stream",
     "text": [
      "\n",
      " [       0  5000000  6000000  4000000  3000000  8000000  7000000  9000000\n",
      " 10000000  2000000]\n"
     ]
    }
   ],
   "source": [
    "# umbrella\n",
    "data = data[data['umbrella_limit']>=0]\n",
    "print('\\n', data['umbrella_limit'].unique())"
   ]
  },
  {
   "cell_type": "code",
   "execution_count": 17,
   "metadata": {},
   "outputs": [
    {
     "name": "stdout",
     "output_type": "stream",
     "text": [
      "\n",
      " [501-1000, 1501-2000, 0-500]\n",
      "Categories (3, object): [0-500 < 501-1000 < 1501-2000]\n"
     ]
    }
   ],
   "source": [
    "#policy_deductable\n",
    "bins = list(np.linspace(0,2000, 5, dtype = int))\n",
    "bin_labels = ['0-500', '501-1000', '1001-1500', '1501-2000']\n",
    "new_variable_name = \"_\".join(['policy_deductable', 'groups'])\n",
    "data[new_variable_name] = pd.cut(data['policy_deductable'], bins = bins, labels = bin_labels)\n",
    "data.drop('policy_deductable', axis=1, inplace=True)\n",
    "print('\\n', data[new_variable_name].unique())"
   ]
  },
  {
   "cell_type": "code",
   "execution_count": 18,
   "metadata": {},
   "outputs": [],
   "source": [
    "#Encoded variables\n",
    "metadata['encode_variables'].append('policy_deductable')\n",
    "#Encoding Meta\n",
    "encoding_meta = {}\n",
    "encoding_meta['var_name'] = new_variable_name\n",
    "encoding_meta['values'] = bins\n",
    "encoding_meta['values_labels'] = bin_labels\n",
    "metadata['encoding_meta']['policy_deductable'] = encoding_meta"
   ]
  },
  {
   "cell_type": "markdown",
   "metadata": {},
   "source": [
    "#### Continuous variables"
   ]
  },
  {
   "cell_type": "code",
   "execution_count": 19,
   "metadata": {},
   "outputs": [
    {
     "data": {
      "text/html": [
       "<div>\n",
       "<style scoped>\n",
       "    .dataframe tbody tr th:only-of-type {\n",
       "        vertical-align: middle;\n",
       "    }\n",
       "\n",
       "    .dataframe tbody tr th {\n",
       "        vertical-align: top;\n",
       "    }\n",
       "\n",
       "    .dataframe thead th {\n",
       "        text-align: right;\n",
       "    }\n",
       "</style>\n",
       "<table border=\"1\" class=\"dataframe\">\n",
       "  <thead>\n",
       "    <tr style=\"text-align: right;\">\n",
       "      <th></th>\n",
       "      <th>months_as_customer</th>\n",
       "      <th>age</th>\n",
       "      <th>policy_annual_premium</th>\n",
       "      <th>capital_gains</th>\n",
       "      <th>capital_loss</th>\n",
       "      <th>total_claim_amount</th>\n",
       "    </tr>\n",
       "  </thead>\n",
       "  <tbody>\n",
       "    <tr>\n",
       "      <th>0</th>\n",
       "      <td>328</td>\n",
       "      <td>48</td>\n",
       "      <td>1406.91</td>\n",
       "      <td>53300</td>\n",
       "      <td>0</td>\n",
       "      <td>71610</td>\n",
       "    </tr>\n",
       "    <tr>\n",
       "      <th>1</th>\n",
       "      <td>228</td>\n",
       "      <td>42</td>\n",
       "      <td>1197.22</td>\n",
       "      <td>0</td>\n",
       "      <td>0</td>\n",
       "      <td>5070</td>\n",
       "    </tr>\n",
       "    <tr>\n",
       "      <th>2</th>\n",
       "      <td>134</td>\n",
       "      <td>29</td>\n",
       "      <td>1413.14</td>\n",
       "      <td>35100</td>\n",
       "      <td>0</td>\n",
       "      <td>34650</td>\n",
       "    </tr>\n",
       "    <tr>\n",
       "      <th>3</th>\n",
       "      <td>256</td>\n",
       "      <td>41</td>\n",
       "      <td>1415.74</td>\n",
       "      <td>48900</td>\n",
       "      <td>-62400</td>\n",
       "      <td>63400</td>\n",
       "    </tr>\n",
       "    <tr>\n",
       "      <th>4</th>\n",
       "      <td>228</td>\n",
       "      <td>44</td>\n",
       "      <td>1583.91</td>\n",
       "      <td>66000</td>\n",
       "      <td>-46000</td>\n",
       "      <td>6500</td>\n",
       "    </tr>\n",
       "  </tbody>\n",
       "</table>\n",
       "</div>"
      ],
      "text/plain": [
       "   months_as_customer  age  policy_annual_premium  capital_gains  capital_loss  total_claim_amount\n",
       "0                 328   48                1406.91          53300             0               71610\n",
       "1                 228   42                1197.22              0             0                5070\n",
       "2                 134   29                1413.14          35100             0               34650\n",
       "3                 256   41                1415.74          48900        -62400               63400\n",
       "4                 228   44                1583.91          66000        -46000                6500"
      ]
     },
     "execution_count": 19,
     "metadata": {},
     "output_type": "execute_result"
    }
   ],
   "source": [
    "data[continuous_predictors].head()"
   ]
  },
  {
   "cell_type": "code",
   "execution_count": 20,
   "metadata": {},
   "outputs": [
    {
     "name": "stdout",
     "output_type": "stream",
     "text": [
      "\n",
      " [46-50, 41-45, 26-30, 36-40, 31-35, 61-65, 21-25, 56-60, 51-55, 15-20]\n",
      "Categories (10, object): [15-20 < 21-25 < 26-30 < 31-35 ... 46-50 < 51-55 < 56-60 < 61-65]\n"
     ]
    }
   ],
   "source": [
    "#age\n",
    "bin_labels = ['15-20', '21-25', '26-30', '31-35', '36-40', '41-45', '46-50', '51-55', '56-60', '61-65']\n",
    "bins = [15, 20, 25, 30, 35, 40, 45, 50, 55, 60, 65]\n",
    "new_variable_name = \"_\".join(['age', 'groups'])\n",
    "data[new_variable_name] = pd.cut(data['age'], bins = bins, labels = bin_labels, include_lowest = True)\n",
    "data.drop('age', axis=1, inplace=True)\n",
    "print('\\n', data[new_variable_name].unique())"
   ]
  },
  {
   "cell_type": "code",
   "execution_count": 21,
   "metadata": {},
   "outputs": [],
   "source": [
    "# Encoded variables\n",
    "metadata['encode_variables'].append('age')\n",
    "# Encoding meta\n",
    "encoding_meta = {}\n",
    "encoding_meta['var_name'] = new_variable_name\n",
    "encoding_meta['values'] = bins\n",
    "encoding_meta['values_labels'] = bin_labels\n",
    "metadata['encoding_meta']['age'] = encoding_meta"
   ]
  },
  {
   "cell_type": "code",
   "execution_count": 22,
   "metadata": {},
   "outputs": [
    {
     "name": "stdout",
     "output_type": "stream",
     "text": [
      "\n",
      " [medium, high, low, very high, very low]\n",
      "Categories (5, object): [very low < low < medium < high < very high]\n"
     ]
    }
   ],
   "source": [
    "#policy_annual_premium\n",
    "bins = list(np.linspace(0,2500, 6, dtype = int))\n",
    "bin_labels = ['very low', 'low', 'medium', 'high', 'very high']\n",
    "new_variable_name = \"_\".join(['policy_annual_premium', 'groups'])\n",
    "data[new_variable_name] = pd.cut(data['policy_annual_premium'], bins = bins, labels=bin_labels)\n",
    "data.drop('policy_annual_premium', axis=1, inplace=True)\n",
    "print('\\n', data[new_variable_name].unique())"
   ]
  },
  {
   "cell_type": "code",
   "execution_count": 23,
   "metadata": {},
   "outputs": [],
   "source": [
    "# Encoded variables\n",
    "metadata['encode_variables'].append('policy_annual_premium')\n",
    "# Encoding meta\n",
    "encoding_meta = {}\n",
    "encoding_meta['var_name'] = new_variable_name\n",
    "encoding_meta['values'] = bins\n",
    "encoding_meta['values_labels'] = bin_labels\n",
    "metadata['encoding_meta']['policy_annual_premium'] = encoding_meta"
   ]
  },
  {
   "cell_type": "code",
   "execution_count": 24,
   "metadata": {},
   "outputs": [
    {
     "name": "stdout",
     "output_type": "stream",
     "text": [
      "\n",
      " [301-350, 201-250, 101-150, 251-300, 151-200, 0-50, 451-500, 51-100, 351-400, 401-450]\n",
      "Categories (10, object): [0-50 < 51-100 < 101-150 < 151-200 ... 301-350 < 351-400 < 401-450 < 451-500]\n"
     ]
    }
   ],
   "source": [
    "#month_as_customer\n",
    "bins = [0, 50, 100, 150, 200, 250, 300, 350, 400, 450, 500]\n",
    "bin_labels = ['0-50','51-100','101-150','151-200','201-250','251-300','301-350','351-400','401-450','451-500']\n",
    "new_variable_name = \"_\".join(['months_as_customer', 'groups'])\n",
    "data[new_variable_name] = pd.cut(data['months_as_customer'], bins = 10, labels = bin_labels, include_lowest= True)\n",
    "data.drop(['months_as_customer'], axis=1, inplace=True)\n",
    "print('\\n', data[new_variable_name].unique())"
   ]
  },
  {
   "cell_type": "code",
   "execution_count": 25,
   "metadata": {},
   "outputs": [],
   "source": [
    "# Encoded variables\n",
    "metadata['encode_variables'].append('months_as_customer')\n",
    "# Encoding meta\n",
    "encoding_meta = {}\n",
    "encoding_meta['var_name'] = new_variable_name\n",
    "encoding_meta['values'] = bins\n",
    "encoding_meta['values_labels'] = bin_labels\n",
    "metadata['encoding_meta']['months_as_customer'] = encoding_meta"
   ]
  },
  {
   "cell_type": "markdown",
   "metadata": {},
   "source": [
    "### Engineer Categorical variables"
   ]
  },
  {
   "cell_type": "code",
   "execution_count": 26,
   "metadata": {},
   "outputs": [
    {
     "name": "stdout",
     "output_type": "stream",
     "text": [
      "['insured_sex', 'insured_hobbies', 'incident_type', 'collision_type', 'incident_severity', 'authorities_contacted', 'property_damage', 'police_report_available', 'policy_deductable_groups', 'age_groups', 'policy_annual_premium_groups', 'months_as_customer_groups']\n",
      "\n",
      " ['incident_severity', 'policy_annual_premium_groups', 'policy_deductable_groups']\n",
      "\n",
      " ['insured_sex', 'insured_hobbies', 'incident_type', 'collision_type', 'authorities_contacted', 'property_damage', 'police_report_available', 'age_groups', 'months_as_customer_groups']\n"
     ]
    }
   ],
   "source": [
    "# non numerical\n",
    "categorical_predictors = [col for col in data.columns if data[col].dtypes != 'int' and col != target]\n",
    "ordinal_predictors = ['incident_severity', 'policy_annual_premium_groups', 'policy_deductable_groups']\n",
    "nominal_predictors = [col for col in categorical_predictors if col not in ordinal_predictors]\n",
    "\n",
    "print(categorical_predictors)\n",
    "print('\\n', ordinal_predictors)\n",
    "print('\\n', nominal_predictors)\n",
    "\n",
    "metadata['categorical_predictors'] = categorical_predictors\n",
    "metadata['ordinal_predictors'] = ordinal_predictors\n",
    "metadata['nominal_predictors'] = nominal_predictors"
   ]
  },
  {
   "cell_type": "markdown",
   "metadata": {},
   "source": [
    "#### Nominal"
   ]
  },
  {
   "cell_type": "code",
   "execution_count": 27,
   "metadata": {},
   "outputs": [],
   "source": [
    "#insured_hobbies\n",
    "replace_labels = [label for label in data['insured_hobbies'].unique() if label not in ['chess', 'cross-fit']]\n",
    "bins_label_var = {l: 'others' if l in replace_labels else l for l in data['insured_hobbies'].unique()}\n",
    "data['insured_hobbies'] = data['insured_hobbies'].map(bins_label_var)"
   ]
  },
  {
   "cell_type": "code",
   "execution_count": 28,
   "metadata": {},
   "outputs": [],
   "source": [
    "# Encoded variables\n",
    "metadata['encode_variables'].append('insured_hobbies')\n",
    "# Encoding meta\n",
    "encoding_meta = {}\n",
    "encoding_meta['var_name'] = 'insured_hobbies'\n",
    "encoding_meta['values'] = list(bins_label_var.keys())\n",
    "encoding_meta['values_labels'] = list(bins_label_var.values())\n",
    "metadata['encoding_meta']['insured_hobbies'] = encoding_meta"
   ]
  },
  {
   "cell_type": "code",
   "execution_count": 29,
   "metadata": {},
   "outputs": [],
   "source": [
    "#Dummies\n",
    "data = pd.get_dummies(data, columns=nominal_predictors)"
   ]
  },
  {
   "cell_type": "markdown",
   "metadata": {},
   "source": [
    "#### Ordinal"
   ]
  },
  {
   "cell_type": "code",
   "execution_count": 30,
   "metadata": {},
   "outputs": [
    {
     "name": "stdout",
     "output_type": "stream",
     "text": [
      "incident_severity : [2 1 3 0]\n",
      "policy_annual_premium_groups : [2 3 1 4 0]\n",
      "policy_deductable_groups : [1 2 0]\n"
     ]
    }
   ],
   "source": [
    "ord_var_labels = {col: [str(l) for l in data[col].unique()] for col in ordinal_predictors}\n",
    "categories = []\n",
    "#'incident_severity'\n",
    "categories.append(pd.Categorical(data[ordinal_predictors]['incident_severity'],\n",
    "                                  categories=['Trivial Damage',\n",
    "                                              'Minor Damage',\n",
    "                                              'Major Damage',\n",
    "                                              'Total Loss'],\n",
    "                                  ordered=True))\n",
    "\n",
    "# 'policy_annual_premium_groups'\n",
    "categories.append(pd.Categorical(data[ordinal_predictors]['policy_annual_premium_groups'],\n",
    "                                          categories=['very low',\n",
    "                                                  'low',\n",
    "                                                  'medium',\n",
    "                                                  'high',\n",
    "                                                  'very high'],\n",
    "                                          ordered=True))\n",
    "\n",
    "#'policy_deductable_groups'\n",
    "categories.append(pd.Categorical(data[ordinal_predictors]['policy_deductable_groups'],\n",
    "                               categories=['0-500', '501-1000', '1001-1500', '1501-2000'],\n",
    "                               ordered=True))\n",
    "\n",
    "for variable, category in zip(ord_var_labels, categories):\n",
    "    \n",
    "    labels, unique = pd.factorize(category, sort=True)\n",
    "    labels_code_dic = {label: index.tolist() for index, label in zip(list(set(labels)), unique)}    \n",
    "    data[variable] = labels\n",
    "    print(variable, ':', data[variable].unique())\n",
    "    \n",
    "    # Encoded variables\n",
    "    metadata['encode_variables'].append(variable)\n",
    "    encoding_meta['values'] = list(labels_code_dic.keys())\n",
    "    encoding_meta['values_labels'] = list(labels_code_dic.values())\n",
    "    metadata['encoding_meta'][variable] = encoding_meta\n",
    "    "
   ]
  },
  {
   "cell_type": "code",
   "execution_count": 31,
   "metadata": {},
   "outputs": [
    {
     "data": {
      "text/plain": [
       "{'fraud_reported': {'var_name': 'fraud_reported',\n",
       "  'values': ['N', 'Y'],\n",
       "  'values_labels': [0, 1]},\n",
       " 'policy_deductable': {'var_name': 'policy_deductable_groups',\n",
       "  'values': [0, 500, 1000, 1500, 2000],\n",
       "  'values_labels': ['0-500', '501-1000', '1001-1500', '1501-2000']},\n",
       " 'age': {'var_name': 'age_groups',\n",
       "  'values': [15, 20, 25, 30, 35, 40, 45, 50, 55, 60, 65],\n",
       "  'values_labels': ['15-20',\n",
       "   '21-25',\n",
       "   '26-30',\n",
       "   '31-35',\n",
       "   '36-40',\n",
       "   '41-45',\n",
       "   '46-50',\n",
       "   '51-55',\n",
       "   '56-60',\n",
       "   '61-65']},\n",
       " 'policy_annual_premium': {'var_name': 'policy_annual_premium_groups',\n",
       "  'values': [0, 500, 1000, 1500, 2000, 2500],\n",
       "  'values_labels': ['very low', 'low', 'medium', 'high', 'very high']},\n",
       " 'months_as_customer': {'var_name': 'months_as_customer_groups',\n",
       "  'values': [0, 50, 100, 150, 200, 250, 300, 350, 400, 450, 500],\n",
       "  'values_labels': ['0-50',\n",
       "   '51-100',\n",
       "   '101-150',\n",
       "   '151-200',\n",
       "   '201-250',\n",
       "   '251-300',\n",
       "   '301-350',\n",
       "   '351-400',\n",
       "   '401-450',\n",
       "   '451-500']},\n",
       " 'insured_hobbies': {'var_name': 'insured_hobbies',\n",
       "  'values': ['0-500', '501-1000', '1501-2000'],\n",
       "  'values_labels': [0, 1, 2]},\n",
       " 'incident_severity': {'var_name': 'insured_hobbies',\n",
       "  'values': ['0-500', '501-1000', '1501-2000'],\n",
       "  'values_labels': [0, 1, 2]},\n",
       " 'policy_annual_premium_groups': {'var_name': 'insured_hobbies',\n",
       "  'values': ['0-500', '501-1000', '1501-2000'],\n",
       "  'values_labels': [0, 1, 2]},\n",
       " 'policy_deductable_groups': {'var_name': 'insured_hobbies',\n",
       "  'values': ['0-500', '501-1000', '1501-2000'],\n",
       "  'values_labels': [0, 1, 2]}}"
      ]
     },
     "execution_count": 31,
     "metadata": {},
     "output_type": "execute_result"
    }
   ],
   "source": [
    "metadata['encoding_meta']"
   ]
  },
  {
   "cell_type": "code",
   "execution_count": null,
   "metadata": {},
   "outputs": [],
   "source": [
    "data.head()"
   ]
  },
  {
   "cell_type": "markdown",
   "metadata": {},
   "source": [
    "### Feature Scaling"
   ]
  },
  {
   "cell_type": "code",
   "execution_count": null,
   "metadata": {},
   "outputs": [],
   "source": [
    "predictors = [col for col in data.columns if col != 'fraud_reported']\n",
    "\n",
    "# create scaler\n",
    "scaler = MinMaxScaler()\n",
    "\n",
    "#  fit  the scaler to the train set\n",
    "scaler.fit(data[predictors]) \n",
    "\n",
    "# transform the train and test set\n",
    "data[predictors] = scaler.transform(data[predictors])"
   ]
  },
  {
   "cell_type": "code",
   "execution_count": null,
   "metadata": {},
   "outputs": [],
   "source": [
    "data[predictors].shape, data['fraud_reported'].shape"
   ]
  },
  {
   "cell_type": "markdown",
   "metadata": {},
   "source": [
    "### Selected features"
   ]
  },
  {
   "cell_type": "code",
   "execution_count": null,
   "metadata": {},
   "outputs": [],
   "source": [
    "# load selected features\n",
    "features = pd.read_csv(processed + 'selected_features.csv', names=['features'])\n",
    "features = list(features['features'])\n",
    "\n",
    "print('Number of features: ', len(features))\n",
    "print('\\n', sorted(features))\n",
    "\n",
    "metadata['features_selected'] = sorted(features)"
   ]
  },
  {
   "cell_type": "markdown",
   "metadata": {},
   "source": [
    "### Balancing"
   ]
  },
  {
   "cell_type": "code",
   "execution_count": null,
   "metadata": {},
   "outputs": [],
   "source": [
    "smote = SMOTE(random_state=9)\n",
    "X, y = smote.fit_resample(data[features], data[target])"
   ]
  },
  {
   "cell_type": "markdown",
   "metadata": {},
   "source": [
    "## Model Training: Random Forest"
   ]
  },
  {
   "cell_type": "code",
   "execution_count": null,
   "metadata": {},
   "outputs": [],
   "source": [
    "X_train, X_test, y_train, y_test = train_test_split(X, y, \n",
    "                                                    test_size=0.20, \n",
    "                                                    random_state=1) # ALWAYS set random seed for reproducibility!\n",
    "X_train.shape, X_test.shape"
   ]
  },
  {
   "cell_type": "code",
   "execution_count": null,
   "metadata": {},
   "outputs": [],
   "source": [
    "print(y_train.value_counts()/len(y_train), '\\n')"
   ]
  },
  {
   "cell_type": "code",
   "execution_count": null,
   "metadata": {},
   "outputs": [],
   "source": [
    "rfor = RandomForestClassifier(max_depth=25, min_samples_split=5, n_estimators=300,\n",
    "                       random_state=8)\n",
    "\n",
    "rfor.fit(X_train, y_train)\n",
    "predictions = rfor.predict(X_test)\n",
    "\n",
    "print(\"*\"*20)\n",
    "print(\"Model Assessment\".center(20, '*'))\n",
    "print(\"*\"*20)\n",
    "\n",
    "print('score: {}'.format(round(rfor.score(X_test, y_test), 2)))\n",
    "print()\n",
    "\n",
    "print('Classification report')\n",
    "print(classification_report(y_test, predictions))\n",
    "\n",
    "print()\n",
    "\n",
    "print('Confusion Matrix')\n",
    "conf_matrix = confusion_matrix(predictions, y_test)\n",
    "plot_confusion_matrix(conf_matrix);"
   ]
  },
  {
   "cell_type": "markdown",
   "metadata": {},
   "source": [
    "## Final predictions"
   ]
  },
  {
   "cell_type": "code",
   "execution_count": null,
   "metadata": {},
   "outputs": [],
   "source": [
    "print(\"predict\", rfor.predict(X[:1]))\n",
    "# print(\"predict_proba\", rfor.predict_proba(X[:1]))"
   ]
  },
  {
   "cell_type": "markdown",
   "metadata": {},
   "source": [
    "## Model Persistence: ONNX format"
   ]
  },
  {
   "cell_type": "markdown",
   "metadata": {},
   "source": [
    "### Convert into ONNX format"
   ]
  },
  {
   "cell_type": "code",
   "execution_count": null,
   "metadata": {},
   "outputs": [],
   "source": [
    "# Tell ONNX what the input to the model will be, a float vector of 4 values (one for each feature!)\n",
    "initial_type = [('features_input', FloatTensorType([1, X_train.shape[1]]))]\n",
    "\n",
    "# Convert the trained model to an ONNX format.\n",
    "onnx = convert_sklearn(rfor, name='rf_champion', initial_types=initial_type)\n",
    "\n",
    "# Save your model locally\n",
    "with open(models + \"rf_champion.onnx\", \"wb\") as f:\n",
    "    f.write(onnx.SerializeToString())"
   ]
  },
  {
   "cell_type": "markdown",
   "metadata": {},
   "source": [
    "### Draw the Model"
   ]
  },
  {
   "cell_type": "code",
   "execution_count": null,
   "metadata": {},
   "outputs": [],
   "source": [
    "pydot_graph = GetPydotGraph(\n",
    "    onnx.graph, name=onnx.graph.name, rankdir=\"TB\",\n",
    "    node_producer=GetOpNodeProducer(\n",
    "        \"docstring\", color=\"yellow\",\n",
    "        fillcolor=\"yellow\", style=\"filled\"))\n",
    "pydot_graph.write_dot(reports + \"rfor_onnx_schema.dot\")"
   ]
  },
  {
   "cell_type": "code",
   "execution_count": null,
   "metadata": {},
   "outputs": [],
   "source": [
    "os.system('dot -O -Gdpi=300 -Tpng ../reports/rfor_onnx_schema.dot')\n",
    "\n",
    "image = plt.imread(reports + \"rfor_onnx_schema.dot.png\")\n",
    "fig, ax = plt.subplots(figsize=(20, 10))\n",
    "ax.imshow(image)\n",
    "ax.axis('off')"
   ]
  },
  {
   "cell_type": "code",
   "execution_count": null,
   "metadata": {},
   "outputs": [],
   "source": [
    "# setup runtime - load the persisted ONNX model\n",
    "sess = rt.InferenceSession(models + \"rf_champion.onnx\")\n",
    "\n",
    "# get model metadata to enable mapping of new input to the runtime model.\n",
    "input_name = sess.get_inputs()[0].name\n",
    "label_name = sess.get_outputs()[0].name\n",
    "\n",
    "score_me = np.array(X[:1], dtype=np.float32)\n",
    "# retrieve prediction - passing in the input list (you can also pass in multiple inputs as a list of lists)\n",
    "predictions_onnx = sess.run([label_name], {input_name: score_me})"
   ]
  },
  {
   "cell_type": "code",
   "execution_count": null,
   "metadata": {},
   "outputs": [],
   "source": [
    "print(\"predict\", predictions_onnx[0])\n",
    "# print(\"predict_proba\", predictions_onnx[][:1])"
   ]
  },
  {
   "cell_type": "markdown",
   "metadata": {},
   "source": [
    "That is all for this notebook.\n",
    "\n",
    "**Move on productionalizing this model for model deployment**."
   ]
  },
  {
   "cell_type": "code",
   "execution_count": null,
   "metadata": {},
   "outputs": [],
   "source": [
    "metadata"
   ]
  },
  {
   "cell_type": "code",
   "execution_count": null,
   "metadata": {},
   "outputs": [],
   "source": [
    "with open(src + 'config.yaml', 'w') as file:\n",
    "    config_file = ruamel.yaml.round_trip_dump(metadata, file, indent=4, default_flow_style=False)\n",
    "file.close()"
   ]
  }
 ],
 "metadata": {
  "kernelspec": {
   "display_name": "Python 3",
   "language": "python",
   "name": "python3"
  },
  "language_info": {
   "codemirror_mode": {
    "name": "ipython",
    "version": 3
   },
   "file_extension": ".py",
   "mimetype": "text/x-python",
   "name": "python",
   "nbconvert_exporter": "python",
   "pygments_lexer": "ipython3",
   "version": "3.6.9"
  },
  "toc": {
   "base_numbering": 1,
   "nav_menu": {},
   "number_sections": true,
   "sideBar": true,
   "skip_h1_title": false,
   "title_cell": "Table of Contents",
   "title_sidebar": "Contents",
   "toc_cell": false,
   "toc_position": {
    "height": "583px",
    "left": "0px",
    "right": "1324px",
    "top": "107px",
    "width": "212px"
   },
   "toc_section_display": "block",
   "toc_window_display": true
  }
 },
 "nbformat": 4,
 "nbformat_minor": 2
}
