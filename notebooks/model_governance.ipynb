{
 "cells": [
  {
   "cell_type": "markdown",
   "metadata": {
    "ExecuteTime": {
     "end_time": "2020-05-25T06:38:44.010606Z",
     "start_time": "2020-05-25T06:38:44.004640Z"
    }
   },
   "source": [
    "# Machine Learning Engineering for SAS Model Manager\n",
    "\n",
    "The goal of this notebook is engineer the code to deploy a LightGBM on Viya. \n",
    "\n",
    "The steps are:\n",
    "\n",
    "- Create a Preprocessor\n",
    "\n",
    "- Create the Model Package with required files\n",
    "\n",
    "    - score.py\n",
    "    - model.pkl\n",
    "    - inputVar.json\n",
    "    - outputVar.json\n",
    "    \n",
    "\n",
    "- Add the optional files to the package\n",
    "\n",
    "    - train.py\n",
    "    - fileMetadata.json\n",
    "    - ModelProperties.json\n",
    "    - dmcas_fitstat.json\n",
    "    - dmcas_roc\n",
    "    - dmcas_lift\n",
    "\n",
    "Now we could use sasctl to register the model but it is mantained anymore.\n",
    "\n",
    "So I use a pzmm library from SAS. "
   ]
  },
  {
   "cell_type": "markdown",
   "metadata": {},
   "source": [
    "## Libraries and Environment"
   ]
  },
  {
   "cell_type": "markdown",
   "metadata": {},
   "source": [
    "### Libraries"
   ]
  },
  {
   "cell_type": "code",
   "execution_count": 1,
   "metadata": {
    "ExecuteTime": {
     "end_time": "2020-05-26T14:20:02.493418Z",
     "start_time": "2020-05-26T14:20:00.109371Z"
    }
   },
   "outputs": [],
   "source": [
    "import numpy as np # linear algebra\n",
    "import pandas as pd # data processing, CSV file I/O (e.g. pd.read_csv)\n",
    "from sklearn.base import BaseEstimator, TransformerMixin\n",
    "from sklearn.preprocessing import LabelEncoder\n",
    "from sklearn.compose import ColumnTransformer\n",
    "from sklearn.preprocessing import FunctionTransformer, OrdinalEncoder, OneHotEncoder, KBinsDiscretizer\n",
    "from sklearn.pipeline import Pipeline\n",
    "from sklearn.model_selection import train_test_split\n",
    "from sklearn import metrics\n",
    "from sklearn.metrics import precision_score, accuracy_score, recall_score, precision_recall_curve, roc_auc_score, f1_score\n",
    "# from sklearn.metrics import plot_confusion_matrix\n",
    "from sklearn.utils import estimator_html_repr\n",
    "from sklearn import set_config\n",
    "\n",
    "from lightgbm import LGBMClassifier\n",
    "\n",
    "from pzmm import *\n",
    "\n",
    "#Utils\n",
    "import os\n",
    "import shutil\n",
    "import glob\n",
    "import pickle\n",
    "import unittest\n",
    "import zipfile\n",
    "\n",
    "#Settings\n",
    "\n",
    "# Set notebook\n",
    "pd.set_option('display.max_rows', 500)\n",
    "pd.set_option('display.max_columns', 500)\n",
    "pd.set_option('display.width', 1000)\n",
    "set_config(display='diagram')"
   ]
  },
  {
   "cell_type": "markdown",
   "metadata": {},
   "source": [
    "### Enviroment"
   ]
  },
  {
   "cell_type": "code",
   "execution_count": 2,
   "metadata": {
    "ExecuteTime": {
     "end_time": "2020-05-26T14:20:02.563398Z",
     "start_time": "2020-05-26T14:20:02.496926Z"
    }
   },
   "outputs": [],
   "source": [
    "processed = '../data/processed/data_final.csv'\n",
    "plots = '../reports/figures/'\n",
    "models= '../models/'\n",
    "src = '../src/'\n",
    "\n",
    "data = pd.read_csv(processed)\n",
    "\n",
    "features = data.columns.difference(['fraud_reported'])\n",
    "target = 'fraud_reported'\n",
    "\n",
    "X = data[features]\n",
    "y = data[[target]]"
   ]
  },
  {
   "cell_type": "markdown",
   "metadata": {},
   "source": [
    "## Data "
   ]
  },
  {
   "cell_type": "code",
   "execution_count": 3,
   "metadata": {
    "ExecuteTime": {
     "end_time": "2020-05-26T14:20:02.672394Z",
     "start_time": "2020-05-26T14:20:02.621391Z"
    },
    "scrolled": true
   },
   "outputs": [
    {
     "name": "stdout",
     "output_type": "stream",
     "text": [
      "<class 'pandas.core.frame.DataFrame'>\n",
      "RangeIndex: 1000 entries, 0 to 999\n",
      "Data columns (total 39 columns):\n",
      " #   Column                       Non-Null Count  Dtype  \n",
      "---  ------                       --------------  -----  \n",
      " 0   months_as_customer           1000 non-null   int64  \n",
      " 1   age                          1000 non-null   int64  \n",
      " 2   policy_number                1000 non-null   int64  \n",
      " 3   policy_bind_date             1000 non-null   object \n",
      " 4   policy_state                 1000 non-null   object \n",
      " 5   policy_csl                   1000 non-null   object \n",
      " 6   policy_deductable            1000 non-null   int64  \n",
      " 7   policy_annual_premium        1000 non-null   float64\n",
      " 8   umbrella_limit               1000 non-null   int64  \n",
      " 9   insured_zip                  1000 non-null   int64  \n",
      " 10  insured_sex                  1000 non-null   object \n",
      " 11  insured_education_level      1000 non-null   object \n",
      " 12  insured_occupation           1000 non-null   object \n",
      " 13  insured_hobbies              1000 non-null   object \n",
      " 14  insured_relationship         1000 non-null   object \n",
      " 15  capital_gains                1000 non-null   int64  \n",
      " 16  capital_loss                 1000 non-null   int64  \n",
      " 17  incident_date                1000 non-null   object \n",
      " 18  incident_type                1000 non-null   object \n",
      " 19  collision_type               1000 non-null   object \n",
      " 20  incident_severity            1000 non-null   object \n",
      " 21  authorities_contacted        1000 non-null   object \n",
      " 22  incident_state               1000 non-null   object \n",
      " 23  incident_city                1000 non-null   object \n",
      " 24  incident_location            1000 non-null   object \n",
      " 25  incident_hour_of_the_day     1000 non-null   int64  \n",
      " 26  number_of_vehicles_involved  1000 non-null   int64  \n",
      " 27  property_damage              1000 non-null   object \n",
      " 28  bodily_injuries              1000 non-null   int64  \n",
      " 29  witnesses                    1000 non-null   int64  \n",
      " 30  police_report_available      1000 non-null   object \n",
      " 31  total_claim_amount           1000 non-null   int64  \n",
      " 32  injury_claim                 1000 non-null   int64  \n",
      " 33  property_claim               1000 non-null   int64  \n",
      " 34  vehicle_claim                1000 non-null   int64  \n",
      " 35  auto_make                    1000 non-null   object \n",
      " 36  auto_model                   1000 non-null   object \n",
      " 37  auto_year                    1000 non-null   int64  \n",
      " 38  fraud_reported               1000 non-null   object \n",
      "dtypes: float64(1), int64(17), object(21)\n",
      "memory usage: 304.8+ KB\n"
     ]
    }
   ],
   "source": [
    "data.info()"
   ]
  },
  {
   "cell_type": "code",
   "execution_count": 4,
   "metadata": {
    "ExecuteTime": {
     "end_time": "2020-05-26T14:20:04.982728Z",
     "start_time": "2020-05-26T14:20:04.919699Z"
    }
   },
   "outputs": [
    {
     "data": {
      "text/html": [
       "<div>\n",
       "<style scoped>\n",
       "    .dataframe tbody tr th:only-of-type {\n",
       "        vertical-align: middle;\n",
       "    }\n",
       "\n",
       "    .dataframe tbody tr th {\n",
       "        vertical-align: top;\n",
       "    }\n",
       "\n",
       "    .dataframe thead th {\n",
       "        text-align: right;\n",
       "    }\n",
       "</style>\n",
       "<table border=\"1\" class=\"dataframe\">\n",
       "  <thead>\n",
       "    <tr style=\"text-align: right;\">\n",
       "      <th></th>\n",
       "      <th>months_as_customer</th>\n",
       "      <th>age</th>\n",
       "      <th>policy_number</th>\n",
       "      <th>policy_bind_date</th>\n",
       "      <th>policy_state</th>\n",
       "      <th>policy_csl</th>\n",
       "      <th>policy_deductable</th>\n",
       "      <th>policy_annual_premium</th>\n",
       "      <th>umbrella_limit</th>\n",
       "      <th>insured_zip</th>\n",
       "      <th>insured_sex</th>\n",
       "      <th>insured_education_level</th>\n",
       "      <th>insured_occupation</th>\n",
       "      <th>insured_hobbies</th>\n",
       "      <th>insured_relationship</th>\n",
       "      <th>capital_gains</th>\n",
       "      <th>capital_loss</th>\n",
       "      <th>incident_date</th>\n",
       "      <th>incident_type</th>\n",
       "      <th>collision_type</th>\n",
       "      <th>incident_severity</th>\n",
       "      <th>authorities_contacted</th>\n",
       "      <th>incident_state</th>\n",
       "      <th>incident_city</th>\n",
       "      <th>incident_location</th>\n",
       "      <th>incident_hour_of_the_day</th>\n",
       "      <th>number_of_vehicles_involved</th>\n",
       "      <th>property_damage</th>\n",
       "      <th>bodily_injuries</th>\n",
       "      <th>witnesses</th>\n",
       "      <th>police_report_available</th>\n",
       "      <th>total_claim_amount</th>\n",
       "      <th>injury_claim</th>\n",
       "      <th>property_claim</th>\n",
       "      <th>vehicle_claim</th>\n",
       "      <th>auto_make</th>\n",
       "      <th>auto_model</th>\n",
       "      <th>auto_year</th>\n",
       "      <th>fraud_reported</th>\n",
       "    </tr>\n",
       "  </thead>\n",
       "  <tbody>\n",
       "    <tr>\n",
       "      <th>0</th>\n",
       "      <td>328</td>\n",
       "      <td>48</td>\n",
       "      <td>521585</td>\n",
       "      <td>2014-10-17</td>\n",
       "      <td>OH</td>\n",
       "      <td>250/500</td>\n",
       "      <td>1000</td>\n",
       "      <td>1406.91</td>\n",
       "      <td>0</td>\n",
       "      <td>466132</td>\n",
       "      <td>MALE</td>\n",
       "      <td>MD</td>\n",
       "      <td>craft-repair</td>\n",
       "      <td>sleeping</td>\n",
       "      <td>husband</td>\n",
       "      <td>53300</td>\n",
       "      <td>0</td>\n",
       "      <td>2015-01-25</td>\n",
       "      <td>Single Vehicle Collision</td>\n",
       "      <td>Side Collision</td>\n",
       "      <td>Major Damage</td>\n",
       "      <td>Police</td>\n",
       "      <td>SC</td>\n",
       "      <td>Columbus</td>\n",
       "      <td>9935 4th Drive</td>\n",
       "      <td>5</td>\n",
       "      <td>1</td>\n",
       "      <td>YES</td>\n",
       "      <td>1</td>\n",
       "      <td>2</td>\n",
       "      <td>YES</td>\n",
       "      <td>71610</td>\n",
       "      <td>6510</td>\n",
       "      <td>13020</td>\n",
       "      <td>52080</td>\n",
       "      <td>Saab</td>\n",
       "      <td>92x</td>\n",
       "      <td>2004</td>\n",
       "      <td>Y</td>\n",
       "    </tr>\n",
       "    <tr>\n",
       "      <th>1</th>\n",
       "      <td>228</td>\n",
       "      <td>42</td>\n",
       "      <td>342868</td>\n",
       "      <td>2006-06-27</td>\n",
       "      <td>IN</td>\n",
       "      <td>250/500</td>\n",
       "      <td>2000</td>\n",
       "      <td>1197.22</td>\n",
       "      <td>5000000</td>\n",
       "      <td>468176</td>\n",
       "      <td>MALE</td>\n",
       "      <td>MD</td>\n",
       "      <td>machine-op-inspct</td>\n",
       "      <td>reading</td>\n",
       "      <td>other-relative</td>\n",
       "      <td>0</td>\n",
       "      <td>0</td>\n",
       "      <td>2015-01-21</td>\n",
       "      <td>Vehicle Theft</td>\n",
       "      <td>?</td>\n",
       "      <td>Minor Damage</td>\n",
       "      <td>Police</td>\n",
       "      <td>VA</td>\n",
       "      <td>Riverwood</td>\n",
       "      <td>6608 MLK Hwy</td>\n",
       "      <td>8</td>\n",
       "      <td>1</td>\n",
       "      <td>?</td>\n",
       "      <td>0</td>\n",
       "      <td>0</td>\n",
       "      <td>?</td>\n",
       "      <td>5070</td>\n",
       "      <td>780</td>\n",
       "      <td>780</td>\n",
       "      <td>3510</td>\n",
       "      <td>Mercedes</td>\n",
       "      <td>E400</td>\n",
       "      <td>2007</td>\n",
       "      <td>Y</td>\n",
       "    </tr>\n",
       "    <tr>\n",
       "      <th>2</th>\n",
       "      <td>134</td>\n",
       "      <td>29</td>\n",
       "      <td>687698</td>\n",
       "      <td>2000-09-06</td>\n",
       "      <td>OH</td>\n",
       "      <td>100/300</td>\n",
       "      <td>2000</td>\n",
       "      <td>1413.14</td>\n",
       "      <td>5000000</td>\n",
       "      <td>430632</td>\n",
       "      <td>FEMALE</td>\n",
       "      <td>PhD</td>\n",
       "      <td>sales</td>\n",
       "      <td>board-games</td>\n",
       "      <td>own-child</td>\n",
       "      <td>35100</td>\n",
       "      <td>0</td>\n",
       "      <td>2015-02-22</td>\n",
       "      <td>Multi-vehicle Collision</td>\n",
       "      <td>Rear Collision</td>\n",
       "      <td>Minor Damage</td>\n",
       "      <td>Police</td>\n",
       "      <td>NY</td>\n",
       "      <td>Columbus</td>\n",
       "      <td>7121 Francis Lane</td>\n",
       "      <td>7</td>\n",
       "      <td>3</td>\n",
       "      <td>NO</td>\n",
       "      <td>2</td>\n",
       "      <td>3</td>\n",
       "      <td>NO</td>\n",
       "      <td>34650</td>\n",
       "      <td>7700</td>\n",
       "      <td>3850</td>\n",
       "      <td>23100</td>\n",
       "      <td>Dodge</td>\n",
       "      <td>RAM</td>\n",
       "      <td>2007</td>\n",
       "      <td>N</td>\n",
       "    </tr>\n",
       "    <tr>\n",
       "      <th>3</th>\n",
       "      <td>256</td>\n",
       "      <td>41</td>\n",
       "      <td>227811</td>\n",
       "      <td>1990-05-25</td>\n",
       "      <td>IL</td>\n",
       "      <td>250/500</td>\n",
       "      <td>2000</td>\n",
       "      <td>1415.74</td>\n",
       "      <td>6000000</td>\n",
       "      <td>608117</td>\n",
       "      <td>FEMALE</td>\n",
       "      <td>PhD</td>\n",
       "      <td>armed-forces</td>\n",
       "      <td>board-games</td>\n",
       "      <td>unmarried</td>\n",
       "      <td>48900</td>\n",
       "      <td>-62400</td>\n",
       "      <td>2015-01-10</td>\n",
       "      <td>Single Vehicle Collision</td>\n",
       "      <td>Front Collision</td>\n",
       "      <td>Major Damage</td>\n",
       "      <td>Police</td>\n",
       "      <td>OH</td>\n",
       "      <td>Arlington</td>\n",
       "      <td>6956 Maple Drive</td>\n",
       "      <td>5</td>\n",
       "      <td>1</td>\n",
       "      <td>?</td>\n",
       "      <td>1</td>\n",
       "      <td>2</td>\n",
       "      <td>NO</td>\n",
       "      <td>63400</td>\n",
       "      <td>6340</td>\n",
       "      <td>6340</td>\n",
       "      <td>50720</td>\n",
       "      <td>Chevrolet</td>\n",
       "      <td>Tahoe</td>\n",
       "      <td>2014</td>\n",
       "      <td>Y</td>\n",
       "    </tr>\n",
       "    <tr>\n",
       "      <th>4</th>\n",
       "      <td>228</td>\n",
       "      <td>44</td>\n",
       "      <td>367455</td>\n",
       "      <td>2014-06-06</td>\n",
       "      <td>IL</td>\n",
       "      <td>500/1000</td>\n",
       "      <td>1000</td>\n",
       "      <td>1583.91</td>\n",
       "      <td>6000000</td>\n",
       "      <td>610706</td>\n",
       "      <td>MALE</td>\n",
       "      <td>Associate</td>\n",
       "      <td>sales</td>\n",
       "      <td>board-games</td>\n",
       "      <td>unmarried</td>\n",
       "      <td>66000</td>\n",
       "      <td>-46000</td>\n",
       "      <td>2015-02-17</td>\n",
       "      <td>Vehicle Theft</td>\n",
       "      <td>?</td>\n",
       "      <td>Minor Damage</td>\n",
       "      <td>None</td>\n",
       "      <td>NY</td>\n",
       "      <td>Arlington</td>\n",
       "      <td>3041 3rd Ave</td>\n",
       "      <td>20</td>\n",
       "      <td>1</td>\n",
       "      <td>NO</td>\n",
       "      <td>0</td>\n",
       "      <td>1</td>\n",
       "      <td>NO</td>\n",
       "      <td>6500</td>\n",
       "      <td>1300</td>\n",
       "      <td>650</td>\n",
       "      <td>4550</td>\n",
       "      <td>Accura</td>\n",
       "      <td>RSX</td>\n",
       "      <td>2009</td>\n",
       "      <td>N</td>\n",
       "    </tr>\n",
       "  </tbody>\n",
       "</table>\n",
       "</div>"
      ],
      "text/plain": [
       "   months_as_customer  age  policy_number policy_bind_date policy_state policy_csl  policy_deductable  policy_annual_premium  umbrella_limit  insured_zip insured_sex insured_education_level insured_occupation insured_hobbies insured_relationship  capital_gains  capital_loss incident_date             incident_type   collision_type incident_severity authorities_contacted incident_state incident_city  incident_location  incident_hour_of_the_day  number_of_vehicles_involved property_damage  bodily_injuries  witnesses police_report_available  total_claim_amount  injury_claim  property_claim  vehicle_claim  auto_make auto_model  auto_year fraud_reported\n",
       "0                 328   48         521585       2014-10-17           OH    250/500               1000                1406.91               0       466132        MALE                      MD       craft-repair        sleeping              husband          53300             0    2015-01-25  Single Vehicle Collision   Side Collision      Major Damage                Police             SC      Columbus     9935 4th Drive                         5                            1             YES                1          2                     YES               71610          6510           13020          52080       Saab        92x       2004              Y\n",
       "1                 228   42         342868       2006-06-27           IN    250/500               2000                1197.22         5000000       468176        MALE                      MD  machine-op-inspct         reading       other-relative              0             0    2015-01-21             Vehicle Theft                ?      Minor Damage                Police             VA     Riverwood       6608 MLK Hwy                         8                            1               ?                0          0                       ?                5070           780             780           3510   Mercedes       E400       2007              Y\n",
       "2                 134   29         687698       2000-09-06           OH    100/300               2000                1413.14         5000000       430632      FEMALE                     PhD              sales     board-games            own-child          35100             0    2015-02-22   Multi-vehicle Collision   Rear Collision      Minor Damage                Police             NY      Columbus  7121 Francis Lane                         7                            3              NO                2          3                      NO               34650          7700            3850          23100      Dodge        RAM       2007              N\n",
       "3                 256   41         227811       1990-05-25           IL    250/500               2000                1415.74         6000000       608117      FEMALE                     PhD       armed-forces     board-games            unmarried          48900        -62400    2015-01-10  Single Vehicle Collision  Front Collision      Major Damage                Police             OH     Arlington   6956 Maple Drive                         5                            1               ?                1          2                      NO               63400          6340            6340          50720  Chevrolet      Tahoe       2014              Y\n",
       "4                 228   44         367455       2014-06-06           IL   500/1000               1000                1583.91         6000000       610706        MALE               Associate              sales     board-games            unmarried          66000        -46000    2015-02-17             Vehicle Theft                ?      Minor Damage                  None             NY     Arlington       3041 3rd Ave                        20                            1              NO                0          1                      NO                6500          1300             650           4550     Accura        RSX       2009              N"
      ]
     },
     "execution_count": 4,
     "metadata": {},
     "output_type": "execute_result"
    }
   ],
   "source": [
    "data.head()"
   ]
  },
  {
   "cell_type": "markdown",
   "metadata": {},
   "source": [
    "## Create a preprocessor"
   ]
  },
  {
   "cell_type": "markdown",
   "metadata": {},
   "source": [
    "### Set variables"
   ]
  },
  {
   "cell_type": "code",
   "execution_count": 5,
   "metadata": {
    "ExecuteTime": {
     "end_time": "2020-05-26T14:20:07.439522Z",
     "start_time": "2020-05-26T14:20:07.432018Z"
    }
   },
   "outputs": [],
   "source": [
    "drop_columns = [\"policy_bind_date\", \"policy_number\", \"incident_date\", \"incident_type\", \"collision_type\", \"policy_state\",\n",
    "                \"incident_location\", \"auto_model\", \"auto_year\", \"property_damage\", \"police_report_available\", \"insured_zip\", \"total_claim_amount\",\n",
    "                \"policy_deductable\", \"umbrella_limit\", \"capital_gains\", \"capital_loss\"]\n",
    "data_pp = data.drop(drop_columns, axis=1)"
   ]
  },
  {
   "cell_type": "code",
   "execution_count": 6,
   "metadata": {
    "ExecuteTime": {
     "end_time": "2020-05-26T14:20:08.118346Z",
     "start_time": "2020-05-26T14:20:08.100842Z"
    }
   },
   "outputs": [],
   "source": [
    "binary_features = [col for col in data_pp.columns if (\n",
    "    data_pp[col].dtype == 'object' and data_pp[col].nunique() == 2)]\n",
    "multinominal_features = [col for col in data_pp.columns if (\n",
    "    data_pp[col].dtype == 'object' and data_pp[col].nunique() != 2)]"
   ]
  },
  {
   "cell_type": "markdown",
   "metadata": {},
   "source": [
    "### Code Preprocessor"
   ]
  },
  {
   "cell_type": "code",
   "execution_count": 7,
   "metadata": {
    "ExecuteTime": {
     "end_time": "2020-05-26T14:20:09.935244Z",
     "start_time": "2020-05-26T14:20:09.924239Z"
    }
   },
   "outputs": [],
   "source": [
    "# Apply some preprocessing steps\n",
    "\n",
    "drop_columns = [\"policy_bind_date\", \"policy_number\", \"incident_date\", \"incident_type\", \"collision_type\", \"policy_state\", \"incident_location\", \"auto_model\",\n",
    "                \"auto_year\", \"property_damage\", \"police_report_available\", \"insured_zip\", \"total_claim_amount\", \"policy_deductable\", \"umbrella_limit\", \"capital_gains\", \"capital_loss\"]\n",
    "\n",
    "binary_features = ['insured_sex']\n",
    "\n",
    "multinominal_features = ['authorities_contacted', 'auto_make', 'incident_city', 'incident_severity', 'incident_state',\n",
    "                         'insured_education_level', 'insured_hobbies', 'insured_occupation', 'insured_relationship', 'policy_csl']\n",
    "\n",
    "numeric_features = ['age']\n",
    "\n",
    "# Preprocessing binary variables\n",
    "binary_transformer = Pipeline(steps=[\n",
    "\n",
    "    ('binary_imputer', OrdinalEncoder(dtype=np.int64))\n",
    "])\n",
    "\n",
    "# Prepocessing multinomial variables\n",
    "multinominal_trasformer = Pipeline(steps=[\n",
    "\n",
    "    ('multinomial_imputer', OneHotEncoder(handle_unknown='ignore'))\n",
    "\n",
    "])\n",
    "\n",
    "# #Preprocessing numerical variable\n",
    "numerical_trasformer = Pipeline(steps=[\n",
    "\n",
    "    ('numerical_imputer', KBinsDiscretizer(n_bins=6, encode='onehot', strategy='uniform'))\n",
    "])\n",
    "\n",
    "preprocessor = ColumnTransformer(transformers=[\n",
    "    ('drop_columns', 'drop', drop_columns),\n",
    "    ('binaries', binary_transformer, binary_features),\n",
    "    ('multinomial', multinominal_trasformer, multinominal_features),\n",
    "    ('numerical', numerical_trasformer, numeric_features)\n",
    "\n",
    "], remainder='passthrough')\n",
    "\n",
    "\n",
    "preprocess_pipe = Pipeline(steps=[\n",
    "\n",
    "    ('preprocessor', preprocessor)\n",
    "\n",
    "])"
   ]
  },
  {
   "cell_type": "markdown",
   "metadata": {},
   "source": [
    "### Visualize Pipeline"
   ]
  },
  {
   "cell_type": "code",
   "execution_count": 8,
   "metadata": {
    "ExecuteTime": {
     "end_time": "2020-05-26T14:20:12.229811Z",
     "start_time": "2020-05-26T14:20:11.898305Z"
    }
   },
   "outputs": [
    {
     "data": {
      "text/html": [
       "<style>div.sk-top-container {color: black;background-color: white;}div.sk-toggleable {background-color: white;}label.sk-toggleable__label {cursor: pointer;display: block;width: 100%;margin-bottom: 0;padding: 0.2em 0.3em;box-sizing: border-box;text-align: center;}div.sk-toggleable__content {max-height: 0;max-width: 0;overflow: hidden;text-align: left;background-color: #f0f8ff;}div.sk-toggleable__content pre {margin: 0.2em;color: black;border-radius: 0.25em;background-color: #f0f8ff;}input.sk-toggleable__control:checked~div.sk-toggleable__content {max-height: 200px;max-width: 100%;overflow: auto;}div.sk-estimator input.sk-toggleable__control:checked~label.sk-toggleable__label {background-color: #d4ebff;}div.sk-label input.sk-toggleable__control:checked~label.sk-toggleable__label {background-color: #d4ebff;}input.sk-hidden--visually {border: 0;clip: rect(1px 1px 1px 1px);clip: rect(1px, 1px, 1px, 1px);height: 1px;margin: -1px;overflow: hidden;padding: 0;position: absolute;width: 1px;}div.sk-estimator {font-family: monospace;background-color: #f0f8ff;margin: 0.25em 0.25em;border: 1px dotted black;border-radius: 0.25em;box-sizing: border-box;}div.sk-estimator:hover {background-color: #d4ebff;}div.sk-parallel-item::after {content: \"\";width: 100%;border-bottom: 1px solid gray;flex-grow: 1;}div.sk-label:hover label.sk-toggleable__label {background-color: #d4ebff;}div.sk-serial::before {content: \"\";position: absolute;border-left: 1px solid gray;box-sizing: border-box;top: 2em;bottom: 0;left: 50%;}div.sk-serial {display: flex;flex-direction: column;align-items: center;background-color: white;}div.sk-item {z-index: 1;}div.sk-parallel {display: flex;align-items: stretch;justify-content: center;background-color: white;}div.sk-parallel-item {display: flex;flex-direction: column;position: relative;background-color: white;}div.sk-parallel-item:first-child::after {align-self: flex-end;width: 50%;}div.sk-parallel-item:last-child::after {align-self: flex-start;width: 50%;}div.sk-parallel-item:only-child::after {width: 0;}div.sk-dashed-wrapped {border: 1px dashed gray;margin: 0.2em;box-sizing: border-box;padding-bottom: 0.1em;background-color: white;position: relative;}div.sk-label label {font-family: monospace;font-weight: bold;background-color: white;display: inline-block;line-height: 1.2em;}div.sk-label-container {position: relative;z-index: 2;text-align: center;}div.sk-container {display: inline-block;position: relative;}</style><div class=\"sk-top-container\"><div class=\"sk-container\"><div class=\"sk-item sk-dashed-wrapped\"><div class=\"sk-label-container\"><div class=\"sk-label sk-toggleable\"><input class=\"sk-toggleable__control sk-hidden--visually\" id=\"645e9e88-1d03-4f7c-89da-1841dedbcc38\" type=\"checkbox\" ><label class=\"sk-toggleable__label\" for=\"645e9e88-1d03-4f7c-89da-1841dedbcc38\">Pipeline</label><div class=\"sk-toggleable__content\"><pre>Pipeline(steps=[('preprocessor',\n",
       "                 ColumnTransformer(remainder='passthrough',\n",
       "                                   transformers=[('drop_columns', 'drop',\n",
       "                                                  ['policy_bind_date',\n",
       "                                                   'policy_number',\n",
       "                                                   'incident_date',\n",
       "                                                   'incident_type',\n",
       "                                                   'collision_type',\n",
       "                                                   'policy_state',\n",
       "                                                   'incident_location',\n",
       "                                                   'auto_model', 'auto_year',\n",
       "                                                   'property_damage',\n",
       "                                                   'police_report_available',\n",
       "                                                   'insured_zip',\n",
       "                                                   'total_claim_amount',\n",
       "                                                   'policy_deducta...\n",
       "                                                  Pipeline(steps=[('multinomial_imputer',\n",
       "                                                                   OneHotEncoder(handle_unknown='ignore'))]),\n",
       "                                                  ['authorities_contacted',\n",
       "                                                   'auto_make', 'incident_city',\n",
       "                                                   'incident_severity',\n",
       "                                                   'incident_state',\n",
       "                                                   'insured_education_level',\n",
       "                                                   'insured_hobbies',\n",
       "                                                   'insured_occupation',\n",
       "                                                   'insured_relationship',\n",
       "                                                   'policy_csl']),\n",
       "                                                 ('numerical',\n",
       "                                                  Pipeline(steps=[('numerical_imputer',\n",
       "                                                                   KBinsDiscretizer(n_bins=6,\n",
       "                                                                                    strategy='uniform'))]),\n",
       "                                                  ['age'])]))])</pre></div></div></div><div class=\"sk-serial\"><div class=\"sk-item sk-dashed-wrapped\"><div class=\"sk-label-container\"><div class=\"sk-label sk-toggleable\"><input class=\"sk-toggleable__control sk-hidden--visually\" id=\"c66dcfce-d77a-4980-ac70-ce4cdd4070ae\" type=\"checkbox\" ><label class=\"sk-toggleable__label\" for=\"c66dcfce-d77a-4980-ac70-ce4cdd4070ae\">preprocessor: ColumnTransformer</label><div class=\"sk-toggleable__content\"><pre>ColumnTransformer(remainder='passthrough',\n",
       "                  transformers=[('drop_columns', 'drop',\n",
       "                                 ['policy_bind_date', 'policy_number',\n",
       "                                  'incident_date', 'incident_type',\n",
       "                                  'collision_type', 'policy_state',\n",
       "                                  'incident_location', 'auto_model',\n",
       "                                  'auto_year', 'property_damage',\n",
       "                                  'police_report_available', 'insured_zip',\n",
       "                                  'total_claim_amount', 'policy_deductable',\n",
       "                                  'umbrella_limit', 'capital_g...\n",
       "                                 Pipeline(steps=[('multinomial_imputer',\n",
       "                                                  OneHotEncoder(handle_unknown='ignore'))]),\n",
       "                                 ['authorities_contacted', 'auto_make',\n",
       "                                  'incident_city', 'incident_severity',\n",
       "                                  'incident_state', 'insured_education_level',\n",
       "                                  'insured_hobbies', 'insured_occupation',\n",
       "                                  'insured_relationship', 'policy_csl']),\n",
       "                                ('numerical',\n",
       "                                 Pipeline(steps=[('numerical_imputer',\n",
       "                                                  KBinsDiscretizer(n_bins=6,\n",
       "                                                                   strategy='uniform'))]),\n",
       "                                 ['age'])])</pre></div></div></div><div class=\"sk-parallel\"><div class=\"sk-parallel-item\"><div class=\"sk-item\"><div class=\"sk-label-container\"><div class=\"sk-label sk-toggleable\"><input class=\"sk-toggleable__control sk-hidden--visually\" id=\"451eb3d6-e7ab-4ced-a5ac-32a69b482832\" type=\"checkbox\" ><label class=\"sk-toggleable__label\" for=\"451eb3d6-e7ab-4ced-a5ac-32a69b482832\">drop_columns</label><div class=\"sk-toggleable__content\"><pre>['policy_bind_date', 'policy_number', 'incident_date', 'incident_type', 'collision_type', 'policy_state', 'incident_location', 'auto_model', 'auto_year', 'property_damage', 'police_report_available', 'insured_zip', 'total_claim_amount', 'policy_deductable', 'umbrella_limit', 'capital_gains', 'capital_loss']</pre></div></div></div><div class=\"sk-serial\"><div class=\"sk-item\"><div class=\"sk-estimator sk-toggleable\"><input class=\"sk-toggleable__control sk-hidden--visually\" id=\"b366aa05-8ab8-4157-ab3e-2c375c298f53\" type=\"checkbox\" ><label class=\"sk-toggleable__label\" for=\"b366aa05-8ab8-4157-ab3e-2c375c298f53\">drop</label><div class=\"sk-toggleable__content\"><pre>drop</pre></div></div></div></div></div></div><div class=\"sk-parallel-item\"><div class=\"sk-item\"><div class=\"sk-label-container\"><div class=\"sk-label sk-toggleable\"><input class=\"sk-toggleable__control sk-hidden--visually\" id=\"88fb9156-49ae-4f38-96d2-7fdcbb4be773\" type=\"checkbox\" ><label class=\"sk-toggleable__label\" for=\"88fb9156-49ae-4f38-96d2-7fdcbb4be773\">binaries</label><div class=\"sk-toggleable__content\"><pre>['insured_sex']</pre></div></div></div><div class=\"sk-serial\"><div class=\"sk-item\"><div class=\"sk-serial\"><div class=\"sk-item\"><div class=\"sk-estimator sk-toggleable\"><input class=\"sk-toggleable__control sk-hidden--visually\" id=\"a65aa215-94f1-4182-9463-4080a8982914\" type=\"checkbox\" ><label class=\"sk-toggleable__label\" for=\"a65aa215-94f1-4182-9463-4080a8982914\">OrdinalEncoder</label><div class=\"sk-toggleable__content\"><pre>OrdinalEncoder(dtype=<class 'numpy.int64'>)</pre></div></div></div></div></div></div></div></div><div class=\"sk-parallel-item\"><div class=\"sk-item\"><div class=\"sk-label-container\"><div class=\"sk-label sk-toggleable\"><input class=\"sk-toggleable__control sk-hidden--visually\" id=\"c91e12cb-1d52-4cb3-a3b3-8ec66b811ed4\" type=\"checkbox\" ><label class=\"sk-toggleable__label\" for=\"c91e12cb-1d52-4cb3-a3b3-8ec66b811ed4\">multinomial</label><div class=\"sk-toggleable__content\"><pre>['authorities_contacted', 'auto_make', 'incident_city', 'incident_severity', 'incident_state', 'insured_education_level', 'insured_hobbies', 'insured_occupation', 'insured_relationship', 'policy_csl']</pre></div></div></div><div class=\"sk-serial\"><div class=\"sk-item\"><div class=\"sk-serial\"><div class=\"sk-item\"><div class=\"sk-estimator sk-toggleable\"><input class=\"sk-toggleable__control sk-hidden--visually\" id=\"63e93109-81f6-4502-bf89-6a4f1ae927bd\" type=\"checkbox\" ><label class=\"sk-toggleable__label\" for=\"63e93109-81f6-4502-bf89-6a4f1ae927bd\">OneHotEncoder</label><div class=\"sk-toggleable__content\"><pre>OneHotEncoder(handle_unknown='ignore')</pre></div></div></div></div></div></div></div></div><div class=\"sk-parallel-item\"><div class=\"sk-item\"><div class=\"sk-label-container\"><div class=\"sk-label sk-toggleable\"><input class=\"sk-toggleable__control sk-hidden--visually\" id=\"e7901698-0168-41fd-aa99-2ef3c91acc51\" type=\"checkbox\" ><label class=\"sk-toggleable__label\" for=\"e7901698-0168-41fd-aa99-2ef3c91acc51\">numerical</label><div class=\"sk-toggleable__content\"><pre>['age']</pre></div></div></div><div class=\"sk-serial\"><div class=\"sk-item\"><div class=\"sk-serial\"><div class=\"sk-item\"><div class=\"sk-estimator sk-toggleable\"><input class=\"sk-toggleable__control sk-hidden--visually\" id=\"7635493a-d37a-4a1a-915c-08e75765245f\" type=\"checkbox\" ><label class=\"sk-toggleable__label\" for=\"7635493a-d37a-4a1a-915c-08e75765245f\">KBinsDiscretizer</label><div class=\"sk-toggleable__content\"><pre>KBinsDiscretizer(n_bins=6, strategy='uniform')</pre></div></div></div></div></div></div></div></div></div></div></div></div></div></div>"
      ],
      "text/plain": [
       "Pipeline(steps=[('preprocessor',\n",
       "                 ColumnTransformer(remainder='passthrough',\n",
       "                                   transformers=[('drop_columns', 'drop',\n",
       "                                                  ['policy_bind_date',\n",
       "                                                   'policy_number',\n",
       "                                                   'incident_date',\n",
       "                                                   'incident_type',\n",
       "                                                   'collision_type',\n",
       "                                                   'policy_state',\n",
       "                                                   'incident_location',\n",
       "                                                   'auto_model', 'auto_year',\n",
       "                                                   'property_damage',\n",
       "                                                   'police_report_available',\n",
       "                                                   'insured_zip',\n",
       "                                                   'total_claim_amount',\n",
       "                                                   'policy_deducta...\n",
       "                                                  Pipeline(steps=[('multinomial_imputer',\n",
       "                                                                   OneHotEncoder(handle_unknown='ignore'))]),\n",
       "                                                  ['authorities_contacted',\n",
       "                                                   'auto_make', 'incident_city',\n",
       "                                                   'incident_severity',\n",
       "                                                   'incident_state',\n",
       "                                                   'insured_education_level',\n",
       "                                                   'insured_hobbies',\n",
       "                                                   'insured_occupation',\n",
       "                                                   'insured_relationship',\n",
       "                                                   'policy_csl']),\n",
       "                                                 ('numerical',\n",
       "                                                  Pipeline(steps=[('numerical_imputer',\n",
       "                                                                   KBinsDiscretizer(n_bins=6,\n",
       "                                                                                    strategy='uniform'))]),\n",
       "                                                  ['age'])]))])"
      ]
     },
     "execution_count": 8,
     "metadata": {},
     "output_type": "execute_result"
    }
   ],
   "source": [
    "preprocess_pipe"
   ]
  },
  {
   "cell_type": "markdown",
   "metadata": {},
   "source": [
    "### Test Preprocessor"
   ]
  },
  {
   "cell_type": "code",
   "execution_count": 9,
   "metadata": {
    "ExecuteTime": {
     "end_time": "2020-05-26T14:20:13.783328Z",
     "start_time": "2020-05-26T14:20:13.704326Z"
    }
   },
   "outputs": [
    {
     "data": {
      "text/plain": [
       "array([[1.00000e+00, 0.00000e+00, 0.00000e+00, 0.00000e+00, 0.00000e+00,\n",
       "        1.00000e+00, 0.00000e+00, 0.00000e+00, 0.00000e+00, 0.00000e+00,\n",
       "        0.00000e+00, 0.00000e+00, 0.00000e+00, 0.00000e+00, 0.00000e+00,\n",
       "        0.00000e+00, 1.00000e+00, 0.00000e+00, 0.00000e+00, 0.00000e+00,\n",
       "        0.00000e+00, 1.00000e+00, 0.00000e+00, 0.00000e+00, 0.00000e+00,\n",
       "        0.00000e+00, 0.00000e+00, 1.00000e+00, 0.00000e+00, 0.00000e+00,\n",
       "        0.00000e+00, 0.00000e+00, 0.00000e+00, 0.00000e+00, 0.00000e+00,\n",
       "        1.00000e+00, 0.00000e+00, 0.00000e+00, 0.00000e+00, 0.00000e+00,\n",
       "        0.00000e+00, 0.00000e+00, 1.00000e+00, 0.00000e+00, 0.00000e+00,\n",
       "        0.00000e+00, 0.00000e+00, 0.00000e+00, 0.00000e+00, 0.00000e+00,\n",
       "        0.00000e+00, 0.00000e+00, 0.00000e+00, 0.00000e+00, 0.00000e+00,\n",
       "        0.00000e+00, 0.00000e+00, 0.00000e+00, 0.00000e+00, 0.00000e+00,\n",
       "        0.00000e+00, 0.00000e+00, 1.00000e+00, 0.00000e+00, 0.00000e+00,\n",
       "        0.00000e+00, 0.00000e+00, 1.00000e+00, 0.00000e+00, 0.00000e+00,\n",
       "        0.00000e+00, 0.00000e+00, 0.00000e+00, 0.00000e+00, 0.00000e+00,\n",
       "        0.00000e+00, 0.00000e+00, 0.00000e+00, 0.00000e+00, 1.00000e+00,\n",
       "        0.00000e+00, 0.00000e+00, 0.00000e+00, 0.00000e+00, 0.00000e+00,\n",
       "        0.00000e+00, 1.00000e+00, 0.00000e+00, 0.00000e+00, 0.00000e+00,\n",
       "        0.00000e+00, 1.00000e+00, 0.00000e+00, 0.00000e+00, 1.00000e+00,\n",
       "        5.00000e+00, 6.51000e+03, 3.28000e+02, 1.00000e+00, 1.40691e+03,\n",
       "        1.30200e+04, 5.20800e+04, 2.00000e+00]])"
      ]
     },
     "execution_count": 9,
     "metadata": {},
     "output_type": "execute_result"
    }
   ],
   "source": [
    "testcase = X.iloc[[0]]\n",
    "fit = preprocess_pipe.fit(X)\n",
    "test = fit.transform(testcase)\n",
    "test.toarray()"
   ]
  },
  {
   "cell_type": "markdown",
   "metadata": {},
   "source": [
    "**Comment**: The pipeline reproduces Pre-processing steps correctly. \n",
    "\n",
    "Let's dump it"
   ]
  },
  {
   "cell_type": "code",
   "execution_count": 10,
   "metadata": {
    "ExecuteTime": {
     "end_time": "2020-05-26T14:20:15.531854Z",
     "start_time": "2020-05-26T14:20:15.479349Z"
    }
   },
   "outputs": [
    {
     "name": "stdout",
     "output_type": "stream",
     "text": [
      "Dump preprocessor with pickle...\n"
     ]
    }
   ],
   "source": [
    "preprocessor = preprocess_pipe.fit(X)\n",
    "print('Dump preprocessor with pickle...')\n",
    "# dump model with pickle\n",
    "with open(models + 'preprocessor.pkl', 'wb') as pkl:\n",
    "    pickle.dump(preprocessor, pkl)"
   ]
  },
  {
   "cell_type": "markdown",
   "metadata": {},
   "source": [
    "## Create the model package"
   ]
  },
  {
   "cell_type": "code",
   "execution_count": 11,
   "metadata": {
    "ExecuteTime": {
     "end_time": "2020-05-26T14:20:17.112362Z",
     "start_time": "2020-05-26T14:20:17.104366Z"
    }
   },
   "outputs": [],
   "source": [
    "chmp_dir = \"\".join([src, 'champion'])\n",
    "if not os.path.exists(chmp_dir):\n",
    "    os.mkdir(chmp_dir)"
   ]
  },
  {
   "cell_type": "code",
   "execution_count": 12,
   "metadata": {
    "ExecuteTime": {
     "end_time": "2020-05-26T14:20:18.204330Z",
     "start_time": "2020-05-26T14:20:18.193828Z"
    }
   },
   "outputs": [
    {
     "data": {
      "text/plain": [
       "0.247"
      ]
     },
     "execution_count": 12,
     "metadata": {},
     "output_type": "execute_result"
    }
   ],
   "source": [
    "#Misclassification threshold\n",
    "oe = OrdinalEncoder()\n",
    "oe.fit(y)\n",
    "oe.transform(y)\n",
    "y = oe.transform(y)\n",
    "\n",
    "prob_threshold = np.mean(y)\n",
    "prob_threshold"
   ]
  },
  {
   "cell_type": "markdown",
   "metadata": {},
   "source": [
    "### Score Function"
   ]
  },
  {
   "cell_type": "markdown",
   "metadata": {},
   "source": [
    "#### score"
   ]
  },
  {
   "cell_type": "code",
   "execution_count": 13,
   "metadata": {
    "ExecuteTime": {
     "end_time": "2020-05-26T14:20:20.237719Z",
     "start_time": "2020-05-26T14:20:20.221214Z"
    }
   },
   "outputs": [],
   "source": [
    "def score(age, authorities_contacted, auto_make, auto_model, auto_year, bodily_injuries, capital_gains, capital_loss, collision_type, incident_city, incident_date, incident_hour_of_the_day, incident_location, incident_severity, incident_state, incident_type, injury_claim, insured_education_level, insured_hobbies, insured_occupation, insured_relationship, insured_sex, insured_zip, months_as_customer, number_of_vehicles_involved, police_report_available, policy_annual_premium, policy_bind_date, policy_csl, policy_deductable, policy_number, policy_state, property_claim, property_damage, total_claim_amount, umbrella_limit, vehicle_claim, witnesses):\n",
    "    \"Output: EVENT_PROBABILITY, CLASSIFICATION_LABEL\"\n",
    "    \n",
    "    # Define the misclassification threshold\n",
    "    prob_threshold = 0.247\n",
    "\n",
    "    # Initiate model\n",
    "    try:\n",
    "        _ModelPreprocessFit\n",
    "        _ModelFit\n",
    "\n",
    "    except NameError:\n",
    "\n",
    "        _pModelPreprocessingFile = open(\"../models/preprocessor.pkl\", \"rb\")\n",
    "        _ModelPreprocessingFit = pickle.load(_pModelPreprocessingFile)\n",
    "        _pModelPreprocessingFile.close()\n",
    "\n",
    "        _pModelFile = open(\"../models/model.pkl\", \"rb\")\n",
    "        _ModelFit = pickle.load(_pModelFile)\n",
    "        _pModelFile.close()\n",
    "\n",
    "    # Construct the input array for scoring\n",
    "    input_array = pd.DataFrame([[age, authorities_contacted, auto_make, auto_model, auto_year, bodily_injuries,\n",
    "                                     capital_gains, capital_loss, collision_type, incident_city, incident_date,\n",
    "                                     incident_hour_of_the_day, incident_location, incident_severity, incident_state,\n",
    "                                     incident_type, injury_claim, insured_education_level, insured_hobbies,\n",
    "                                     insured_occupation, insured_relationship, insured_sex, insured_zip,\n",
    "                                     months_as_customer, number_of_vehicles_involved, police_report_available,\n",
    "                                     policy_annual_premium, policy_bind_date, policy_csl, policy_deductable,\n",
    "                                     policy_number, policy_state, property_claim, property_damage, total_claim_amount,\n",
    "                                     umbrella_limit, vehicle_claim, witnesses]],\n",
    "\n",
    "                                   columns=['age', 'authorities_contacted', 'auto_make', 'auto_model', 'auto_year', 'bodily_injuries',\n",
    "                                            'capital_gains', 'capital_loss', 'collision_type', 'incident_city', 'incident_date',\n",
    "                                            'incident_hour_of_the_day', 'incident_location', 'incident_severity', 'incident_state',\n",
    "                                            'incident_type', 'injury_claim', 'insured_education_level', 'insured_hobbies', 'insured_occupation',\n",
    "                                            'insured_relationship', 'insured_sex', 'insured_zip', 'months_as_customer',\n",
    "                                            'number_of_vehicles_involved', 'police_report_available', 'policy_annual_premium', 'policy_bind_date',\n",
    "                                            'policy_csl', 'policy_deductable', 'policy_number', 'policy_state', 'property_claim',\n",
    "                                            'property_damage', 'total_claim_amount', 'umbrella_limit', 'vehicle_claim', 'witnesses'])\n",
    "\n",
    "    # Transform inputs\n",
    "\n",
    "    _transformed_inputs = _ModelPreprocessingFit.transform(input_array)\n",
    "\n",
    "    # Calculate the predicted probabilities\n",
    "    \n",
    "    _pred_proba = _ModelFit.predict(_transformed_inputs)\n",
    "\n",
    "#     # Retrieve the event probability\n",
    "    EVENT_PROBABILITY = float(_pred_proba)\n",
    "\n",
    "#     # Determine the predicted target category\n",
    "    if (EVENT_PROBABILITY >= prob_threshold):\n",
    "        CLASSIFICATION_LABEL = '1'\n",
    "    else:\n",
    "        CLASSIFICATION_LABEL = '0'\n",
    "\n",
    "    return(EVENT_PROBABILITY, CLASSIFICATION_LABEL)"
   ]
  },
  {
   "cell_type": "markdown",
   "metadata": {},
   "source": [
    "#### Unit test the score code"
   ]
  },
  {
   "cell_type": "code",
   "execution_count": 14,
   "metadata": {
    "ExecuteTime": {
     "end_time": "2020-05-26T14:20:22.283237Z",
     "start_time": "2020-05-26T14:20:22.223741Z"
    }
   },
   "outputs": [],
   "source": [
    "testcase = score(48, 'Police', 'Saab', '92x', 2004, 1, 53300, 0, 'Side Collision',\n",
    "                                   'Columbus', '2015-01-25', 5, '9935 4th Drive', 'Major Damage',\n",
    "                                   'SC', 'Single Vehicle Collision', 6510, 'MD', 'sleeping',\n",
    "                                   'craft-repair', 'husband', 'MALE', 466132, 328, 1, 'YES',\n",
    "                                   1406.91, '2014-10-17', '250/500', 1000, 521585, 'OH', 13020,\n",
    "                                   'YES', 71610, 0, 52080, 2.0)\n",
    "\n",
    "scoreOut = pd.DataFrame([testcase], columns=[\"EVENT_PROBABILITY\", \"CLASSIFICATION_LABEL\"])\n",
    "\n",
    "# class Compiler(unittest.TestCase):\n",
    "\n",
    "#     def BasicTest(self):\n",
    "\n",
    "#         self.assertTrue(bool(score(48, 'Police', 'Saab', '92x', 2004, 1, 53300, 0, 'Side Collision',\n",
    "#                                    'Columbus', '2015-01-25', 5, '9935 4th Drive', 'Major Damage',\n",
    "#                                    'SC', 'Single Vehicle Collision', 6510, 'MD', 'sleeping',\n",
    "#                                    'craft-repair', 'husband', 'MALE', 466132, 328, 1, 'YES',\n",
    "#                                    1406.91, '2014-10-17', '250/500', 1000, 521585, 'OH', 13020,\n",
    "#                                    'YES', 71610, 0, 52080, 2)))\n",
    "\n",
    "\n",
    "# unittest.main(argv=['first-arg-is-ignored'], exit=False)"
   ]
  },
  {
   "cell_type": "markdown",
   "metadata": {},
   "source": [
    "#### Write the score.py\n",
    "\n",
    "Based on the documentation :\n",
    "\n",
    "https://go.documentation.sas.com/?docsetId=mdlmgrug&docsetTarget=n04i7s6bdu7ilgn1e350am3byuxx.htm&docsetVersion=15.3&locale=en, \n",
    "\n",
    "we write the function to score the model on SAS Viya Platform"
   ]
  },
  {
   "cell_type": "code",
   "execution_count": 15,
   "metadata": {
    "ExecuteTime": {
     "end_time": "2020-05-26T14:20:24.562270Z",
     "start_time": "2020-05-26T14:20:24.549264Z"
    }
   },
   "outputs": [
    {
     "name": "stdout",
     "output_type": "stream",
     "text": [
      "Overwriting ../src/champion/score.py\n"
     ]
    }
   ],
   "source": [
    "%%writefile ../src/champion/score.py\n",
    "\n",
    "import pandas as pd\n",
    "import lightgbm\n",
    "import pickle\n",
    "\n",
    "def score(age, authorities_contacted, auto_make, auto_model, auto_year, bodily_injuries, capital_gains, capital_loss, collision_type, incident_city, incident_date, incident_hour_of_the_day, incident_location, incident_severity, incident_state, incident_type, injury_claim, insured_education_level, insured_hobbies, insured_occupation, insured_relationship, insured_sex, insured_zip, months_as_customer, number_of_vehicles_involved, police_report_available, policy_annual_premium, policy_bind_date, policy_csl, policy_deductable, policy_number, policy_state, property_claim, property_damage, total_claim_amount, umbrella_limit, vehicle_claim, witnesses):\n",
    "    \"Output: EVENT_PROBABILITY, CLASSIFICATION_LABEL\"\n",
    "    \n",
    "    # Define the misclassification threshold\n",
    "    prob_threshold = 0.247\n",
    "\n",
    "    # Initiate model\n",
    "    try:\n",
    "        _ModelPreprocessFit\n",
    "        _ModelFit\n",
    "\n",
    "    except NameError:\n",
    "\n",
    "        _pModelPreprocessingFile = open(\"/models/resources/viya/<Model-UUID>/preprocessor.pkl\", \"rb\")\n",
    "        _ModelPreprocessingFit = pickle.load(_pModelPreprocessingFile)\n",
    "        _pModelPreprocessingFile.close()\n",
    "\n",
    "        _pModelFile = open(\"/models/resources/viya/<Model-UUID>/model.pkl\", \"rb\")\n",
    "        _ModelFit = pickle.load(_pModelFile)\n",
    "        _pModelFile.close()\n",
    "\n",
    "    # Construct the input array for scoring\n",
    "    input_array = pd.DataFrame([[age, authorities_contacted, auto_make, auto_model, auto_year, bodily_injuries,\n",
    "                                     capital_gains, capital_loss, collision_type, incident_city, incident_date,\n",
    "                                     incident_hour_of_the_day, incident_location, incident_severity, incident_state,\n",
    "                                     incident_type, injury_claim, insured_education_level, insured_hobbies,\n",
    "                                     insured_occupation, insured_relationship, insured_sex, insured_zip,\n",
    "                                     months_as_customer, number_of_vehicles_involved, police_report_available,\n",
    "                                     policy_annual_premium, policy_bind_date, policy_csl, policy_deductable,\n",
    "                                     policy_number, policy_state, property_claim, property_damage, total_claim_amount,\n",
    "                                     umbrella_limit, vehicle_claim, witnesses]],\n",
    "\n",
    "                                   columns=['age', 'authorities_contacted', 'auto_make', 'auto_model', 'auto_year', 'bodily_injuries',\n",
    "                                            'capital_gains', 'capital_loss', 'collision_type', 'incident_city', 'incident_date',\n",
    "                                            'incident_hour_of_the_day', 'incident_location', 'incident_severity', 'incident_state',\n",
    "                                            'incident_type', 'injury_claim', 'insured_education_level', 'insured_hobbies', 'insured_occupation',\n",
    "                                            'insured_relationship', 'insured_sex', 'insured_zip', 'months_as_customer',\n",
    "                                            'number_of_vehicles_involved', 'police_report_available', 'policy_annual_premium', 'policy_bind_date',\n",
    "                                            'policy_csl', 'policy_deductable', 'policy_number', 'policy_state', 'property_claim',\n",
    "                                            'property_damage', 'total_claim_amount', 'umbrella_limit', 'vehicle_claim', 'witnesses'])\n",
    "\n",
    "    # Transform inputs\n",
    "\n",
    "    _transformed_inputs = _ModelPreprocessingFit.transform(input_array)\n",
    "\n",
    "    # Calculate the predicted probabilities\n",
    "    \n",
    "    _pred_proba = _ModelFit.predict(_transformed_inputs)\n",
    "\n",
    "#     # Retrieve the event probability\n",
    "    EVENT_PROBABILITY = float(_pred_proba)\n",
    "\n",
    "#     # Determine the predicted target category\n",
    "    if (EVENT_PROBABILITY >= prob_threshold):\n",
    "        CLASSIFICATION_LABEL = '1'\n",
    "    else:\n",
    "        CLASSIFICATION_LABEL = '0'\n",
    "\n",
    "    return(EVENT_PROBABILITY, CLASSIFICATION_LABEL)"
   ]
  },
  {
   "cell_type": "markdown",
   "metadata": {},
   "source": [
    "### Model.pkl file"
   ]
  },
  {
   "cell_type": "code",
   "execution_count": 17,
   "metadata": {
    "ExecuteTime": {
     "end_time": "2020-05-26T14:21:10.524110Z",
     "start_time": "2020-05-26T14:21:10.508572Z"
    }
   },
   "outputs": [
    {
     "data": {
      "text/plain": [
       "['fileMetadata.json',\n",
       " 'inputVar.json',\n",
       " 'LightGBM.zip',\n",
       " 'model.pkl',\n",
       " 'ModelProperties.json',\n",
       " 'outputVar.json',\n",
       " 'preprocessor.pkl',\n",
       " 'score.py']"
      ]
     },
     "execution_count": 17,
     "metadata": {},
     "output_type": "execute_result"
    }
   ],
   "source": [
    "for filePath in glob.glob(models + '*'):\n",
    "    shutil.copy(filePath, chmp_dir)\n",
    "    \n",
    "os.listdir(chmp_dir)"
   ]
  },
  {
   "cell_type": "markdown",
   "metadata": {},
   "source": [
    "### Model Metadata "
   ]
  },
  {
   "cell_type": "code",
   "execution_count": 18,
   "metadata": {
    "ExecuteTime": {
     "end_time": "2020-05-26T14:21:14.587334Z",
     "start_time": "2020-05-26T14:21:14.580835Z"
    }
   },
   "outputs": [],
   "source": [
    "JSONFiles = JSONFiles()"
   ]
  },
  {
   "cell_type": "markdown",
   "metadata": {},
   "source": [
    "#### inputVar.json"
   ]
  },
  {
   "cell_type": "code",
   "execution_count": 19,
   "metadata": {
    "ExecuteTime": {
     "end_time": "2020-05-26T14:21:15.676847Z",
     "start_time": "2020-05-26T14:21:15.486838Z"
    }
   },
   "outputs": [],
   "source": [
    "JSONFiles.writeVarJSON(X, isInput=True, jPath=chmp_dir)"
   ]
  },
  {
   "cell_type": "markdown",
   "metadata": {
    "ExecuteTime": {
     "end_time": "2020-05-26T13:15:37.906408Z",
     "start_time": "2020-05-26T13:15:37.902913Z"
    }
   },
   "source": [
    "#### OutputVar.json"
   ]
  },
  {
   "cell_type": "code",
   "execution_count": 20,
   "metadata": {
    "ExecuteTime": {
     "end_time": "2020-05-26T14:21:17.043505Z",
     "start_time": "2020-05-26T14:21:17.017344Z"
    }
   },
   "outputs": [],
   "source": [
    "JSONFiles.writeVarJSON(scoreOut, isInput=False, jPath=chmp_dir)"
   ]
  },
  {
   "cell_type": "markdown",
   "metadata": {},
   "source": [
    "#### ModelProperties.json"
   ]
  },
  {
   "cell_type": "code",
   "execution_count": 21,
   "metadata": {
    "ExecuteTime": {
     "end_time": "2020-05-26T14:21:18.925722Z",
     "start_time": "2020-05-26T14:21:18.909722Z"
    }
   },
   "outputs": [],
   "source": [
    "modelName = 'LightGBM'\n",
    "\n",
    "JSONFiles.writeModelPropertiesJSON(modelName=modelName,\n",
    "                                   modelDesc='',\n",
    "                                   targetVariable=target,\n",
    "                                   modelType='tree',\n",
    "                                   modelPredictors=features,\n",
    "                                   targetEvent='1',\n",
    "                                   numTargetCategories=2,\n",
    "                                   eventProbVar='EVENT_PROBABILITY',\n",
    "                                   jPath=chmp_dir,\n",
    "                                   modeler='sasdemo')\n",
    "\n",
    "JSONFiles.writeFileMetadataJSON('', jPath=chmp_dir)"
   ]
  },
  {
   "cell_type": "markdown",
   "metadata": {},
   "source": [
    "### Zip the package"
   ]
  },
  {
   "cell_type": "code",
   "execution_count": 22,
   "metadata": {
    "ExecuteTime": {
     "end_time": "2020-05-26T14:21:54.513057Z",
     "start_time": "2020-05-26T14:21:54.479062Z"
    }
   },
   "outputs": [],
   "source": [
    "ZipModel.zipFiles(fileDir=chmp_dir, modelPrefix='LightGBM')"
   ]
  }
 ],
 "metadata": {
  "kernelspec": {
   "display_name": "Python 3",
   "language": "python",
   "name": "python3"
  },
  "language_info": {
   "codemirror_mode": {
    "name": "ipython",
    "version": 3
   },
   "file_extension": ".py",
   "mimetype": "text/x-python",
   "name": "python",
   "nbconvert_exporter": "python",
   "pygments_lexer": "ipython3",
   "version": "3.7.6"
  },
  "toc": {
   "base_numbering": 1,
   "nav_menu": {},
   "number_sections": true,
   "sideBar": true,
   "skip_h1_title": true,
   "title_cell": "Table of Contents",
   "title_sidebar": "Contents",
   "toc_cell": false,
   "toc_position": {},
   "toc_section_display": true,
   "toc_window_display": true
  }
 },
 "nbformat": 4,
 "nbformat_minor": 4
}
