{
 "cells": [
  {
   "cell_type": "markdown",
   "metadata": {},
   "source": [
    "# Insurance Fraud Claims Detection\n",
    "\n",
    "In this notebook, I'm going to select the most relevant features along the ones I get from the engineering step\n",
    "\n",
    "Because I did not spend too much time on feature engineering, I'll try just two methods:\n",
    "\n",
    "1. L1-based feature selection.\n",
    "2. Tree-based feature selection. \n",
    "\n",
    "Cause it does not require strong assumptions about the distributions of variables"
   ]
  },
  {
   "cell_type": "markdown",
   "metadata": {},
   "source": [
    "## Libraries and enviroment"
   ]
  },
  {
   "cell_type": "code",
   "execution_count": 1,
   "metadata": {
    "ExecuteTime": {
     "end_time": "2020-06-17T10:00:14.628170Z",
     "start_time": "2020-06-17T10:00:13.047272Z"
    }
   },
   "outputs": [],
   "source": [
    "# Data Sciences\n",
    "import numpy as np # linear algebra\n",
    "import pandas as pd # data processing, CSV file I/O (e.g. pd.read_csv)\n",
    "\n",
    "from sklearn.feature_selection import SelectFromModel\n",
    "from sklearn.ensemble import ExtraTreesClassifier\n",
    "from sklearn.linear_model import LogisticRegression\n",
    "\n",
    "# Plot\n",
    "\n",
    "import matplotlib.pyplot as plt\n",
    "%matplotlib inline\n",
    "import seaborn as sns\n",
    "\n",
    "#Utils\n",
    "import os\n",
    "import pprint\n",
    "\n",
    "# Set notebook\n",
    "pd.set_option('display.max_rows', 500)\n",
    "pd.set_option('display.max_columns', 500)\n",
    "pd.set_option('display.width', 1000)\n",
    "\n",
    "import warnings\n",
    "warnings.simplefilter(action='ignore')"
   ]
  },
  {
   "cell_type": "code",
   "execution_count": 2,
   "metadata": {
    "ExecuteTime": {
     "end_time": "2020-06-17T10:00:15.178411Z",
     "start_time": "2020-06-17T10:00:15.175419Z"
    }
   },
   "outputs": [],
   "source": [
    "raw = '../data/raw/insurance_claims.csv'\n",
    "interim = '../data/interim/'\n",
    "processed= '../data/processed/'\n",
    "models= '../models/'"
   ]
  },
  {
   "cell_type": "markdown",
   "metadata": {},
   "source": [
    "## Data preparation"
   ]
  },
  {
   "cell_type": "code",
   "execution_count": 3,
   "metadata": {
    "ExecuteTime": {
     "end_time": "2020-06-17T10:00:26.702868Z",
     "start_time": "2020-06-17T10:00:26.677875Z"
    }
   },
   "outputs": [],
   "source": [
    "data = pd.read_csv(processed + 'data_final.csv')"
   ]
  },
  {
   "cell_type": "markdown",
   "metadata": {},
   "source": [
    "## Feature Selection"
   ]
  },
  {
   "cell_type": "markdown",
   "metadata": {},
   "source": [
    "### Filter Method: Correlation Matrix"
   ]
  },
  {
   "cell_type": "code",
   "execution_count": 4,
   "metadata": {
    "ExecuteTime": {
     "end_time": "2020-06-17T10:00:32.415624Z",
     "start_time": "2020-06-17T10:00:32.407625Z"
    }
   },
   "outputs": [
    {
     "data": {
      "text/plain": [
       "(999, 56)"
      ]
     },
     "execution_count": 4,
     "metadata": {},
     "output_type": "execute_result"
    }
   ],
   "source": [
    "data.shape"
   ]
  },
  {
   "cell_type": "code",
   "execution_count": 5,
   "metadata": {
    "ExecuteTime": {
     "end_time": "2020-06-17T10:00:37.625850Z",
     "start_time": "2020-06-17T10:00:37.606846Z"
    }
   },
   "outputs": [],
   "source": [
    "#calculate correlations \n",
    "corr_matrix = data.corr()\n",
    "corr_features = corr_matrix.index"
   ]
  },
  {
   "cell_type": "code",
   "execution_count": 6,
   "metadata": {
    "ExecuteTime": {
     "end_time": "2020-06-17T10:01:03.618475Z",
     "start_time": "2020-06-17T10:01:03.607480Z"
    }
   },
   "outputs": [
    {
     "data": {
      "text/plain": [
       "total_claim_amount              0.164781\n",
       "fraud_reported                  1.000000\n",
       "policy_annual_premium_groups    0.117394\n",
       "insured_hobbies_chess           0.294781\n",
       "insured_hobbies_cross-fit       0.218899\n",
       "insured_hobbies_others          0.373792\n",
       "incident_type_Parked Car        0.106760\n",
       "incident_type_Vehicle Theft     0.121127\n",
       "collision_type_missing          0.169840\n",
       "authorities_contacted_None      0.133050\n",
       "Name: fraud_reported, dtype: float64"
      ]
     },
     "execution_count": 6,
     "metadata": {},
     "output_type": "execute_result"
    }
   ],
   "source": [
    "#Correlation with fraud reported\n",
    "corr_target = abs(corr_matrix['fraud_reported'])\n",
    "#Filter for relevance\n",
    "correlated_features = corr_target[corr_target>0.10]\n",
    "correlated_features"
   ]
  },
  {
   "cell_type": "markdown",
   "metadata": {},
   "source": [
    "**Comment**: Not insightful result"
   ]
  },
  {
   "cell_type": "markdown",
   "metadata": {},
   "source": [
    "### Embedded Method : L1-based feature selection and Tree-based feature selection"
   ]
  },
  {
   "cell_type": "code",
   "execution_count": 7,
   "metadata": {
    "ExecuteTime": {
     "end_time": "2020-06-17T10:08:16.652120Z",
     "start_time": "2020-06-17T10:08:16.607868Z"
    }
   },
   "outputs": [],
   "source": [
    "X = pd.read_csv(processed + 'X_final.csv')\n",
    "y = pd.read_csv(processed + 'y_final.csv')"
   ]
  },
  {
   "cell_type": "markdown",
   "metadata": {},
   "source": [
    "#### L1-based feature selection"
   ]
  },
  {
   "cell_type": "markdown",
   "metadata": {},
   "source": [
    "**Fit Model selector**"
   ]
  },
  {
   "cell_type": "code",
   "execution_count": 8,
   "metadata": {
    "ExecuteTime": {
     "end_time": "2020-06-17T10:08:20.900402Z",
     "start_time": "2020-06-17T10:08:20.892410Z"
    }
   },
   "outputs": [
    {
     "data": {
      "text/plain": [
       "Index(['umbrella_limit', 'capital_gains', 'capital_loss', 'incident_severity', 'incident_hour_of_the_day', 'number_of_vehicles_involved', 'bodily_injuries', 'witnesses', 'total_claim_amount', 'policy_deductable_group', 'policy_annual_premium_groups', 'insured_sex_FEMALE', 'insured_sex_MALE', 'insured_hobbies_chess', 'insured_hobbies_cross-fit', 'insured_hobbies_others', 'incident_type_Multi-vehicle Collision', 'incident_type_Parked Car', 'incident_type_Single Vehicle Collision', 'incident_type_Vehicle Theft', 'collision_type_Front Collision', 'collision_type_Rear Collision', 'collision_type_Side Collision', 'collision_type_missing', 'authorities_contacted_Ambulance', 'authorities_contacted_Fire', 'authorities_contacted_None', 'authorities_contacted_Other', 'authorities_contacted_Police', 'property_damage_NO', 'property_damage_YES', 'property_damage_missing', 'police_report_available_NO', 'police_report_available_YES', 'police_report_available_missing', 'age_groups_15-20',\n",
       "       'age_groups_21-25', 'age_groups_26-30', 'age_groups_31-35', 'age_groups_36-40', 'age_groups_41-45', 'age_groups_46-50', 'age_groups_51-55', 'age_groups_56-60', 'age_groups_61-65', 'months_as_customer_groups_0-50', 'months_as_customer_groups_51-100', 'months_as_customer_groups_101-150', 'months_as_customer_groups_151-200', 'months_as_customer_groups_201-250', 'months_as_customer_groups_251-300', 'months_as_customer_groups_301-350', 'months_as_customer_groups_351-400', 'months_as_customer_groups_401-450', 'months_as_customer_groups_451-500'],\n",
       "      dtype='object')"
      ]
     },
     "execution_count": 8,
     "metadata": {},
     "output_type": "execute_result"
    }
   ],
   "source": [
    "X.columns"
   ]
  },
  {
   "cell_type": "code",
   "execution_count": 10,
   "metadata": {
    "ExecuteTime": {
     "end_time": "2020-06-17T10:08:30.789421Z",
     "start_time": "2020-06-17T10:08:30.761389Z"
    }
   },
   "outputs": [],
   "source": [
    "logit = LogisticRegression(penalty='l1', solver='liblinear', random_state=0)\n",
    "logit.fit(X, y)\n",
    "coeffs = pd.Series(logit.coef_[0], index=X.columns)"
   ]
  },
  {
   "cell_type": "markdown",
   "metadata": {},
   "source": [
    "**Check for Variables importance**"
   ]
  },
  {
   "cell_type": "code",
   "execution_count": 20,
   "metadata": {
    "ExecuteTime": {
     "end_time": "2020-06-17T10:08:34.051263Z",
     "start_time": "2020-06-17T10:08:34.038264Z"
    }
   },
   "outputs": [
    {
     "data": {
      "text/plain": [
       "insured_hobbies_others    2.258086\n",
       "collision_type_missing    0.803447\n",
       "age_groups_21-25          0.505864\n",
       "total_claim_amount        0.517884\n",
       "umbrella_limit            0.574828\n",
       "insured_hobbies_chess     0.768080\n",
       "dtype: float64"
      ]
     },
     "execution_count": 20,
     "metadata": {},
     "output_type": "execute_result"
    }
   ],
   "source": [
    "importances = abs(coeffs.sort_values())\n",
    "#Filter for relevance\n",
    "important_features = importances[importances>0.5]\n",
    "important_features"
   ]
  },
  {
   "cell_type": "code",
   "execution_count": 21,
   "metadata": {
    "ExecuteTime": {
     "end_time": "2020-06-17T10:08:44.988690Z",
     "start_time": "2020-06-17T10:08:44.620688Z"
    }
   },
   "outputs": [
    {
     "data": {
      "text/plain": [
       "<matplotlib.axes._subplots.AxesSubplot at 0x12885ff12b0>"
      ]
     },
     "execution_count": 21,
     "metadata": {},
     "output_type": "execute_result"
    },
    {
     "data": {
      "image/png": "[encoded data removed]",
      "text/plain": [
       "<Figure size 432x288 with 1 Axes>"
      ]
     },
     "metadata": {
      "needs_background": "light"
     },
     "output_type": "display_data"
    }
   ],
   "source": [
    "plt.title(\"Feature importance using Logistic Regression\")\n",
    "important_features.sort_values().plot(kind = \"barh\")"
   ]
  },
  {
   "cell_type": "markdown",
   "metadata": {},
   "source": [
    "**Use selector**"
   ]
  },
  {
   "cell_type": "code",
   "execution_count": 22,
   "metadata": {
    "ExecuteTime": {
     "end_time": "2020-06-17T10:08:56.085623Z",
     "start_time": "2020-06-17T10:08:56.074621Z"
    }
   },
   "outputs": [
    {
     "data": {
      "text/plain": [
       "(999, 34)"
      ]
     },
     "execution_count": 22,
     "metadata": {},
     "output_type": "execute_result"
    }
   ],
   "source": [
    "selector_one = SelectFromModel(logit, prefit=True)\n",
    "X_one = selector_one.transform(X)\n",
    "X_one.shape"
   ]
  },
  {
   "cell_type": "code",
   "execution_count": 23,
   "metadata": {
    "ExecuteTime": {
     "end_time": "2020-06-17T10:08:57.982582Z",
     "start_time": "2020-06-17T10:08:57.969546Z"
    }
   },
   "outputs": [
    {
     "name": "stdout",
     "output_type": "stream",
     "text": [
      "total features: 55\n",
      "selected features: 34\n",
      "\n",
      " ['umbrella_limit' 'incident_severity' 'incident_hour_of_the_day'\n",
      " 'bodily_injuries' 'witnesses' 'total_claim_amount'\n",
      " 'policy_deductable_group' 'insured_sex_MALE' 'insured_hobbies_chess'\n",
      " 'insured_hobbies_cross-fit' 'insured_hobbies_others'\n",
      " 'incident_type_Single Vehicle Collision' 'incident_type_Vehicle Theft'\n",
      " 'collision_type_Front Collision' 'collision_type_Rear Collision'\n",
      " 'collision_type_missing' 'authorities_contacted_Fire'\n",
      " 'authorities_contacted_None' 'authorities_contacted_Other'\n",
      " 'property_damage_NO' 'property_damage_missing'\n",
      " 'police_report_available_NO' 'police_report_available_YES'\n",
      " 'age_groups_21-25' 'age_groups_31-35' 'age_groups_36-40'\n",
      " 'age_groups_46-50' 'age_groups_56-60' 'months_as_customer_groups_0-50'\n",
      " 'months_as_customer_groups_51-100' 'months_as_customer_groups_151-200'\n",
      " 'months_as_customer_groups_201-250' 'months_as_customer_groups_351-400'\n",
      " 'months_as_customer_groups_401-450']\n"
     ]
    }
   ],
   "source": [
    "selected_features_one = X.columns[(selector_one.get_support())]\n",
    "\n",
    "# let's print some stats\n",
    "print('total features: {}'.format((X.shape[1])))\n",
    "print('selected features: {}'.format(len(selected_features_one)))\n",
    "print('\\n', selected_features_one.values)"
   ]
  },
  {
   "cell_type": "markdown",
   "metadata": {},
   "source": [
    "#### Tree-based feature selection"
   ]
  },
  {
   "cell_type": "code",
   "execution_count": 24,
   "metadata": {
    "ExecuteTime": {
     "end_time": "2020-06-17T10:09:00.829978Z",
     "start_time": "2020-06-17T10:09:00.157358Z"
    }
   },
   "outputs": [
    {
     "data": {
      "text/plain": [
       "ExtraTreesClassifier(bootstrap=False, ccp_alpha=0.0, class_weight=None,\n",
       "                     criterion='gini', max_depth=None, max_features='auto',\n",
       "                     max_leaf_nodes=None, max_samples=None,\n",
       "                     min_impurity_decrease=0.0, min_impurity_split=None,\n",
       "                     min_samples_leaf=1, min_samples_split=2,\n",
       "                     min_weight_fraction_leaf=0.0, n_estimators=250,\n",
       "                     n_jobs=None, oob_score=False, random_state=0, verbose=0,\n",
       "                     warm_start=False)"
      ]
     },
     "execution_count": 24,
     "metadata": {},
     "output_type": "execute_result"
    }
   ],
   "source": [
    "forest = ExtraTreesClassifier(n_estimators=250,\n",
    "                              random_state=0)\n",
    "\n",
    "forest.fit(X, y)"
   ]
  },
  {
   "cell_type": "code",
   "execution_count": 25,
   "metadata": {
    "ExecuteTime": {
     "end_time": "2020-06-17T10:09:01.716742Z",
     "start_time": "2020-06-17T10:09:01.685234Z"
    }
   },
   "outputs": [
    {
     "data": {
      "text/plain": [
       "array([0.01984236, 0.02727308, 0.02734775, 0.02390768, 0.03365078,\n",
       "       0.01544244, 0.02646808, 0.03071776, 0.03631622, 0.02545373,\n",
       "       0.1559578 , 0.01498619, 0.0146835 , 0.04095548, 0.02576929,\n",
       "       0.07327366, 0.01057591, 0.00395305, 0.01150362, 0.00434388,\n",
       "       0.01325624, 0.01468752, 0.01205541, 0.00993651, 0.01417699,\n",
       "       0.01450241, 0.00548512, 0.01493634, 0.0140444 , 0.01307524,\n",
       "       0.01335732, 0.01327701, 0.01617486, 0.01688765, 0.01724797,\n",
       "       0.00182055, 0.00703084, 0.01001512, 0.01215259, 0.01268679,\n",
       "       0.01292358, 0.00757679, 0.00554343, 0.00630974, 0.00525412,\n",
       "       0.00980356, 0.01054691, 0.01255006, 0.01156802, 0.01495573,\n",
       "       0.01005427, 0.00736634, 0.0060928 , 0.00434812, 0.00587739])"
      ]
     },
     "execution_count": 25,
     "metadata": {},
     "output_type": "execute_result"
    }
   ],
   "source": [
    "importances = forest.feature_importances_\n",
    "importances"
   ]
  },
  {
   "cell_type": "code",
   "execution_count": 26,
   "metadata": {
    "ExecuteTime": {
     "end_time": "2020-06-17T10:09:02.595951Z",
     "start_time": "2020-06-17T10:09:02.333946Z"
    },
    "scrolled": true
   },
   "outputs": [
    {
     "name": "stdout",
     "output_type": "stream",
     "text": [
      "1. feature 10 (0.155958)\n",
      "2. feature 15 (0.073274)\n",
      "3. feature 13 (0.040955)\n",
      "4. feature 8 (0.036316)\n",
      "5. feature 4 (0.033651)\n",
      "6. feature 7 (0.030718)\n",
      "7. feature 2 (0.027348)\n",
      "8. feature 1 (0.027273)\n",
      "9. feature 6 (0.026468)\n",
      "10. feature 14 (0.025769)\n",
      "11. feature 9 (0.025454)\n",
      "12. feature 3 (0.023908)\n",
      "13. feature 0 (0.019842)\n",
      "14. feature 34 (0.017248)\n",
      "15. feature 33 (0.016888)\n",
      "16. feature 32 (0.016175)\n",
      "17. feature 5 (0.015442)\n",
      "18. feature 11 (0.014986)\n",
      "19. feature 49 (0.014956)\n",
      "20. feature 27 (0.014936)\n"
     ]
    },
    {
     "data": {
      "image/png": "[encoded data removed]",
      "text/plain": [
       "<Figure size 432x288 with 1 Axes>"
      ]
     },
     "metadata": {
      "needs_background": "light"
     },
     "output_type": "display_data"
    }
   ],
   "source": [
    "std = np.std([tree.feature_importances_ for tree in forest.estimators_],\n",
    "             axis=0)\n",
    "indices = np.argsort(importances, )[::-1]\n",
    "n_vars = 20\n",
    "    \n",
    "for f in range(n_vars):\n",
    "    print(\"%d. feature %d (%f)\" % (f + 1, indices[f], importances[indices[f]]))\n",
    "\n",
    "# Plot the first 10 impurity-based feature importances of the forest\n",
    "plt.figure()\n",
    "plt.title(\"Feature importances\")\n",
    "plt.bar(range(n_vars), importances[indices][:n_vars],\n",
    "        color=\"r\", yerr=std[indices][:n_vars], align=\"center\")\n",
    "plt.xticks(range(n_vars), indices)\n",
    "plt.xlim([-1, n_vars])\n",
    "plt.show()"
   ]
  },
  {
   "cell_type": "code",
   "execution_count": 27,
   "metadata": {
    "ExecuteTime": {
     "end_time": "2020-06-17T10:09:05.915540Z",
     "start_time": "2020-06-17T10:09:05.876542Z"
    }
   },
   "outputs": [
    {
     "data": {
      "text/plain": [
       "(999, 13)"
      ]
     },
     "execution_count": 27,
     "metadata": {},
     "output_type": "execute_result"
    }
   ],
   "source": [
    "selector_two = SelectFromModel(forest, prefit=True)\n",
    "X_two = selector_two.transform(X)\n",
    "X_two.shape"
   ]
  },
  {
   "cell_type": "code",
   "execution_count": 29,
   "metadata": {
    "ExecuteTime": {
     "end_time": "2020-06-17T10:09:07.338203Z",
     "start_time": "2020-06-17T10:09:07.295185Z"
    }
   },
   "outputs": [
    {
     "name": "stdout",
     "output_type": "stream",
     "text": [
      "total features: 55\n",
      "selected features: 13\n",
      "\n",
      " ['umbrella_limit' 'capital_gains' 'capital_loss' 'incident_severity'\n",
      " 'incident_hour_of_the_day' 'bodily_injuries' 'witnesses'\n",
      " 'total_claim_amount' 'policy_deductable_group'\n",
      " 'policy_annual_premium_groups' 'insured_hobbies_chess'\n",
      " 'insured_hobbies_cross-fit' 'insured_hobbies_others']\n"
     ]
    }
   ],
   "source": [
    "selected_features_two = X.columns[(selector_two.get_support())]\n",
    "\n",
    "# let's print some stats\n",
    "print('total features: {}'.format((X.shape[1])))\n",
    "print('selected features: {}'.format(len(selected_features_two)))\n",
    "print('\\n', selected_features_two.values)"
   ]
  },
  {
   "cell_type": "markdown",
   "metadata": {},
   "source": [
    "#### Methods comparison"
   ]
  },
  {
   "cell_type": "code",
   "execution_count": 30,
   "metadata": {
    "ExecuteTime": {
     "end_time": "2020-06-17T10:09:08.727765Z",
     "start_time": "2020-06-17T10:09:08.721759Z"
    }
   },
   "outputs": [],
   "source": [
    "features_selected_both = list(set(selected_features_one).intersection(selected_features_two))"
   ]
  },
  {
   "cell_type": "code",
   "execution_count": 31,
   "metadata": {
    "ExecuteTime": {
     "end_time": "2020-06-17T10:09:09.216564Z",
     "start_time": "2020-06-17T10:09:09.208559Z"
    }
   },
   "outputs": [
    {
     "data": {
      "text/plain": [
       "['incident_severity',\n",
       " 'incident_hour_of_the_day',\n",
       " 'bodily_injuries',\n",
       " 'insured_hobbies_others',\n",
       " 'insured_hobbies_cross-fit',\n",
       " 'insured_hobbies_chess',\n",
       " 'total_claim_amount',\n",
       " 'umbrella_limit',\n",
       " 'policy_deductable_group',\n",
       " 'witnesses']"
      ]
     },
     "execution_count": 31,
     "metadata": {},
     "output_type": "execute_result"
    }
   ],
   "source": [
    "features_selected_both"
   ]
  },
  {
   "cell_type": "code",
   "execution_count": 32,
   "metadata": {
    "ExecuteTime": {
     "end_time": "2020-06-17T10:09:17.126685Z",
     "start_time": "2020-06-17T10:09:17.112687Z"
    }
   },
   "outputs": [],
   "source": [
    "pd.Series(selected_features_two).to_csv(processed + 'selected_features.csv', index=False)"
   ]
  },
  {
   "cell_type": "markdown",
   "metadata": {},
   "source": [
    "## Final Comment\n",
    "\n",
    "For simplicity, we prefer to go with features selected with Tree-based feature selection"
   ]
  }
 ],
 "metadata": {
  "kernelspec": {
   "display_name": "Python 3",
   "language": "python",
   "name": "python3"
  },
  "language_info": {
   "codemirror_mode": {
    "name": "ipython",
    "version": 3
   },
   "file_extension": ".py",
   "mimetype": "text/x-python",
   "name": "python",
   "nbconvert_exporter": "python",
   "pygments_lexer": "ipython3",
   "version": "3.6.10"
  },
  "toc": {
   "base_numbering": 1,
   "nav_menu": {},
   "number_sections": true,
   "sideBar": true,
   "skip_h1_title": true,
   "title_cell": "Table of Contents",
   "title_sidebar": "Contents",
   "toc_cell": false,
   "toc_position": {
    "height": "calc(100% - 180px)",
    "left": "10px",
    "top": "150px",
    "width": "512px"
   },
   "toc_section_display": true,
   "toc_window_display": true
  }
 },
 "nbformat": 4,
 "nbformat_minor": 4
}
