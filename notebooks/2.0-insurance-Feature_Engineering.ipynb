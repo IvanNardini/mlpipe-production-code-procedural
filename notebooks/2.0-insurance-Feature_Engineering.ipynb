{
 "cells": [
  {
   "cell_type": "markdown",
   "metadata": {},
   "source": [
    "# Insurance Fraud Claims Detection\n",
    "\n",
    "In this notebook, I'm going to engineer the variables of **Auto Insurance Claims Data** on Kaggle. \n",
    "\n",
    "To engineer the variables We need to tackle:\n",
    "\n",
    "1. Missing values: Assess missing in ['collision_type', 'property_damage', 'police_report_available']\n",
    "2. Target variable: Encoding\n",
    "3. Numerical variables:\n",
    "    - Discrete variables: Assess umbrella_limit and policy_deductable variables\n",
    "    - Continuous variables: Binning Age, policy_annual_premium and month_as_customer\n",
    "4. Outliers (not now)\n",
    "5. Categorical variables: Binning and Encoding\n",
    "6. Standarise the values of the variables to the same range"
   ]
  },
  {
   "cell_type": "markdown",
   "metadata": {},
   "source": [
    "## Libraries and Environments"
   ]
  },
  {
   "cell_type": "code",
   "execution_count": 132,
   "metadata": {
    "ExecuteTime": {
     "end_time": "2020-06-17T09:58:41.339582Z",
     "start_time": "2020-06-17T09:58:38.984144Z"
    }
   },
   "outputs": [],
   "source": [
    "# Data Sciences\n",
    "\n",
    "import numpy as np # linear algebra\n",
    "import pandas as pd # data processing, CSV file I/O (e.g. pd.read_csv)\n",
    "from sklearn.model_selection import train_test_split\n",
    "from sklearn.preprocessing import MinMaxScaler\n",
    "\n",
    "\n",
    "# Plot\n",
    "\n",
    "import matplotlib.pyplot as plt\n",
    "%matplotlib inline\n",
    "import seaborn as sns\n",
    "\n",
    "#Utils\n",
    "import os\n",
    "import pprint\n",
    "\n",
    "# Set notebook\n",
    "pd.set_option('display.max_rows', 500)\n",
    "pd.set_option('display.max_columns', 500)\n",
    "pd.set_option('display.width', 1000)\n",
    "\n",
    "import warnings\n",
    "warnings.simplefilter(action='ignore')"
   ]
  },
  {
   "cell_type": "code",
   "execution_count": 133,
   "metadata": {
    "ExecuteTime": {
     "end_time": "2020-06-17T09:58:41.354554Z",
     "start_time": "2020-06-17T09:58:41.349554Z"
    }
   },
   "outputs": [],
   "source": [
    "raw = '../data/raw/insurance_claims.csv'\n",
    "interim = '../data/interim/'\n",
    "processed= '../data/processed/'\n",
    "models= '../models/'"
   ]
  },
  {
   "cell_type": "markdown",
   "metadata": {},
   "source": [
    "## Data Ingestion"
   ]
  },
  {
   "cell_type": "markdown",
   "metadata": {},
   "source": [
    "### Read data"
   ]
  },
  {
   "cell_type": "code",
   "execution_count": 134,
   "metadata": {
    "ExecuteTime": {
     "end_time": "2020-06-17T09:58:41.438547Z",
     "start_time": "2020-06-17T09:58:41.362551Z"
    }
   },
   "outputs": [
    {
     "name": "stdout",
     "output_type": "stream",
     "text": [
      "(1000, 40)\n"
     ]
    },
    {
     "data": {
      "text/html": [
       "<div>\n",
       "<style scoped>\n",
       "    .dataframe tbody tr th:only-of-type {\n",
       "        vertical-align: middle;\n",
       "    }\n",
       "\n",
       "    .dataframe tbody tr th {\n",
       "        vertical-align: top;\n",
       "    }\n",
       "\n",
       "    .dataframe thead th {\n",
       "        text-align: right;\n",
       "    }\n",
       "</style>\n",
       "<table border=\"1\" class=\"dataframe\">\n",
       "  <thead>\n",
       "    <tr style=\"text-align: right;\">\n",
       "      <th></th>\n",
       "      <th>months_as_customer</th>\n",
       "      <th>age</th>\n",
       "      <th>policy_number</th>\n",
       "      <th>policy_bind_date</th>\n",
       "      <th>policy_state</th>\n",
       "      <th>policy_csl</th>\n",
       "      <th>policy_deductable</th>\n",
       "      <th>policy_annual_premium</th>\n",
       "      <th>umbrella_limit</th>\n",
       "      <th>insured_zip</th>\n",
       "      <th>insured_sex</th>\n",
       "      <th>insured_education_level</th>\n",
       "      <th>insured_occupation</th>\n",
       "      <th>insured_hobbies</th>\n",
       "      <th>insured_relationship</th>\n",
       "      <th>capital-gains</th>\n",
       "      <th>capital-loss</th>\n",
       "      <th>incident_date</th>\n",
       "      <th>incident_type</th>\n",
       "      <th>collision_type</th>\n",
       "      <th>incident_severity</th>\n",
       "      <th>authorities_contacted</th>\n",
       "      <th>incident_state</th>\n",
       "      <th>incident_city</th>\n",
       "      <th>incident_location</th>\n",
       "      <th>incident_hour_of_the_day</th>\n",
       "      <th>number_of_vehicles_involved</th>\n",
       "      <th>property_damage</th>\n",
       "      <th>bodily_injuries</th>\n",
       "      <th>witnesses</th>\n",
       "      <th>police_report_available</th>\n",
       "      <th>total_claim_amount</th>\n",
       "      <th>injury_claim</th>\n",
       "      <th>property_claim</th>\n",
       "      <th>vehicle_claim</th>\n",
       "      <th>auto_make</th>\n",
       "      <th>auto_model</th>\n",
       "      <th>auto_year</th>\n",
       "      <th>fraud_reported</th>\n",
       "      <th>_c39</th>\n",
       "    </tr>\n",
       "  </thead>\n",
       "  <tbody>\n",
       "    <tr>\n",
       "      <th>0</th>\n",
       "      <td>328</td>\n",
       "      <td>48</td>\n",
       "      <td>521585</td>\n",
       "      <td>2014-10-17</td>\n",
       "      <td>OH</td>\n",
       "      <td>250/500</td>\n",
       "      <td>1000</td>\n",
       "      <td>1406.91</td>\n",
       "      <td>0</td>\n",
       "      <td>466132</td>\n",
       "      <td>MALE</td>\n",
       "      <td>MD</td>\n",
       "      <td>craft-repair</td>\n",
       "      <td>sleeping</td>\n",
       "      <td>husband</td>\n",
       "      <td>53300</td>\n",
       "      <td>0</td>\n",
       "      <td>2015-01-25</td>\n",
       "      <td>Single Vehicle Collision</td>\n",
       "      <td>Side Collision</td>\n",
       "      <td>Major Damage</td>\n",
       "      <td>Police</td>\n",
       "      <td>SC</td>\n",
       "      <td>Columbus</td>\n",
       "      <td>9935 4th Drive</td>\n",
       "      <td>5</td>\n",
       "      <td>1</td>\n",
       "      <td>YES</td>\n",
       "      <td>1</td>\n",
       "      <td>2</td>\n",
       "      <td>YES</td>\n",
       "      <td>71610</td>\n",
       "      <td>6510</td>\n",
       "      <td>13020</td>\n",
       "      <td>52080</td>\n",
       "      <td>Saab</td>\n",
       "      <td>92x</td>\n",
       "      <td>2004</td>\n",
       "      <td>Y</td>\n",
       "      <td>NaN</td>\n",
       "    </tr>\n",
       "    <tr>\n",
       "      <th>1</th>\n",
       "      <td>228</td>\n",
       "      <td>42</td>\n",
       "      <td>342868</td>\n",
       "      <td>2006-06-27</td>\n",
       "      <td>IN</td>\n",
       "      <td>250/500</td>\n",
       "      <td>2000</td>\n",
       "      <td>1197.22</td>\n",
       "      <td>5000000</td>\n",
       "      <td>468176</td>\n",
       "      <td>MALE</td>\n",
       "      <td>MD</td>\n",
       "      <td>machine-op-inspct</td>\n",
       "      <td>reading</td>\n",
       "      <td>other-relative</td>\n",
       "      <td>0</td>\n",
       "      <td>0</td>\n",
       "      <td>2015-01-21</td>\n",
       "      <td>Vehicle Theft</td>\n",
       "      <td>?</td>\n",
       "      <td>Minor Damage</td>\n",
       "      <td>Police</td>\n",
       "      <td>VA</td>\n",
       "      <td>Riverwood</td>\n",
       "      <td>6608 MLK Hwy</td>\n",
       "      <td>8</td>\n",
       "      <td>1</td>\n",
       "      <td>?</td>\n",
       "      <td>0</td>\n",
       "      <td>0</td>\n",
       "      <td>?</td>\n",
       "      <td>5070</td>\n",
       "      <td>780</td>\n",
       "      <td>780</td>\n",
       "      <td>3510</td>\n",
       "      <td>Mercedes</td>\n",
       "      <td>E400</td>\n",
       "      <td>2007</td>\n",
       "      <td>Y</td>\n",
       "      <td>NaN</td>\n",
       "    </tr>\n",
       "    <tr>\n",
       "      <th>2</th>\n",
       "      <td>134</td>\n",
       "      <td>29</td>\n",
       "      <td>687698</td>\n",
       "      <td>2000-09-06</td>\n",
       "      <td>OH</td>\n",
       "      <td>100/300</td>\n",
       "      <td>2000</td>\n",
       "      <td>1413.14</td>\n",
       "      <td>5000000</td>\n",
       "      <td>430632</td>\n",
       "      <td>FEMALE</td>\n",
       "      <td>PhD</td>\n",
       "      <td>sales</td>\n",
       "      <td>board-games</td>\n",
       "      <td>own-child</td>\n",
       "      <td>35100</td>\n",
       "      <td>0</td>\n",
       "      <td>2015-02-22</td>\n",
       "      <td>Multi-vehicle Collision</td>\n",
       "      <td>Rear Collision</td>\n",
       "      <td>Minor Damage</td>\n",
       "      <td>Police</td>\n",
       "      <td>NY</td>\n",
       "      <td>Columbus</td>\n",
       "      <td>7121 Francis Lane</td>\n",
       "      <td>7</td>\n",
       "      <td>3</td>\n",
       "      <td>NO</td>\n",
       "      <td>2</td>\n",
       "      <td>3</td>\n",
       "      <td>NO</td>\n",
       "      <td>34650</td>\n",
       "      <td>7700</td>\n",
       "      <td>3850</td>\n",
       "      <td>23100</td>\n",
       "      <td>Dodge</td>\n",
       "      <td>RAM</td>\n",
       "      <td>2007</td>\n",
       "      <td>N</td>\n",
       "      <td>NaN</td>\n",
       "    </tr>\n",
       "    <tr>\n",
       "      <th>3</th>\n",
       "      <td>256</td>\n",
       "      <td>41</td>\n",
       "      <td>227811</td>\n",
       "      <td>1990-05-25</td>\n",
       "      <td>IL</td>\n",
       "      <td>250/500</td>\n",
       "      <td>2000</td>\n",
       "      <td>1415.74</td>\n",
       "      <td>6000000</td>\n",
       "      <td>608117</td>\n",
       "      <td>FEMALE</td>\n",
       "      <td>PhD</td>\n",
       "      <td>armed-forces</td>\n",
       "      <td>board-games</td>\n",
       "      <td>unmarried</td>\n",
       "      <td>48900</td>\n",
       "      <td>-62400</td>\n",
       "      <td>2015-01-10</td>\n",
       "      <td>Single Vehicle Collision</td>\n",
       "      <td>Front Collision</td>\n",
       "      <td>Major Damage</td>\n",
       "      <td>Police</td>\n",
       "      <td>OH</td>\n",
       "      <td>Arlington</td>\n",
       "      <td>6956 Maple Drive</td>\n",
       "      <td>5</td>\n",
       "      <td>1</td>\n",
       "      <td>?</td>\n",
       "      <td>1</td>\n",
       "      <td>2</td>\n",
       "      <td>NO</td>\n",
       "      <td>63400</td>\n",
       "      <td>6340</td>\n",
       "      <td>6340</td>\n",
       "      <td>50720</td>\n",
       "      <td>Chevrolet</td>\n",
       "      <td>Tahoe</td>\n",
       "      <td>2014</td>\n",
       "      <td>Y</td>\n",
       "      <td>NaN</td>\n",
       "    </tr>\n",
       "    <tr>\n",
       "      <th>4</th>\n",
       "      <td>228</td>\n",
       "      <td>44</td>\n",
       "      <td>367455</td>\n",
       "      <td>2014-06-06</td>\n",
       "      <td>IL</td>\n",
       "      <td>500/1000</td>\n",
       "      <td>1000</td>\n",
       "      <td>1583.91</td>\n",
       "      <td>6000000</td>\n",
       "      <td>610706</td>\n",
       "      <td>MALE</td>\n",
       "      <td>Associate</td>\n",
       "      <td>sales</td>\n",
       "      <td>board-games</td>\n",
       "      <td>unmarried</td>\n",
       "      <td>66000</td>\n",
       "      <td>-46000</td>\n",
       "      <td>2015-02-17</td>\n",
       "      <td>Vehicle Theft</td>\n",
       "      <td>?</td>\n",
       "      <td>Minor Damage</td>\n",
       "      <td>None</td>\n",
       "      <td>NY</td>\n",
       "      <td>Arlington</td>\n",
       "      <td>3041 3rd Ave</td>\n",
       "      <td>20</td>\n",
       "      <td>1</td>\n",
       "      <td>NO</td>\n",
       "      <td>0</td>\n",
       "      <td>1</td>\n",
       "      <td>NO</td>\n",
       "      <td>6500</td>\n",
       "      <td>1300</td>\n",
       "      <td>650</td>\n",
       "      <td>4550</td>\n",
       "      <td>Accura</td>\n",
       "      <td>RSX</td>\n",
       "      <td>2009</td>\n",
       "      <td>N</td>\n",
       "      <td>NaN</td>\n",
       "    </tr>\n",
       "  </tbody>\n",
       "</table>\n",
       "</div>"
      ],
      "text/plain": [
       "   months_as_customer  age  policy_number policy_bind_date policy_state policy_csl  policy_deductable  policy_annual_premium  umbrella_limit  insured_zip insured_sex insured_education_level insured_occupation insured_hobbies insured_relationship  capital-gains  capital-loss incident_date             incident_type   collision_type incident_severity authorities_contacted incident_state incident_city  incident_location  incident_hour_of_the_day  number_of_vehicles_involved property_damage  bodily_injuries  witnesses police_report_available  total_claim_amount  injury_claim  property_claim  vehicle_claim  auto_make auto_model  auto_year fraud_reported  _c39\n",
       "0                 328   48         521585       2014-10-17           OH    250/500               1000                1406.91               0       466132        MALE                      MD       craft-repair        sleeping              husband          53300             0    2015-01-25  Single Vehicle Collision   Side Collision      Major Damage                Police             SC      Columbus     9935 4th Drive                         5                            1             YES                1          2                     YES               71610          6510           13020          52080       Saab        92x       2004              Y   NaN\n",
       "1                 228   42         342868       2006-06-27           IN    250/500               2000                1197.22         5000000       468176        MALE                      MD  machine-op-inspct         reading       other-relative              0             0    2015-01-21             Vehicle Theft                ?      Minor Damage                Police             VA     Riverwood       6608 MLK Hwy                         8                            1               ?                0          0                       ?                5070           780             780           3510   Mercedes       E400       2007              Y   NaN\n",
       "2                 134   29         687698       2000-09-06           OH    100/300               2000                1413.14         5000000       430632      FEMALE                     PhD              sales     board-games            own-child          35100             0    2015-02-22   Multi-vehicle Collision   Rear Collision      Minor Damage                Police             NY      Columbus  7121 Francis Lane                         7                            3              NO                2          3                      NO               34650          7700            3850          23100      Dodge        RAM       2007              N   NaN\n",
       "3                 256   41         227811       1990-05-25           IL    250/500               2000                1415.74         6000000       608117      FEMALE                     PhD       armed-forces     board-games            unmarried          48900        -62400    2015-01-10  Single Vehicle Collision  Front Collision      Major Damage                Police             OH     Arlington   6956 Maple Drive                         5                            1               ?                1          2                      NO               63400          6340            6340          50720  Chevrolet      Tahoe       2014              Y   NaN\n",
       "4                 228   44         367455       2014-06-06           IL   500/1000               1000                1583.91         6000000       610706        MALE               Associate              sales     board-games            unmarried          66000        -46000    2015-02-17             Vehicle Theft                ?      Minor Damage                  None             NY     Arlington       3041 3rd Ave                        20                            1              NO                0          1                      NO                6500          1300             650           4550     Accura        RSX       2009              N   NaN"
      ]
     },
     "execution_count": 134,
     "metadata": {},
     "output_type": "execute_result"
    }
   ],
   "source": [
    "data = pd.read_csv(raw)\n",
    "print(data.shape)\n",
    "data.head()"
   ]
  },
  {
   "cell_type": "code",
   "execution_count": 135,
   "metadata": {
    "ExecuteTime": {
     "end_time": "2020-06-17T09:58:41.480548Z",
     "start_time": "2020-06-17T09:58:41.442548Z"
    }
   },
   "outputs": [
    {
     "name": "stdout",
     "output_type": "stream",
     "text": [
      "<class 'pandas.core.frame.DataFrame'>\n",
      "RangeIndex: 1000 entries, 0 to 999\n",
      "Data columns (total 40 columns):\n",
      "months_as_customer             1000 non-null int64\n",
      "age                            1000 non-null int64\n",
      "policy_number                  1000 non-null int64\n",
      "policy_bind_date               1000 non-null object\n",
      "policy_state                   1000 non-null object\n",
      "policy_csl                     1000 non-null object\n",
      "policy_deductable              1000 non-null int64\n",
      "policy_annual_premium          1000 non-null float64\n",
      "umbrella_limit                 1000 non-null int64\n",
      "insured_zip                    1000 non-null int64\n",
      "insured_sex                    1000 non-null object\n",
      "insured_education_level        1000 non-null object\n",
      "insured_occupation             1000 non-null object\n",
      "insured_hobbies                1000 non-null object\n",
      "insured_relationship           1000 non-null object\n",
      "capital-gains                  1000 non-null int64\n",
      "capital-loss                   1000 non-null int64\n",
      "incident_date                  1000 non-null object\n",
      "incident_type                  1000 non-null object\n",
      "collision_type                 1000 non-null object\n",
      "incident_severity              1000 non-null object\n",
      "authorities_contacted          1000 non-null object\n",
      "incident_state                 1000 non-null object\n",
      "incident_city                  1000 non-null object\n",
      "incident_location              1000 non-null object\n",
      "incident_hour_of_the_day       1000 non-null int64\n",
      "number_of_vehicles_involved    1000 non-null int64\n",
      "property_damage                1000 non-null object\n",
      "bodily_injuries                1000 non-null int64\n",
      "witnesses                      1000 non-null int64\n",
      "police_report_available        1000 non-null object\n",
      "total_claim_amount             1000 non-null int64\n",
      "injury_claim                   1000 non-null int64\n",
      "property_claim                 1000 non-null int64\n",
      "vehicle_claim                  1000 non-null int64\n",
      "auto_make                      1000 non-null object\n",
      "auto_model                     1000 non-null object\n",
      "auto_year                      1000 non-null int64\n",
      "fraud_reported                 1000 non-null object\n",
      "_c39                           0 non-null float64\n",
      "dtypes: float64(2), int64(17), object(21)\n",
      "memory usage: 312.6+ KB\n"
     ]
    }
   ],
   "source": [
    "data.info()"
   ]
  },
  {
   "cell_type": "markdown",
   "metadata": {},
   "source": [
    "### Preprocessing"
   ]
  },
  {
   "cell_type": "code",
   "execution_count": 136,
   "metadata": {
    "ExecuteTime": {
     "end_time": "2020-06-17T09:58:41.515552Z",
     "start_time": "2020-06-17T09:58:41.483547Z"
    }
   },
   "outputs": [],
   "source": [
    "# For semplicity I'll drop some variables.They required futhers analysis.\n",
    "\n",
    "target = 'fraud_reported'\n",
    "variables = [col for col in data.columns if col != target]\n",
    "\n",
    "drop = ['policy_number', 'policy_bind_date', 'policy_state', 'policy_csl', \n",
    "        'insured_zip', 'insured_occupation', 'incident_date', \n",
    "        'insured_education_level', 'insured_relationship', 'injury_claim', 'property_claim', 'vehicle_claim', \n",
    "        'incident_state', 'incident_city', 'incident_location', 'auto_model', 'auto_make', 'auto_year', '_c39']\n",
    "\n",
    "data.drop(drop, axis=1, inplace=True)"
   ]
  },
  {
   "cell_type": "code",
   "execution_count": 137,
   "metadata": {},
   "outputs": [],
   "source": [
    "# I rename variable names with '-'\n",
    "\n",
    "data.rename(columns={\"capital-gains\": \"capital_gains\", \"capital-loss\": \"capital_loss\"}, inplace=True)"
   ]
  },
  {
   "cell_type": "code",
   "execution_count": 138,
   "metadata": {
    "ExecuteTime": {
     "end_time": "2020-06-17T09:58:42.935545Z",
     "start_time": "2020-06-17T09:58:42.899543Z"
    }
   },
   "outputs": [
    {
     "name": "stdout",
     "output_type": "stream",
     "text": [
      " 0           798\n",
      " 6000000      57\n",
      " 5000000      46\n",
      " 4000000      39\n",
      " 7000000      29\n",
      " 3000000      12\n",
      " 8000000       8\n",
      " 9000000       5\n",
      " 2000000       3\n",
      " 10000000      2\n",
      "-1000000       1\n",
      "Name: umbrella_limit, dtype: int64 \n",
      "\n",
      "0           798\n",
      "6000000      57\n",
      "5000000      46\n",
      "4000000      39\n",
      "7000000      29\n",
      "3000000      12\n",
      "8000000       8\n",
      "9000000       5\n",
      "2000000       3\n",
      "10000000      2\n",
      "Name: umbrella_limit, dtype: int64 \n",
      "\n"
     ]
    }
   ],
   "source": [
    "# I drop anomalies \n",
    "\n",
    "print(data['umbrella_limit'].value_counts(), '\\n')\n",
    "data = data[data['umbrella_limit']>=0]\n",
    "print(data['umbrella_limit'].value_counts(), '\\n')"
   ]
  },
  {
   "cell_type": "code",
   "execution_count": 139,
   "metadata": {
    "ExecuteTime": {
     "end_time": "2020-06-17T09:58:41.548546Z",
     "start_time": "2020-06-17T09:58:41.531545Z"
    }
   },
   "outputs": [
    {
     "name": "stdout",
     "output_type": "stream",
     "text": [
      "collision_type\n",
      "Rear Collision     292\n",
      "Side Collision     275\n",
      "Front Collision    254\n",
      "?                  178\n",
      "Name: collision_type, dtype: int64 \n",
      "\n",
      "property_damage\n",
      "?      360\n",
      "NO     338\n",
      "YES    301\n",
      "Name: property_damage, dtype: int64 \n",
      "\n",
      "police_report_available\n",
      "NO     343\n",
      "?      342\n",
      "YES    314\n",
      "Name: police_report_available, dtype: int64 \n",
      "\n"
     ]
    }
   ],
   "source": [
    "# Missing values\n",
    "# Assess missing in 'collision_type', 'property_damage' and 'police_report_available'\n",
    "missing_predictors = [col for col in data.select_dtypes(include='object').columns if any(data[col].str.contains('?', regex=False))]\n",
    "\n",
    "for var in missing_predictors:\n",
    "    print(var)\n",
    "    print(data[var].value_counts(), '\\n')"
   ]
  },
  {
   "cell_type": "markdown",
   "metadata": {},
   "source": [
    "**Comment**: We may replace it with 'Missing' string"
   ]
  },
  {
   "cell_type": "code",
   "execution_count": 140,
   "metadata": {
    "ExecuteTime": {
     "end_time": "2020-06-17T09:58:41.566547Z",
     "start_time": "2020-06-17T09:58:41.554576Z"
    }
   },
   "outputs": [],
   "source": [
    "data[missing_predictors] = data[missing_predictors].replace('?', 'missing')"
   ]
  },
  {
   "cell_type": "code",
   "execution_count": 141,
   "metadata": {
    "ExecuteTime": {
     "end_time": "2020-06-17T09:58:41.584553Z",
     "start_time": "2020-06-17T09:58:41.569548Z"
    }
   },
   "outputs": [
    {
     "name": "stdout",
     "output_type": "stream",
     "text": [
      "False\n"
     ]
    }
   ],
   "source": [
    "# Check\n",
    "for var in missing_predictors:\n",
    "    data_missing = any(data[var].str.contains('?', regex=False))\n",
    "print(data_missing)"
   ]
  },
  {
   "cell_type": "code",
   "execution_count": 142,
   "metadata": {},
   "outputs": [],
   "source": [
    "data.to_csv(interim + '0_data.csv', index=False)"
   ]
  },
  {
   "cell_type": "code",
   "execution_count": 143,
   "metadata": {},
   "outputs": [
    {
     "data": {
      "text/plain": [
       "((899, 20), (100, 20))"
      ]
     },
     "execution_count": 143,
     "metadata": {},
     "output_type": "execute_result"
    }
   ],
   "source": [
    "# Train and Test Split\n",
    "\n",
    "predictors = [col for col in data.columns if col != target]\n",
    "\n",
    "X_train, X_test, y_train, y_test = train_test_split(data[predictors], data['fraud_reported'], \n",
    "                                                    test_size=0.10, \n",
    "                                                    random_state=1) # ALWAYS set random seed for reproducibility!\n",
    "X_train.shape, X_test.shape"
   ]
  },
  {
   "cell_type": "code",
   "execution_count": 144,
   "metadata": {},
   "outputs": [],
   "source": [
    "X_train.to_csv(interim + '1_X_train_base.csv', index=False)\n",
    "X_test.to_csv(interim + '1_X_test_base.csv', index=False)\n",
    "y_train.to_csv(interim + '1_y_train_base.csv', index=False)\n",
    "y_test.to_csv(interim + '1_y_test_base.csv', index=False)"
   ]
  },
  {
   "cell_type": "markdown",
   "metadata": {},
   "source": [
    "## Feature Engineering"
   ]
  },
  {
   "cell_type": "markdown",
   "metadata": {},
   "source": [
    "### Target Variable"
   ]
  },
  {
   "cell_type": "code",
   "execution_count": 145,
   "metadata": {
    "ExecuteTime": {
     "end_time": "2020-06-17T09:58:41.655559Z",
     "start_time": "2020-06-17T09:58:41.646547Z"
    }
   },
   "outputs": [
    {
     "data": {
      "text/plain": [
       "array(['N', 'Y'], dtype=object)"
      ]
     },
     "execution_count": 145,
     "metadata": {},
     "output_type": "execute_result"
    }
   ],
   "source": [
    "y_train.unique()"
   ]
  },
  {
   "cell_type": "code",
   "execution_count": 146,
   "metadata": {
    "ExecuteTime": {
     "end_time": "2020-06-17T09:58:41.741547Z",
     "start_time": "2020-06-17T09:58:41.729559Z"
    }
   },
   "outputs": [
    {
     "name": "stdout",
     "output_type": "stream",
     "text": [
      "Int64Index([0, 1], dtype='int64')\n",
      "0    0.74861\n",
      "1    0.25139\n",
      "Name: fraud_reported, dtype: float64\n",
      "\n",
      "Int64Index([0, 1], dtype='int64')\n",
      "0    0.79\n",
      "1    0.21\n",
      "Name: fraud_reported, dtype: float64\n"
     ]
    }
   ],
   "source": [
    "target_categories = {'Y': 1, 'N': 0}\n",
    "\n",
    "y_train = y_train.map(target_categories).astype('category')\n",
    "y_test = y_test.map(target_categories).astype('category')\n",
    "\n",
    "print(y_train.cat.categories)\n",
    "print(y_train.value_counts()/len(y_train))\n",
    "print()\n",
    "print(y_test.cat.categories)\n",
    "print(y_test.value_counts()/len(y_test))"
   ]
  },
  {
   "cell_type": "code",
   "execution_count": 147,
   "metadata": {
    "ExecuteTime": {
     "end_time": "2020-06-17T09:58:41.943546Z",
     "start_time": "2020-06-17T09:58:41.916555Z"
    }
   },
   "outputs": [],
   "source": [
    "y_train.to_csv(processed + 'y_train_imputed.csv', header=['y_train'], index=False)\n",
    "y_test.to_csv(processed + 'y_test_imputed.csv', header=['y_test'], index=False)"
   ]
  },
  {
   "cell_type": "markdown",
   "metadata": {},
   "source": [
    "### Numerical variables"
   ]
  },
  {
   "cell_type": "code",
   "execution_count": 148,
   "metadata": {},
   "outputs": [],
   "source": [
    "# numerical\n",
    "numerical_predictors = [col for col in predictors if X_train[col].dtypes != 'object']\n",
    "discrete_predictors = [col for col in numerical_predictors if len(X_train[col].unique()) < 30]\n",
    "continuous_predictors = [col for col in numerical_predictors if col not in discrete_predictors]"
   ]
  },
  {
   "cell_type": "markdown",
   "metadata": {
    "ExecuteTime": {
     "end_time": "2020-06-17T09:28:12.191349Z",
     "start_time": "2020-06-17T09:28:12.185342Z"
    }
   },
   "source": [
    "<!-- #### Time variables\n",
    "time_predictors = [\n",
    "    col for col in predictors if 'year' in col or 'date' in col]\n",
    "# time_to_incident_months\n",
    "# data[time_predictors].info()\n",
    "\n",
    "# for var in time_predictors:\n",
    "#     if var == 'auto_year':\n",
    "#     df[var] = pd.to_datetime(df[var], format='%Y')\n",
    "#         pass\n",
    "#     else:\n",
    "#         data[var] = pd.to_datetime(data[var])\n",
    "        \n",
    "# print(data[time_predictors].info())\n",
    "\n",
    "# def time_monthly_incident(data, var):\n",
    "#     # Time difference\n",
    "#     data['time_to_incident'] = data[var] - data['policy_bind_date']\n",
    "#     data['time_to_incident_days'] = data['time_to_incident'].dt.days\n",
    "#     # Monthly-based difference\n",
    "#     data['time_to_incident_months'] = round(data['time_to_incident_days'] / 30, 0)\n",
    "#     # Negative differences has no sense\n",
    "#     flt_time = data['time_to_incident_months'] > 0\n",
    "#     #Drop date variables\n",
    "#     data.drop([var, 'policy_bind_date', 'time_to_incident', 'time_to_incident_days'], axis=1, inplace=True)\n",
    "#     return data[flt_time]\n",
    "\n",
    "# data = time_monthly_incident(data, 'incident_date')\n",
    "\n",
    "# data.shape\n",
    "\n",
    "# data.to_csv(interim + '2_data_time.csv', index=False) -->"
   ]
  },
  {
   "cell_type": "markdown",
   "metadata": {},
   "source": [
    "#### Discrete Variables"
   ]
  },
  {
   "cell_type": "code",
   "execution_count": 149,
   "metadata": {
    "ExecuteTime": {
     "end_time": "2020-06-17T09:58:42.593543Z",
     "start_time": "2020-06-17T09:58:42.568546Z"
    }
   },
   "outputs": [
    {
     "data": {
      "text/html": [
       "<div>\n",
       "<style scoped>\n",
       "    .dataframe tbody tr th:only-of-type {\n",
       "        vertical-align: middle;\n",
       "    }\n",
       "\n",
       "    .dataframe tbody tr th {\n",
       "        vertical-align: top;\n",
       "    }\n",
       "\n",
       "    .dataframe thead th {\n",
       "        text-align: right;\n",
       "    }\n",
       "</style>\n",
       "<table border=\"1\" class=\"dataframe\">\n",
       "  <thead>\n",
       "    <tr style=\"text-align: right;\">\n",
       "      <th></th>\n",
       "      <th>policy_deductable</th>\n",
       "      <th>umbrella_limit</th>\n",
       "      <th>incident_hour_of_the_day</th>\n",
       "      <th>number_of_vehicles_involved</th>\n",
       "      <th>bodily_injuries</th>\n",
       "      <th>witnesses</th>\n",
       "    </tr>\n",
       "  </thead>\n",
       "  <tbody>\n",
       "    <tr>\n",
       "      <th>336</th>\n",
       "      <td>500</td>\n",
       "      <td>4000000</td>\n",
       "      <td>14</td>\n",
       "      <td>3</td>\n",
       "      <td>2</td>\n",
       "      <td>1</td>\n",
       "    </tr>\n",
       "    <tr>\n",
       "      <th>13</th>\n",
       "      <td>1000</td>\n",
       "      <td>0</td>\n",
       "      <td>5</td>\n",
       "      <td>1</td>\n",
       "      <td>1</td>\n",
       "      <td>1</td>\n",
       "    </tr>\n",
       "    <tr>\n",
       "      <th>872</th>\n",
       "      <td>1000</td>\n",
       "      <td>0</td>\n",
       "      <td>23</td>\n",
       "      <td>3</td>\n",
       "      <td>0</td>\n",
       "      <td>0</td>\n",
       "    </tr>\n",
       "    <tr>\n",
       "      <th>156</th>\n",
       "      <td>2000</td>\n",
       "      <td>0</td>\n",
       "      <td>10</td>\n",
       "      <td>3</td>\n",
       "      <td>2</td>\n",
       "      <td>1</td>\n",
       "    </tr>\n",
       "    <tr>\n",
       "      <th>429</th>\n",
       "      <td>2000</td>\n",
       "      <td>0</td>\n",
       "      <td>2</td>\n",
       "      <td>1</td>\n",
       "      <td>2</td>\n",
       "      <td>3</td>\n",
       "    </tr>\n",
       "  </tbody>\n",
       "</table>\n",
       "</div>"
      ],
      "text/plain": [
       "     policy_deductable  umbrella_limit  incident_hour_of_the_day  number_of_vehicles_involved  bodily_injuries  witnesses\n",
       "336                500         4000000                        14                            3                2          1\n",
       "13                1000               0                         5                            1                1          1\n",
       "872               1000               0                        23                            3                0          0\n",
       "156               2000               0                        10                            3                2          1\n",
       "429               2000               0                         2                            1                2          3"
      ]
     },
     "execution_count": 149,
     "metadata": {},
     "output_type": "execute_result"
    }
   ],
   "source": [
    "X_train[discrete_predictors].head()"
   ]
  },
  {
   "cell_type": "markdown",
   "metadata": {},
   "source": [
    "**policy_decuctable**"
   ]
  },
  {
   "cell_type": "code",
   "execution_count": 150,
   "metadata": {
    "ExecuteTime": {
     "end_time": "2020-06-17T09:58:43.267543Z",
     "start_time": "2020-06-17T09:58:43.254541Z"
    }
   },
   "outputs": [
    {
     "name": "stdout",
     "output_type": "stream",
     "text": [
      "501-1000     314\n",
      "0-500        301\n",
      "1501-2000    284\n",
      "1001-1500      0\n",
      "Name: policy_deductable_groups, dtype: int64 \n",
      "\n",
      "\n"
     ]
    }
   ],
   "source": [
    "bins = list(np.linspace(0,2000, 5, dtype = int))\n",
    "bin_labels = ['0-500', '501-1000', '1001-1500', '1501-2000']\n",
    "\n",
    "X_train['policy_deductable_groups'] = pd.cut(X_train['policy_deductable'], bins = bins, labels = bin_labels, include_lowest = True)\n",
    "X_train.drop('policy_deductable', axis=1, inplace=True)\n",
    "\n",
    "X_test['policy_deductable_groups'] = pd.cut(X_test['policy_deductable'], bins = bins, labels = bin_labels, include_lowest = True)\n",
    "X_test.drop('policy_deductable', axis=1, inplace=True)\n",
    "\n",
    "print(X_train['policy_deductable_groups'].value_counts(), '\\n')\n",
    "print()"
   ]
  },
  {
   "cell_type": "code",
   "execution_count": 151,
   "metadata": {
    "ExecuteTime": {
     "end_time": "2020-06-17T09:58:43.850217Z",
     "start_time": "2020-06-17T09:58:43.435683Z"
    }
   },
   "outputs": [
    {
     "data": {
      "image/png": "[encoded data removed]",
      "text/plain": [
       "<Figure size 432x288 with 1 Axes>"
      ]
     },
     "metadata": {
      "needs_background": "light"
     },
     "output_type": "display_data"
    }
   ],
   "source": [
    "sns.countplot(x=X_train['policy_deductable_groups'], hue=y_train);"
   ]
  },
  {
   "cell_type": "code",
   "execution_count": 152,
   "metadata": {
    "ExecuteTime": {
     "end_time": "2020-06-17T09:58:43.884225Z",
     "start_time": "2020-06-17T09:58:43.853222Z"
    }
   },
   "outputs": [],
   "source": [
    "X_train.to_csv(interim + '3_X_train_policy_deductable.csv', index=False)\n",
    "X_test.to_csv(interim + '3_X_test_policy_deductable.csv', index=False)"
   ]
  },
  {
   "cell_type": "markdown",
   "metadata": {},
   "source": [
    "#### Continuous Variables"
   ]
  },
  {
   "cell_type": "code",
   "execution_count": 153,
   "metadata": {
    "ExecuteTime": {
     "end_time": "2020-06-17T09:58:44.012755Z",
     "start_time": "2020-06-17T09:58:43.980756Z"
    }
   },
   "outputs": [
    {
     "data": {
      "text/html": [
       "<div>\n",
       "<style scoped>\n",
       "    .dataframe tbody tr th:only-of-type {\n",
       "        vertical-align: middle;\n",
       "    }\n",
       "\n",
       "    .dataframe tbody tr th {\n",
       "        vertical-align: top;\n",
       "    }\n",
       "\n",
       "    .dataframe thead th {\n",
       "        text-align: right;\n",
       "    }\n",
       "</style>\n",
       "<table border=\"1\" class=\"dataframe\">\n",
       "  <thead>\n",
       "    <tr style=\"text-align: right;\">\n",
       "      <th></th>\n",
       "      <th>months_as_customer</th>\n",
       "      <th>age</th>\n",
       "      <th>policy_annual_premium</th>\n",
       "      <th>capital_gains</th>\n",
       "      <th>capital_loss</th>\n",
       "      <th>total_claim_amount</th>\n",
       "    </tr>\n",
       "  </thead>\n",
       "  <tbody>\n",
       "    <tr>\n",
       "      <th>336</th>\n",
       "      <td>176</td>\n",
       "      <td>39</td>\n",
       "      <td>1365.46</td>\n",
       "      <td>0</td>\n",
       "      <td>-56600</td>\n",
       "      <td>44280</td>\n",
       "    </tr>\n",
       "    <tr>\n",
       "      <th>13</th>\n",
       "      <td>121</td>\n",
       "      <td>34</td>\n",
       "      <td>936.61</td>\n",
       "      <td>52800</td>\n",
       "      <td>-32800</td>\n",
       "      <td>7280</td>\n",
       "    </tr>\n",
       "    <tr>\n",
       "      <th>872</th>\n",
       "      <td>290</td>\n",
       "      <td>45</td>\n",
       "      <td>1311.30</td>\n",
       "      <td>38500</td>\n",
       "      <td>0</td>\n",
       "      <td>52650</td>\n",
       "    </tr>\n",
       "    <tr>\n",
       "      <th>156</th>\n",
       "      <td>461</td>\n",
       "      <td>61</td>\n",
       "      <td>1402.75</td>\n",
       "      <td>0</td>\n",
       "      <td>0</td>\n",
       "      <td>72100</td>\n",
       "    </tr>\n",
       "    <tr>\n",
       "      <th>429</th>\n",
       "      <td>467</td>\n",
       "      <td>58</td>\n",
       "      <td>977.40</td>\n",
       "      <td>82200</td>\n",
       "      <td>0</td>\n",
       "      <td>55700</td>\n",
       "    </tr>\n",
       "  </tbody>\n",
       "</table>\n",
       "</div>"
      ],
      "text/plain": [
       "     months_as_customer  age  policy_annual_premium  capital_gains  capital_loss  total_claim_amount\n",
       "336                 176   39                1365.46              0        -56600               44280\n",
       "13                  121   34                 936.61          52800        -32800                7280\n",
       "872                 290   45                1311.30          38500             0               52650\n",
       "156                 461   61                1402.75              0             0               72100\n",
       "429                 467   58                 977.40          82200             0               55700"
      ]
     },
     "execution_count": 153,
     "metadata": {},
     "output_type": "execute_result"
    }
   ],
   "source": [
    "X_train[continuous_predictors].head()"
   ]
  },
  {
   "cell_type": "markdown",
   "metadata": {},
   "source": [
    "**Age**"
   ]
  },
  {
   "cell_type": "code",
   "execution_count": 154,
   "metadata": {
    "ExecuteTime": {
     "end_time": "2020-06-17T09:58:44.325333Z",
     "start_time": "2020-06-17T09:58:44.310334Z"
    }
   },
   "outputs": [
    {
     "data": {
      "text/plain": [
       "count    899.000000\n",
       "mean      38.913237\n",
       "std        9.152216\n",
       "min       19.000000\n",
       "25%       32.000000\n",
       "50%       38.000000\n",
       "75%       44.000000\n",
       "max       64.000000\n",
       "Name: age, dtype: float64"
      ]
     },
     "execution_count": 154,
     "metadata": {},
     "output_type": "execute_result"
    }
   ],
   "source": [
    "X_train['age'].describe()"
   ]
  },
  {
   "cell_type": "code",
   "execution_count": 155,
   "metadata": {
    "ExecuteTime": {
     "end_time": "2020-06-17T09:58:44.497322Z",
     "start_time": "2020-06-17T09:58:44.478320Z"
    }
   },
   "outputs": [],
   "source": [
    "bin_labels = ['15-20', '21-25', '26-30', '31-35', '36-40', '41-45', '46-50', '51-55', '56-60', '61-65']\n",
    "bins = [15, 20, 25, 30, 35, 40, 45, 50, 55, 60, 65]\n",
    "\n",
    "X_train['age_groups'] = pd.cut(X_train['age'], bins = bins, labels = bin_labels, include_lowest = True)\n",
    "X_train.drop('age', axis=1, inplace=True)\n",
    "\n",
    "X_test['age_groups'] = pd.cut(X_test['age'], bins = bins, labels = bin_labels, include_lowest = True)\n",
    "X_test.drop('age', axis=1, inplace=True)"
   ]
  },
  {
   "cell_type": "code",
   "execution_count": 156,
   "metadata": {
    "ExecuteTime": {
     "end_time": "2020-06-17T09:58:45.003457Z",
     "start_time": "2020-06-17T09:58:44.643905Z"
    }
   },
   "outputs": [
    {
     "data": {
      "image/png": "[encoded data removed]",
      "text/plain": [
       "<Figure size 432x288 with 1 Axes>"
      ]
     },
     "metadata": {
      "needs_background": "light"
     },
     "output_type": "display_data"
    }
   ],
   "source": [
    "sns.countplot(x=X_train['age_groups'], hue=y_train);"
   ]
  },
  {
   "cell_type": "code",
   "execution_count": 157,
   "metadata": {
    "ExecuteTime": {
     "end_time": "2020-06-17T09:58:45.036477Z",
     "start_time": "2020-06-17T09:58:45.008458Z"
    }
   },
   "outputs": [],
   "source": [
    "X_train.to_csv(interim + '3_X_train_age.csv', index=False)\n",
    "X_test.to_csv(interim + '3_X_test_age.csv', index=False)"
   ]
  },
  {
   "cell_type": "markdown",
   "metadata": {},
   "source": [
    "**policy_annual_premium**"
   ]
  },
  {
   "cell_type": "code",
   "execution_count": 158,
   "metadata": {
    "ExecuteTime": {
     "end_time": "2020-06-17T09:58:45.158455Z",
     "start_time": "2020-06-17T09:58:45.142463Z"
    }
   },
   "outputs": [
    {
     "data": {
      "text/plain": [
       "count     899.000000\n",
       "mean     1251.037086\n",
       "std       244.107876\n",
       "min       433.330000\n",
       "25%      1082.230000\n",
       "50%      1252.080000\n",
       "75%      1411.365000\n",
       "max      2047.590000\n",
       "Name: policy_annual_premium, dtype: float64"
      ]
     },
     "execution_count": 158,
     "metadata": {},
     "output_type": "execute_result"
    }
   ],
   "source": [
    "X_train['policy_annual_premium'].describe()"
   ]
  },
  {
   "cell_type": "code",
   "execution_count": 159,
   "metadata": {
    "ExecuteTime": {
     "end_time": "2020-06-17T09:58:45.326455Z",
     "start_time": "2020-06-17T09:58:45.309453Z"
    }
   },
   "outputs": [],
   "source": [
    "bins = list(np.linspace(0, 2500, 6, dtype = int))\n",
    "bin_labels = ['very low', 'low', 'medium', 'high', 'very high']\n",
    "\n",
    "X_train['policy_annual_premium_groups'] = pd.cut(X_train['policy_annual_premium'], bins = bins, labels=bin_labels, include_lowest = True)\n",
    "X_train.drop('policy_annual_premium', axis=1, inplace=True)\n",
    "\n",
    "X_test['policy_annual_premium_groups'] = pd.cut(X_test['policy_annual_premium'], bins = bins, labels=bin_labels, include_lowest = True)\n",
    "X_test.drop('policy_annual_premium', axis=1, inplace=True)"
   ]
  },
  {
   "cell_type": "code",
   "execution_count": 160,
   "metadata": {
    "ExecuteTime": {
     "end_time": "2020-06-17T09:58:45.839614Z",
     "start_time": "2020-06-17T09:58:45.460455Z"
    }
   },
   "outputs": [
    {
     "data": {
      "image/png": "[encoded data removed]",
      "text/plain": [
       "<Figure size 432x288 with 1 Axes>"
      ]
     },
     "metadata": {
      "needs_background": "light"
     },
     "output_type": "display_data"
    }
   ],
   "source": [
    "sns.countplot(x=X_train[\"policy_annual_premium_groups\"], hue=y_train);"
   ]
  },
  {
   "cell_type": "code",
   "execution_count": 161,
   "metadata": {
    "ExecuteTime": {
     "end_time": "2020-06-17T09:58:45.864612Z",
     "start_time": "2020-06-17T09:58:45.842610Z"
    }
   },
   "outputs": [],
   "source": [
    "X_train.to_csv(interim + '4_X_train_annual_prem.csv', index=False)\n",
    "X_test.to_csv(interim + '4_X_test_annual_prem.csv', index=False)"
   ]
  },
  {
   "cell_type": "markdown",
   "metadata": {
    "ExecuteTime": {
     "end_time": "2020-06-17T09:07:35.877782Z",
     "start_time": "2020-06-17T09:07:35.872783Z"
    }
   },
   "source": [
    "<!-- # capital net\n",
    "# data['capital_net'] = abs(data['capital_gains'] - data['capital_loss'])\n",
    "# data.drop(['capital_gains', 'capital_loss'], axis=1, inplace=True)\n",
    "# sns.distplot(data[data['fraud_reported']==0]['capital_net'], kde=False);\n",
    "# sns.distplot(data[data['fraud_reported']==1]['capital_net'], kde=False);\n",
    "# data.to_csv(interim + '6_data_capital_net.csv', index=False) -->"
   ]
  },
  {
   "cell_type": "markdown",
   "metadata": {},
   "source": [
    "**months_as_customer**"
   ]
  },
  {
   "cell_type": "code",
   "execution_count": 162,
   "metadata": {
    "ExecuteTime": {
     "end_time": "2020-06-17T09:58:46.119165Z",
     "start_time": "2020-06-17T09:58:46.102170Z"
    }
   },
   "outputs": [],
   "source": [
    "bins = [0, 50, 100, 150, 200, 250, 300, 350, 400, 450, 500]\n",
    "bin_labels = ['0-50','51-100','101-150','151-200','201-250','251-300','301-350','351-400','401-450','451-500']\n",
    "\n",
    "X_train['months_as_customer_groups'] = pd.cut(X_train['months_as_customer'], bins = bins, labels = bin_labels, include_lowest= True)\n",
    "X_train.drop(['months_as_customer'], axis=1, inplace=True)\n",
    "\n",
    "X_test['months_as_customer_groups'] = pd.cut(X_test['months_as_customer'], bins = bins, labels = bin_labels, include_lowest= True)\n",
    "X_test.drop(['months_as_customer'], axis=1, inplace=True)"
   ]
  },
  {
   "cell_type": "code",
   "execution_count": 163,
   "metadata": {
    "ExecuteTime": {
     "end_time": "2020-06-17T09:58:46.633952Z",
     "start_time": "2020-06-17T09:58:46.264281Z"
    }
   },
   "outputs": [
    {
     "data": {
      "image/png": "[encoded data removed]",
      "text/plain": [
       "<Figure size 720x360 with 1 Axes>"
      ]
     },
     "metadata": {
      "needs_background": "light"
     },
     "output_type": "display_data"
    }
   ],
   "source": [
    "plt.figure(figsize=(10,5))\n",
    "fig = sns.countplot(x=X_train[\"months_as_customer_groups\"], hue=y_train);\n",
    "fig.set_xticklabels(fig.get_xticklabels(), rotation=45);\n"
   ]
  },
  {
   "cell_type": "code",
   "execution_count": 164,
   "metadata": {
    "ExecuteTime": {
     "end_time": "2020-06-17T09:58:46.665952Z",
     "start_time": "2020-06-17T09:58:46.639956Z"
    }
   },
   "outputs": [],
   "source": [
    "X_train.to_csv(interim + '5_X_train_months_as_customer.csv', index=False)\n",
    "X_test.to_csv(interim + '5_X_test_months_as_customer.csv', index=False)"
   ]
  },
  {
   "cell_type": "markdown",
   "metadata": {},
   "source": [
    "### Categorical Variables"
   ]
  },
  {
   "cell_type": "code",
   "execution_count": 165,
   "metadata": {},
   "outputs": [],
   "source": [
    "# non numerical\n",
    "categorical_predictors = [col for col in X_train.columns if X_train[col].dtypes != 'int' and col != target]\n",
    "ordinal_predictors = ['incident_severity', 'policy_annual_premium_groups', 'policy_deductable_groups']\n",
    "nominal_predictors = [col for col in categorical_predictors if col not in ordinal_predictors]"
   ]
  },
  {
   "cell_type": "code",
   "execution_count": 166,
   "metadata": {
    "ExecuteTime": {
     "end_time": "2020-06-17T09:58:46.777950Z",
     "start_time": "2020-06-17T09:58:46.733950Z"
    }
   },
   "outputs": [
    {
     "data": {
      "text/html": [
       "<div>\n",
       "<style scoped>\n",
       "    .dataframe tbody tr th:only-of-type {\n",
       "        vertical-align: middle;\n",
       "    }\n",
       "\n",
       "    .dataframe tbody tr th {\n",
       "        vertical-align: top;\n",
       "    }\n",
       "\n",
       "    .dataframe thead th {\n",
       "        text-align: right;\n",
       "    }\n",
       "</style>\n",
       "<table border=\"1\" class=\"dataframe\">\n",
       "  <thead>\n",
       "    <tr style=\"text-align: right;\">\n",
       "      <th></th>\n",
       "      <th>insured_sex</th>\n",
       "      <th>insured_hobbies</th>\n",
       "      <th>incident_type</th>\n",
       "      <th>collision_type</th>\n",
       "      <th>incident_severity</th>\n",
       "      <th>authorities_contacted</th>\n",
       "      <th>property_damage</th>\n",
       "      <th>police_report_available</th>\n",
       "      <th>policy_deductable_groups</th>\n",
       "      <th>age_groups</th>\n",
       "      <th>policy_annual_premium_groups</th>\n",
       "      <th>months_as_customer_groups</th>\n",
       "    </tr>\n",
       "  </thead>\n",
       "  <tbody>\n",
       "    <tr>\n",
       "      <th>336</th>\n",
       "      <td>MALE</td>\n",
       "      <td>sleeping</td>\n",
       "      <td>Multi-vehicle Collision</td>\n",
       "      <td>Side Collision</td>\n",
       "      <td>Minor Damage</td>\n",
       "      <td>Fire</td>\n",
       "      <td>NO</td>\n",
       "      <td>NO</td>\n",
       "      <td>0-500</td>\n",
       "      <td>36-40</td>\n",
       "      <td>medium</td>\n",
       "      <td>151-200</td>\n",
       "    </tr>\n",
       "    <tr>\n",
       "      <th>13</th>\n",
       "      <td>FEMALE</td>\n",
       "      <td>bungie-jumping</td>\n",
       "      <td>Parked Car</td>\n",
       "      <td>missing</td>\n",
       "      <td>Minor Damage</td>\n",
       "      <td>None</td>\n",
       "      <td>NO</td>\n",
       "      <td>NO</td>\n",
       "      <td>501-1000</td>\n",
       "      <td>31-35</td>\n",
       "      <td>low</td>\n",
       "      <td>101-150</td>\n",
       "    </tr>\n",
       "    <tr>\n",
       "      <th>872</th>\n",
       "      <td>FEMALE</td>\n",
       "      <td>chess</td>\n",
       "      <td>Multi-vehicle Collision</td>\n",
       "      <td>Side Collision</td>\n",
       "      <td>Major Damage</td>\n",
       "      <td>Ambulance</td>\n",
       "      <td>YES</td>\n",
       "      <td>YES</td>\n",
       "      <td>501-1000</td>\n",
       "      <td>41-45</td>\n",
       "      <td>medium</td>\n",
       "      <td>251-300</td>\n",
       "    </tr>\n",
       "    <tr>\n",
       "      <th>156</th>\n",
       "      <td>MALE</td>\n",
       "      <td>exercise</td>\n",
       "      <td>Multi-vehicle Collision</td>\n",
       "      <td>Rear Collision</td>\n",
       "      <td>Minor Damage</td>\n",
       "      <td>Police</td>\n",
       "      <td>missing</td>\n",
       "      <td>YES</td>\n",
       "      <td>1501-2000</td>\n",
       "      <td>61-65</td>\n",
       "      <td>medium</td>\n",
       "      <td>451-500</td>\n",
       "    </tr>\n",
       "    <tr>\n",
       "      <th>429</th>\n",
       "      <td>MALE</td>\n",
       "      <td>bungie-jumping</td>\n",
       "      <td>Single Vehicle Collision</td>\n",
       "      <td>Front Collision</td>\n",
       "      <td>Total Loss</td>\n",
       "      <td>Fire</td>\n",
       "      <td>YES</td>\n",
       "      <td>NO</td>\n",
       "      <td>1501-2000</td>\n",
       "      <td>56-60</td>\n",
       "      <td>low</td>\n",
       "      <td>451-500</td>\n",
       "    </tr>\n",
       "  </tbody>\n",
       "</table>\n",
       "</div>"
      ],
      "text/plain": [
       "    insured_sex insured_hobbies             incident_type   collision_type incident_severity authorities_contacted property_damage police_report_available policy_deductable_groups age_groups policy_annual_premium_groups months_as_customer_groups\n",
       "336        MALE        sleeping   Multi-vehicle Collision   Side Collision      Minor Damage                  Fire              NO                      NO                    0-500      36-40                       medium                   151-200\n",
       "13       FEMALE  bungie-jumping                Parked Car          missing      Minor Damage                  None              NO                      NO                 501-1000      31-35                          low                   101-150\n",
       "872      FEMALE           chess   Multi-vehicle Collision   Side Collision      Major Damage             Ambulance             YES                     YES                 501-1000      41-45                       medium                   251-300\n",
       "156        MALE        exercise   Multi-vehicle Collision   Rear Collision      Minor Damage                Police         missing                     YES                1501-2000      61-65                       medium                   451-500\n",
       "429        MALE  bungie-jumping  Single Vehicle Collision  Front Collision        Total Loss                  Fire             YES                      NO                1501-2000      56-60                          low                   451-500"
      ]
     },
     "execution_count": 166,
     "metadata": {},
     "output_type": "execute_result"
    }
   ],
   "source": [
    "X_train[categorical_predictors].head()"
   ]
  },
  {
   "cell_type": "markdown",
   "metadata": {},
   "source": [
    "#### Nominal"
   ]
  },
  {
   "cell_type": "code",
   "execution_count": 167,
   "metadata": {
    "ExecuteTime": {
     "end_time": "2020-06-17T09:58:47.242490Z",
     "start_time": "2020-06-17T09:58:47.185492Z"
    }
   },
   "outputs": [
    {
     "data": {
      "text/html": [
       "<div>\n",
       "<style scoped>\n",
       "    .dataframe tbody tr th:only-of-type {\n",
       "        vertical-align: middle;\n",
       "    }\n",
       "\n",
       "    .dataframe tbody tr th {\n",
       "        vertical-align: top;\n",
       "    }\n",
       "\n",
       "    .dataframe thead th {\n",
       "        text-align: right;\n",
       "    }\n",
       "</style>\n",
       "<table border=\"1\" class=\"dataframe\">\n",
       "  <thead>\n",
       "    <tr style=\"text-align: right;\">\n",
       "      <th></th>\n",
       "      <th>insured_sex</th>\n",
       "      <th>insured_hobbies</th>\n",
       "      <th>incident_type</th>\n",
       "      <th>collision_type</th>\n",
       "      <th>authorities_contacted</th>\n",
       "      <th>property_damage</th>\n",
       "      <th>police_report_available</th>\n",
       "      <th>age_groups</th>\n",
       "      <th>months_as_customer_groups</th>\n",
       "    </tr>\n",
       "  </thead>\n",
       "  <tbody>\n",
       "    <tr>\n",
       "      <th>336</th>\n",
       "      <td>MALE</td>\n",
       "      <td>sleeping</td>\n",
       "      <td>Multi-vehicle Collision</td>\n",
       "      <td>Side Collision</td>\n",
       "      <td>Fire</td>\n",
       "      <td>NO</td>\n",
       "      <td>NO</td>\n",
       "      <td>36-40</td>\n",
       "      <td>151-200</td>\n",
       "    </tr>\n",
       "    <tr>\n",
       "      <th>13</th>\n",
       "      <td>FEMALE</td>\n",
       "      <td>bungie-jumping</td>\n",
       "      <td>Parked Car</td>\n",
       "      <td>missing</td>\n",
       "      <td>None</td>\n",
       "      <td>NO</td>\n",
       "      <td>NO</td>\n",
       "      <td>31-35</td>\n",
       "      <td>101-150</td>\n",
       "    </tr>\n",
       "    <tr>\n",
       "      <th>872</th>\n",
       "      <td>FEMALE</td>\n",
       "      <td>chess</td>\n",
       "      <td>Multi-vehicle Collision</td>\n",
       "      <td>Side Collision</td>\n",
       "      <td>Ambulance</td>\n",
       "      <td>YES</td>\n",
       "      <td>YES</td>\n",
       "      <td>41-45</td>\n",
       "      <td>251-300</td>\n",
       "    </tr>\n",
       "    <tr>\n",
       "      <th>156</th>\n",
       "      <td>MALE</td>\n",
       "      <td>exercise</td>\n",
       "      <td>Multi-vehicle Collision</td>\n",
       "      <td>Rear Collision</td>\n",
       "      <td>Police</td>\n",
       "      <td>missing</td>\n",
       "      <td>YES</td>\n",
       "      <td>61-65</td>\n",
       "      <td>451-500</td>\n",
       "    </tr>\n",
       "    <tr>\n",
       "      <th>429</th>\n",
       "      <td>MALE</td>\n",
       "      <td>bungie-jumping</td>\n",
       "      <td>Single Vehicle Collision</td>\n",
       "      <td>Front Collision</td>\n",
       "      <td>Fire</td>\n",
       "      <td>YES</td>\n",
       "      <td>NO</td>\n",
       "      <td>56-60</td>\n",
       "      <td>451-500</td>\n",
       "    </tr>\n",
       "  </tbody>\n",
       "</table>\n",
       "</div>"
      ],
      "text/plain": [
       "    insured_sex insured_hobbies             incident_type   collision_type authorities_contacted property_damage police_report_available age_groups months_as_customer_groups\n",
       "336        MALE        sleeping   Multi-vehicle Collision   Side Collision                  Fire              NO                      NO      36-40                   151-200\n",
       "13       FEMALE  bungie-jumping                Parked Car          missing                  None              NO                      NO      31-35                   101-150\n",
       "872      FEMALE           chess   Multi-vehicle Collision   Side Collision             Ambulance             YES                     YES      41-45                   251-300\n",
       "156        MALE        exercise   Multi-vehicle Collision   Rear Collision                Police         missing                     YES      61-65                   451-500\n",
       "429        MALE  bungie-jumping  Single Vehicle Collision  Front Collision                  Fire             YES                      NO      56-60                   451-500"
      ]
     },
     "execution_count": 167,
     "metadata": {},
     "output_type": "execute_result"
    }
   ],
   "source": [
    "X_train[nominal_predictors].head()"
   ]
  },
  {
   "cell_type": "code",
   "execution_count": 168,
   "metadata": {},
   "outputs": [
    {
     "data": {
      "text/plain": [
       "336          sleeping\n",
       "13     bungie-jumping\n",
       "872             chess\n",
       "156          exercise\n",
       "429    bungie-jumping\n",
       "824          kayaking\n",
       "267       video-games\n",
       "539            hiking\n",
       "236              golf\n",
       "944            movies\n",
       "480          sleeping\n",
       "785         cross-fit\n",
       "950       video-games\n",
       "59           kayaking\n",
       "868             chess\n",
       "175       board-games\n",
       "711      base-jumping\n",
       "450      base-jumping\n",
       "120       board-games\n",
       "894            movies\n",
       "180        basketball\n",
       "312         skydiving\n",
       "3         board-games\n",
       "194        basketball\n",
       "438          sleeping\n",
       "683             chess\n",
       "886          exercise\n",
       "620             chess\n",
       "652          yachting\n",
       "692         paintball\n",
       "552             chess\n",
       "248              golf\n",
       "659       video-games\n",
       "2         board-games\n",
       "975              polo\n",
       "812         cross-fit\n",
       "862    bungie-jumping\n",
       "857           reading\n",
       "359        basketball\n",
       "769            movies\n",
       "73               golf\n",
       "117          exercise\n",
       "938          exercise\n",
       "536        basketball\n",
       "111           dancing\n",
       "510           reading\n",
       "513             chess\n",
       "916              golf\n",
       "556          sleeping\n",
       "553           camping\n",
       "355              golf\n",
       "970            movies\n",
       "8                golf\n",
       "860              golf\n",
       "56              chess\n",
       "719              golf\n",
       "705         cross-fit\n",
       "651       board-games\n",
       "84             movies\n",
       "228          kayaking\n",
       "159       video-games\n",
       "205          exercise\n",
       "125           dancing\n",
       "722              polo\n",
       "887          exercise\n",
       "474             chess\n",
       "244       board-games\n",
       "985      base-jumping\n",
       "797         paintball\n",
       "195    bungie-jumping\n",
       "202       board-games\n",
       "81        video-games\n",
       "485          exercise\n",
       "444           reading\n",
       "578              polo\n",
       "201      base-jumping\n",
       "186    bungie-jumping\n",
       "517            hiking\n",
       "930          sleeping\n",
       "967      base-jumping\n",
       "216      base-jumping\n",
       "50     bungie-jumping\n",
       "783    bungie-jumping\n",
       "672           dancing\n",
       "532         skydiving\n",
       "315    bungie-jumping\n",
       "200              golf\n",
       "223       board-games\n",
       "891           camping\n",
       "983            hiking\n",
       "665             chess\n",
       "826            movies\n",
       "233         paintball\n",
       "673              golf\n",
       "974       video-games\n",
       "431          yachting\n",
       "588         skydiving\n",
       "551        basketball\n",
       "608              polo\n",
       "207              golf\n",
       "383             chess\n",
       "905         paintball\n",
       "982         cross-fit\n",
       "47           kayaking\n",
       "522            hiking\n",
       "636              polo\n",
       "19            camping\n",
       "367            hiking\n",
       "341            movies\n",
       "952          sleeping\n",
       "675          exercise\n",
       "307         cross-fit\n",
       "835        basketball\n",
       "430          sleeping\n",
       "823        basketball\n",
       "305      base-jumping\n",
       "356         paintball\n",
       "177          kayaking\n",
       "633           dancing\n",
       "60       base-jumping\n",
       "310           dancing\n",
       "892          yachting\n",
       "302      base-jumping\n",
       "920      base-jumping\n",
       "594          sleeping\n",
       "792          exercise\n",
       "107           camping\n",
       "747         skydiving\n",
       "988           dancing\n",
       "806           dancing\n",
       "99            reading\n",
       "250          yachting\n",
       "833         skydiving\n",
       "475              golf\n",
       "662         skydiving\n",
       "941          exercise\n",
       "384       board-games\n",
       "680            hiking\n",
       "181           reading\n",
       "12            reading\n",
       "613       board-games\n",
       "85        board-games\n",
       "321              polo\n",
       "902         skydiving\n",
       "710          exercise\n",
       "386         paintball\n",
       "890          sleeping\n",
       "440          yachting\n",
       "135          yachting\n",
       "674              polo\n",
       "299       video-games\n",
       "160           reading\n",
       "268           reading\n",
       "869         skydiving\n",
       "996          sleeping\n",
       "641      base-jumping\n",
       "994    bungie-jumping\n",
       "805          kayaking\n",
       "893          sleeping\n",
       "390              golf\n",
       "121       video-games\n",
       "732    bungie-jumping\n",
       "187          exercise\n",
       "16             hiking\n",
       "773         paintball\n",
       "494       board-games\n",
       "342         skydiving\n",
       "427              polo\n",
       "468          yachting\n",
       "106        basketball\n",
       "409         cross-fit\n",
       "23              chess\n",
       "831            movies\n",
       "69           kayaking\n",
       "900       video-games\n",
       "676          sleeping\n",
       "992           camping\n",
       "599    bungie-jumping\n",
       "995         paintball\n",
       "340         cross-fit\n",
       "701      base-jumping\n",
       "873          kayaking\n",
       "74           yachting\n",
       "218          exercise\n",
       "526          kayaking\n",
       "265            movies\n",
       "801          kayaking\n",
       "110       video-games\n",
       "436    bungie-jumping\n",
       "980           camping\n",
       "632              golf\n",
       "185         cross-fit\n",
       "286            hiking\n",
       "582            movies\n",
       "912          kayaking\n",
       "460      base-jumping\n",
       "416    bungie-jumping\n",
       "61         basketball\n",
       "348         cross-fit\n",
       "350              polo\n",
       "731              polo\n",
       "670           camping\n",
       "640            movies\n",
       "804      base-jumping\n",
       "737          exercise\n",
       "330      base-jumping\n",
       "845             chess\n",
       "134        basketball\n",
       "689          sleeping\n",
       "764        basketball\n",
       "784             chess\n",
       "57             hiking\n",
       "825         skydiving\n",
       "746    bungie-jumping\n",
       "896       board-games\n",
       "786           dancing\n",
       "292              polo\n",
       "46               polo\n",
       "277         cross-fit\n",
       "841           reading\n",
       "971         paintball\n",
       "224          kayaking\n",
       "531           dancing\n",
       "280            movies\n",
       "0            sleeping\n",
       "914         cross-fit\n",
       "496            hiking\n",
       "66          paintball\n",
       "404         cross-fit\n",
       "564            hiking\n",
       "482              golf\n",
       "968         paintball\n",
       "771              polo\n",
       "295        basketball\n",
       "619          kayaking\n",
       "743            hiking\n",
       "245              golf\n",
       "257         cross-fit\n",
       "161           dancing\n",
       "760          kayaking\n",
       "605           reading\n",
       "751            movies\n",
       "437             chess\n",
       "855          kayaking\n",
       "642              golf\n",
       "247             chess\n",
       "542         paintball\n",
       "239           dancing\n",
       "220      base-jumping\n",
       "829             chess\n",
       "            ...      \n",
       "597             chess\n",
       "521         skydiving\n",
       "32           yachting\n",
       "612             chess\n",
       "109             chess\n",
       "136          exercise\n",
       "331           reading\n",
       "222          yachting\n",
       "28           kayaking\n",
       "287              golf\n",
       "723      base-jumping\n",
       "55          skydiving\n",
       "972          exercise\n",
       "881         skydiving\n",
       "901          sleeping\n",
       "48            dancing\n",
       "917             chess\n",
       "976       board-games\n",
       "643         paintball\n",
       "546       board-games\n",
       "478             chess\n",
       "548              golf\n",
       "63        video-games\n",
       "414         paintball\n",
       "385      base-jumping\n",
       "889          sleeping\n",
       "323       board-games\n",
       "452       board-games\n",
       "781       video-games\n",
       "234              polo\n",
       "657         cross-fit\n",
       "558          yachting\n",
       "463              golf\n",
       "425        basketball\n",
       "880       video-games\n",
       "304    bungie-jumping\n",
       "927    bungie-jumping\n",
       "690         skydiving\n",
       "219           camping\n",
       "870         skydiving\n",
       "297           dancing\n",
       "21          skydiving\n",
       "761         paintball\n",
       "421       video-games\n",
       "326    bungie-jumping\n",
       "199         paintball\n",
       "451           reading\n",
       "137              golf\n",
       "537           reading\n",
       "697          sleeping\n",
       "718          exercise\n",
       "647    bungie-jumping\n",
       "629             chess\n",
       "212          yachting\n",
       "990            movies\n",
       "934           camping\n",
       "921           camping\n",
       "506         paintball\n",
       "815           camping\n",
       "231           dancing\n",
       "406          exercise\n",
       "730           camping\n",
       "569           camping\n",
       "318          yachting\n",
       "183         cross-fit\n",
       "856           reading\n",
       "854              golf\n",
       "694           reading\n",
       "610          kayaking\n",
       "627      base-jumping\n",
       "486              golf\n",
       "278          exercise\n",
       "631       video-games\n",
       "20     bungie-jumping\n",
       "170            hiking\n",
       "402         skydiving\n",
       "924         skydiving\n",
       "567            movies\n",
       "176           dancing\n",
       "328      base-jumping\n",
       "707             chess\n",
       "198    bungie-jumping\n",
       "471       video-games\n",
       "842           reading\n",
       "695            movies\n",
       "266            hiking\n",
       "616       board-games\n",
       "733         skydiving\n",
       "493           reading\n",
       "130           camping\n",
       "339       video-games\n",
       "851       video-games\n",
       "490            movies\n",
       "573       board-games\n",
       "607           reading\n",
       "193            hiking\n",
       "140           camping\n",
       "417          exercise\n",
       "661         skydiving\n",
       "477         cross-fit\n",
       "715            hiking\n",
       "152          kayaking\n",
       "850              golf\n",
       "898        basketball\n",
       "10            dancing\n",
       "269           camping\n",
       "96             hiking\n",
       "210            movies\n",
       "984         cross-fit\n",
       "753            movies\n",
       "570            movies\n",
       "814           dancing\n",
       "776    bungie-jumping\n",
       "549           dancing\n",
       "943    bungie-jumping\n",
       "533         paintball\n",
       "933           reading\n",
       "333           reading\n",
       "75     bungie-jumping\n",
       "713           reading\n",
       "77            dancing\n",
       "263      base-jumping\n",
       "993           camping\n",
       "149         skydiving\n",
       "932              polo\n",
       "515            movies\n",
       "940            movies\n",
       "470         skydiving\n",
       "565          exercise\n",
       "775          kayaking\n",
       "462            hiking\n",
       "253            movies\n",
       "772            hiking\n",
       "846              golf\n",
       "370          exercise\n",
       "322            movies\n",
       "696          kayaking\n",
       "151              polo\n",
       "949    bungie-jumping\n",
       "303           camping\n",
       "190            movies\n",
       "587          yachting\n",
       "349    bungie-jumping\n",
       "243         paintball\n",
       "794            hiking\n",
       "87           yachting\n",
       "752              golf\n",
       "656          yachting\n",
       "997    bungie-jumping\n",
       "779         skydiving\n",
       "419         paintball\n",
       "288            movies\n",
       "649             chess\n",
       "166       board-games\n",
       "596              golf\n",
       "937            hiking\n",
       "155    bungie-jumping\n",
       "357            movies\n",
       "382              golf\n",
       "279          sleeping\n",
       "126       video-games\n",
       "708       video-games\n",
       "778          exercise\n",
       "22          paintball\n",
       "617          sleeping\n",
       "666         paintball\n",
       "282       video-games\n",
       "904            movies\n",
       "472            hiking\n",
       "739           camping\n",
       "368          yachting\n",
       "25               polo\n",
       "196         skydiving\n",
       "64              chess\n",
       "15             movies\n",
       "467          exercise\n",
       "298              golf\n",
       "884         paintball\n",
       "622           camping\n",
       "337           camping\n",
       "821              polo\n",
       "26               golf\n",
       "589            hiking\n",
       "43            reading\n",
       "498          exercise\n",
       "793          kayaking\n",
       "516          exercise\n",
       "955            movies\n",
       "562           dancing\n",
       "918          exercise\n",
       "455       video-games\n",
       "388      base-jumping\n",
       "71          cross-fit\n",
       "543              golf\n",
       "457            movies\n",
       "634    bungie-jumping\n",
       "432      base-jumping\n",
       "628            hiking\n",
       "654              golf\n",
       "729           camping\n",
       "264          kayaking\n",
       "209           reading\n",
       "317           camping\n",
       "897          sleeping\n",
       "514         cross-fit\n",
       "314              golf\n",
       "535           dancing\n",
       "830            hiking\n",
       "320       video-games\n",
       "7        base-jumping\n",
       "394           reading\n",
       "141       video-games\n",
       "86           yachting\n",
       "865              polo\n",
       "479          yachting\n",
       "504         skydiving\n",
       "754            hiking\n",
       "215    bungie-jumping\n",
       "581            movies\n",
       "563            hiking\n",
       "399          exercise\n",
       "926       video-games\n",
       "669    bungie-jumping\n",
       "491           reading\n",
       "252    bungie-jumping\n",
       "908      base-jumping\n",
       "469          kayaking\n",
       "915             chess\n",
       "358          yachting\n",
       "254      base-jumping\n",
       "276         paintball\n",
       "178         skydiving\n",
       "281         cross-fit\n",
       "391              golf\n",
       "509              golf\n",
       "750            movies\n",
       "584          exercise\n",
       "973           reading\n",
       "129          sleeping\n",
       "144       video-games\n",
       "961    bungie-jumping\n",
       "848       board-games\n",
       "646          yachting\n",
       "716        basketball\n",
       "906           camping\n",
       "768           reading\n",
       "72          paintball\n",
       "909         skydiving\n",
       "235          kayaking\n",
       "37               golf\n",
       "Name: insured_hobbies, Length: 899, dtype: object"
      ]
     },
     "execution_count": 168,
     "metadata": {},
     "output_type": "execute_result"
    }
   ],
   "source": [
    "X_train['insured_hobbies']"
   ]
  },
  {
   "cell_type": "code",
   "execution_count": 169,
   "metadata": {
    "ExecuteTime": {
     "end_time": "2020-06-17T09:58:47.358511Z",
     "start_time": "2020-06-17T09:58:47.348488Z"
    }
   },
   "outputs": [],
   "source": [
    "# **insured_hobbies**\n",
    "replace_labels = [label for label in X_train['insured_hobbies'].unique() if label not in ['chess', 'cross-fit']]\n",
    "X_train['insured_hobbies'] = X_train['insured_hobbies'].replace(replace_labels, 'others')\n",
    "X_test['insured_hobbies'] = X_test['insured_hobbies'].replace(replace_labels, 'others')"
   ]
  },
  {
   "cell_type": "code",
   "execution_count": 170,
   "metadata": {
    "ExecuteTime": {
     "end_time": "2020-06-17T09:58:47.534490Z",
     "start_time": "2020-06-17T09:58:47.493490Z"
    }
   },
   "outputs": [],
   "source": [
    "X_train = pd.get_dummies(X_train, columns=nominal_predictors)\n",
    "X_test = pd.get_dummies(X_test, columns=nominal_predictors)"
   ]
  },
  {
   "cell_type": "code",
   "execution_count": 171,
   "metadata": {
    "ExecuteTime": {
     "end_time": "2020-06-17T09:58:47.954205Z",
     "start_time": "2020-06-17T09:58:47.932201Z"
    }
   },
   "outputs": [],
   "source": [
    "X_train.to_csv(interim + '6_X_train_dummies.csv', index=False)\n",
    "X_train.to_csv(interim + '6_X_test_dummies.csv', index=False)"
   ]
  },
  {
   "cell_type": "markdown",
   "metadata": {},
   "source": [
    "#### Ordinal"
   ]
  },
  {
   "cell_type": "code",
   "execution_count": 172,
   "metadata": {
    "ExecuteTime": {
     "end_time": "2020-06-17T09:58:48.331965Z",
     "start_time": "2020-06-17T09:58:48.298927Z"
    }
   },
   "outputs": [
    {
     "data": {
      "text/html": [
       "<div>\n",
       "<style scoped>\n",
       "    .dataframe tbody tr th:only-of-type {\n",
       "        vertical-align: middle;\n",
       "    }\n",
       "\n",
       "    .dataframe tbody tr th {\n",
       "        vertical-align: top;\n",
       "    }\n",
       "\n",
       "    .dataframe thead th {\n",
       "        text-align: right;\n",
       "    }\n",
       "</style>\n",
       "<table border=\"1\" class=\"dataframe\">\n",
       "  <thead>\n",
       "    <tr style=\"text-align: right;\">\n",
       "      <th></th>\n",
       "      <th>incident_severity</th>\n",
       "      <th>policy_annual_premium_groups</th>\n",
       "      <th>policy_deductable_groups</th>\n",
       "    </tr>\n",
       "  </thead>\n",
       "  <tbody>\n",
       "    <tr>\n",
       "      <th>336</th>\n",
       "      <td>Minor Damage</td>\n",
       "      <td>medium</td>\n",
       "      <td>0-500</td>\n",
       "    </tr>\n",
       "    <tr>\n",
       "      <th>13</th>\n",
       "      <td>Minor Damage</td>\n",
       "      <td>low</td>\n",
       "      <td>501-1000</td>\n",
       "    </tr>\n",
       "    <tr>\n",
       "      <th>872</th>\n",
       "      <td>Major Damage</td>\n",
       "      <td>medium</td>\n",
       "      <td>501-1000</td>\n",
       "    </tr>\n",
       "    <tr>\n",
       "      <th>156</th>\n",
       "      <td>Minor Damage</td>\n",
       "      <td>medium</td>\n",
       "      <td>1501-2000</td>\n",
       "    </tr>\n",
       "    <tr>\n",
       "      <th>429</th>\n",
       "      <td>Total Loss</td>\n",
       "      <td>low</td>\n",
       "      <td>1501-2000</td>\n",
       "    </tr>\n",
       "  </tbody>\n",
       "</table>\n",
       "</div>"
      ],
      "text/plain": [
       "    incident_severity policy_annual_premium_groups policy_deductable_groups\n",
       "336      Minor Damage                       medium                    0-500\n",
       "13       Minor Damage                          low                 501-1000\n",
       "872      Major Damage                       medium                 501-1000\n",
       "156      Minor Damage                       medium                1501-2000\n",
       "429        Total Loss                          low                1501-2000"
      ]
     },
     "execution_count": 172,
     "metadata": {},
     "output_type": "execute_result"
    }
   ],
   "source": [
    "X_train[ordinal_predictors].head()"
   ]
  },
  {
   "cell_type": "code",
   "execution_count": 173,
   "metadata": {
    "ExecuteTime": {
     "end_time": "2020-06-17T09:58:48.493136Z",
     "start_time": "2020-06-17T09:58:48.480137Z"
    }
   },
   "outputs": [
    {
     "data": {
      "text/plain": [
       "{'incident_severity': ['Minor Damage',\n",
       "  'Major Damage',\n",
       "  'Total Loss',\n",
       "  'Trivial Damage'],\n",
       " 'policy_annual_premium_groups': ['medium',\n",
       "  'low',\n",
       "  'high',\n",
       "  'very low',\n",
       "  'very high'],\n",
       " 'policy_deductable_groups': ['0-500', '501-1000', '1501-2000']}"
      ]
     },
     "execution_count": 173,
     "metadata": {},
     "output_type": "execute_result"
    }
   ],
   "source": [
    "ord_categories = {col: list(X_train[col].unique()) for col in ordinal_predictors}\n",
    "ord_categories"
   ]
  },
  {
   "cell_type": "code",
   "execution_count": 174,
   "metadata": {
    "ExecuteTime": {
     "end_time": "2020-06-17T09:58:48.832676Z",
     "start_time": "2020-06-17T09:58:48.813665Z"
    }
   },
   "outputs": [],
   "source": [
    "incident_severity_categories = pd.Categorical(X_train[ordinal_predictors]['incident_severity'],\n",
    "                                              categories=['Trivial Damage',\n",
    "                                                          'Minor Damage',\n",
    "                                                          'Major Damage',\n",
    "                                                          'Total Loss'],\n",
    "                                              ordered=True)\n",
    "\n",
    "policy_annual_premium_categories = pd.Categorical(X_train[ordinal_predictors]['policy_annual_premium_groups'],\n",
    "                                                  categories=['very low',\n",
    "                                                          'low',\n",
    "                                                          'medium',\n",
    "                                                          'high',\n",
    "                                                          'very high'],\n",
    "                                                  ordered=True)\n",
    "\n",
    "# policy_csl_categories = pd.Categorical(data[ordinal_predictors]['policy_csl'],\n",
    "#                                        categories=['100/300', '250/500', '500/1000'],\n",
    "#                                        ordered=True)\n",
    "\n",
    "policy_deductable_categories = pd.Categorical(X_train[ordinal_predictors]['policy_deductable_groups'],\n",
    "                                       categories=['0-500', '501-1000', '1001-1500', '1501-2000'],\n",
    "                                       ordered=True)"
   ]
  },
  {
   "cell_type": "code",
   "execution_count": 175,
   "metadata": {
    "ExecuteTime": {
     "end_time": "2020-06-17T09:58:49.216260Z",
     "start_time": "2020-06-17T09:58:49.200252Z"
    }
   },
   "outputs": [],
   "source": [
    "categories = [policy_annual_premium_categories, incident_severity_categories, policy_deductable_categories]\n",
    "\n",
    "for var, cat in zip(ord_categories, categories):\n",
    "    labels, unique = pd.factorize(cat, sort=True)\n",
    "    X_train[var] = labels"
   ]
  },
  {
   "cell_type": "code",
   "execution_count": 176,
   "metadata": {
    "ExecuteTime": {
     "end_time": "2020-06-17T09:58:48.832676Z",
     "start_time": "2020-06-17T09:58:48.813665Z"
    }
   },
   "outputs": [],
   "source": [
    "incident_severity_categories = pd.Categorical(X_test[ordinal_predictors]['incident_severity'],\n",
    "                                              categories=['Trivial Damage',\n",
    "                                                          'Minor Damage',\n",
    "                                                          'Major Damage',\n",
    "                                                          'Total Loss'],\n",
    "                                              ordered=True)\n",
    "\n",
    "policy_annual_premium_categories = pd.Categorical(X_test[ordinal_predictors]['policy_annual_premium_groups'],\n",
    "                                                  categories=['very low',\n",
    "                                                          'low',\n",
    "                                                          'medium',\n",
    "                                                          'high',\n",
    "                                                          'very high'],\n",
    "                                                  ordered=True)\n",
    "\n",
    "# policy_csl_categories = pd.Categorical(data[ordinal_predictors]['policy_csl'],\n",
    "#                                        categories=['100/300', '250/500', '500/1000'],\n",
    "#                                        ordered=True)\n",
    "\n",
    "policy_deductable_categories = pd.Categorical(X_test[ordinal_predictors]['policy_deductable_groups'],\n",
    "                                       categories=['0-500', '501-1000', '1001-1500', '1501-2000'],\n",
    "                                       ordered=True)"
   ]
  },
  {
   "cell_type": "code",
   "execution_count": 177,
   "metadata": {
    "ExecuteTime": {
     "end_time": "2020-06-17T09:58:49.216260Z",
     "start_time": "2020-06-17T09:58:49.200252Z"
    }
   },
   "outputs": [],
   "source": [
    "categories = [policy_annual_premium_categories, incident_severity_categories, policy_deductable_categories]\n",
    "\n",
    "for var, cat in zip(ord_categories, categories):\n",
    "    labels, unique = pd.factorize(cat, sort=True)\n",
    "    X_test[var] = labels"
   ]
  },
  {
   "cell_type": "code",
   "execution_count": 178,
   "metadata": {
    "ExecuteTime": {
     "end_time": "2020-06-17T09:58:49.736789Z",
     "start_time": "2020-06-17T09:58:49.656792Z"
    }
   },
   "outputs": [
    {
     "data": {
      "text/html": [
       "<div>\n",
       "<style scoped>\n",
       "    .dataframe tbody tr th:only-of-type {\n",
       "        vertical-align: middle;\n",
       "    }\n",
       "\n",
       "    .dataframe tbody tr th {\n",
       "        vertical-align: top;\n",
       "    }\n",
       "\n",
       "    .dataframe thead th {\n",
       "        text-align: right;\n",
       "    }\n",
       "</style>\n",
       "<table border=\"1\" class=\"dataframe\">\n",
       "  <thead>\n",
       "    <tr style=\"text-align: right;\">\n",
       "      <th></th>\n",
       "      <th>umbrella_limit</th>\n",
       "      <th>capital_gains</th>\n",
       "      <th>capital_loss</th>\n",
       "      <th>incident_severity</th>\n",
       "      <th>incident_hour_of_the_day</th>\n",
       "      <th>number_of_vehicles_involved</th>\n",
       "      <th>bodily_injuries</th>\n",
       "      <th>witnesses</th>\n",
       "      <th>total_claim_amount</th>\n",
       "      <th>policy_deductable_groups</th>\n",
       "      <th>policy_annual_premium_groups</th>\n",
       "      <th>insured_sex_FEMALE</th>\n",
       "      <th>insured_sex_MALE</th>\n",
       "      <th>insured_hobbies_chess</th>\n",
       "      <th>insured_hobbies_cross-fit</th>\n",
       "      <th>insured_hobbies_others</th>\n",
       "      <th>incident_type_Multi-vehicle Collision</th>\n",
       "      <th>incident_type_Parked Car</th>\n",
       "      <th>incident_type_Single Vehicle Collision</th>\n",
       "      <th>incident_type_Vehicle Theft</th>\n",
       "      <th>collision_type_Front Collision</th>\n",
       "      <th>collision_type_Rear Collision</th>\n",
       "      <th>collision_type_Side Collision</th>\n",
       "      <th>collision_type_missing</th>\n",
       "      <th>authorities_contacted_Ambulance</th>\n",
       "      <th>authorities_contacted_Fire</th>\n",
       "      <th>authorities_contacted_None</th>\n",
       "      <th>authorities_contacted_Other</th>\n",
       "      <th>authorities_contacted_Police</th>\n",
       "      <th>property_damage_NO</th>\n",
       "      <th>property_damage_YES</th>\n",
       "      <th>property_damage_missing</th>\n",
       "      <th>police_report_available_NO</th>\n",
       "      <th>police_report_available_YES</th>\n",
       "      <th>police_report_available_missing</th>\n",
       "      <th>age_groups_15-20</th>\n",
       "      <th>age_groups_21-25</th>\n",
       "      <th>age_groups_26-30</th>\n",
       "      <th>age_groups_31-35</th>\n",
       "      <th>age_groups_36-40</th>\n",
       "      <th>age_groups_41-45</th>\n",
       "      <th>age_groups_46-50</th>\n",
       "      <th>age_groups_51-55</th>\n",
       "      <th>age_groups_56-60</th>\n",
       "      <th>age_groups_61-65</th>\n",
       "      <th>months_as_customer_groups_0-50</th>\n",
       "      <th>months_as_customer_groups_51-100</th>\n",
       "      <th>months_as_customer_groups_101-150</th>\n",
       "      <th>months_as_customer_groups_151-200</th>\n",
       "      <th>months_as_customer_groups_201-250</th>\n",
       "      <th>months_as_customer_groups_251-300</th>\n",
       "      <th>months_as_customer_groups_301-350</th>\n",
       "      <th>months_as_customer_groups_351-400</th>\n",
       "      <th>months_as_customer_groups_401-450</th>\n",
       "      <th>months_as_customer_groups_451-500</th>\n",
       "    </tr>\n",
       "  </thead>\n",
       "  <tbody>\n",
       "    <tr>\n",
       "      <th>336</th>\n",
       "      <td>4000000</td>\n",
       "      <td>0</td>\n",
       "      <td>-56600</td>\n",
       "      <td>2</td>\n",
       "      <td>14</td>\n",
       "      <td>3</td>\n",
       "      <td>2</td>\n",
       "      <td>1</td>\n",
       "      <td>44280</td>\n",
       "      <td>0</td>\n",
       "      <td>1</td>\n",
       "      <td>0</td>\n",
       "      <td>1</td>\n",
       "      <td>0</td>\n",
       "      <td>0</td>\n",
       "      <td>1</td>\n",
       "      <td>1</td>\n",
       "      <td>0</td>\n",
       "      <td>0</td>\n",
       "      <td>0</td>\n",
       "      <td>0</td>\n",
       "      <td>0</td>\n",
       "      <td>1</td>\n",
       "      <td>0</td>\n",
       "      <td>0</td>\n",
       "      <td>1</td>\n",
       "      <td>0</td>\n",
       "      <td>0</td>\n",
       "      <td>0</td>\n",
       "      <td>1</td>\n",
       "      <td>0</td>\n",
       "      <td>0</td>\n",
       "      <td>1</td>\n",
       "      <td>0</td>\n",
       "      <td>0</td>\n",
       "      <td>0</td>\n",
       "      <td>0</td>\n",
       "      <td>0</td>\n",
       "      <td>0</td>\n",
       "      <td>1</td>\n",
       "      <td>0</td>\n",
       "      <td>0</td>\n",
       "      <td>0</td>\n",
       "      <td>0</td>\n",
       "      <td>0</td>\n",
       "      <td>0</td>\n",
       "      <td>0</td>\n",
       "      <td>0</td>\n",
       "      <td>1</td>\n",
       "      <td>0</td>\n",
       "      <td>0</td>\n",
       "      <td>0</td>\n",
       "      <td>0</td>\n",
       "      <td>0</td>\n",
       "      <td>0</td>\n",
       "    </tr>\n",
       "    <tr>\n",
       "      <th>13</th>\n",
       "      <td>0</td>\n",
       "      <td>52800</td>\n",
       "      <td>-32800</td>\n",
       "      <td>1</td>\n",
       "      <td>5</td>\n",
       "      <td>1</td>\n",
       "      <td>1</td>\n",
       "      <td>1</td>\n",
       "      <td>7280</td>\n",
       "      <td>1</td>\n",
       "      <td>1</td>\n",
       "      <td>1</td>\n",
       "      <td>0</td>\n",
       "      <td>0</td>\n",
       "      <td>0</td>\n",
       "      <td>1</td>\n",
       "      <td>0</td>\n",
       "      <td>1</td>\n",
       "      <td>0</td>\n",
       "      <td>0</td>\n",
       "      <td>0</td>\n",
       "      <td>0</td>\n",
       "      <td>0</td>\n",
       "      <td>1</td>\n",
       "      <td>0</td>\n",
       "      <td>0</td>\n",
       "      <td>1</td>\n",
       "      <td>0</td>\n",
       "      <td>0</td>\n",
       "      <td>1</td>\n",
       "      <td>0</td>\n",
       "      <td>0</td>\n",
       "      <td>1</td>\n",
       "      <td>0</td>\n",
       "      <td>0</td>\n",
       "      <td>0</td>\n",
       "      <td>0</td>\n",
       "      <td>0</td>\n",
       "      <td>1</td>\n",
       "      <td>0</td>\n",
       "      <td>0</td>\n",
       "      <td>0</td>\n",
       "      <td>0</td>\n",
       "      <td>0</td>\n",
       "      <td>0</td>\n",
       "      <td>0</td>\n",
       "      <td>0</td>\n",
       "      <td>1</td>\n",
       "      <td>0</td>\n",
       "      <td>0</td>\n",
       "      <td>0</td>\n",
       "      <td>0</td>\n",
       "      <td>0</td>\n",
       "      <td>0</td>\n",
       "      <td>0</td>\n",
       "    </tr>\n",
       "    <tr>\n",
       "      <th>872</th>\n",
       "      <td>0</td>\n",
       "      <td>38500</td>\n",
       "      <td>0</td>\n",
       "      <td>2</td>\n",
       "      <td>23</td>\n",
       "      <td>3</td>\n",
       "      <td>0</td>\n",
       "      <td>0</td>\n",
       "      <td>52650</td>\n",
       "      <td>1</td>\n",
       "      <td>2</td>\n",
       "      <td>1</td>\n",
       "      <td>0</td>\n",
       "      <td>1</td>\n",
       "      <td>0</td>\n",
       "      <td>0</td>\n",
       "      <td>1</td>\n",
       "      <td>0</td>\n",
       "      <td>0</td>\n",
       "      <td>0</td>\n",
       "      <td>0</td>\n",
       "      <td>0</td>\n",
       "      <td>1</td>\n",
       "      <td>0</td>\n",
       "      <td>1</td>\n",
       "      <td>0</td>\n",
       "      <td>0</td>\n",
       "      <td>0</td>\n",
       "      <td>0</td>\n",
       "      <td>0</td>\n",
       "      <td>1</td>\n",
       "      <td>0</td>\n",
       "      <td>0</td>\n",
       "      <td>1</td>\n",
       "      <td>0</td>\n",
       "      <td>0</td>\n",
       "      <td>0</td>\n",
       "      <td>0</td>\n",
       "      <td>0</td>\n",
       "      <td>0</td>\n",
       "      <td>1</td>\n",
       "      <td>0</td>\n",
       "      <td>0</td>\n",
       "      <td>0</td>\n",
       "      <td>0</td>\n",
       "      <td>0</td>\n",
       "      <td>0</td>\n",
       "      <td>0</td>\n",
       "      <td>0</td>\n",
       "      <td>0</td>\n",
       "      <td>1</td>\n",
       "      <td>0</td>\n",
       "      <td>0</td>\n",
       "      <td>0</td>\n",
       "      <td>0</td>\n",
       "    </tr>\n",
       "    <tr>\n",
       "      <th>156</th>\n",
       "      <td>0</td>\n",
       "      <td>0</td>\n",
       "      <td>0</td>\n",
       "      <td>2</td>\n",
       "      <td>10</td>\n",
       "      <td>3</td>\n",
       "      <td>2</td>\n",
       "      <td>1</td>\n",
       "      <td>72100</td>\n",
       "      <td>2</td>\n",
       "      <td>1</td>\n",
       "      <td>0</td>\n",
       "      <td>1</td>\n",
       "      <td>0</td>\n",
       "      <td>0</td>\n",
       "      <td>1</td>\n",
       "      <td>1</td>\n",
       "      <td>0</td>\n",
       "      <td>0</td>\n",
       "      <td>0</td>\n",
       "      <td>0</td>\n",
       "      <td>1</td>\n",
       "      <td>0</td>\n",
       "      <td>0</td>\n",
       "      <td>0</td>\n",
       "      <td>0</td>\n",
       "      <td>0</td>\n",
       "      <td>0</td>\n",
       "      <td>1</td>\n",
       "      <td>0</td>\n",
       "      <td>0</td>\n",
       "      <td>1</td>\n",
       "      <td>0</td>\n",
       "      <td>1</td>\n",
       "      <td>0</td>\n",
       "      <td>0</td>\n",
       "      <td>0</td>\n",
       "      <td>0</td>\n",
       "      <td>0</td>\n",
       "      <td>0</td>\n",
       "      <td>0</td>\n",
       "      <td>0</td>\n",
       "      <td>0</td>\n",
       "      <td>0</td>\n",
       "      <td>1</td>\n",
       "      <td>0</td>\n",
       "      <td>0</td>\n",
       "      <td>0</td>\n",
       "      <td>0</td>\n",
       "      <td>0</td>\n",
       "      <td>0</td>\n",
       "      <td>0</td>\n",
       "      <td>0</td>\n",
       "      <td>0</td>\n",
       "      <td>1</td>\n",
       "    </tr>\n",
       "    <tr>\n",
       "      <th>429</th>\n",
       "      <td>0</td>\n",
       "      <td>82200</td>\n",
       "      <td>0</td>\n",
       "      <td>1</td>\n",
       "      <td>2</td>\n",
       "      <td>1</td>\n",
       "      <td>2</td>\n",
       "      <td>3</td>\n",
       "      <td>55700</td>\n",
       "      <td>2</td>\n",
       "      <td>3</td>\n",
       "      <td>0</td>\n",
       "      <td>1</td>\n",
       "      <td>0</td>\n",
       "      <td>0</td>\n",
       "      <td>1</td>\n",
       "      <td>0</td>\n",
       "      <td>0</td>\n",
       "      <td>1</td>\n",
       "      <td>0</td>\n",
       "      <td>1</td>\n",
       "      <td>0</td>\n",
       "      <td>0</td>\n",
       "      <td>0</td>\n",
       "      <td>0</td>\n",
       "      <td>1</td>\n",
       "      <td>0</td>\n",
       "      <td>0</td>\n",
       "      <td>0</td>\n",
       "      <td>0</td>\n",
       "      <td>1</td>\n",
       "      <td>0</td>\n",
       "      <td>1</td>\n",
       "      <td>0</td>\n",
       "      <td>0</td>\n",
       "      <td>0</td>\n",
       "      <td>0</td>\n",
       "      <td>0</td>\n",
       "      <td>0</td>\n",
       "      <td>0</td>\n",
       "      <td>0</td>\n",
       "      <td>0</td>\n",
       "      <td>0</td>\n",
       "      <td>1</td>\n",
       "      <td>0</td>\n",
       "      <td>0</td>\n",
       "      <td>0</td>\n",
       "      <td>0</td>\n",
       "      <td>0</td>\n",
       "      <td>0</td>\n",
       "      <td>0</td>\n",
       "      <td>0</td>\n",
       "      <td>0</td>\n",
       "      <td>0</td>\n",
       "      <td>1</td>\n",
       "    </tr>\n",
       "  </tbody>\n",
       "</table>\n",
       "</div>"
      ],
      "text/plain": [
       "     umbrella_limit  capital_gains  capital_loss  incident_severity  incident_hour_of_the_day  number_of_vehicles_involved  bodily_injuries  witnesses  total_claim_amount  policy_deductable_groups  policy_annual_premium_groups  insured_sex_FEMALE  insured_sex_MALE  insured_hobbies_chess  insured_hobbies_cross-fit  insured_hobbies_others  incident_type_Multi-vehicle Collision  incident_type_Parked Car  incident_type_Single Vehicle Collision  incident_type_Vehicle Theft  collision_type_Front Collision  collision_type_Rear Collision  collision_type_Side Collision  collision_type_missing  authorities_contacted_Ambulance  authorities_contacted_Fire  authorities_contacted_None  authorities_contacted_Other  authorities_contacted_Police  property_damage_NO  property_damage_YES  property_damage_missing  police_report_available_NO  police_report_available_YES  police_report_available_missing  age_groups_15-20  age_groups_21-25  age_groups_26-30  age_groups_31-35  age_groups_36-40  \\\n",
       "336         4000000              0        -56600                  2                        14                            3                2          1               44280                         0                             1                   0                 1                      0                          0                       1                                      1                         0                                       0                            0                               0                              0                              1                       0                                0                           1                           0                            0                             0                   1                    0                        0                           1                            0                                0                 0                 0                 0                 0                 1   \n",
       "13                0          52800        -32800                  1                         5                            1                1          1                7280                         1                             1                   1                 0                      0                          0                       1                                      0                         1                                       0                            0                               0                              0                              0                       1                                0                           0                           1                            0                             0                   1                    0                        0                           1                            0                                0                 0                 0                 0                 1                 0   \n",
       "872               0          38500             0                  2                        23                            3                0          0               52650                         1                             2                   1                 0                      1                          0                       0                                      1                         0                                       0                            0                               0                              0                              1                       0                                1                           0                           0                            0                             0                   0                    1                        0                           0                            1                                0                 0                 0                 0                 0                 0   \n",
       "156               0              0             0                  2                        10                            3                2          1               72100                         2                             1                   0                 1                      0                          0                       1                                      1                         0                                       0                            0                               0                              1                              0                       0                                0                           0                           0                            0                             1                   0                    0                        1                           0                            1                                0                 0                 0                 0                 0                 0   \n",
       "429               0          82200             0                  1                         2                            1                2          3               55700                         2                             3                   0                 1                      0                          0                       1                                      0                         0                                       1                            0                               1                              0                              0                       0                                0                           1                           0                            0                             0                   0                    1                        0                           1                            0                                0                 0                 0                 0                 0                 0   \n",
       "\n",
       "     age_groups_41-45  age_groups_46-50  age_groups_51-55  age_groups_56-60  age_groups_61-65  months_as_customer_groups_0-50  months_as_customer_groups_51-100  months_as_customer_groups_101-150  months_as_customer_groups_151-200  months_as_customer_groups_201-250  months_as_customer_groups_251-300  months_as_customer_groups_301-350  months_as_customer_groups_351-400  months_as_customer_groups_401-450  months_as_customer_groups_451-500  \n",
       "336                 0                 0                 0                 0                 0                               0                                 0                                  0                                  1                                  0                                  0                                  0                                  0                                  0                                  0  \n",
       "13                  0                 0                 0                 0                 0                               0                                 0                                  1                                  0                                  0                                  0                                  0                                  0                                  0                                  0  \n",
       "872                 1                 0                 0                 0                 0                               0                                 0                                  0                                  0                                  0                                  1                                  0                                  0                                  0                                  0  \n",
       "156                 0                 0                 0                 0                 1                               0                                 0                                  0                                  0                                  0                                  0                                  0                                  0                                  0                                  1  \n",
       "429                 0                 0                 0                 1                 0                               0                                 0                                  0                                  0                                  0                                  0                                  0                                  0                                  0                                  1  "
      ]
     },
     "execution_count": 178,
     "metadata": {},
     "output_type": "execute_result"
    }
   ],
   "source": [
    "X_train.head()"
   ]
  },
  {
   "cell_type": "code",
   "execution_count": 179,
   "metadata": {
    "ExecuteTime": {
     "end_time": "2020-06-17T09:58:50.190794Z",
     "start_time": "2020-06-17T09:58:50.152804Z"
    }
   },
   "outputs": [
    {
     "name": "stdout",
     "output_type": "stream",
     "text": [
      "<class 'pandas.core.frame.DataFrame'>\n",
      "Int64Index: 899 entries, 336 to 37\n",
      "Data columns (total 55 columns):\n",
      "umbrella_limit                            899 non-null int64\n",
      "capital_gains                             899 non-null int64\n",
      "capital_loss                              899 non-null int64\n",
      "incident_severity                         899 non-null int64\n",
      "incident_hour_of_the_day                  899 non-null int64\n",
      "number_of_vehicles_involved               899 non-null int64\n",
      "bodily_injuries                           899 non-null int64\n",
      "witnesses                                 899 non-null int64\n",
      "total_claim_amount                        899 non-null int64\n",
      "policy_deductable_groups                  899 non-null int64\n",
      "policy_annual_premium_groups              899 non-null int64\n",
      "insured_sex_FEMALE                        899 non-null uint8\n",
      "insured_sex_MALE                          899 non-null uint8\n",
      "insured_hobbies_chess                     899 non-null uint8\n",
      "insured_hobbies_cross-fit                 899 non-null uint8\n",
      "insured_hobbies_others                    899 non-null uint8\n",
      "incident_type_Multi-vehicle Collision     899 non-null uint8\n",
      "incident_type_Parked Car                  899 non-null uint8\n",
      "incident_type_Single Vehicle Collision    899 non-null uint8\n",
      "incident_type_Vehicle Theft               899 non-null uint8\n",
      "collision_type_Front Collision            899 non-null uint8\n",
      "collision_type_Rear Collision             899 non-null uint8\n",
      "collision_type_Side Collision             899 non-null uint8\n",
      "collision_type_missing                    899 non-null uint8\n",
      "authorities_contacted_Ambulance           899 non-null uint8\n",
      "authorities_contacted_Fire                899 non-null uint8\n",
      "authorities_contacted_None                899 non-null uint8\n",
      "authorities_contacted_Other               899 non-null uint8\n",
      "authorities_contacted_Police              899 non-null uint8\n",
      "property_damage_NO                        899 non-null uint8\n",
      "property_damage_YES                       899 non-null uint8\n",
      "property_damage_missing                   899 non-null uint8\n",
      "police_report_available_NO                899 non-null uint8\n",
      "police_report_available_YES               899 non-null uint8\n",
      "police_report_available_missing           899 non-null uint8\n",
      "age_groups_15-20                          899 non-null uint8\n",
      "age_groups_21-25                          899 non-null uint8\n",
      "age_groups_26-30                          899 non-null uint8\n",
      "age_groups_31-35                          899 non-null uint8\n",
      "age_groups_36-40                          899 non-null uint8\n",
      "age_groups_41-45                          899 non-null uint8\n",
      "age_groups_46-50                          899 non-null uint8\n",
      "age_groups_51-55                          899 non-null uint8\n",
      "age_groups_56-60                          899 non-null uint8\n",
      "age_groups_61-65                          899 non-null uint8\n",
      "months_as_customer_groups_0-50            899 non-null uint8\n",
      "months_as_customer_groups_51-100          899 non-null uint8\n",
      "months_as_customer_groups_101-150         899 non-null uint8\n",
      "months_as_customer_groups_151-200         899 non-null uint8\n",
      "months_as_customer_groups_201-250         899 non-null uint8\n",
      "months_as_customer_groups_251-300         899 non-null uint8\n",
      "months_as_customer_groups_301-350         899 non-null uint8\n",
      "months_as_customer_groups_351-400         899 non-null uint8\n",
      "months_as_customer_groups_401-450         899 non-null uint8\n",
      "months_as_customer_groups_451-500         899 non-null uint8\n",
      "dtypes: int64(11), uint8(44)\n",
      "memory usage: 162.9 KB\n"
     ]
    }
   ],
   "source": [
    "X_train.info()"
   ]
  },
  {
   "cell_type": "code",
   "execution_count": 180,
   "metadata": {
    "ExecuteTime": {
     "end_time": "2020-06-17T09:58:50.676788Z",
     "start_time": "2020-06-17T09:58:50.655792Z"
    }
   },
   "outputs": [],
   "source": [
    "X_train.to_csv(interim + '7_X_train_ordinal.csv', index=False)\n",
    "X_test.to_csv(interim + '7_X_test_ordinal.csv', index=False)"
   ]
  },
  {
   "cell_type": "markdown",
   "metadata": {},
   "source": [
    "## Features Scaling"
   ]
  },
  {
   "cell_type": "code",
   "execution_count": 181,
   "metadata": {},
   "outputs": [],
   "source": [
    "# create scaler\n",
    "scaler = MinMaxScaler()\n",
    "\n",
    "#  fit the scaler to the train set\n",
    "scaler.fit(X_train) \n",
    "\n",
    "# transform the train and test set\n",
    "X_train[:] = scaler.transform(X_train[:])\n",
    "X_test[:] = scaler.transform(X_test[:])"
   ]
  },
  {
   "cell_type": "code",
   "execution_count": 182,
   "metadata": {},
   "outputs": [],
   "source": [
    "X_train.to_csv(processed + 'X_train_final.csv', index=False)\n",
    "X_test.to_csv(processed + 'X_test_final.csv', index=False)"
   ]
  },
  {
   "cell_type": "markdown",
   "metadata": {},
   "source": [
    "## Final comment\n",
    "\n",
    "At the end, I get 55 predictors for training the model"
   ]
  }
 ],
 "metadata": {
  "kernelspec": {
   "display_name": "Python 3",
   "language": "python",
   "name": "python3"
  },
  "language_info": {
   "codemirror_mode": {
    "name": "ipython",
    "version": 3
   },
   "file_extension": ".py",
   "mimetype": "text/x-python",
   "name": "python",
   "nbconvert_exporter": "python",
   "pygments_lexer": "ipython3",
   "version": "3.6.9"
  },
  "toc": {
   "base_numbering": 1,
   "nav_menu": {},
   "number_sections": true,
   "sideBar": true,
   "skip_h1_title": true,
   "title_cell": "Table of Contents",
   "title_sidebar": "Contents",
   "toc_cell": false,
   "toc_position": {
    "height": "calc(100% - 180px)",
    "left": "10px",
    "top": "150px",
    "width": "512px"
   },
   "toc_section_display": true,
   "toc_window_display": true
  }
 },
 "nbformat": 4,
 "nbformat_minor": 4
}
