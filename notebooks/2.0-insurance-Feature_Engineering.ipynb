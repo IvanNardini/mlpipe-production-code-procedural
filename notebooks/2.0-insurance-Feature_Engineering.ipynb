{
 "cells": [
  {
   "cell_type": "markdown",
   "metadata": {},
   "source": [
    "# Insurance Fraud Claims Detection\n",
    "\n",
    "In this notebook, I'm going to engineer the variables of **Auto Insurance Claims Data** on Kaggle. \n",
    "\n",
    "To engineer the variables We need to tackle:\n",
    "\n",
    "1. Missing values: Assess missing in ['collision_type', 'property_damage', 'police_report_available']\n",
    "2. Target variable: Encoding\n",
    "3. Numerical variables:\n",
    "    - Discrete variables: Assess umbrella_limit and policy_deductable variables\n",
    "    - Continuous variables: Binning Age, policy_annual_premium and month_as_customer\n",
    "4. Outliers (not now)\n",
    "5. Categorical variables: Binning and Encoding\n",
    "6. Standarise the values of the variables to the same range"
   ]
  },
  {
   "cell_type": "markdown",
   "metadata": {},
   "source": [
    "## Libraries and Environments"
   ]
  },
  {
   "cell_type": "code",
   "execution_count": 92,
   "metadata": {
    "ExecuteTime": {
     "end_time": "2020-06-17T09:58:41.339582Z",
     "start_time": "2020-06-17T09:58:38.984144Z"
    }
   },
   "outputs": [],
   "source": [
    "# Data Sciences\n",
    "\n",
    "import numpy as np # linear algebra\n",
    "import pandas as pd # data processing, CSV file I/O (e.g. pd.read_csv)\n",
    "from sklearn.model_selection import train_test_split\n",
    "from sklearn.preprocessing import MinMaxScaler\n",
    "\n",
    "\n",
    "# Plot\n",
    "\n",
    "import matplotlib.pyplot as plt\n",
    "%matplotlib inline\n",
    "import seaborn as sns\n",
    "\n",
    "#Utils\n",
    "import os\n",
    "import pprint\n",
    "\n",
    "# Set notebook\n",
    "pd.set_option('display.max_rows', 500)\n",
    "pd.set_option('display.max_columns', 500)\n",
    "pd.set_option('display.width', 1000)\n",
    "\n",
    "import warnings\n",
    "warnings.simplefilter(action='ignore')"
   ]
  },
  {
   "cell_type": "code",
   "execution_count": 93,
   "metadata": {
    "ExecuteTime": {
     "end_time": "2020-06-17T09:58:41.354554Z",
     "start_time": "2020-06-17T09:58:41.349554Z"
    }
   },
   "outputs": [],
   "source": [
    "raw = '../data/raw/insurance_claims.csv'\n",
    "interim = '../data/interim/'\n",
    "processed= '../data/processed/'\n",
    "models= '../models/'"
   ]
  },
  {
   "cell_type": "markdown",
   "metadata": {},
   "source": [
    "## Data Ingestion"
   ]
  },
  {
   "cell_type": "markdown",
   "metadata": {},
   "source": [
    "### Read data"
   ]
  },
  {
   "cell_type": "code",
   "execution_count": 94,
   "metadata": {
    "ExecuteTime": {
     "end_time": "2020-06-17T09:58:41.438547Z",
     "start_time": "2020-06-17T09:58:41.362551Z"
    }
   },
   "outputs": [
    {
     "name": "stdout",
     "output_type": "stream",
     "text": [
      "(1000, 40)\n"
     ]
    },
    {
     "data": {
      "text/html": [
       "<div>\n",
       "<style scoped>\n",
       "    .dataframe tbody tr th:only-of-type {\n",
       "        vertical-align: middle;\n",
       "    }\n",
       "\n",
       "    .dataframe tbody tr th {\n",
       "        vertical-align: top;\n",
       "    }\n",
       "\n",
       "    .dataframe thead th {\n",
       "        text-align: right;\n",
       "    }\n",
       "</style>\n",
       "<table border=\"1\" class=\"dataframe\">\n",
       "  <thead>\n",
       "    <tr style=\"text-align: right;\">\n",
       "      <th></th>\n",
       "      <th>months_as_customer</th>\n",
       "      <th>age</th>\n",
       "      <th>policy_number</th>\n",
       "      <th>policy_bind_date</th>\n",
       "      <th>policy_state</th>\n",
       "      <th>policy_csl</th>\n",
       "      <th>policy_deductable</th>\n",
       "      <th>policy_annual_premium</th>\n",
       "      <th>umbrella_limit</th>\n",
       "      <th>insured_zip</th>\n",
       "      <th>insured_sex</th>\n",
       "      <th>insured_education_level</th>\n",
       "      <th>insured_occupation</th>\n",
       "      <th>insured_hobbies</th>\n",
       "      <th>insured_relationship</th>\n",
       "      <th>capital-gains</th>\n",
       "      <th>capital-loss</th>\n",
       "      <th>incident_date</th>\n",
       "      <th>incident_type</th>\n",
       "      <th>collision_type</th>\n",
       "      <th>incident_severity</th>\n",
       "      <th>authorities_contacted</th>\n",
       "      <th>incident_state</th>\n",
       "      <th>incident_city</th>\n",
       "      <th>incident_location</th>\n",
       "      <th>incident_hour_of_the_day</th>\n",
       "      <th>number_of_vehicles_involved</th>\n",
       "      <th>property_damage</th>\n",
       "      <th>bodily_injuries</th>\n",
       "      <th>witnesses</th>\n",
       "      <th>police_report_available</th>\n",
       "      <th>total_claim_amount</th>\n",
       "      <th>injury_claim</th>\n",
       "      <th>property_claim</th>\n",
       "      <th>vehicle_claim</th>\n",
       "      <th>auto_make</th>\n",
       "      <th>auto_model</th>\n",
       "      <th>auto_year</th>\n",
       "      <th>fraud_reported</th>\n",
       "      <th>_c39</th>\n",
       "    </tr>\n",
       "  </thead>\n",
       "  <tbody>\n",
       "    <tr>\n",
       "      <th>0</th>\n",
       "      <td>328</td>\n",
       "      <td>48</td>\n",
       "      <td>521585</td>\n",
       "      <td>2014-10-17</td>\n",
       "      <td>OH</td>\n",
       "      <td>250/500</td>\n",
       "      <td>1000</td>\n",
       "      <td>1406.91</td>\n",
       "      <td>0</td>\n",
       "      <td>466132</td>\n",
       "      <td>MALE</td>\n",
       "      <td>MD</td>\n",
       "      <td>craft-repair</td>\n",
       "      <td>sleeping</td>\n",
       "      <td>husband</td>\n",
       "      <td>53300</td>\n",
       "      <td>0</td>\n",
       "      <td>2015-01-25</td>\n",
       "      <td>Single Vehicle Collision</td>\n",
       "      <td>Side Collision</td>\n",
       "      <td>Major Damage</td>\n",
       "      <td>Police</td>\n",
       "      <td>SC</td>\n",
       "      <td>Columbus</td>\n",
       "      <td>9935 4th Drive</td>\n",
       "      <td>5</td>\n",
       "      <td>1</td>\n",
       "      <td>YES</td>\n",
       "      <td>1</td>\n",
       "      <td>2</td>\n",
       "      <td>YES</td>\n",
       "      <td>71610</td>\n",
       "      <td>6510</td>\n",
       "      <td>13020</td>\n",
       "      <td>52080</td>\n",
       "      <td>Saab</td>\n",
       "      <td>92x</td>\n",
       "      <td>2004</td>\n",
       "      <td>Y</td>\n",
       "      <td>NaN</td>\n",
       "    </tr>\n",
       "    <tr>\n",
       "      <th>1</th>\n",
       "      <td>228</td>\n",
       "      <td>42</td>\n",
       "      <td>342868</td>\n",
       "      <td>2006-06-27</td>\n",
       "      <td>IN</td>\n",
       "      <td>250/500</td>\n",
       "      <td>2000</td>\n",
       "      <td>1197.22</td>\n",
       "      <td>5000000</td>\n",
       "      <td>468176</td>\n",
       "      <td>MALE</td>\n",
       "      <td>MD</td>\n",
       "      <td>machine-op-inspct</td>\n",
       "      <td>reading</td>\n",
       "      <td>other-relative</td>\n",
       "      <td>0</td>\n",
       "      <td>0</td>\n",
       "      <td>2015-01-21</td>\n",
       "      <td>Vehicle Theft</td>\n",
       "      <td>?</td>\n",
       "      <td>Minor Damage</td>\n",
       "      <td>Police</td>\n",
       "      <td>VA</td>\n",
       "      <td>Riverwood</td>\n",
       "      <td>6608 MLK Hwy</td>\n",
       "      <td>8</td>\n",
       "      <td>1</td>\n",
       "      <td>?</td>\n",
       "      <td>0</td>\n",
       "      <td>0</td>\n",
       "      <td>?</td>\n",
       "      <td>5070</td>\n",
       "      <td>780</td>\n",
       "      <td>780</td>\n",
       "      <td>3510</td>\n",
       "      <td>Mercedes</td>\n",
       "      <td>E400</td>\n",
       "      <td>2007</td>\n",
       "      <td>Y</td>\n",
       "      <td>NaN</td>\n",
       "    </tr>\n",
       "    <tr>\n",
       "      <th>2</th>\n",
       "      <td>134</td>\n",
       "      <td>29</td>\n",
       "      <td>687698</td>\n",
       "      <td>2000-09-06</td>\n",
       "      <td>OH</td>\n",
       "      <td>100/300</td>\n",
       "      <td>2000</td>\n",
       "      <td>1413.14</td>\n",
       "      <td>5000000</td>\n",
       "      <td>430632</td>\n",
       "      <td>FEMALE</td>\n",
       "      <td>PhD</td>\n",
       "      <td>sales</td>\n",
       "      <td>board-games</td>\n",
       "      <td>own-child</td>\n",
       "      <td>35100</td>\n",
       "      <td>0</td>\n",
       "      <td>2015-02-22</td>\n",
       "      <td>Multi-vehicle Collision</td>\n",
       "      <td>Rear Collision</td>\n",
       "      <td>Minor Damage</td>\n",
       "      <td>Police</td>\n",
       "      <td>NY</td>\n",
       "      <td>Columbus</td>\n",
       "      <td>7121 Francis Lane</td>\n",
       "      <td>7</td>\n",
       "      <td>3</td>\n",
       "      <td>NO</td>\n",
       "      <td>2</td>\n",
       "      <td>3</td>\n",
       "      <td>NO</td>\n",
       "      <td>34650</td>\n",
       "      <td>7700</td>\n",
       "      <td>3850</td>\n",
       "      <td>23100</td>\n",
       "      <td>Dodge</td>\n",
       "      <td>RAM</td>\n",
       "      <td>2007</td>\n",
       "      <td>N</td>\n",
       "      <td>NaN</td>\n",
       "    </tr>\n",
       "    <tr>\n",
       "      <th>3</th>\n",
       "      <td>256</td>\n",
       "      <td>41</td>\n",
       "      <td>227811</td>\n",
       "      <td>1990-05-25</td>\n",
       "      <td>IL</td>\n",
       "      <td>250/500</td>\n",
       "      <td>2000</td>\n",
       "      <td>1415.74</td>\n",
       "      <td>6000000</td>\n",
       "      <td>608117</td>\n",
       "      <td>FEMALE</td>\n",
       "      <td>PhD</td>\n",
       "      <td>armed-forces</td>\n",
       "      <td>board-games</td>\n",
       "      <td>unmarried</td>\n",
       "      <td>48900</td>\n",
       "      <td>-62400</td>\n",
       "      <td>2015-01-10</td>\n",
       "      <td>Single Vehicle Collision</td>\n",
       "      <td>Front Collision</td>\n",
       "      <td>Major Damage</td>\n",
       "      <td>Police</td>\n",
       "      <td>OH</td>\n",
       "      <td>Arlington</td>\n",
       "      <td>6956 Maple Drive</td>\n",
       "      <td>5</td>\n",
       "      <td>1</td>\n",
       "      <td>?</td>\n",
       "      <td>1</td>\n",
       "      <td>2</td>\n",
       "      <td>NO</td>\n",
       "      <td>63400</td>\n",
       "      <td>6340</td>\n",
       "      <td>6340</td>\n",
       "      <td>50720</td>\n",
       "      <td>Chevrolet</td>\n",
       "      <td>Tahoe</td>\n",
       "      <td>2014</td>\n",
       "      <td>Y</td>\n",
       "      <td>NaN</td>\n",
       "    </tr>\n",
       "    <tr>\n",
       "      <th>4</th>\n",
       "      <td>228</td>\n",
       "      <td>44</td>\n",
       "      <td>367455</td>\n",
       "      <td>2014-06-06</td>\n",
       "      <td>IL</td>\n",
       "      <td>500/1000</td>\n",
       "      <td>1000</td>\n",
       "      <td>1583.91</td>\n",
       "      <td>6000000</td>\n",
       "      <td>610706</td>\n",
       "      <td>MALE</td>\n",
       "      <td>Associate</td>\n",
       "      <td>sales</td>\n",
       "      <td>board-games</td>\n",
       "      <td>unmarried</td>\n",
       "      <td>66000</td>\n",
       "      <td>-46000</td>\n",
       "      <td>2015-02-17</td>\n",
       "      <td>Vehicle Theft</td>\n",
       "      <td>?</td>\n",
       "      <td>Minor Damage</td>\n",
       "      <td>None</td>\n",
       "      <td>NY</td>\n",
       "      <td>Arlington</td>\n",
       "      <td>3041 3rd Ave</td>\n",
       "      <td>20</td>\n",
       "      <td>1</td>\n",
       "      <td>NO</td>\n",
       "      <td>0</td>\n",
       "      <td>1</td>\n",
       "      <td>NO</td>\n",
       "      <td>6500</td>\n",
       "      <td>1300</td>\n",
       "      <td>650</td>\n",
       "      <td>4550</td>\n",
       "      <td>Accura</td>\n",
       "      <td>RSX</td>\n",
       "      <td>2009</td>\n",
       "      <td>N</td>\n",
       "      <td>NaN</td>\n",
       "    </tr>\n",
       "  </tbody>\n",
       "</table>\n",
       "</div>"
      ],
      "text/plain": [
       "   months_as_customer  age  policy_number policy_bind_date policy_state policy_csl  policy_deductable  policy_annual_premium  umbrella_limit  insured_zip insured_sex insured_education_level insured_occupation insured_hobbies insured_relationship  capital-gains  capital-loss incident_date             incident_type   collision_type incident_severity authorities_contacted incident_state incident_city  incident_location  incident_hour_of_the_day  number_of_vehicles_involved property_damage  bodily_injuries  witnesses police_report_available  total_claim_amount  injury_claim  property_claim  vehicle_claim  auto_make auto_model  auto_year fraud_reported  _c39\n",
       "0                 328   48         521585       2014-10-17           OH    250/500               1000                1406.91               0       466132        MALE                      MD       craft-repair        sleeping              husband          53300             0    2015-01-25  Single Vehicle Collision   Side Collision      Major Damage                Police             SC      Columbus     9935 4th Drive                         5                            1             YES                1          2                     YES               71610          6510           13020          52080       Saab        92x       2004              Y   NaN\n",
       "1                 228   42         342868       2006-06-27           IN    250/500               2000                1197.22         5000000       468176        MALE                      MD  machine-op-inspct         reading       other-relative              0             0    2015-01-21             Vehicle Theft                ?      Minor Damage                Police             VA     Riverwood       6608 MLK Hwy                         8                            1               ?                0          0                       ?                5070           780             780           3510   Mercedes       E400       2007              Y   NaN\n",
       "2                 134   29         687698       2000-09-06           OH    100/300               2000                1413.14         5000000       430632      FEMALE                     PhD              sales     board-games            own-child          35100             0    2015-02-22   Multi-vehicle Collision   Rear Collision      Minor Damage                Police             NY      Columbus  7121 Francis Lane                         7                            3              NO                2          3                      NO               34650          7700            3850          23100      Dodge        RAM       2007              N   NaN\n",
       "3                 256   41         227811       1990-05-25           IL    250/500               2000                1415.74         6000000       608117      FEMALE                     PhD       armed-forces     board-games            unmarried          48900        -62400    2015-01-10  Single Vehicle Collision  Front Collision      Major Damage                Police             OH     Arlington   6956 Maple Drive                         5                            1               ?                1          2                      NO               63400          6340            6340          50720  Chevrolet      Tahoe       2014              Y   NaN\n",
       "4                 228   44         367455       2014-06-06           IL   500/1000               1000                1583.91         6000000       610706        MALE               Associate              sales     board-games            unmarried          66000        -46000    2015-02-17             Vehicle Theft                ?      Minor Damage                  None             NY     Arlington       3041 3rd Ave                        20                            1              NO                0          1                      NO                6500          1300             650           4550     Accura        RSX       2009              N   NaN"
      ]
     },
     "execution_count": 94,
     "metadata": {},
     "output_type": "execute_result"
    }
   ],
   "source": [
    "data = pd.read_csv(raw)\n",
    "print(data.shape)\n",
    "data.head()"
   ]
  },
  {
   "cell_type": "code",
   "execution_count": 95,
   "metadata": {
    "ExecuteTime": {
     "end_time": "2020-06-17T09:58:41.480548Z",
     "start_time": "2020-06-17T09:58:41.442548Z"
    }
   },
   "outputs": [
    {
     "name": "stdout",
     "output_type": "stream",
     "text": [
      "<class 'pandas.core.frame.DataFrame'>\n",
      "RangeIndex: 1000 entries, 0 to 999\n",
      "Data columns (total 40 columns):\n",
      "months_as_customer             1000 non-null int64\n",
      "age                            1000 non-null int64\n",
      "policy_number                  1000 non-null int64\n",
      "policy_bind_date               1000 non-null object\n",
      "policy_state                   1000 non-null object\n",
      "policy_csl                     1000 non-null object\n",
      "policy_deductable              1000 non-null int64\n",
      "policy_annual_premium          1000 non-null float64\n",
      "umbrella_limit                 1000 non-null int64\n",
      "insured_zip                    1000 non-null int64\n",
      "insured_sex                    1000 non-null object\n",
      "insured_education_level        1000 non-null object\n",
      "insured_occupation             1000 non-null object\n",
      "insured_hobbies                1000 non-null object\n",
      "insured_relationship           1000 non-null object\n",
      "capital-gains                  1000 non-null int64\n",
      "capital-loss                   1000 non-null int64\n",
      "incident_date                  1000 non-null object\n",
      "incident_type                  1000 non-null object\n",
      "collision_type                 1000 non-null object\n",
      "incident_severity              1000 non-null object\n",
      "authorities_contacted          1000 non-null object\n",
      "incident_state                 1000 non-null object\n",
      "incident_city                  1000 non-null object\n",
      "incident_location              1000 non-null object\n",
      "incident_hour_of_the_day       1000 non-null int64\n",
      "number_of_vehicles_involved    1000 non-null int64\n",
      "property_damage                1000 non-null object\n",
      "bodily_injuries                1000 non-null int64\n",
      "witnesses                      1000 non-null int64\n",
      "police_report_available        1000 non-null object\n",
      "total_claim_amount             1000 non-null int64\n",
      "injury_claim                   1000 non-null int64\n",
      "property_claim                 1000 non-null int64\n",
      "vehicle_claim                  1000 non-null int64\n",
      "auto_make                      1000 non-null object\n",
      "auto_model                     1000 non-null object\n",
      "auto_year                      1000 non-null int64\n",
      "fraud_reported                 1000 non-null object\n",
      "_c39                           0 non-null float64\n",
      "dtypes: float64(2), int64(17), object(21)\n",
      "memory usage: 312.6+ KB\n"
     ]
    }
   ],
   "source": [
    "data.info()"
   ]
  },
  {
   "cell_type": "markdown",
   "metadata": {},
   "source": [
    "### Preprocessing"
   ]
  },
  {
   "cell_type": "code",
   "execution_count": 96,
   "metadata": {
    "ExecuteTime": {
     "end_time": "2020-06-17T09:58:41.515552Z",
     "start_time": "2020-06-17T09:58:41.483547Z"
    }
   },
   "outputs": [],
   "source": [
    "# For semplicity I'll drop some variables.They required futhers analysis.\n",
    "\n",
    "target = 'fraud_reported'\n",
    "variables = [col for col in data.columns if col != target]\n",
    "\n",
    "drop = ['policy_number', 'policy_bind_date', 'policy_state', 'policy_csl', \n",
    "        'insured_zip', 'insured_occupation', 'incident_date', \n",
    "        'insured_education_level', 'insured_relationship', 'injury_claim', 'property_claim', 'vehicle_claim', \n",
    "        'incident_state', 'incident_city', 'incident_location', 'auto_model', 'auto_make', 'auto_year', '_c39']\n",
    "\n",
    "data.drop(drop, axis=1, inplace=True)"
   ]
  },
  {
   "cell_type": "code",
   "execution_count": 97,
   "metadata": {},
   "outputs": [],
   "source": [
    "# I rename variable names with '-'\n",
    "\n",
    "data.rename(columns={\"capital-gains\": \"capital_gains\", \"capital-loss\": \"capital_loss\"}, inplace=True)"
   ]
  },
  {
   "cell_type": "code",
   "execution_count": 98,
   "metadata": {
    "ExecuteTime": {
     "end_time": "2020-06-17T09:58:42.935545Z",
     "start_time": "2020-06-17T09:58:42.899543Z"
    }
   },
   "outputs": [
    {
     "name": "stdout",
     "output_type": "stream",
     "text": [
      " 0           798\n",
      " 6000000      57\n",
      " 5000000      46\n",
      " 4000000      39\n",
      " 7000000      29\n",
      " 3000000      12\n",
      " 8000000       8\n",
      " 9000000       5\n",
      " 2000000       3\n",
      " 10000000      2\n",
      "-1000000       1\n",
      "Name: umbrella_limit, dtype: int64 \n",
      "\n",
      "0           798\n",
      "6000000      57\n",
      "5000000      46\n",
      "4000000      39\n",
      "7000000      29\n",
      "3000000      12\n",
      "8000000       8\n",
      "9000000       5\n",
      "2000000       3\n",
      "10000000      2\n",
      "Name: umbrella_limit, dtype: int64 \n",
      "\n"
     ]
    }
   ],
   "source": [
    "# I drop anomalies \n",
    "\n",
    "print(data['umbrella_limit'].value_counts(), '\\n')\n",
    "data = data[data['umbrella_limit']>=0]\n",
    "print(data['umbrella_limit'].value_counts(), '\\n')"
   ]
  },
  {
   "cell_type": "code",
   "execution_count": 99,
   "metadata": {
    "ExecuteTime": {
     "end_time": "2020-06-17T09:58:41.548546Z",
     "start_time": "2020-06-17T09:58:41.531545Z"
    }
   },
   "outputs": [
    {
     "name": "stdout",
     "output_type": "stream",
     "text": [
      "collision_type\n",
      "Rear Collision     292\n",
      "Side Collision     275\n",
      "Front Collision    254\n",
      "?                  178\n",
      "Name: collision_type, dtype: int64 \n",
      "\n",
      "property_damage\n",
      "?      360\n",
      "NO     338\n",
      "YES    301\n",
      "Name: property_damage, dtype: int64 \n",
      "\n",
      "police_report_available\n",
      "NO     343\n",
      "?      342\n",
      "YES    314\n",
      "Name: police_report_available, dtype: int64 \n",
      "\n"
     ]
    }
   ],
   "source": [
    "# Missing values\n",
    "# Assess missing in 'collision_type', 'property_damage' and 'police_report_available'\n",
    "missing_predictors = [col for col in data.select_dtypes(include='object').columns if any(data[col].str.contains('?', regex=False))]\n",
    "\n",
    "for var in missing_predictors:\n",
    "    print(var)\n",
    "    print(data[var].value_counts(), '\\n')"
   ]
  },
  {
   "cell_type": "markdown",
   "metadata": {},
   "source": [
    "**Comment**: We may replace it with 'Missing' string"
   ]
  },
  {
   "cell_type": "code",
   "execution_count": 100,
   "metadata": {
    "ExecuteTime": {
     "end_time": "2020-06-17T09:58:41.566547Z",
     "start_time": "2020-06-17T09:58:41.554576Z"
    }
   },
   "outputs": [],
   "source": [
    "data[missing_predictors] = data[missing_predictors].replace('?', 'missing')"
   ]
  },
  {
   "cell_type": "code",
   "execution_count": 101,
   "metadata": {
    "ExecuteTime": {
     "end_time": "2020-06-17T09:58:41.584553Z",
     "start_time": "2020-06-17T09:58:41.569548Z"
    }
   },
   "outputs": [
    {
     "name": "stdout",
     "output_type": "stream",
     "text": [
      "False\n"
     ]
    }
   ],
   "source": [
    "# Check\n",
    "for var in missing_predictors:\n",
    "    data_missing = any(data[var].str.contains('?', regex=False))\n",
    "print(data_missing)"
   ]
  },
  {
   "cell_type": "code",
   "execution_count": 102,
   "metadata": {},
   "outputs": [],
   "source": [
    "data.to_csv(interim + '0_data.csv', index=False)"
   ]
  },
  {
   "cell_type": "markdown",
   "metadata": {},
   "source": [
    "## Feature Engineering"
   ]
  },
  {
   "cell_type": "code",
   "execution_count": 103,
   "metadata": {},
   "outputs": [],
   "source": [
    "predictors = [col for col in data.columns if col != target]"
   ]
  },
  {
   "cell_type": "markdown",
   "metadata": {},
   "source": [
    "### Target Variable"
   ]
  },
  {
   "cell_type": "code",
   "execution_count": 104,
   "metadata": {
    "ExecuteTime": {
     "end_time": "2020-06-17T09:58:41.655559Z",
     "start_time": "2020-06-17T09:58:41.646547Z"
    }
   },
   "outputs": [
    {
     "data": {
      "text/plain": [
       "array(['Y', 'N'], dtype=object)"
      ]
     },
     "execution_count": 104,
     "metadata": {},
     "output_type": "execute_result"
    }
   ],
   "source": [
    "data[target].unique()"
   ]
  },
  {
   "cell_type": "code",
   "execution_count": 105,
   "metadata": {
    "ExecuteTime": {
     "end_time": "2020-06-17T09:58:41.741547Z",
     "start_time": "2020-06-17T09:58:41.729559Z"
    }
   },
   "outputs": [
    {
     "name": "stdout",
     "output_type": "stream",
     "text": [
      "Int64Index([0, 1], dtype='int64')\n",
      "0    0.752753\n",
      "1    0.247247\n",
      "Name: fraud_reported, dtype: float64\n",
      "\n"
     ]
    }
   ],
   "source": [
    "target_categories = {'Y': 1, 'N': 0}\n",
    "\n",
    "data[target] = data[target].map(target_categories).astype('category')\n",
    "\n",
    "print(data[target].cat.categories)\n",
    "print(data[target].value_counts()/len(data[target]))\n",
    "print()"
   ]
  },
  {
   "cell_type": "code",
   "execution_count": 106,
   "metadata": {
    "ExecuteTime": {
     "end_time": "2020-06-17T09:58:41.943546Z",
     "start_time": "2020-06-17T09:58:41.916555Z"
    }
   },
   "outputs": [],
   "source": [
    "data.to_csv(interim + '1_data_target.csv', index=False)"
   ]
  },
  {
   "cell_type": "markdown",
   "metadata": {},
   "source": [
    "### Numerical variables"
   ]
  },
  {
   "cell_type": "code",
   "execution_count": 107,
   "metadata": {},
   "outputs": [],
   "source": [
    "# numerical\n",
    "numerical_predictors = [col for col in predictors if data[col].dtypes != 'object']\n",
    "discrete_predictors = [col for col in numerical_predictors if len(data[col].unique()) < 30]\n",
    "continuous_predictors = [col for col in numerical_predictors if col not in discrete_predictors]"
   ]
  },
  {
   "cell_type": "markdown",
   "metadata": {
    "ExecuteTime": {
     "end_time": "2020-06-17T09:28:12.191349Z",
     "start_time": "2020-06-17T09:28:12.185342Z"
    }
   },
   "source": [
    "<!-- #### Time variables\n",
    "time_predictors = [\n",
    "    col for col in predictors if 'year' in col or 'date' in col]\n",
    "# time_to_incident_months\n",
    "# data[time_predictors].info()\n",
    "\n",
    "# for var in time_predictors:\n",
    "#     if var == 'auto_year':\n",
    "#     df[var] = pd.to_datetime(df[var], format='%Y')\n",
    "#         pass\n",
    "#     else:\n",
    "#         data[var] = pd.to_datetime(data[var])\n",
    "        \n",
    "# print(data[time_predictors].info())\n",
    "\n",
    "# def time_monthly_incident(data, var):\n",
    "#     # Time difference\n",
    "#     data['time_to_incident'] = data[var] - data['policy_bind_date']\n",
    "#     data['time_to_incident_days'] = data['time_to_incident'].dt.days\n",
    "#     # Monthly-based difference\n",
    "#     data['time_to_incident_months'] = round(data['time_to_incident_days'] / 30, 0)\n",
    "#     # Negative differences has no sense\n",
    "#     flt_time = data['time_to_incident_months'] > 0\n",
    "#     #Drop date variables\n",
    "#     data.drop([var, 'policy_bind_date', 'time_to_incident', 'time_to_incident_days'], axis=1, inplace=True)\n",
    "#     return data[flt_time]\n",
    "\n",
    "# data = time_monthly_incident(data, 'incident_date')\n",
    "\n",
    "# data.shape\n",
    "\n",
    "# data.to_csv(interim + '2_data_time.csv', index=False) -->"
   ]
  },
  {
   "cell_type": "markdown",
   "metadata": {},
   "source": [
    "#### Discrete Variables"
   ]
  },
  {
   "cell_type": "code",
   "execution_count": 108,
   "metadata": {
    "ExecuteTime": {
     "end_time": "2020-06-17T09:58:42.593543Z",
     "start_time": "2020-06-17T09:58:42.568546Z"
    }
   },
   "outputs": [
    {
     "data": {
      "text/html": [
       "<div>\n",
       "<style scoped>\n",
       "    .dataframe tbody tr th:only-of-type {\n",
       "        vertical-align: middle;\n",
       "    }\n",
       "\n",
       "    .dataframe tbody tr th {\n",
       "        vertical-align: top;\n",
       "    }\n",
       "\n",
       "    .dataframe thead th {\n",
       "        text-align: right;\n",
       "    }\n",
       "</style>\n",
       "<table border=\"1\" class=\"dataframe\">\n",
       "  <thead>\n",
       "    <tr style=\"text-align: right;\">\n",
       "      <th></th>\n",
       "      <th>policy_deductable</th>\n",
       "      <th>umbrella_limit</th>\n",
       "      <th>incident_hour_of_the_day</th>\n",
       "      <th>number_of_vehicles_involved</th>\n",
       "      <th>bodily_injuries</th>\n",
       "      <th>witnesses</th>\n",
       "    </tr>\n",
       "  </thead>\n",
       "  <tbody>\n",
       "    <tr>\n",
       "      <th>0</th>\n",
       "      <td>1000</td>\n",
       "      <td>0</td>\n",
       "      <td>5</td>\n",
       "      <td>1</td>\n",
       "      <td>1</td>\n",
       "      <td>2</td>\n",
       "    </tr>\n",
       "    <tr>\n",
       "      <th>1</th>\n",
       "      <td>2000</td>\n",
       "      <td>5000000</td>\n",
       "      <td>8</td>\n",
       "      <td>1</td>\n",
       "      <td>0</td>\n",
       "      <td>0</td>\n",
       "    </tr>\n",
       "    <tr>\n",
       "      <th>2</th>\n",
       "      <td>2000</td>\n",
       "      <td>5000000</td>\n",
       "      <td>7</td>\n",
       "      <td>3</td>\n",
       "      <td>2</td>\n",
       "      <td>3</td>\n",
       "    </tr>\n",
       "    <tr>\n",
       "      <th>3</th>\n",
       "      <td>2000</td>\n",
       "      <td>6000000</td>\n",
       "      <td>5</td>\n",
       "      <td>1</td>\n",
       "      <td>1</td>\n",
       "      <td>2</td>\n",
       "    </tr>\n",
       "    <tr>\n",
       "      <th>4</th>\n",
       "      <td>1000</td>\n",
       "      <td>6000000</td>\n",
       "      <td>20</td>\n",
       "      <td>1</td>\n",
       "      <td>0</td>\n",
       "      <td>1</td>\n",
       "    </tr>\n",
       "  </tbody>\n",
       "</table>\n",
       "</div>"
      ],
      "text/plain": [
       "   policy_deductable  umbrella_limit  incident_hour_of_the_day  number_of_vehicles_involved  bodily_injuries  witnesses\n",
       "0               1000               0                         5                            1                1          2\n",
       "1               2000         5000000                         8                            1                0          0\n",
       "2               2000         5000000                         7                            3                2          3\n",
       "3               2000         6000000                         5                            1                1          2\n",
       "4               1000         6000000                        20                            1                0          1"
      ]
     },
     "execution_count": 108,
     "metadata": {},
     "output_type": "execute_result"
    }
   ],
   "source": [
    "data[discrete_predictors].head()"
   ]
  },
  {
   "cell_type": "markdown",
   "metadata": {},
   "source": [
    "**policy_decuctable**"
   ]
  },
  {
   "cell_type": "code",
   "execution_count": 109,
   "metadata": {
    "ExecuteTime": {
     "end_time": "2020-06-17T09:58:43.267543Z",
     "start_time": "2020-06-17T09:58:43.254541Z"
    }
   },
   "outputs": [
    {
     "name": "stdout",
     "output_type": "stream",
     "text": [
      "501-1000     351\n",
      "0-500        341\n",
      "1501-2000    307\n",
      "1001-1500      0\n",
      "Name: policy_deductable_groups, dtype: int64 \n",
      "\n",
      "\n"
     ]
    }
   ],
   "source": [
    "bins = list(np.linspace(0,2000, 5, dtype = int))\n",
    "bin_labels = ['0-500', '501-1000', '1001-1500', '1501-2000']\n",
    "\n",
    "data['policy_deductable_groups'] = pd.cut(data['policy_deductable'], bins = bins, labels = bin_labels, include_lowest = True)\n",
    "data.drop('policy_deductable', axis=1, inplace=True)\n",
    "\n",
    "print(data['policy_deductable_groups'].value_counts(), '\\n')\n",
    "print()"
   ]
  },
  {
   "cell_type": "code",
   "execution_count": 110,
   "metadata": {
    "ExecuteTime": {
     "end_time": "2020-06-17T09:58:43.850217Z",
     "start_time": "2020-06-17T09:58:43.435683Z"
    }
   },
   "outputs": [
    {
     "data": {
      "image/png": "[encoded data removed]",
      "text/plain": [
       "<Figure size 432x288 with 1 Axes>"
      ]
     },
     "metadata": {
      "needs_background": "light"
     },
     "output_type": "display_data"
    }
   ],
   "source": [
    "sns.countplot(x=\"policy_deductable_groups\", hue=\"fraud_reported\", data=data);"
   ]
  },
  {
   "cell_type": "code",
   "execution_count": 111,
   "metadata": {
    "ExecuteTime": {
     "end_time": "2020-06-17T09:58:43.884225Z",
     "start_time": "2020-06-17T09:58:43.853222Z"
    }
   },
   "outputs": [],
   "source": [
    "data.to_csv(interim + '2_data_policy_deductable.csv', index=False)"
   ]
  },
  {
   "cell_type": "markdown",
   "metadata": {},
   "source": [
    "#### Continuous Variables"
   ]
  },
  {
   "cell_type": "code",
   "execution_count": 112,
   "metadata": {
    "ExecuteTime": {
     "end_time": "2020-06-17T09:58:44.012755Z",
     "start_time": "2020-06-17T09:58:43.980756Z"
    }
   },
   "outputs": [
    {
     "data": {
      "text/html": [
       "<div>\n",
       "<style scoped>\n",
       "    .dataframe tbody tr th:only-of-type {\n",
       "        vertical-align: middle;\n",
       "    }\n",
       "\n",
       "    .dataframe tbody tr th {\n",
       "        vertical-align: top;\n",
       "    }\n",
       "\n",
       "    .dataframe thead th {\n",
       "        text-align: right;\n",
       "    }\n",
       "</style>\n",
       "<table border=\"1\" class=\"dataframe\">\n",
       "  <thead>\n",
       "    <tr style=\"text-align: right;\">\n",
       "      <th></th>\n",
       "      <th>months_as_customer</th>\n",
       "      <th>age</th>\n",
       "      <th>policy_annual_premium</th>\n",
       "      <th>capital_gains</th>\n",
       "      <th>capital_loss</th>\n",
       "      <th>total_claim_amount</th>\n",
       "    </tr>\n",
       "  </thead>\n",
       "  <tbody>\n",
       "    <tr>\n",
       "      <th>0</th>\n",
       "      <td>328</td>\n",
       "      <td>48</td>\n",
       "      <td>1406.91</td>\n",
       "      <td>53300</td>\n",
       "      <td>0</td>\n",
       "      <td>71610</td>\n",
       "    </tr>\n",
       "    <tr>\n",
       "      <th>1</th>\n",
       "      <td>228</td>\n",
       "      <td>42</td>\n",
       "      <td>1197.22</td>\n",
       "      <td>0</td>\n",
       "      <td>0</td>\n",
       "      <td>5070</td>\n",
       "    </tr>\n",
       "    <tr>\n",
       "      <th>2</th>\n",
       "      <td>134</td>\n",
       "      <td>29</td>\n",
       "      <td>1413.14</td>\n",
       "      <td>35100</td>\n",
       "      <td>0</td>\n",
       "      <td>34650</td>\n",
       "    </tr>\n",
       "    <tr>\n",
       "      <th>3</th>\n",
       "      <td>256</td>\n",
       "      <td>41</td>\n",
       "      <td>1415.74</td>\n",
       "      <td>48900</td>\n",
       "      <td>-62400</td>\n",
       "      <td>63400</td>\n",
       "    </tr>\n",
       "    <tr>\n",
       "      <th>4</th>\n",
       "      <td>228</td>\n",
       "      <td>44</td>\n",
       "      <td>1583.91</td>\n",
       "      <td>66000</td>\n",
       "      <td>-46000</td>\n",
       "      <td>6500</td>\n",
       "    </tr>\n",
       "  </tbody>\n",
       "</table>\n",
       "</div>"
      ],
      "text/plain": [
       "   months_as_customer  age  policy_annual_premium  capital_gains  capital_loss  total_claim_amount\n",
       "0                 328   48                1406.91          53300             0               71610\n",
       "1                 228   42                1197.22              0             0                5070\n",
       "2                 134   29                1413.14          35100             0               34650\n",
       "3                 256   41                1415.74          48900        -62400               63400\n",
       "4                 228   44                1583.91          66000        -46000                6500"
      ]
     },
     "execution_count": 112,
     "metadata": {},
     "output_type": "execute_result"
    }
   ],
   "source": [
    "data[continuous_predictors].head()"
   ]
  },
  {
   "cell_type": "markdown",
   "metadata": {},
   "source": [
    "**Age**"
   ]
  },
  {
   "cell_type": "code",
   "execution_count": 113,
   "metadata": {
    "ExecuteTime": {
     "end_time": "2020-06-17T09:58:44.325333Z",
     "start_time": "2020-06-17T09:58:44.310334Z"
    }
   },
   "outputs": [
    {
     "data": {
      "text/plain": [
       "count    999.000000\n",
       "mean      38.944945\n",
       "std        9.144354\n",
       "min       19.000000\n",
       "25%       32.000000\n",
       "50%       38.000000\n",
       "75%       44.000000\n",
       "max       64.000000\n",
       "Name: age, dtype: float64"
      ]
     },
     "execution_count": 113,
     "metadata": {},
     "output_type": "execute_result"
    }
   ],
   "source": [
    "data['age'].describe()"
   ]
  },
  {
   "cell_type": "code",
   "execution_count": 114,
   "metadata": {
    "ExecuteTime": {
     "end_time": "2020-06-17T09:58:44.497322Z",
     "start_time": "2020-06-17T09:58:44.478320Z"
    }
   },
   "outputs": [],
   "source": [
    "bin_labels = ['15-20', '21-25', '26-30', '31-35', '36-40', '41-45', '46-50', '51-55', '56-60', '61-65']\n",
    "bins = [15, 20, 25, 30, 35, 40, 45, 50, 55, 60, 65]\n",
    "\n",
    "data['age_groups'] = pd.cut(data['age'], bins = bins, labels = bin_labels, include_lowest = True)\n",
    "data.drop('age', axis=1, inplace=True)"
   ]
  },
  {
   "cell_type": "code",
   "execution_count": 115,
   "metadata": {
    "ExecuteTime": {
     "end_time": "2020-06-17T09:58:45.003457Z",
     "start_time": "2020-06-17T09:58:44.643905Z"
    }
   },
   "outputs": [
    {
     "data": {
      "image/png": "[encoded data removed]",
      "text/plain": [
       "<Figure size 432x288 with 1 Axes>"
      ]
     },
     "metadata": {
      "needs_background": "light"
     },
     "output_type": "display_data"
    }
   ],
   "source": [
    "sns.countplot(x=\"age_groups\", hue=\"fraud_reported\", data=data);"
   ]
  },
  {
   "cell_type": "code",
   "execution_count": 116,
   "metadata": {
    "ExecuteTime": {
     "end_time": "2020-06-17T09:58:45.036477Z",
     "start_time": "2020-06-17T09:58:45.008458Z"
    }
   },
   "outputs": [],
   "source": [
    "data.to_csv(interim + '3_data_age.csv', index=False)"
   ]
  },
  {
   "cell_type": "markdown",
   "metadata": {},
   "source": [
    "**policy_annual_premium**"
   ]
  },
  {
   "cell_type": "code",
   "execution_count": 117,
   "metadata": {
    "ExecuteTime": {
     "end_time": "2020-06-17T09:58:45.158455Z",
     "start_time": "2020-06-17T09:58:45.142463Z"
    }
   },
   "outputs": [
    {
     "data": {
      "text/plain": [
       "count     999.000000\n",
       "mean     1256.323934\n",
       "std       244.275843\n",
       "min       433.330000\n",
       "25%      1089.185000\n",
       "50%      1257.040000\n",
       "75%      1415.710000\n",
       "max      2047.590000\n",
       "Name: policy_annual_premium, dtype: float64"
      ]
     },
     "execution_count": 117,
     "metadata": {},
     "output_type": "execute_result"
    }
   ],
   "source": [
    "data['policy_annual_premium'].describe()"
   ]
  },
  {
   "cell_type": "code",
   "execution_count": 118,
   "metadata": {
    "ExecuteTime": {
     "end_time": "2020-06-17T09:58:45.326455Z",
     "start_time": "2020-06-17T09:58:45.309453Z"
    }
   },
   "outputs": [],
   "source": [
    "bins = list(np.linspace(0, 2500, 6, dtype = int))\n",
    "bin_labels = ['very low', 'low', 'medium', 'high', 'very high']\n",
    "\n",
    "data['policy_annual_premium_groups'] = pd.cut(data['policy_annual_premium'], bins = bins, labels=bin_labels, include_lowest = True)\n",
    "data.drop('policy_annual_premium', axis=1, inplace=True)"
   ]
  },
  {
   "cell_type": "code",
   "execution_count": 119,
   "metadata": {
    "ExecuteTime": {
     "end_time": "2020-06-17T09:58:45.839614Z",
     "start_time": "2020-06-17T09:58:45.460455Z"
    }
   },
   "outputs": [
    {
     "data": {
      "image/png": "[encoded data removed]",
      "text/plain": [
       "<Figure size 432x288 with 1 Axes>"
      ]
     },
     "metadata": {
      "needs_background": "light"
     },
     "output_type": "display_data"
    }
   ],
   "source": [
    "sns.countplot(x=\"policy_annual_premium_groups\", hue=\"fraud_reported\", data=data);"
   ]
  },
  {
   "cell_type": "code",
   "execution_count": 120,
   "metadata": {
    "ExecuteTime": {
     "end_time": "2020-06-17T09:58:45.864612Z",
     "start_time": "2020-06-17T09:58:45.842610Z"
    }
   },
   "outputs": [],
   "source": [
    "data.to_csv(interim + '4_data_annual_prem.csv', index=False)"
   ]
  },
  {
   "cell_type": "markdown",
   "metadata": {
    "ExecuteTime": {
     "end_time": "2020-06-17T09:07:35.877782Z",
     "start_time": "2020-06-17T09:07:35.872783Z"
    }
   },
   "source": [
    "<!-- # capital net\n",
    "# data['capital_net'] = abs(data['capital_gains'] - data['capital_loss'])\n",
    "# data.drop(['capital_gains', 'capital_loss'], axis=1, inplace=True)\n",
    "# sns.distplot(data[data['fraud_reported']==0]['capital_net'], kde=False);\n",
    "# sns.distplot(data[data['fraud_reported']==1]['capital_net'], kde=False);\n",
    "# data.to_csv(interim + '6_data_capital_net.csv', index=False) -->"
   ]
  },
  {
   "cell_type": "markdown",
   "metadata": {},
   "source": [
    "**months_as_customer**"
   ]
  },
  {
   "cell_type": "code",
   "execution_count": 121,
   "metadata": {
    "ExecuteTime": {
     "end_time": "2020-06-17T09:58:46.119165Z",
     "start_time": "2020-06-17T09:58:46.102170Z"
    }
   },
   "outputs": [],
   "source": [
    "bins = [0, 50, 100, 150, 200, 250, 300, 350, 400, 450, 500]\n",
    "bin_labels = ['0-50','51-100','101-150','151-200','201-250','251-300','301-350','351-400','401-450','451-500']\n",
    "\n",
    "data['months_as_customer_groups'] = pd.cut(data['months_as_customer'], bins = bins, labels = bin_labels, include_lowest= True)\n",
    "data.drop(['months_as_customer'], axis=1, inplace=True)"
   ]
  },
  {
   "cell_type": "code",
   "execution_count": 122,
   "metadata": {
    "ExecuteTime": {
     "end_time": "2020-06-17T09:58:46.633952Z",
     "start_time": "2020-06-17T09:58:46.264281Z"
    }
   },
   "outputs": [
    {
     "data": {
      "image/png": "[encoded data removed]",
      "text/plain": [
       "<Figure size 720x360 with 1 Axes>"
      ]
     },
     "metadata": {
      "needs_background": "light"
     },
     "output_type": "display_data"
    }
   ],
   "source": [
    "plt.figure(figsize=(10,5))\n",
    "fig = sns.countplot(x=\"months_as_customer_groups\", hue=\"fraud_reported\", data=data);\n",
    "fig.set_xticklabels(fig.get_xticklabels(), rotation=45);\n"
   ]
  },
  {
   "cell_type": "code",
   "execution_count": 123,
   "metadata": {
    "ExecuteTime": {
     "end_time": "2020-06-17T09:58:46.665952Z",
     "start_time": "2020-06-17T09:58:46.639956Z"
    }
   },
   "outputs": [],
   "source": [
    "data.to_csv(interim + '5_data_months_as_customer.csv', index=False)"
   ]
  },
  {
   "cell_type": "markdown",
   "metadata": {},
   "source": [
    "### Categorical Variables"
   ]
  },
  {
   "cell_type": "code",
   "execution_count": 124,
   "metadata": {},
   "outputs": [],
   "source": [
    "# non numerical\n",
    "categorical_predictors = [col for col in data.columns if data[col].dtypes != 'int' and col != target]\n",
    "ordinal_predictors = ['incident_severity', 'policy_annual_premium_groups', 'policy_deductable_groups']\n",
    "nominal_predictors = [col for col in categorical_predictors if col not in ordinal_predictors]"
   ]
  },
  {
   "cell_type": "code",
   "execution_count": 125,
   "metadata": {
    "ExecuteTime": {
     "end_time": "2020-06-17T09:58:46.777950Z",
     "start_time": "2020-06-17T09:58:46.733950Z"
    }
   },
   "outputs": [
    {
     "data": {
      "text/html": [
       "<div>\n",
       "<style scoped>\n",
       "    .dataframe tbody tr th:only-of-type {\n",
       "        vertical-align: middle;\n",
       "    }\n",
       "\n",
       "    .dataframe tbody tr th {\n",
       "        vertical-align: top;\n",
       "    }\n",
       "\n",
       "    .dataframe thead th {\n",
       "        text-align: right;\n",
       "    }\n",
       "</style>\n",
       "<table border=\"1\" class=\"dataframe\">\n",
       "  <thead>\n",
       "    <tr style=\"text-align: right;\">\n",
       "      <th></th>\n",
       "      <th>insured_sex</th>\n",
       "      <th>insured_hobbies</th>\n",
       "      <th>incident_type</th>\n",
       "      <th>collision_type</th>\n",
       "      <th>incident_severity</th>\n",
       "      <th>authorities_contacted</th>\n",
       "      <th>property_damage</th>\n",
       "      <th>police_report_available</th>\n",
       "      <th>policy_deductable_groups</th>\n",
       "      <th>age_groups</th>\n",
       "      <th>policy_annual_premium_groups</th>\n",
       "      <th>months_as_customer_groups</th>\n",
       "    </tr>\n",
       "  </thead>\n",
       "  <tbody>\n",
       "    <tr>\n",
       "      <th>0</th>\n",
       "      <td>MALE</td>\n",
       "      <td>sleeping</td>\n",
       "      <td>Single Vehicle Collision</td>\n",
       "      <td>Side Collision</td>\n",
       "      <td>Major Damage</td>\n",
       "      <td>Police</td>\n",
       "      <td>YES</td>\n",
       "      <td>YES</td>\n",
       "      <td>501-1000</td>\n",
       "      <td>46-50</td>\n",
       "      <td>medium</td>\n",
       "      <td>301-350</td>\n",
       "    </tr>\n",
       "    <tr>\n",
       "      <th>1</th>\n",
       "      <td>MALE</td>\n",
       "      <td>reading</td>\n",
       "      <td>Vehicle Theft</td>\n",
       "      <td>missing</td>\n",
       "      <td>Minor Damage</td>\n",
       "      <td>Police</td>\n",
       "      <td>missing</td>\n",
       "      <td>missing</td>\n",
       "      <td>1501-2000</td>\n",
       "      <td>41-45</td>\n",
       "      <td>medium</td>\n",
       "      <td>201-250</td>\n",
       "    </tr>\n",
       "    <tr>\n",
       "      <th>2</th>\n",
       "      <td>FEMALE</td>\n",
       "      <td>board-games</td>\n",
       "      <td>Multi-vehicle Collision</td>\n",
       "      <td>Rear Collision</td>\n",
       "      <td>Minor Damage</td>\n",
       "      <td>Police</td>\n",
       "      <td>NO</td>\n",
       "      <td>NO</td>\n",
       "      <td>1501-2000</td>\n",
       "      <td>26-30</td>\n",
       "      <td>medium</td>\n",
       "      <td>101-150</td>\n",
       "    </tr>\n",
       "    <tr>\n",
       "      <th>3</th>\n",
       "      <td>FEMALE</td>\n",
       "      <td>board-games</td>\n",
       "      <td>Single Vehicle Collision</td>\n",
       "      <td>Front Collision</td>\n",
       "      <td>Major Damage</td>\n",
       "      <td>Police</td>\n",
       "      <td>missing</td>\n",
       "      <td>NO</td>\n",
       "      <td>1501-2000</td>\n",
       "      <td>41-45</td>\n",
       "      <td>medium</td>\n",
       "      <td>251-300</td>\n",
       "    </tr>\n",
       "    <tr>\n",
       "      <th>4</th>\n",
       "      <td>MALE</td>\n",
       "      <td>board-games</td>\n",
       "      <td>Vehicle Theft</td>\n",
       "      <td>missing</td>\n",
       "      <td>Minor Damage</td>\n",
       "      <td>None</td>\n",
       "      <td>NO</td>\n",
       "      <td>NO</td>\n",
       "      <td>501-1000</td>\n",
       "      <td>41-45</td>\n",
       "      <td>high</td>\n",
       "      <td>201-250</td>\n",
       "    </tr>\n",
       "  </tbody>\n",
       "</table>\n",
       "</div>"
      ],
      "text/plain": [
       "  insured_sex insured_hobbies             incident_type   collision_type incident_severity authorities_contacted property_damage police_report_available policy_deductable_groups age_groups policy_annual_premium_groups months_as_customer_groups\n",
       "0        MALE        sleeping  Single Vehicle Collision   Side Collision      Major Damage                Police             YES                     YES                 501-1000      46-50                       medium                   301-350\n",
       "1        MALE         reading             Vehicle Theft          missing      Minor Damage                Police         missing                 missing                1501-2000      41-45                       medium                   201-250\n",
       "2      FEMALE     board-games   Multi-vehicle Collision   Rear Collision      Minor Damage                Police              NO                      NO                1501-2000      26-30                       medium                   101-150\n",
       "3      FEMALE     board-games  Single Vehicle Collision  Front Collision      Major Damage                Police         missing                      NO                1501-2000      41-45                       medium                   251-300\n",
       "4        MALE     board-games             Vehicle Theft          missing      Minor Damage                  None              NO                      NO                 501-1000      41-45                         high                   201-250"
      ]
     },
     "execution_count": 125,
     "metadata": {},
     "output_type": "execute_result"
    }
   ],
   "source": [
    "data[categorical_predictors].head()"
   ]
  },
  {
   "cell_type": "markdown",
   "metadata": {},
   "source": [
    "#### Nominal"
   ]
  },
  {
   "cell_type": "code",
   "execution_count": 126,
   "metadata": {
    "ExecuteTime": {
     "end_time": "2020-06-17T09:58:47.242490Z",
     "start_time": "2020-06-17T09:58:47.185492Z"
    }
   },
   "outputs": [
    {
     "data": {
      "text/html": [
       "<div>\n",
       "<style scoped>\n",
       "    .dataframe tbody tr th:only-of-type {\n",
       "        vertical-align: middle;\n",
       "    }\n",
       "\n",
       "    .dataframe tbody tr th {\n",
       "        vertical-align: top;\n",
       "    }\n",
       "\n",
       "    .dataframe thead th {\n",
       "        text-align: right;\n",
       "    }\n",
       "</style>\n",
       "<table border=\"1\" class=\"dataframe\">\n",
       "  <thead>\n",
       "    <tr style=\"text-align: right;\">\n",
       "      <th></th>\n",
       "      <th>insured_sex</th>\n",
       "      <th>insured_hobbies</th>\n",
       "      <th>incident_type</th>\n",
       "      <th>collision_type</th>\n",
       "      <th>authorities_contacted</th>\n",
       "      <th>property_damage</th>\n",
       "      <th>police_report_available</th>\n",
       "      <th>age_groups</th>\n",
       "      <th>months_as_customer_groups</th>\n",
       "    </tr>\n",
       "  </thead>\n",
       "  <tbody>\n",
       "    <tr>\n",
       "      <th>0</th>\n",
       "      <td>MALE</td>\n",
       "      <td>sleeping</td>\n",
       "      <td>Single Vehicle Collision</td>\n",
       "      <td>Side Collision</td>\n",
       "      <td>Police</td>\n",
       "      <td>YES</td>\n",
       "      <td>YES</td>\n",
       "      <td>46-50</td>\n",
       "      <td>301-350</td>\n",
       "    </tr>\n",
       "    <tr>\n",
       "      <th>1</th>\n",
       "      <td>MALE</td>\n",
       "      <td>reading</td>\n",
       "      <td>Vehicle Theft</td>\n",
       "      <td>missing</td>\n",
       "      <td>Police</td>\n",
       "      <td>missing</td>\n",
       "      <td>missing</td>\n",
       "      <td>41-45</td>\n",
       "      <td>201-250</td>\n",
       "    </tr>\n",
       "    <tr>\n",
       "      <th>2</th>\n",
       "      <td>FEMALE</td>\n",
       "      <td>board-games</td>\n",
       "      <td>Multi-vehicle Collision</td>\n",
       "      <td>Rear Collision</td>\n",
       "      <td>Police</td>\n",
       "      <td>NO</td>\n",
       "      <td>NO</td>\n",
       "      <td>26-30</td>\n",
       "      <td>101-150</td>\n",
       "    </tr>\n",
       "    <tr>\n",
       "      <th>3</th>\n",
       "      <td>FEMALE</td>\n",
       "      <td>board-games</td>\n",
       "      <td>Single Vehicle Collision</td>\n",
       "      <td>Front Collision</td>\n",
       "      <td>Police</td>\n",
       "      <td>missing</td>\n",
       "      <td>NO</td>\n",
       "      <td>41-45</td>\n",
       "      <td>251-300</td>\n",
       "    </tr>\n",
       "    <tr>\n",
       "      <th>4</th>\n",
       "      <td>MALE</td>\n",
       "      <td>board-games</td>\n",
       "      <td>Vehicle Theft</td>\n",
       "      <td>missing</td>\n",
       "      <td>None</td>\n",
       "      <td>NO</td>\n",
       "      <td>NO</td>\n",
       "      <td>41-45</td>\n",
       "      <td>201-250</td>\n",
       "    </tr>\n",
       "  </tbody>\n",
       "</table>\n",
       "</div>"
      ],
      "text/plain": [
       "  insured_sex insured_hobbies             incident_type   collision_type authorities_contacted property_damage police_report_available age_groups months_as_customer_groups\n",
       "0        MALE        sleeping  Single Vehicle Collision   Side Collision                Police             YES                     YES      46-50                   301-350\n",
       "1        MALE         reading             Vehicle Theft          missing                Police         missing                 missing      41-45                   201-250\n",
       "2      FEMALE     board-games   Multi-vehicle Collision   Rear Collision                Police              NO                      NO      26-30                   101-150\n",
       "3      FEMALE     board-games  Single Vehicle Collision  Front Collision                Police         missing                      NO      41-45                   251-300\n",
       "4        MALE     board-games             Vehicle Theft          missing                  None              NO                      NO      41-45                   201-250"
      ]
     },
     "execution_count": 126,
     "metadata": {},
     "output_type": "execute_result"
    }
   ],
   "source": [
    "data[nominal_predictors].head()"
   ]
  },
  {
   "cell_type": "code",
   "execution_count": 127,
   "metadata": {},
   "outputs": [
    {
     "data": {
      "text/plain": [
       "0            sleeping\n",
       "1             reading\n",
       "2         board-games\n",
       "3         board-games\n",
       "4         board-games\n",
       "5      bungie-jumping\n",
       "6         board-games\n",
       "7        base-jumping\n",
       "8                golf\n",
       "9             camping\n",
       "10            dancing\n",
       "11          skydiving\n",
       "12            reading\n",
       "13     bungie-jumping\n",
       "14        board-games\n",
       "15             movies\n",
       "16             hiking\n",
       "17            reading\n",
       "18           yachting\n",
       "19            camping\n",
       "20     bungie-jumping\n",
       "21          skydiving\n",
       "22          paintball\n",
       "23              chess\n",
       "24           kayaking\n",
       "25               polo\n",
       "26               golf\n",
       "27              chess\n",
       "28           kayaking\n",
       "29         basketball\n",
       "30        video-games\n",
       "31            reading\n",
       "32           yachting\n",
       "33        video-games\n",
       "34           yachting\n",
       "35            reading\n",
       "36            camping\n",
       "37               golf\n",
       "38     bungie-jumping\n",
       "39        video-games\n",
       "40           kayaking\n",
       "41              chess\n",
       "42             hiking\n",
       "43            reading\n",
       "44            reading\n",
       "45           yachting\n",
       "46               polo\n",
       "47           kayaking\n",
       "48            dancing\n",
       "49             movies\n",
       "50     bungie-jumping\n",
       "51               polo\n",
       "52         basketball\n",
       "53             movies\n",
       "54             movies\n",
       "55          skydiving\n",
       "56              chess\n",
       "57             hiking\n",
       "58           yachting\n",
       "59           kayaking\n",
       "60       base-jumping\n",
       "61         basketball\n",
       "62     bungie-jumping\n",
       "63        video-games\n",
       "64              chess\n",
       "65              chess\n",
       "66          paintball\n",
       "67            reading\n",
       "68             movies\n",
       "69           kayaking\n",
       "70           sleeping\n",
       "71          cross-fit\n",
       "72          paintball\n",
       "73               golf\n",
       "74           yachting\n",
       "75     bungie-jumping\n",
       "76               golf\n",
       "77            dancing\n",
       "78           kayaking\n",
       "79               polo\n",
       "80          paintball\n",
       "81        video-games\n",
       "82     bungie-jumping\n",
       "83        video-games\n",
       "84             movies\n",
       "85        board-games\n",
       "86           yachting\n",
       "87           yachting\n",
       "88           kayaking\n",
       "89           exercise\n",
       "90        board-games\n",
       "91           exercise\n",
       "92           yachting\n",
       "93           exercise\n",
       "94             hiking\n",
       "95           exercise\n",
       "96             hiking\n",
       "97          skydiving\n",
       "98           kayaking\n",
       "99            reading\n",
       "100          yachting\n",
       "101          exercise\n",
       "102    bungie-jumping\n",
       "103          kayaking\n",
       "104        basketball\n",
       "105          kayaking\n",
       "106        basketball\n",
       "107           camping\n",
       "108        basketball\n",
       "109             chess\n",
       "110       video-games\n",
       "111           dancing\n",
       "112              polo\n",
       "113           camping\n",
       "114           reading\n",
       "115            hiking\n",
       "116    bungie-jumping\n",
       "117          exercise\n",
       "118          yachting\n",
       "119           camping\n",
       "120       board-games\n",
       "121       video-games\n",
       "122         skydiving\n",
       "123            movies\n",
       "124         paintball\n",
       "125           dancing\n",
       "126       video-games\n",
       "127          exercise\n",
       "128        basketball\n",
       "129          sleeping\n",
       "130           camping\n",
       "131         paintball\n",
       "132          exercise\n",
       "133         skydiving\n",
       "134        basketball\n",
       "135          yachting\n",
       "136          exercise\n",
       "137              golf\n",
       "138        basketball\n",
       "139            hiking\n",
       "140           camping\n",
       "141       video-games\n",
       "142       video-games\n",
       "143          yachting\n",
       "144       video-games\n",
       "145         cross-fit\n",
       "146              polo\n",
       "147              golf\n",
       "148           reading\n",
       "149         skydiving\n",
       "150      base-jumping\n",
       "151              polo\n",
       "152          kayaking\n",
       "153         paintball\n",
       "154           reading\n",
       "155    bungie-jumping\n",
       "156          exercise\n",
       "157            hiking\n",
       "158            movies\n",
       "159       video-games\n",
       "160           reading\n",
       "161           dancing\n",
       "162              polo\n",
       "163          sleeping\n",
       "164              polo\n",
       "165    bungie-jumping\n",
       "166       board-games\n",
       "167          yachting\n",
       "168    bungie-jumping\n",
       "169            movies\n",
       "170            hiking\n",
       "171            hiking\n",
       "172       board-games\n",
       "173          kayaking\n",
       "174          kayaking\n",
       "175       board-games\n",
       "176           dancing\n",
       "177          kayaking\n",
       "178         skydiving\n",
       "179          exercise\n",
       "180        basketball\n",
       "181           reading\n",
       "182          exercise\n",
       "183         cross-fit\n",
       "184          sleeping\n",
       "185         cross-fit\n",
       "186    bungie-jumping\n",
       "187          exercise\n",
       "188            hiking\n",
       "189              polo\n",
       "190            movies\n",
       "191            hiking\n",
       "192        basketball\n",
       "193            hiking\n",
       "194        basketball\n",
       "195    bungie-jumping\n",
       "196         skydiving\n",
       "197           camping\n",
       "198    bungie-jumping\n",
       "199         paintball\n",
       "200              golf\n",
       "201      base-jumping\n",
       "202       board-games\n",
       "203         paintball\n",
       "204          kayaking\n",
       "205          exercise\n",
       "206             chess\n",
       "207              golf\n",
       "208            hiking\n",
       "209           reading\n",
       "210            movies\n",
       "211         skydiving\n",
       "212          yachting\n",
       "213           reading\n",
       "214         cross-fit\n",
       "215    bungie-jumping\n",
       "216      base-jumping\n",
       "217          yachting\n",
       "218          exercise\n",
       "219           camping\n",
       "220      base-jumping\n",
       "221          exercise\n",
       "222          yachting\n",
       "223       board-games\n",
       "224          kayaking\n",
       "225        basketball\n",
       "226         paintball\n",
       "227    bungie-jumping\n",
       "228          kayaking\n",
       "229           dancing\n",
       "230      base-jumping\n",
       "231           dancing\n",
       "232          exercise\n",
       "233         paintball\n",
       "234              polo\n",
       "235          kayaking\n",
       "236              golf\n",
       "237         cross-fit\n",
       "238           reading\n",
       "239           dancing\n",
       "240         cross-fit\n",
       "241         skydiving\n",
       "242           camping\n",
       "243         paintball\n",
       "244       board-games\n",
       "245              golf\n",
       "246              golf\n",
       "247             chess\n",
       "248              golf\n",
       "249         paintball\n",
       "            ...      \n",
       "750            movies\n",
       "751            movies\n",
       "752              golf\n",
       "753            movies\n",
       "754            hiking\n",
       "755         cross-fit\n",
       "756          yachting\n",
       "757        basketball\n",
       "758    bungie-jumping\n",
       "759            hiking\n",
       "760          kayaking\n",
       "761         paintball\n",
       "762        basketball\n",
       "763         paintball\n",
       "764        basketball\n",
       "765            hiking\n",
       "766          sleeping\n",
       "767            movies\n",
       "768           reading\n",
       "769            movies\n",
       "770       video-games\n",
       "771              polo\n",
       "772            hiking\n",
       "773         paintball\n",
       "774          yachting\n",
       "775          kayaking\n",
       "776    bungie-jumping\n",
       "777         skydiving\n",
       "778          exercise\n",
       "779         skydiving\n",
       "780           dancing\n",
       "781       video-games\n",
       "782       board-games\n",
       "783    bungie-jumping\n",
       "784             chess\n",
       "785         cross-fit\n",
       "786           dancing\n",
       "787       board-games\n",
       "788            hiking\n",
       "789           reading\n",
       "790         paintball\n",
       "791         cross-fit\n",
       "792          exercise\n",
       "793          kayaking\n",
       "794            hiking\n",
       "795            movies\n",
       "796           reading\n",
       "797         paintball\n",
       "798          yachting\n",
       "799           dancing\n",
       "800       video-games\n",
       "801          kayaking\n",
       "802        basketball\n",
       "803             chess\n",
       "804      base-jumping\n",
       "805          kayaking\n",
       "806           dancing\n",
       "807           dancing\n",
       "808      base-jumping\n",
       "809    bungie-jumping\n",
       "810          kayaking\n",
       "811           dancing\n",
       "812         cross-fit\n",
       "813       video-games\n",
       "814           dancing\n",
       "815           camping\n",
       "816    bungie-jumping\n",
       "817         paintball\n",
       "818         paintball\n",
       "819           camping\n",
       "820        basketball\n",
       "821              polo\n",
       "822           camping\n",
       "823        basketball\n",
       "824          kayaking\n",
       "825         skydiving\n",
       "826            movies\n",
       "827         paintball\n",
       "828              golf\n",
       "829             chess\n",
       "830            hiking\n",
       "831            movies\n",
       "832         paintball\n",
       "833         skydiving\n",
       "834           reading\n",
       "835        basketball\n",
       "836          kayaking\n",
       "837              golf\n",
       "838            movies\n",
       "839           reading\n",
       "840              golf\n",
       "841           reading\n",
       "842           reading\n",
       "843           camping\n",
       "844       video-games\n",
       "845             chess\n",
       "846              golf\n",
       "847      base-jumping\n",
       "848       board-games\n",
       "849    bungie-jumping\n",
       "850              golf\n",
       "851       video-games\n",
       "852              polo\n",
       "853             chess\n",
       "854              golf\n",
       "855          kayaking\n",
       "856           reading\n",
       "857           reading\n",
       "858           dancing\n",
       "859    bungie-jumping\n",
       "860              golf\n",
       "861              golf\n",
       "862    bungie-jumping\n",
       "863       video-games\n",
       "864      base-jumping\n",
       "865              polo\n",
       "866          exercise\n",
       "867         skydiving\n",
       "868             chess\n",
       "869         skydiving\n",
       "870         skydiving\n",
       "871    bungie-jumping\n",
       "872             chess\n",
       "873          kayaking\n",
       "874           reading\n",
       "875      base-jumping\n",
       "876           reading\n",
       "877          exercise\n",
       "878          sleeping\n",
       "879              polo\n",
       "880       video-games\n",
       "881         skydiving\n",
       "882           dancing\n",
       "883    bungie-jumping\n",
       "884         paintball\n",
       "885         paintball\n",
       "886          exercise\n",
       "887          exercise\n",
       "888             chess\n",
       "889          sleeping\n",
       "890          sleeping\n",
       "891           camping\n",
       "892          yachting\n",
       "893          sleeping\n",
       "894            movies\n",
       "895       board-games\n",
       "896       board-games\n",
       "897          sleeping\n",
       "898        basketball\n",
       "899         paintball\n",
       "900       video-games\n",
       "901          sleeping\n",
       "902         skydiving\n",
       "903        basketball\n",
       "904            movies\n",
       "905         paintball\n",
       "906           camping\n",
       "907         paintball\n",
       "908      base-jumping\n",
       "909         skydiving\n",
       "910           dancing\n",
       "911          kayaking\n",
       "912          kayaking\n",
       "913            movies\n",
       "914         cross-fit\n",
       "915             chess\n",
       "916              golf\n",
       "917             chess\n",
       "918          exercise\n",
       "919             chess\n",
       "920      base-jumping\n",
       "921           camping\n",
       "922              polo\n",
       "923            hiking\n",
       "924         skydiving\n",
       "925       video-games\n",
       "926       video-games\n",
       "927    bungie-jumping\n",
       "928              polo\n",
       "929          yachting\n",
       "930          sleeping\n",
       "931          sleeping\n",
       "932              polo\n",
       "933           reading\n",
       "934           camping\n",
       "935         cross-fit\n",
       "936              polo\n",
       "937            hiking\n",
       "938          exercise\n",
       "939    bungie-jumping\n",
       "940            movies\n",
       "941          exercise\n",
       "942      base-jumping\n",
       "943    bungie-jumping\n",
       "944            movies\n",
       "945          yachting\n",
       "946            hiking\n",
       "947       board-games\n",
       "948          exercise\n",
       "949    bungie-jumping\n",
       "950       video-games\n",
       "951           reading\n",
       "952          sleeping\n",
       "953           reading\n",
       "954          yachting\n",
       "955            movies\n",
       "956              golf\n",
       "957         skydiving\n",
       "958          sleeping\n",
       "959            movies\n",
       "960       board-games\n",
       "961    bungie-jumping\n",
       "962       board-games\n",
       "963         skydiving\n",
       "964         cross-fit\n",
       "965           camping\n",
       "966          kayaking\n",
       "967      base-jumping\n",
       "968         paintball\n",
       "969            movies\n",
       "970            movies\n",
       "971         paintball\n",
       "972          exercise\n",
       "973           reading\n",
       "974       video-games\n",
       "975              polo\n",
       "976       board-games\n",
       "977       board-games\n",
       "978              golf\n",
       "979      base-jumping\n",
       "980           camping\n",
       "981    bungie-jumping\n",
       "982         cross-fit\n",
       "983            hiking\n",
       "984         cross-fit\n",
       "985      base-jumping\n",
       "986          kayaking\n",
       "987          yachting\n",
       "988           dancing\n",
       "989            movies\n",
       "990            movies\n",
       "991        basketball\n",
       "992           camping\n",
       "993           camping\n",
       "994    bungie-jumping\n",
       "995         paintball\n",
       "996          sleeping\n",
       "997    bungie-jumping\n",
       "998      base-jumping\n",
       "999          kayaking\n",
       "Name: insured_hobbies, Length: 999, dtype: object"
      ]
     },
     "execution_count": 127,
     "metadata": {},
     "output_type": "execute_result"
    }
   ],
   "source": [
    "data['insured_hobbies']"
   ]
  },
  {
   "cell_type": "code",
   "execution_count": 128,
   "metadata": {
    "ExecuteTime": {
     "end_time": "2020-06-17T09:58:47.358511Z",
     "start_time": "2020-06-17T09:58:47.348488Z"
    }
   },
   "outputs": [],
   "source": [
    "# **insured_hobbies**\n",
    "replace_labels = [label for label in data['insured_hobbies'].unique() if label not in ['chess', 'cross-fit']]\n",
    "data['insured_hobbies'] = data['insured_hobbies'].replace(replace_labels, 'others')"
   ]
  },
  {
   "cell_type": "code",
   "execution_count": 129,
   "metadata": {
    "ExecuteTime": {
     "end_time": "2020-06-17T09:58:47.534490Z",
     "start_time": "2020-06-17T09:58:47.493490Z"
    }
   },
   "outputs": [],
   "source": [
    "data = pd.get_dummies(data, columns=nominal_predictors)"
   ]
  },
  {
   "cell_type": "code",
   "execution_count": 130,
   "metadata": {
    "ExecuteTime": {
     "end_time": "2020-06-17T09:58:47.954205Z",
     "start_time": "2020-06-17T09:58:47.932201Z"
    }
   },
   "outputs": [],
   "source": [
    "data.to_csv(interim + '6_data_dummies.csv', index=False)"
   ]
  },
  {
   "cell_type": "markdown",
   "metadata": {},
   "source": [
    "#### Ordinal"
   ]
  },
  {
   "cell_type": "code",
   "execution_count": 131,
   "metadata": {
    "ExecuteTime": {
     "end_time": "2020-06-17T09:58:48.331965Z",
     "start_time": "2020-06-17T09:58:48.298927Z"
    }
   },
   "outputs": [
    {
     "data": {
      "text/html": [
       "<div>\n",
       "<style scoped>\n",
       "    .dataframe tbody tr th:only-of-type {\n",
       "        vertical-align: middle;\n",
       "    }\n",
       "\n",
       "    .dataframe tbody tr th {\n",
       "        vertical-align: top;\n",
       "    }\n",
       "\n",
       "    .dataframe thead th {\n",
       "        text-align: right;\n",
       "    }\n",
       "</style>\n",
       "<table border=\"1\" class=\"dataframe\">\n",
       "  <thead>\n",
       "    <tr style=\"text-align: right;\">\n",
       "      <th></th>\n",
       "      <th>incident_severity</th>\n",
       "      <th>policy_annual_premium_groups</th>\n",
       "      <th>policy_deductable_groups</th>\n",
       "    </tr>\n",
       "  </thead>\n",
       "  <tbody>\n",
       "    <tr>\n",
       "      <th>0</th>\n",
       "      <td>Major Damage</td>\n",
       "      <td>medium</td>\n",
       "      <td>501-1000</td>\n",
       "    </tr>\n",
       "    <tr>\n",
       "      <th>1</th>\n",
       "      <td>Minor Damage</td>\n",
       "      <td>medium</td>\n",
       "      <td>1501-2000</td>\n",
       "    </tr>\n",
       "    <tr>\n",
       "      <th>2</th>\n",
       "      <td>Minor Damage</td>\n",
       "      <td>medium</td>\n",
       "      <td>1501-2000</td>\n",
       "    </tr>\n",
       "    <tr>\n",
       "      <th>3</th>\n",
       "      <td>Major Damage</td>\n",
       "      <td>medium</td>\n",
       "      <td>1501-2000</td>\n",
       "    </tr>\n",
       "    <tr>\n",
       "      <th>4</th>\n",
       "      <td>Minor Damage</td>\n",
       "      <td>high</td>\n",
       "      <td>501-1000</td>\n",
       "    </tr>\n",
       "  </tbody>\n",
       "</table>\n",
       "</div>"
      ],
      "text/plain": [
       "  incident_severity policy_annual_premium_groups policy_deductable_groups\n",
       "0      Major Damage                       medium                 501-1000\n",
       "1      Minor Damage                       medium                1501-2000\n",
       "2      Minor Damage                       medium                1501-2000\n",
       "3      Major Damage                       medium                1501-2000\n",
       "4      Minor Damage                         high                 501-1000"
      ]
     },
     "execution_count": 131,
     "metadata": {},
     "output_type": "execute_result"
    }
   ],
   "source": [
    "data[ordinal_predictors].head()"
   ]
  },
  {
   "cell_type": "code",
   "execution_count": 132,
   "metadata": {
    "ExecuteTime": {
     "end_time": "2020-06-17T09:58:48.493136Z",
     "start_time": "2020-06-17T09:58:48.480137Z"
    }
   },
   "outputs": [
    {
     "data": {
      "text/plain": [
       "{'incident_severity': ['Major Damage',\n",
       "  'Minor Damage',\n",
       "  'Total Loss',\n",
       "  'Trivial Damage'],\n",
       " 'policy_annual_premium_groups': ['medium',\n",
       "  'high',\n",
       "  'low',\n",
       "  'very high',\n",
       "  'very low'],\n",
       " 'policy_deductable_groups': ['501-1000', '1501-2000', '0-500']}"
      ]
     },
     "execution_count": 132,
     "metadata": {},
     "output_type": "execute_result"
    }
   ],
   "source": [
    "ord_categories = {col: list(data[col].unique()) for col in ordinal_predictors}\n",
    "ord_categories"
   ]
  },
  {
   "cell_type": "code",
   "execution_count": 133,
   "metadata": {
    "ExecuteTime": {
     "end_time": "2020-06-17T09:58:48.832676Z",
     "start_time": "2020-06-17T09:58:48.813665Z"
    }
   },
   "outputs": [],
   "source": [
    "incident_severity_categories = pd.Categorical(data[ordinal_predictors]['incident_severity'],\n",
    "                                              categories=['Trivial Damage',\n",
    "                                                          'Minor Damage',\n",
    "                                                          'Major Damage',\n",
    "                                                          'Total Loss'],\n",
    "                                              ordered=True)\n",
    "\n",
    "policy_annual_premium_categories = pd.Categorical(data[ordinal_predictors]['policy_annual_premium_groups'],\n",
    "                                                  categories=['very low',\n",
    "                                                          'low',\n",
    "                                                          'medium',\n",
    "                                                          'high',\n",
    "                                                          'very high'],\n",
    "                                                  ordered=True)\n",
    "\n",
    "# policy_csl_categories = pd.Categorical(data[ordinal_predictors]['policy_csl'],\n",
    "#                                        categories=['100/300', '250/500', '500/1000'],\n",
    "#                                        ordered=True)\n",
    "\n",
    "policy_deductable_categories = pd.Categorical(data[ordinal_predictors]['policy_deductable_groups'],\n",
    "                                       categories=['0-500', '501-1000', '1001-1500', '1501-2000'],\n",
    "                                       ordered=True)"
   ]
  },
  {
   "cell_type": "code",
   "execution_count": 134,
   "metadata": {
    "ExecuteTime": {
     "end_time": "2020-06-17T09:58:49.216260Z",
     "start_time": "2020-06-17T09:58:49.200252Z"
    }
   },
   "outputs": [],
   "source": [
    "categories = [policy_annual_premium_categories, incident_severity_categories, policy_deductable_categories]\n",
    "\n",
    "for var, cat in zip(ord_categories, categories):\n",
    "    labels, unique = pd.factorize(cat, sort=True)\n",
    "    data[var] = labels"
   ]
  },
  {
   "cell_type": "code",
   "execution_count": 135,
   "metadata": {
    "ExecuteTime": {
     "end_time": "2020-06-17T09:58:49.736789Z",
     "start_time": "2020-06-17T09:58:49.656792Z"
    }
   },
   "outputs": [
    {
     "data": {
      "text/html": [
       "<div>\n",
       "<style scoped>\n",
       "    .dataframe tbody tr th:only-of-type {\n",
       "        vertical-align: middle;\n",
       "    }\n",
       "\n",
       "    .dataframe tbody tr th {\n",
       "        vertical-align: top;\n",
       "    }\n",
       "\n",
       "    .dataframe thead th {\n",
       "        text-align: right;\n",
       "    }\n",
       "</style>\n",
       "<table border=\"1\" class=\"dataframe\">\n",
       "  <thead>\n",
       "    <tr style=\"text-align: right;\">\n",
       "      <th></th>\n",
       "      <th>umbrella_limit</th>\n",
       "      <th>capital_gains</th>\n",
       "      <th>capital_loss</th>\n",
       "      <th>incident_severity</th>\n",
       "      <th>incident_hour_of_the_day</th>\n",
       "      <th>number_of_vehicles_involved</th>\n",
       "      <th>bodily_injuries</th>\n",
       "      <th>witnesses</th>\n",
       "      <th>total_claim_amount</th>\n",
       "      <th>fraud_reported</th>\n",
       "      <th>policy_deductable_groups</th>\n",
       "      <th>policy_annual_premium_groups</th>\n",
       "      <th>insured_sex_FEMALE</th>\n",
       "      <th>insured_sex_MALE</th>\n",
       "      <th>insured_hobbies_chess</th>\n",
       "      <th>insured_hobbies_cross-fit</th>\n",
       "      <th>insured_hobbies_others</th>\n",
       "      <th>incident_type_Multi-vehicle Collision</th>\n",
       "      <th>incident_type_Parked Car</th>\n",
       "      <th>incident_type_Single Vehicle Collision</th>\n",
       "      <th>incident_type_Vehicle Theft</th>\n",
       "      <th>collision_type_Front Collision</th>\n",
       "      <th>collision_type_Rear Collision</th>\n",
       "      <th>collision_type_Side Collision</th>\n",
       "      <th>collision_type_missing</th>\n",
       "      <th>authorities_contacted_Ambulance</th>\n",
       "      <th>authorities_contacted_Fire</th>\n",
       "      <th>authorities_contacted_None</th>\n",
       "      <th>authorities_contacted_Other</th>\n",
       "      <th>authorities_contacted_Police</th>\n",
       "      <th>property_damage_NO</th>\n",
       "      <th>property_damage_YES</th>\n",
       "      <th>property_damage_missing</th>\n",
       "      <th>police_report_available_NO</th>\n",
       "      <th>police_report_available_YES</th>\n",
       "      <th>police_report_available_missing</th>\n",
       "      <th>age_groups_15-20</th>\n",
       "      <th>age_groups_21-25</th>\n",
       "      <th>age_groups_26-30</th>\n",
       "      <th>age_groups_31-35</th>\n",
       "      <th>age_groups_36-40</th>\n",
       "      <th>age_groups_41-45</th>\n",
       "      <th>age_groups_46-50</th>\n",
       "      <th>age_groups_51-55</th>\n",
       "      <th>age_groups_56-60</th>\n",
       "      <th>age_groups_61-65</th>\n",
       "      <th>months_as_customer_groups_0-50</th>\n",
       "      <th>months_as_customer_groups_51-100</th>\n",
       "      <th>months_as_customer_groups_101-150</th>\n",
       "      <th>months_as_customer_groups_151-200</th>\n",
       "      <th>months_as_customer_groups_201-250</th>\n",
       "      <th>months_as_customer_groups_251-300</th>\n",
       "      <th>months_as_customer_groups_301-350</th>\n",
       "      <th>months_as_customer_groups_351-400</th>\n",
       "      <th>months_as_customer_groups_401-450</th>\n",
       "      <th>months_as_customer_groups_451-500</th>\n",
       "    </tr>\n",
       "  </thead>\n",
       "  <tbody>\n",
       "    <tr>\n",
       "      <th>0</th>\n",
       "      <td>0</td>\n",
       "      <td>53300</td>\n",
       "      <td>0</td>\n",
       "      <td>2</td>\n",
       "      <td>5</td>\n",
       "      <td>1</td>\n",
       "      <td>1</td>\n",
       "      <td>2</td>\n",
       "      <td>71610</td>\n",
       "      <td>1</td>\n",
       "      <td>1</td>\n",
       "      <td>2</td>\n",
       "      <td>0</td>\n",
       "      <td>1</td>\n",
       "      <td>0</td>\n",
       "      <td>0</td>\n",
       "      <td>1</td>\n",
       "      <td>0</td>\n",
       "      <td>0</td>\n",
       "      <td>1</td>\n",
       "      <td>0</td>\n",
       "      <td>0</td>\n",
       "      <td>0</td>\n",
       "      <td>1</td>\n",
       "      <td>0</td>\n",
       "      <td>0</td>\n",
       "      <td>0</td>\n",
       "      <td>0</td>\n",
       "      <td>0</td>\n",
       "      <td>1</td>\n",
       "      <td>0</td>\n",
       "      <td>1</td>\n",
       "      <td>0</td>\n",
       "      <td>0</td>\n",
       "      <td>1</td>\n",
       "      <td>0</td>\n",
       "      <td>0</td>\n",
       "      <td>0</td>\n",
       "      <td>0</td>\n",
       "      <td>0</td>\n",
       "      <td>0</td>\n",
       "      <td>0</td>\n",
       "      <td>1</td>\n",
       "      <td>0</td>\n",
       "      <td>0</td>\n",
       "      <td>0</td>\n",
       "      <td>0</td>\n",
       "      <td>0</td>\n",
       "      <td>0</td>\n",
       "      <td>0</td>\n",
       "      <td>0</td>\n",
       "      <td>0</td>\n",
       "      <td>1</td>\n",
       "      <td>0</td>\n",
       "      <td>0</td>\n",
       "      <td>0</td>\n",
       "    </tr>\n",
       "    <tr>\n",
       "      <th>1</th>\n",
       "      <td>5000000</td>\n",
       "      <td>0</td>\n",
       "      <td>0</td>\n",
       "      <td>2</td>\n",
       "      <td>8</td>\n",
       "      <td>1</td>\n",
       "      <td>0</td>\n",
       "      <td>0</td>\n",
       "      <td>5070</td>\n",
       "      <td>1</td>\n",
       "      <td>2</td>\n",
       "      <td>1</td>\n",
       "      <td>0</td>\n",
       "      <td>1</td>\n",
       "      <td>0</td>\n",
       "      <td>0</td>\n",
       "      <td>1</td>\n",
       "      <td>0</td>\n",
       "      <td>0</td>\n",
       "      <td>0</td>\n",
       "      <td>1</td>\n",
       "      <td>0</td>\n",
       "      <td>0</td>\n",
       "      <td>0</td>\n",
       "      <td>1</td>\n",
       "      <td>0</td>\n",
       "      <td>0</td>\n",
       "      <td>0</td>\n",
       "      <td>0</td>\n",
       "      <td>1</td>\n",
       "      <td>0</td>\n",
       "      <td>0</td>\n",
       "      <td>1</td>\n",
       "      <td>0</td>\n",
       "      <td>0</td>\n",
       "      <td>1</td>\n",
       "      <td>0</td>\n",
       "      <td>0</td>\n",
       "      <td>0</td>\n",
       "      <td>0</td>\n",
       "      <td>0</td>\n",
       "      <td>1</td>\n",
       "      <td>0</td>\n",
       "      <td>0</td>\n",
       "      <td>0</td>\n",
       "      <td>0</td>\n",
       "      <td>0</td>\n",
       "      <td>0</td>\n",
       "      <td>0</td>\n",
       "      <td>0</td>\n",
       "      <td>1</td>\n",
       "      <td>0</td>\n",
       "      <td>0</td>\n",
       "      <td>0</td>\n",
       "      <td>0</td>\n",
       "      <td>0</td>\n",
       "    </tr>\n",
       "    <tr>\n",
       "      <th>2</th>\n",
       "      <td>5000000</td>\n",
       "      <td>35100</td>\n",
       "      <td>0</td>\n",
       "      <td>2</td>\n",
       "      <td>7</td>\n",
       "      <td>3</td>\n",
       "      <td>2</td>\n",
       "      <td>3</td>\n",
       "      <td>34650</td>\n",
       "      <td>0</td>\n",
       "      <td>2</td>\n",
       "      <td>1</td>\n",
       "      <td>1</td>\n",
       "      <td>0</td>\n",
       "      <td>0</td>\n",
       "      <td>0</td>\n",
       "      <td>1</td>\n",
       "      <td>1</td>\n",
       "      <td>0</td>\n",
       "      <td>0</td>\n",
       "      <td>0</td>\n",
       "      <td>0</td>\n",
       "      <td>1</td>\n",
       "      <td>0</td>\n",
       "      <td>0</td>\n",
       "      <td>0</td>\n",
       "      <td>0</td>\n",
       "      <td>0</td>\n",
       "      <td>0</td>\n",
       "      <td>1</td>\n",
       "      <td>1</td>\n",
       "      <td>0</td>\n",
       "      <td>0</td>\n",
       "      <td>1</td>\n",
       "      <td>0</td>\n",
       "      <td>0</td>\n",
       "      <td>0</td>\n",
       "      <td>0</td>\n",
       "      <td>1</td>\n",
       "      <td>0</td>\n",
       "      <td>0</td>\n",
       "      <td>0</td>\n",
       "      <td>0</td>\n",
       "      <td>0</td>\n",
       "      <td>0</td>\n",
       "      <td>0</td>\n",
       "      <td>0</td>\n",
       "      <td>0</td>\n",
       "      <td>1</td>\n",
       "      <td>0</td>\n",
       "      <td>0</td>\n",
       "      <td>0</td>\n",
       "      <td>0</td>\n",
       "      <td>0</td>\n",
       "      <td>0</td>\n",
       "      <td>0</td>\n",
       "    </tr>\n",
       "    <tr>\n",
       "      <th>3</th>\n",
       "      <td>6000000</td>\n",
       "      <td>48900</td>\n",
       "      <td>-62400</td>\n",
       "      <td>2</td>\n",
       "      <td>5</td>\n",
       "      <td>1</td>\n",
       "      <td>1</td>\n",
       "      <td>2</td>\n",
       "      <td>63400</td>\n",
       "      <td>1</td>\n",
       "      <td>2</td>\n",
       "      <td>2</td>\n",
       "      <td>1</td>\n",
       "      <td>0</td>\n",
       "      <td>0</td>\n",
       "      <td>0</td>\n",
       "      <td>1</td>\n",
       "      <td>0</td>\n",
       "      <td>0</td>\n",
       "      <td>1</td>\n",
       "      <td>0</td>\n",
       "      <td>1</td>\n",
       "      <td>0</td>\n",
       "      <td>0</td>\n",
       "      <td>0</td>\n",
       "      <td>0</td>\n",
       "      <td>0</td>\n",
       "      <td>0</td>\n",
       "      <td>0</td>\n",
       "      <td>1</td>\n",
       "      <td>0</td>\n",
       "      <td>0</td>\n",
       "      <td>1</td>\n",
       "      <td>1</td>\n",
       "      <td>0</td>\n",
       "      <td>0</td>\n",
       "      <td>0</td>\n",
       "      <td>0</td>\n",
       "      <td>0</td>\n",
       "      <td>0</td>\n",
       "      <td>0</td>\n",
       "      <td>1</td>\n",
       "      <td>0</td>\n",
       "      <td>0</td>\n",
       "      <td>0</td>\n",
       "      <td>0</td>\n",
       "      <td>0</td>\n",
       "      <td>0</td>\n",
       "      <td>0</td>\n",
       "      <td>0</td>\n",
       "      <td>0</td>\n",
       "      <td>1</td>\n",
       "      <td>0</td>\n",
       "      <td>0</td>\n",
       "      <td>0</td>\n",
       "      <td>0</td>\n",
       "    </tr>\n",
       "    <tr>\n",
       "      <th>4</th>\n",
       "      <td>6000000</td>\n",
       "      <td>66000</td>\n",
       "      <td>-46000</td>\n",
       "      <td>3</td>\n",
       "      <td>20</td>\n",
       "      <td>1</td>\n",
       "      <td>0</td>\n",
       "      <td>1</td>\n",
       "      <td>6500</td>\n",
       "      <td>0</td>\n",
       "      <td>1</td>\n",
       "      <td>1</td>\n",
       "      <td>0</td>\n",
       "      <td>1</td>\n",
       "      <td>0</td>\n",
       "      <td>0</td>\n",
       "      <td>1</td>\n",
       "      <td>0</td>\n",
       "      <td>0</td>\n",
       "      <td>0</td>\n",
       "      <td>1</td>\n",
       "      <td>0</td>\n",
       "      <td>0</td>\n",
       "      <td>0</td>\n",
       "      <td>1</td>\n",
       "      <td>0</td>\n",
       "      <td>0</td>\n",
       "      <td>1</td>\n",
       "      <td>0</td>\n",
       "      <td>0</td>\n",
       "      <td>1</td>\n",
       "      <td>0</td>\n",
       "      <td>0</td>\n",
       "      <td>1</td>\n",
       "      <td>0</td>\n",
       "      <td>0</td>\n",
       "      <td>0</td>\n",
       "      <td>0</td>\n",
       "      <td>0</td>\n",
       "      <td>0</td>\n",
       "      <td>0</td>\n",
       "      <td>1</td>\n",
       "      <td>0</td>\n",
       "      <td>0</td>\n",
       "      <td>0</td>\n",
       "      <td>0</td>\n",
       "      <td>0</td>\n",
       "      <td>0</td>\n",
       "      <td>0</td>\n",
       "      <td>0</td>\n",
       "      <td>1</td>\n",
       "      <td>0</td>\n",
       "      <td>0</td>\n",
       "      <td>0</td>\n",
       "      <td>0</td>\n",
       "      <td>0</td>\n",
       "    </tr>\n",
       "  </tbody>\n",
       "</table>\n",
       "</div>"
      ],
      "text/plain": [
       "   umbrella_limit  capital_gains  capital_loss  incident_severity  incident_hour_of_the_day  number_of_vehicles_involved  bodily_injuries  witnesses  total_claim_amount fraud_reported  policy_deductable_groups  policy_annual_premium_groups  insured_sex_FEMALE  insured_sex_MALE  insured_hobbies_chess  insured_hobbies_cross-fit  insured_hobbies_others  incident_type_Multi-vehicle Collision  incident_type_Parked Car  incident_type_Single Vehicle Collision  incident_type_Vehicle Theft  collision_type_Front Collision  collision_type_Rear Collision  collision_type_Side Collision  collision_type_missing  authorities_contacted_Ambulance  authorities_contacted_Fire  authorities_contacted_None  authorities_contacted_Other  authorities_contacted_Police  property_damage_NO  property_damage_YES  property_damage_missing  police_report_available_NO  police_report_available_YES  police_report_available_missing  age_groups_15-20  age_groups_21-25  age_groups_26-30  age_groups_31-35  age_groups_36-40  \\\n",
       "0               0          53300             0                  2                         5                            1                1          2               71610              1                         1                             2                   0                 1                      0                          0                       1                                      0                         0                                       1                            0                               0                              0                              1                       0                                0                           0                           0                            0                             1                   0                    1                        0                           0                            1                                0                 0                 0                 0                 0                 0   \n",
       "1         5000000              0             0                  2                         8                            1                0          0                5070              1                         2                             1                   0                 1                      0                          0                       1                                      0                         0                                       0                            1                               0                              0                              0                       1                                0                           0                           0                            0                             1                   0                    0                        1                           0                            0                                1                 0                 0                 0                 0                 0   \n",
       "2         5000000          35100             0                  2                         7                            3                2          3               34650              0                         2                             1                   1                 0                      0                          0                       1                                      1                         0                                       0                            0                               0                              1                              0                       0                                0                           0                           0                            0                             1                   1                    0                        0                           1                            0                                0                 0                 0                 1                 0                 0   \n",
       "3         6000000          48900        -62400                  2                         5                            1                1          2               63400              1                         2                             2                   1                 0                      0                          0                       1                                      0                         0                                       1                            0                               1                              0                              0                       0                                0                           0                           0                            0                             1                   0                    0                        1                           1                            0                                0                 0                 0                 0                 0                 0   \n",
       "4         6000000          66000        -46000                  3                        20                            1                0          1                6500              0                         1                             1                   0                 1                      0                          0                       1                                      0                         0                                       0                            1                               0                              0                              0                       1                                0                           0                           1                            0                             0                   1                    0                        0                           1                            0                                0                 0                 0                 0                 0                 0   \n",
       "\n",
       "   age_groups_41-45  age_groups_46-50  age_groups_51-55  age_groups_56-60  age_groups_61-65  months_as_customer_groups_0-50  months_as_customer_groups_51-100  months_as_customer_groups_101-150  months_as_customer_groups_151-200  months_as_customer_groups_201-250  months_as_customer_groups_251-300  months_as_customer_groups_301-350  months_as_customer_groups_351-400  months_as_customer_groups_401-450  months_as_customer_groups_451-500  \n",
       "0                 0                 1                 0                 0                 0                               0                                 0                                  0                                  0                                  0                                  0                                  1                                  0                                  0                                  0  \n",
       "1                 1                 0                 0                 0                 0                               0                                 0                                  0                                  0                                  1                                  0                                  0                                  0                                  0                                  0  \n",
       "2                 0                 0                 0                 0                 0                               0                                 0                                  1                                  0                                  0                                  0                                  0                                  0                                  0                                  0  \n",
       "3                 1                 0                 0                 0                 0                               0                                 0                                  0                                  0                                  0                                  1                                  0                                  0                                  0                                  0  \n",
       "4                 1                 0                 0                 0                 0                               0                                 0                                  0                                  0                                  1                                  0                                  0                                  0                                  0                                  0  "
      ]
     },
     "execution_count": 135,
     "metadata": {},
     "output_type": "execute_result"
    }
   ],
   "source": [
    "data.head()"
   ]
  },
  {
   "cell_type": "code",
   "execution_count": 136,
   "metadata": {
    "ExecuteTime": {
     "end_time": "2020-06-17T09:58:50.190794Z",
     "start_time": "2020-06-17T09:58:50.152804Z"
    }
   },
   "outputs": [
    {
     "name": "stdout",
     "output_type": "stream",
     "text": [
      "<class 'pandas.core.frame.DataFrame'>\n",
      "Int64Index: 999 entries, 0 to 999\n",
      "Data columns (total 56 columns):\n",
      "umbrella_limit                            999 non-null int64\n",
      "capital_gains                             999 non-null int64\n",
      "capital_loss                              999 non-null int64\n",
      "incident_severity                         999 non-null int64\n",
      "incident_hour_of_the_day                  999 non-null int64\n",
      "number_of_vehicles_involved               999 non-null int64\n",
      "bodily_injuries                           999 non-null int64\n",
      "witnesses                                 999 non-null int64\n",
      "total_claim_amount                        999 non-null int64\n",
      "fraud_reported                            999 non-null category\n",
      "policy_deductable_groups                  999 non-null int64\n",
      "policy_annual_premium_groups              999 non-null int64\n",
      "insured_sex_FEMALE                        999 non-null uint8\n",
      "insured_sex_MALE                          999 non-null uint8\n",
      "insured_hobbies_chess                     999 non-null uint8\n",
      "insured_hobbies_cross-fit                 999 non-null uint8\n",
      "insured_hobbies_others                    999 non-null uint8\n",
      "incident_type_Multi-vehicle Collision     999 non-null uint8\n",
      "incident_type_Parked Car                  999 non-null uint8\n",
      "incident_type_Single Vehicle Collision    999 non-null uint8\n",
      "incident_type_Vehicle Theft               999 non-null uint8\n",
      "collision_type_Front Collision            999 non-null uint8\n",
      "collision_type_Rear Collision             999 non-null uint8\n",
      "collision_type_Side Collision             999 non-null uint8\n",
      "collision_type_missing                    999 non-null uint8\n",
      "authorities_contacted_Ambulance           999 non-null uint8\n",
      "authorities_contacted_Fire                999 non-null uint8\n",
      "authorities_contacted_None                999 non-null uint8\n",
      "authorities_contacted_Other               999 non-null uint8\n",
      "authorities_contacted_Police              999 non-null uint8\n",
      "property_damage_NO                        999 non-null uint8\n",
      "property_damage_YES                       999 non-null uint8\n",
      "property_damage_missing                   999 non-null uint8\n",
      "police_report_available_NO                999 non-null uint8\n",
      "police_report_available_YES               999 non-null uint8\n",
      "police_report_available_missing           999 non-null uint8\n",
      "age_groups_15-20                          999 non-null uint8\n",
      "age_groups_21-25                          999 non-null uint8\n",
      "age_groups_26-30                          999 non-null uint8\n",
      "age_groups_31-35                          999 non-null uint8\n",
      "age_groups_36-40                          999 non-null uint8\n",
      "age_groups_41-45                          999 non-null uint8\n",
      "age_groups_46-50                          999 non-null uint8\n",
      "age_groups_51-55                          999 non-null uint8\n",
      "age_groups_56-60                          999 non-null uint8\n",
      "age_groups_61-65                          999 non-null uint8\n",
      "months_as_customer_groups_0-50            999 non-null uint8\n",
      "months_as_customer_groups_51-100          999 non-null uint8\n",
      "months_as_customer_groups_101-150         999 non-null uint8\n",
      "months_as_customer_groups_151-200         999 non-null uint8\n",
      "months_as_customer_groups_201-250         999 non-null uint8\n",
      "months_as_customer_groups_251-300         999 non-null uint8\n",
      "months_as_customer_groups_301-350         999 non-null uint8\n",
      "months_as_customer_groups_351-400         999 non-null uint8\n",
      "months_as_customer_groups_401-450         999 non-null uint8\n",
      "months_as_customer_groups_451-500         999 non-null uint8\n",
      "dtypes: category(1), int64(11), uint8(44)\n",
      "memory usage: 177.7 KB\n"
     ]
    }
   ],
   "source": [
    "data.info()"
   ]
  },
  {
   "cell_type": "code",
   "execution_count": 137,
   "metadata": {
    "ExecuteTime": {
     "end_time": "2020-06-17T09:58:50.676788Z",
     "start_time": "2020-06-17T09:58:50.655792Z"
    }
   },
   "outputs": [],
   "source": [
    "data.to_csv(interim + '7_data_ordinal.csv', index=False)"
   ]
  },
  {
   "cell_type": "markdown",
   "metadata": {},
   "source": [
    "## Final comment\n",
    "\n",
    "At the end, I get 55 predictors for training the model"
   ]
  }
 ],
 "metadata": {
  "kernelspec": {
   "display_name": "Python 3",
   "language": "python",
   "name": "python3"
  },
  "language_info": {
   "codemirror_mode": {
    "name": "ipython",
    "version": 3
   },
   "file_extension": ".py",
   "mimetype": "text/x-python",
   "name": "python",
   "nbconvert_exporter": "python",
   "pygments_lexer": "ipython3",
   "version": "3.6.9"
  },
  "toc": {
   "base_numbering": 1,
   "nav_menu": {},
   "number_sections": true,
   "sideBar": true,
   "skip_h1_title": true,
   "title_cell": "Table of Contents",
   "title_sidebar": "Contents",
   "toc_cell": false,
   "toc_position": {
    "height": "calc(100% - 180px)",
    "left": "10px",
    "top": "150px",
    "width": "512px"
   },
   "toc_section_display": true,
   "toc_window_display": true
  }
 },
 "nbformat": 4,
 "nbformat_minor": 4
}
